{
 "cells": [
  {
   "cell_type": "code",
   "execution_count": 1,
   "id": "1ba0da93-1e3b-42b8-baf3-1d9ec4d50986",
   "metadata": {},
   "outputs": [],
   "source": [
    "%load_ext autoreload\n",
    "%autoreload 2\n",
    "\n",
    "%load_ext dotenv\n",
    "%dotenv"
   ]
  },
  {
   "cell_type": "code",
   "execution_count": 2,
   "id": "a04f49d3-8c1f-4df0-92ba-5ba80ad79f00",
   "metadata": {},
   "outputs": [],
   "source": [
    "import pandas as pd"
   ]
  },
  {
   "cell_type": "code",
   "execution_count": 3,
   "id": "cc76776c-cc3b-469f-8b9c-4f56a0333689",
   "metadata": {},
   "outputs": [],
   "source": [
    "datapath=\"../../datasets/OpenSecrets/Yang_Ruan_Data_20240304/\"\n",
    "datapath_og=\"../../datasets/OpenSecrets/Yang_Ruan_Data_20240304_original/\""
   ]
  },
  {
   "cell_type": "code",
   "execution_count": 15,
   "id": "d5fa5880-0362-4380-b740-9a579f48ba3d",
   "metadata": {},
   "outputs": [],
   "source": [
    "valid = pd.read_csv(f\"{datapath}lob_indus.csv\", encoding=\"utf8\")"
   ]
  },
  {
   "cell_type": "code",
   "execution_count": 16,
   "id": "92634e24-a1a3-4aa2-8b65-3fa7a50dac97",
   "metadata": {},
   "outputs": [
    {
     "data": {
      "text/plain": [
       "client     Alaka’i Defense Systems\n",
       "sub        Alaka’i Defense Systems\n",
       "total                      20000.0\n",
       "year                          2023\n",
       "type                            q3\n",
       "catcode                      D4000\n",
       "Name: 8061, dtype: object"
      ]
     },
     "execution_count": 16,
     "metadata": {},
     "output_type": "execute_result"
    }
   ],
   "source": [
    "valid.loc[8061]"
   ]
  },
  {
   "cell_type": "code",
   "execution_count": 31,
   "id": "e4a31d4c-e386-4135-87be-e19698a840be",
   "metadata": {},
   "outputs": [
    {
     "data": {
      "text/html": [
       "<div>\n",
       "<style scoped>\n",
       "    .dataframe tbody tr th:only-of-type {\n",
       "        vertical-align: middle;\n",
       "    }\n",
       "\n",
       "    .dataframe tbody tr th {\n",
       "        vertical-align: top;\n",
       "    }\n",
       "\n",
       "    .dataframe thead th {\n",
       "        text-align: right;\n",
       "    }\n",
       "</style>\n",
       "<table border=\"1\" class=\"dataframe\">\n",
       "  <thead>\n",
       "    <tr style=\"text-align: right;\">\n",
       "      <th></th>\n",
       "      <th>Unnamed: 0</th>\n",
       "      <th>client</th>\n",
       "      <th>sub</th>\n",
       "      <th>total</th>\n",
       "      <th>year</th>\n",
       "      <th>type</th>\n",
       "      <th>catcode</th>\n",
       "    </tr>\n",
       "  </thead>\n",
       "  <tbody>\n",
       "    <tr>\n",
       "      <th>0</th>\n",
       "      <td>0</td>\n",
       "      <td>(ISC)2</td>\n",
       "      <td>(ISC)2</td>\n",
       "      <td>15000.0</td>\n",
       "      <td>2018</td>\n",
       "      <td>q4</td>\n",
       "      <td>Y4000</td>\n",
       "    </tr>\n",
       "    <tr>\n",
       "      <th>1</th>\n",
       "      <td>1</td>\n",
       "      <td>(ISC)2</td>\n",
       "      <td>(ISC)2</td>\n",
       "      <td>40000.0</td>\n",
       "      <td>2021</td>\n",
       "      <td>q4</td>\n",
       "      <td>Y4000</td>\n",
       "    </tr>\n",
       "    <tr>\n",
       "      <th>2</th>\n",
       "      <td>2</td>\n",
       "      <td>(ISC)2</td>\n",
       "      <td>(ISC)2</td>\n",
       "      <td>30000.0</td>\n",
       "      <td>2021</td>\n",
       "      <td>q3</td>\n",
       "      <td>Y4000</td>\n",
       "    </tr>\n",
       "    <tr>\n",
       "      <th>3</th>\n",
       "      <td>3</td>\n",
       "      <td>1,000 Days</td>\n",
       "      <td>1,000 Days</td>\n",
       "      <td>20000.0</td>\n",
       "      <td>2018</td>\n",
       "      <td>q2</td>\n",
       "      <td>Y4000</td>\n",
       "    </tr>\n",
       "    <tr>\n",
       "      <th>4</th>\n",
       "      <td>4</td>\n",
       "      <td>1,000 Days</td>\n",
       "      <td>1,000 Days</td>\n",
       "      <td>30000.0</td>\n",
       "      <td>2018</td>\n",
       "      <td>q1</td>\n",
       "      <td>Y4000</td>\n",
       "    </tr>\n",
       "  </tbody>\n",
       "</table>\n",
       "</div>"
      ],
      "text/plain": [
       "   Unnamed: 0      client         sub    total  year type catcode\n",
       "0           0      (ISC)2      (ISC)2  15000.0  2018   q4   Y4000\n",
       "1           1      (ISC)2      (ISC)2  40000.0  2021   q4   Y4000\n",
       "2           2      (ISC)2      (ISC)2  30000.0  2021   q3   Y4000\n",
       "3           3  1,000 Days  1,000 Days  20000.0  2018   q2   Y4000\n",
       "4           4  1,000 Days  1,000 Days  30000.0  2018   q1   Y4000"
      ]
     },
     "execution_count": 31,
     "metadata": {},
     "output_type": "execute_result"
    }
   ],
   "source": [
    "valid.head()"
   ]
  },
  {
   "cell_type": "code",
   "execution_count": 15,
   "id": "9f31a4d9-174e-45d4-bc9e-a35d4747066a",
   "metadata": {},
   "outputs": [
    {
     "data": {
      "text/plain": [
       "'Alamance County Sheriffs Office'"
      ]
     },
     "execution_count": 15,
     "metadata": {},
     "output_type": "execute_result"
    }
   ],
   "source": [
    "'Alamance County Sheriff''s Office'"
   ]
  },
  {
   "cell_type": "code",
   "execution_count": 8,
   "id": "fa96d143-ea27-4f55-b9a2-a1c0ef1cd90f",
   "metadata": {},
   "outputs": [],
   "source": [
    "raw = pd.read_csv(f\"{datapath_og}Yang_Ruan_lob_indus.txt\", quotechar=\"'\", encoding=\"windows-1252\")"
   ]
  },
  {
   "cell_type": "code",
   "execution_count": 10,
   "id": "f0a002c5-b8e9-4d84-8e76-cd44ffa9a4f7",
   "metadata": {},
   "outputs": [
    {
     "data": {
      "text/html": [
       "<div>\n",
       "<style scoped>\n",
       "    .dataframe tbody tr th:only-of-type {\n",
       "        vertical-align: middle;\n",
       "    }\n",
       "\n",
       "    .dataframe tbody tr th {\n",
       "        vertical-align: top;\n",
       "    }\n",
       "\n",
       "    .dataframe thead th {\n",
       "        text-align: right;\n",
       "    }\n",
       "</style>\n",
       "<table border=\"1\" class=\"dataframe\">\n",
       "  <thead>\n",
       "    <tr style=\"text-align: right;\">\n",
       "      <th></th>\n",
       "      <th>client</th>\n",
       "      <th>sub</th>\n",
       "      <th>total</th>\n",
       "      <th>year</th>\n",
       "      <th>type</th>\n",
       "      <th>catcode</th>\n",
       "    </tr>\n",
       "  </thead>\n",
       "  <tbody>\n",
       "    <tr>\n",
       "      <th>0</th>\n",
       "      <td>(ISC)2</td>\n",
       "      <td>(ISC)2</td>\n",
       "      <td>15000.0</td>\n",
       "      <td>2018</td>\n",
       "      <td>q4</td>\n",
       "      <td>Y4000</td>\n",
       "    </tr>\n",
       "    <tr>\n",
       "      <th>1</th>\n",
       "      <td>(ISC)2</td>\n",
       "      <td>(ISC)2</td>\n",
       "      <td>40000.0</td>\n",
       "      <td>2021</td>\n",
       "      <td>q4</td>\n",
       "      <td>Y4000</td>\n",
       "    </tr>\n",
       "    <tr>\n",
       "      <th>2</th>\n",
       "      <td>(ISC)2</td>\n",
       "      <td>(ISC)2</td>\n",
       "      <td>30000.0</td>\n",
       "      <td>2021</td>\n",
       "      <td>q3</td>\n",
       "      <td>Y4000</td>\n",
       "    </tr>\n",
       "    <tr>\n",
       "      <th>3</th>\n",
       "      <td>1,000 Days</td>\n",
       "      <td>1,000 Days</td>\n",
       "      <td>20000.0</td>\n",
       "      <td>2018</td>\n",
       "      <td>q2</td>\n",
       "      <td>Y4000</td>\n",
       "    </tr>\n",
       "    <tr>\n",
       "      <th>4</th>\n",
       "      <td>1,000 Days</td>\n",
       "      <td>1,000 Days</td>\n",
       "      <td>30000.0</td>\n",
       "      <td>2018</td>\n",
       "      <td>q1</td>\n",
       "      <td>Y4000</td>\n",
       "    </tr>\n",
       "  </tbody>\n",
       "</table>\n",
       "</div>"
      ],
      "text/plain": [
       "       client         sub    total  year type catcode\n",
       "0      (ISC)2      (ISC)2  15000.0  2018   q4   Y4000\n",
       "1      (ISC)2      (ISC)2  40000.0  2021   q4   Y4000\n",
       "2      (ISC)2      (ISC)2  30000.0  2021   q3   Y4000\n",
       "3  1,000 Days  1,000 Days  20000.0  2018   q2   Y4000\n",
       "4  1,000 Days  1,000 Days  30000.0  2018   q1   Y4000"
      ]
     },
     "execution_count": 10,
     "metadata": {},
     "output_type": "execute_result"
    }
   ],
   "source": [
    "raw.head()"
   ]
  },
  {
   "cell_type": "code",
   "execution_count": 9,
   "id": "3733aef3-5f58-4c93-9da0-5efbc858623c",
   "metadata": {},
   "outputs": [
    {
     "data": {
      "text/plain": [
       "client     Alaka’i Defense Systems\n",
       "sub        Alaka’i Defense Systems\n",
       "total                      20000.0\n",
       "year                          2023\n",
       "type                            q3\n",
       "catcode                      D4000\n",
       "Name: 8061, dtype: object"
      ]
     },
     "execution_count": 9,
     "metadata": {},
     "output_type": "execute_result"
    }
   ],
   "source": [
    "raw.loc[8061]"
   ]
  },
  {
   "cell_type": "code",
   "execution_count": 14,
   "id": "ce72d35b-9f2e-414f-b6cc-dfd67a54b54f",
   "metadata": {},
   "outputs": [],
   "source": [
    "raw.to_csv(f\"{datapath}lob_indus.csv\", encoding='utf8', index=False)"
   ]
  },
  {
   "cell_type": "code",
   "execution_count": null,
   "id": "4033bf47-bf2f-4bd7-9b75-bf89297321c4",
   "metadata": {},
   "outputs": [],
   "source": [
    "table = \"agency\""
   ]
  },
  {
   "cell_type": "code",
   "execution_count": 10,
   "id": "71f797ff-ee29-4bc8-beb0-936a04d899fa",
   "metadata": {},
   "outputs": [],
   "source": [
    "raw = pd.read_csv(f\"{datapath}Yang_Ruan_lob_agency.txt\")"
   ]
  },
  {
   "cell_type": "code",
   "execution_count": null,
   "id": "609848a7-6387-48f7-90cd-5d0d3f9e68da",
   "metadata": {},
   "outputs": [],
   "source": []
  }
 ],
 "metadata": {
  "kernelspec": {
   "display_name": "Python 3 (ipykernel)",
   "language": "python",
   "name": "python3"
  },
  "language_info": {
   "codemirror_mode": {
    "name": "ipython",
    "version": 3
   },
   "file_extension": ".py",
   "mimetype": "text/x-python",
   "name": "python",
   "nbconvert_exporter": "python",
   "pygments_lexer": "ipython3",
   "version": "3.11.6"
  }
 },
 "nbformat": 4,
 "nbformat_minor": 5
}
