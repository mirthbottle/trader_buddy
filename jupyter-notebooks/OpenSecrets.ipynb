{
 "cells": [
  {
   "cell_type": "code",
   "execution_count": 1,
   "id": "1ba0da93-1e3b-42b8-baf3-1d9ec4d50986",
   "metadata": {},
   "outputs": [],
   "source": [
    "%load_ext autoreload\n",
    "%autoreload 2\n",
    "\n",
    "%load_ext dotenv\n",
    "%dotenv"
   ]
  },
  {
   "cell_type": "code",
   "execution_count": 3,
   "id": "a04f49d3-8c1f-4df0-92ba-5ba80ad79f00",
   "metadata": {},
   "outputs": [],
   "source": [
    "import pandas as pd"
   ]
  },
  {
   "cell_type": "code",
   "execution_count": 4,
   "id": "cc76776c-cc3b-469f-8b9c-4f56a0333689",
   "metadata": {},
   "outputs": [],
   "source": [
    "datapath=\"../../datasets/OpenSecrets/Yang_Ruan_Data_20240304/\"\n",
    "datapath_og=\"../../datasets/OpenSecrets/Yang_Ruan_Data_20240304_original/\""
   ]
  },
  {
   "cell_type": "code",
   "execution_count": 45,
   "id": "fe6fec76-e899-4c2b-8fb8-54b10031f646",
   "metadata": {},
   "outputs": [],
   "source": [
    "valid = pd.read_excel(f\"{datapath_og}industries_catcode.xlsx\")"
   ]
  },
  {
   "cell_type": "code",
   "execution_count": 47,
   "id": "fa86c110-77db-45c2-b89b-9352f1723315",
   "metadata": {},
   "outputs": [
    {
     "data": {
      "text/html": [
       "<div>\n",
       "<style scoped>\n",
       "    .dataframe tbody tr th:only-of-type {\n",
       "        vertical-align: middle;\n",
       "    }\n",
       "\n",
       "    .dataframe tbody tr th {\n",
       "        vertical-align: top;\n",
       "    }\n",
       "\n",
       "    .dataframe thead th {\n",
       "        text-align: right;\n",
       "    }\n",
       "</style>\n",
       "<table border=\"1\" class=\"dataframe\">\n",
       "  <thead>\n",
       "    <tr style=\"text-align: right;\">\n",
       "      <th></th>\n",
       "      <th>Catcode</th>\n",
       "      <th>Catname</th>\n",
       "      <th>Catorder</th>\n",
       "      <th>Industry</th>\n",
       "      <th>Sector</th>\n",
       "      <th>Sector Long</th>\n",
       "    </tr>\n",
       "  </thead>\n",
       "  <tbody>\n",
       "    <tr>\n",
       "      <th>0</th>\n",
       "      <td>A0000</td>\n",
       "      <td>Agriculture</td>\n",
       "      <td>A11</td>\n",
       "      <td>Misc Agriculture</td>\n",
       "      <td>Agribusiness</td>\n",
       "      <td>Agribusiness</td>\n",
       "    </tr>\n",
       "    <tr>\n",
       "      <th>1</th>\n",
       "      <td>A1000</td>\n",
       "      <td>Crop production &amp; basic processing</td>\n",
       "      <td>A01</td>\n",
       "      <td>Crop Production &amp; Basic Processing</td>\n",
       "      <td>Agribusiness</td>\n",
       "      <td>Agribusiness</td>\n",
       "    </tr>\n",
       "    <tr>\n",
       "      <th>2</th>\n",
       "      <td>A1100</td>\n",
       "      <td>Cotton</td>\n",
       "      <td>A01</td>\n",
       "      <td>Crop Production &amp; Basic Processing</td>\n",
       "      <td>Agribusiness</td>\n",
       "      <td>Agribusiness</td>\n",
       "    </tr>\n",
       "    <tr>\n",
       "      <th>3</th>\n",
       "      <td>A1200</td>\n",
       "      <td>Sugar cane &amp; sugar beets</td>\n",
       "      <td>A01</td>\n",
       "      <td>Crop Production &amp; Basic Processing</td>\n",
       "      <td>Agribusiness</td>\n",
       "      <td>Agribusiness</td>\n",
       "    </tr>\n",
       "    <tr>\n",
       "      <th>4</th>\n",
       "      <td>A1300</td>\n",
       "      <td>Tobacco &amp; Tobacco products</td>\n",
       "      <td>A02</td>\n",
       "      <td>Tobacco</td>\n",
       "      <td>Agribusiness</td>\n",
       "      <td>Agribusiness</td>\n",
       "    </tr>\n",
       "  </tbody>\n",
       "</table>\n",
       "</div>"
      ],
      "text/plain": [
       "  Catcode                             Catname Catorder  \\\n",
       "0   A0000                         Agriculture      A11   \n",
       "1   A1000  Crop production & basic processing      A01   \n",
       "2   A1100                              Cotton      A01   \n",
       "3   A1200            Sugar cane & sugar beets      A01   \n",
       "4   A1300          Tobacco & Tobacco products      A02   \n",
       "\n",
       "                             Industry        Sector   Sector Long  \n",
       "0                    Misc Agriculture  Agribusiness  Agribusiness  \n",
       "1  Crop Production & Basic Processing  Agribusiness  Agribusiness  \n",
       "2  Crop Production & Basic Processing  Agribusiness  Agribusiness  \n",
       "3  Crop Production & Basic Processing  Agribusiness  Agribusiness  \n",
       "4                             Tobacco  Agribusiness  Agribusiness  "
      ]
     },
     "execution_count": 47,
     "metadata": {},
     "output_type": "execute_result"
    }
   ],
   "source": [
    "valid.head()"
   ]
  },
  {
   "cell_type": "code",
   "execution_count": 11,
   "id": "e21ee5ca-da8f-48c1-be3c-db618e83931b",
   "metadata": {},
   "outputs": [],
   "source": [
    "table_names = [\"agency\", \"bills\", \"indus\", \"issue\", \"issue_nospecificissue\", \"lobbying\", \"lobbyist\"]"
   ]
  },
  {
   "cell_type": "code",
   "execution_count": 37,
   "id": "799239e1-ff1a-4822-a4ac-db2036214f7d",
   "metadata": {},
   "outputs": [],
   "source": [
    "t = \"lobbyist\""
   ]
  },
  {
   "cell_type": "code",
   "execution_count": 38,
   "id": "d5fa5880-0362-4380-b740-9a579f48ba3d",
   "metadata": {},
   "outputs": [],
   "source": [
    "valid = pd.read_csv(f\"{datapath}lob_{t}.csv\", encoding=\"utf8\")"
   ]
  },
  {
   "cell_type": "code",
   "execution_count": 41,
   "id": "358885f0-499a-41f7-8b4e-aeb2b4521526",
   "metadata": {},
   "outputs": [],
   "source": [
    "valid.set_index([\"year\", \"uniqid\"], inplace=True)"
   ]
  },
  {
   "cell_type": "code",
   "execution_count": 42,
   "id": "a1f80940-df62-47d8-a5f7-3f5848155e2e",
   "metadata": {},
   "outputs": [
    {
     "data": {
      "text/plain": [
       "1246042"
      ]
     },
     "execution_count": 42,
     "metadata": {},
     "output_type": "execute_result"
    }
   ],
   "source": [
    "len(valid)"
   ]
  },
  {
   "cell_type": "code",
   "execution_count": 40,
   "id": "046e513b-3d1c-437e-b8f5-cfbfa0c72882",
   "metadata": {},
   "outputs": [
    {
     "data": {
      "text/html": [
       "<div>\n",
       "<style scoped>\n",
       "    .dataframe tbody tr th:only-of-type {\n",
       "        vertical-align: middle;\n",
       "    }\n",
       "\n",
       "    .dataframe tbody tr th {\n",
       "        vertical-align: top;\n",
       "    }\n",
       "\n",
       "    .dataframe thead th {\n",
       "        text-align: right;\n",
       "    }\n",
       "</style>\n",
       "<table border=\"1\" class=\"dataframe\">\n",
       "  <thead>\n",
       "    <tr style=\"text-align: right;\">\n",
       "      <th></th>\n",
       "      <th>uniqid</th>\n",
       "      <th>lobbyist_raw</th>\n",
       "      <th>lobbyistnew</th>\n",
       "      <th>lobbyist_id</th>\n",
       "      <th>year</th>\n",
       "      <th>officialposition</th>\n",
       "      <th>cid</th>\n",
       "      <th>formercongmem</th>\n",
       "    </tr>\n",
       "  </thead>\n",
       "  <tbody>\n",
       "    <tr>\n",
       "      <th>0</th>\n",
       "      <td>000018d7-73cf-403c-bafb-e423afd81c67</td>\n",
       "      <td>SHAW, REBECCA LOUISE</td>\n",
       "      <td>Shaw, Rebecca</td>\n",
       "      <td>Y0000059741L</td>\n",
       "      <td>2022</td>\n",
       "      <td>(Rep. Devin Nunes), Paid Intern, (Rep. Chris G...</td>\n",
       "      <td>NaN</td>\n",
       "      <td>n</td>\n",
       "    </tr>\n",
       "    <tr>\n",
       "      <th>1</th>\n",
       "      <td>000018d7-73cf-403c-bafb-e423afd81c67</td>\n",
       "      <td>HARLOW, BRYCE</td>\n",
       "      <td>Harlow, Bryce L</td>\n",
       "      <td>Y0000040476L</td>\n",
       "      <td>2022</td>\n",
       "      <td>NaN</td>\n",
       "      <td>NaN</td>\n",
       "      <td>n</td>\n",
       "    </tr>\n",
       "    <tr>\n",
       "      <th>2</th>\n",
       "      <td>000018d7-73cf-403c-bafb-e423afd81c67</td>\n",
       "      <td>CASTALDO, KEITH</td>\n",
       "      <td>Castaldo, Keith</td>\n",
       "      <td>Y0000058249L</td>\n",
       "      <td>2022</td>\n",
       "      <td>NaN</td>\n",
       "      <td>NaN</td>\n",
       "      <td>n</td>\n",
       "    </tr>\n",
       "    <tr>\n",
       "      <th>3</th>\n",
       "      <td>000018d7-73cf-403c-bafb-e423afd81c67</td>\n",
       "      <td>STANTON, SHANTI</td>\n",
       "      <td>Stanton, Shanti Ochs</td>\n",
       "      <td>Y0000001722L</td>\n",
       "      <td>2022</td>\n",
       "      <td>NaN</td>\n",
       "      <td>NaN</td>\n",
       "      <td>n</td>\n",
       "    </tr>\n",
       "    <tr>\n",
       "      <th>4</th>\n",
       "      <td>00003552-CB8B-432D-A5E4-0F7D22AFCE59</td>\n",
       "      <td>THOMPSON, MARGARET</td>\n",
       "      <td>Thompson, Meg</td>\n",
       "      <td>Y0000036079L</td>\n",
       "      <td>2020</td>\n",
       "      <td>Professional Staff Member, House Appropriation...</td>\n",
       "      <td>NaN</td>\n",
       "      <td>n</td>\n",
       "    </tr>\n",
       "  </tbody>\n",
       "</table>\n",
       "</div>"
      ],
      "text/plain": [
       "                                 uniqid           lobbyist_raw  \\\n",
       "0  000018d7-73cf-403c-bafb-e423afd81c67  SHAW, REBECCA LOUISE    \n",
       "1  000018d7-73cf-403c-bafb-e423afd81c67        HARLOW, BRYCE     \n",
       "2  000018d7-73cf-403c-bafb-e423afd81c67      CASTALDO, KEITH     \n",
       "3  000018d7-73cf-403c-bafb-e423afd81c67      STANTON, SHANTI     \n",
       "4  00003552-CB8B-432D-A5E4-0F7D22AFCE59     THOMPSON, MARGARET   \n",
       "\n",
       "            lobbyistnew   lobbyist_id  year  \\\n",
       "0         Shaw, Rebecca  Y0000059741L  2022   \n",
       "1       Harlow, Bryce L  Y0000040476L  2022   \n",
       "2       Castaldo, Keith  Y0000058249L  2022   \n",
       "3  Stanton, Shanti Ochs  Y0000001722L  2022   \n",
       "4         Thompson, Meg  Y0000036079L  2020   \n",
       "\n",
       "                                    officialposition  cid formercongmem  \n",
       "0  (Rep. Devin Nunes), Paid Intern, (Rep. Chris G...  NaN             n  \n",
       "1                                                NaN  NaN             n  \n",
       "2                                                NaN  NaN             n  \n",
       "3                                                NaN  NaN             n  \n",
       "4  Professional Staff Member, House Appropriation...  NaN             n  "
      ]
     },
     "execution_count": 40,
     "metadata": {},
     "output_type": "execute_result"
    }
   ],
   "source": [
    "valid.head()"
   ]
  },
  {
   "cell_type": "code",
   "execution_count": 33,
   "id": "b780a3db-fc42-4b03-ad43-959c577be8d4",
   "metadata": {},
   "outputs": [
    {
     "data": {
      "text/plain": [
       "isfirm\n",
       "y    481188\n",
       "Name: count, dtype: int64"
      ]
     },
     "execution_count": 33,
     "metadata": {},
     "output_type": "execute_result"
    }
   ],
   "source": [
    "valid[\"isfirm\"].value_counts()"
   ]
  },
  {
   "cell_type": "code",
   "execution_count": 16,
   "id": "92634e24-a1a3-4aa2-8b65-3fa7a50dac97",
   "metadata": {},
   "outputs": [
    {
     "data": {
      "text/plain": [
       "client     Alaka’i Defense Systems\n",
       "sub        Alaka’i Defense Systems\n",
       "total                      20000.0\n",
       "year                          2023\n",
       "type                            q3\n",
       "catcode                      D4000\n",
       "Name: 8061, dtype: object"
      ]
     },
     "execution_count": 16,
     "metadata": {},
     "output_type": "execute_result"
    }
   ],
   "source": [
    "valid.loc[8061]"
   ]
  },
  {
   "cell_type": "code",
   "execution_count": 2,
   "id": "a37fe4f4-3e33-49de-a0b6-a5f552025471",
   "metadata": {},
   "outputs": [],
   "source": [
    "from google.cloud import bigquery\n",
    "\n",
    "client = bigquery.Client()"
   ]
  },
  {
   "cell_type": "code",
   "execution_count": 48,
   "id": "edb0e29a-b48f-42d3-be56-5739ca9bceb3",
   "metadata": {},
   "outputs": [],
   "source": [
    "job = client.load_table_from_dataframe(\n",
    "    #valid.set_index(\"catcode\"), f\"main-street-labs.company_datasets_dev.open_secrets_lob_indus\")\n",
    "    # valid.set_index(\"si_id\"), f\"main-street-labs.company_datasets_dev.open_secrets_lob_{t}\")\n",
    "    # valid, f\"main-street-labs.company_datasets_dev.open_secrets_lob_{t}\")\n",
    "    valid.set_index(\"Catcode\"), f\"main-street-labs.company_datasets_dev.open_secrets_industries_catcode\")"
   ]
  },
  {
   "cell_type": "code",
   "execution_count": null,
   "id": "e99f8b46-e8c3-4604-86dd-de674621f7ff",
   "metadata": {},
   "outputs": [],
   "source": [
    "for t in [\"lobbying\", \"lobbyist\"]:\n",
    "    job_config = bigquery.LoadJobConfig(\n",
    "        source_format=bigquery.SourceFormat.CSV, skip_leading_rows=1, autodetect=True,\n",
    "    )\n",
    "    with open(f\"{datapath}lob_{t}.csv\", \"rb\") as source_file:\n",
    "        job = client.load_table_from_file(source_file, f\"main-street-labs.company_datasets_dev.open_secrets_lob_{t}\", job_config=job_config)\n",
    "    job.result()"
   ]
  },
  {
   "cell_type": "markdown",
   "id": "c1969b0b-fa2f-4174-8a1f-f88eca5a1100",
   "metadata": {},
   "source": [
    "# analysis"
   ]
  },
  {
   "cell_type": "code",
   "execution_count": 5,
   "id": "e4a31d4c-e386-4135-87be-e19698a840be",
   "metadata": {},
   "outputs": [
    {
     "data": {
      "text/html": [
       "<div>\n",
       "<style scoped>\n",
       "    .dataframe tbody tr th:only-of-type {\n",
       "        vertical-align: middle;\n",
       "    }\n",
       "\n",
       "    .dataframe tbody tr th {\n",
       "        vertical-align: top;\n",
       "    }\n",
       "\n",
       "    .dataframe thead th {\n",
       "        text-align: right;\n",
       "    }\n",
       "</style>\n",
       "<table border=\"1\" class=\"dataframe\">\n",
       "  <thead>\n",
       "    <tr style=\"text-align: right;\">\n",
       "      <th></th>\n",
       "      <th>client</th>\n",
       "      <th>sub</th>\n",
       "      <th>total</th>\n",
       "      <th>year</th>\n",
       "      <th>type</th>\n",
       "      <th>catcode</th>\n",
       "    </tr>\n",
       "  </thead>\n",
       "  <tbody>\n",
       "    <tr>\n",
       "      <th>0</th>\n",
       "      <td>(ISC)2</td>\n",
       "      <td>(ISC)2</td>\n",
       "      <td>15000.0</td>\n",
       "      <td>2018</td>\n",
       "      <td>q4</td>\n",
       "      <td>Y4000</td>\n",
       "    </tr>\n",
       "    <tr>\n",
       "      <th>1</th>\n",
       "      <td>(ISC)2</td>\n",
       "      <td>(ISC)2</td>\n",
       "      <td>40000.0</td>\n",
       "      <td>2021</td>\n",
       "      <td>q4</td>\n",
       "      <td>Y4000</td>\n",
       "    </tr>\n",
       "    <tr>\n",
       "      <th>2</th>\n",
       "      <td>(ISC)2</td>\n",
       "      <td>(ISC)2</td>\n",
       "      <td>30000.0</td>\n",
       "      <td>2021</td>\n",
       "      <td>q3</td>\n",
       "      <td>Y4000</td>\n",
       "    </tr>\n",
       "    <tr>\n",
       "      <th>3</th>\n",
       "      <td>1,000 Days</td>\n",
       "      <td>1,000 Days</td>\n",
       "      <td>20000.0</td>\n",
       "      <td>2018</td>\n",
       "      <td>q2</td>\n",
       "      <td>Y4000</td>\n",
       "    </tr>\n",
       "    <tr>\n",
       "      <th>4</th>\n",
       "      <td>1,000 Days</td>\n",
       "      <td>1,000 Days</td>\n",
       "      <td>30000.0</td>\n",
       "      <td>2018</td>\n",
       "      <td>q1</td>\n",
       "      <td>Y4000</td>\n",
       "    </tr>\n",
       "  </tbody>\n",
       "</table>\n",
       "</div>"
      ],
      "text/plain": [
       "       client         sub    total  year type catcode\n",
       "0      (ISC)2      (ISC)2  15000.0  2018   q4   Y4000\n",
       "1      (ISC)2      (ISC)2  40000.0  2021   q4   Y4000\n",
       "2      (ISC)2      (ISC)2  30000.0  2021   q3   Y4000\n",
       "3  1,000 Days  1,000 Days  20000.0  2018   q2   Y4000\n",
       "4  1,000 Days  1,000 Days  30000.0  2018   q1   Y4000"
      ]
     },
     "execution_count": 5,
     "metadata": {},
     "output_type": "execute_result"
    }
   ],
   "source": [
    "valid.head()"
   ]
  },
  {
   "cell_type": "code",
   "execution_count": 6,
   "id": "774ccca1-31a6-49da-879b-55455aec2357",
   "metadata": {},
   "outputs": [],
   "source": [
    "valid_yr = valid.groupby(\"year\")"
   ]
  },
  {
   "cell_type": "code",
   "execution_count": 11,
   "id": "d1ebd937-4741-4466-a8b8-c410332de2b8",
   "metadata": {},
   "outputs": [],
   "source": [
    "valid2023 = valid_yr.get_group(2023)"
   ]
  },
  {
   "cell_type": "code",
   "execution_count": 13,
   "id": "c929e63e-421a-4970-990f-4293462f511e",
   "metadata": {},
   "outputs": [
    {
     "data": {
      "text/plain": [
       "51564"
      ]
     },
     "execution_count": 13,
     "metadata": {},
     "output_type": "execute_result"
    }
   ],
   "source": [
    "len(valid2023)"
   ]
  },
  {
   "cell_type": "code",
   "execution_count": 17,
   "id": "04e38258-02a4-4c00-ab6f-72cfa38df7c6",
   "metadata": {},
   "outputs": [
    {
     "data": {
      "text/plain": [
       "Index(['client', 'sub', 'total', 'year', 'type', 'catcode'], dtype='object')"
      ]
     },
     "execution_count": 17,
     "metadata": {},
     "output_type": "execute_result"
    }
   ],
   "source": [
    "valid2023.columns"
   ]
  },
  {
   "cell_type": "code",
   "execution_count": 26,
   "id": "f65925bf-5d57-4df1-a74c-efa9874d5bf6",
   "metadata": {},
   "outputs": [
    {
     "data": {
      "text/plain": [
       "catcode\n",
       "Y4000    6907\n",
       "X3000    4797\n",
       "H5100    2035\n",
       "H2100    1483\n",
       "X4000     943\n",
       "         ... \n",
       "f3000       2\n",
       "G5600       1\n",
       "T8000       1\n",
       "j9000       1\n",
       "f1400       1\n",
       "Name: count, Length: 443, dtype: int64"
      ]
     },
     "execution_count": 26,
     "metadata": {},
     "output_type": "execute_result"
    }
   ],
   "source": [
    "valid2023[\"catcode\"].value_counts()"
   ]
  },
  {
   "cell_type": "code",
   "execution_count": 58,
   "id": "96b3e778-b7c0-4f4f-bc3b-84f78ee87bcd",
   "metadata": {},
   "outputs": [],
   "source": [
    "valid2023_cat = valid2023.set_index(\"catcode\")"
   ]
  },
  {
   "cell_type": "code",
   "execution_count": null,
   "id": "59c4fde8-20a3-45e3-82c4-83b3c544243c",
   "metadata": {},
   "outputs": [],
   "source": [
    "# X4000 is defense?"
   ]
  },
  {
   "cell_type": "code",
   "execution_count": 67,
   "id": "22fd0104-87c0-4140-a2cc-2030aa439bd6",
   "metadata": {},
   "outputs": [],
   "source": [
    "def sum_quarters(g):\n",
    "    total = g[\"total\"].sum()\n",
    "    count = len(g)\n",
    "    return pd.Series({\"total\": total, \"num_quarters\": count})"
   ]
  },
  {
   "cell_type": "code",
   "execution_count": 68,
   "id": "8ec85b6b-cecb-412f-ba96-a8a3e4fda294",
   "metadata": {},
   "outputs": [],
   "source": [
    "valid2023_annualtotal = valid2023.groupby([\"client\", \"sub\", \"year\", \"catcode\"]).apply(sum_quarters)"
   ]
  },
  {
   "cell_type": "code",
   "execution_count": 69,
   "id": "a9b20cd4-5f70-4f53-ba8a-787b145a8363",
   "metadata": {},
   "outputs": [
    {
     "data": {
      "text/html": [
       "<div>\n",
       "<style scoped>\n",
       "    .dataframe tbody tr th:only-of-type {\n",
       "        vertical-align: middle;\n",
       "    }\n",
       "\n",
       "    .dataframe tbody tr th {\n",
       "        vertical-align: top;\n",
       "    }\n",
       "\n",
       "    .dataframe thead th {\n",
       "        text-align: right;\n",
       "    }\n",
       "</style>\n",
       "<table border=\"1\" class=\"dataframe\">\n",
       "  <thead>\n",
       "    <tr style=\"text-align: right;\">\n",
       "      <th></th>\n",
       "      <th></th>\n",
       "      <th></th>\n",
       "      <th></th>\n",
       "      <th>total</th>\n",
       "      <th>num_quarters</th>\n",
       "    </tr>\n",
       "    <tr>\n",
       "      <th>client</th>\n",
       "      <th>sub</th>\n",
       "      <th>year</th>\n",
       "      <th>catcode</th>\n",
       "      <th></th>\n",
       "      <th></th>\n",
       "    </tr>\n",
       "  </thead>\n",
       "  <tbody>\n",
       "    <tr>\n",
       "      <th>10 Tanker Air Carrier LLC</th>\n",
       "      <th>10 Tanker Air Carrier LLC</th>\n",
       "      <th>2023</th>\n",
       "      <th>T1000</th>\n",
       "      <td>80000.0</td>\n",
       "      <td>4.0</td>\n",
       "    </tr>\n",
       "    <tr>\n",
       "      <th>10x Genomics</th>\n",
       "      <th>10x Genomics</th>\n",
       "      <th>2023</th>\n",
       "      <th>H4500</th>\n",
       "      <td>280000.0</td>\n",
       "      <td>4.0</td>\n",
       "    </tr>\n",
       "    <tr>\n",
       "      <th>11:11 Media</th>\n",
       "      <th>11:11 Media Impact</th>\n",
       "      <th>2023</th>\n",
       "      <th>C2000</th>\n",
       "      <td>120000.0</td>\n",
       "      <td>4.0</td>\n",
       "    </tr>\n",
       "    <tr>\n",
       "      <th>1722 Eye Street Associated LP</th>\n",
       "      <th>1722 Eye Street Associated LP</th>\n",
       "      <th>2023</th>\n",
       "      <th>H1120</th>\n",
       "      <td>28000.0</td>\n",
       "      <td>1.0</td>\n",
       "    </tr>\n",
       "    <tr>\n",
       "      <th>1776 Healthcare</th>\n",
       "      <th>1776 Healthcare</th>\n",
       "      <th>2023</th>\n",
       "      <th>H0000</th>\n",
       "      <td>12500.0</td>\n",
       "      <td>4.0</td>\n",
       "    </tr>\n",
       "  </tbody>\n",
       "</table>\n",
       "</div>"
      ],
      "text/plain": [
       "                                                                             total  \\\n",
       "client                        sub                           year catcode             \n",
       "10 Tanker Air Carrier LLC     10 Tanker Air Carrier LLC     2023 T1000     80000.0   \n",
       "10x Genomics                  10x Genomics                  2023 H4500    280000.0   \n",
       "11:11 Media                   11:11 Media Impact            2023 C2000    120000.0   \n",
       "1722 Eye Street Associated LP 1722 Eye Street Associated LP 2023 H1120     28000.0   \n",
       "1776 Healthcare               1776 Healthcare               2023 H0000     12500.0   \n",
       "\n",
       "                                                                          num_quarters  \n",
       "client                        sub                           year catcode                \n",
       "10 Tanker Air Carrier LLC     10 Tanker Air Carrier LLC     2023 T1000             4.0  \n",
       "10x Genomics                  10x Genomics                  2023 H4500             4.0  \n",
       "11:11 Media                   11:11 Media Impact            2023 C2000             4.0  \n",
       "1722 Eye Street Associated LP 1722 Eye Street Associated LP 2023 H1120             1.0  \n",
       "1776 Healthcare               1776 Healthcare               2023 H0000             4.0  "
      ]
     },
     "execution_count": 69,
     "metadata": {},
     "output_type": "execute_result"
    }
   ],
   "source": [
    "valid2023_annualtotal.head()"
   ]
  },
  {
   "cell_type": "code",
   "execution_count": 84,
   "id": "220612bb-4f13-44b7-a25f-833f7c8549ae",
   "metadata": {},
   "outputs": [
    {
     "data": {
      "text/plain": [
       "13687"
      ]
     },
     "execution_count": 84,
     "metadata": {},
     "output_type": "execute_result"
    }
   ],
   "source": [
    "len(valid2023_annualtotal.reset_index()[\"client\"].unique())"
   ]
  },
  {
   "cell_type": "code",
   "execution_count": 82,
   "id": "15301e2b-4f2f-4dfd-9fd6-c5f566c9643a",
   "metadata": {},
   "outputs": [
    {
     "data": {
      "text/plain": [
       "14602"
      ]
     },
     "execution_count": 82,
     "metadata": {},
     "output_type": "execute_result"
    }
   ],
   "source": [
    "len(valid2023_annualtotal)"
   ]
  },
  {
   "cell_type": "code",
   "execution_count": 81,
   "id": "28f16211-030a-491a-a57a-a6f769033e64",
   "metadata": {},
   "outputs": [
    {
     "data": {
      "text/plain": [
       "291649.6615532119"
      ]
     },
     "execution_count": 81,
     "metadata": {},
     "output_type": "execute_result"
    }
   ],
   "source": [
    "valid2023_annualtotal[\"total\"].mean()"
   ]
  },
  {
   "cell_type": "code",
   "execution_count": 72,
   "id": "3e4a7079-9867-4c59-bece-2745e9712981",
   "metadata": {},
   "outputs": [],
   "source": [
    "valid2023_annualtotal.reset_index().to_csv(\"lob_indus_2023_annualtotal.csv\", index=False)"
   ]
  },
  {
   "cell_type": "code",
   "execution_count": 77,
   "id": "c61241f8-65e1-4cdb-9753-e6c7afede82b",
   "metadata": {},
   "outputs": [
    {
     "data": {
      "text/plain": [
       "<Axes: >"
      ]
     },
     "execution_count": 77,
     "metadata": {},
     "output_type": "execute_result"
    },
    {
     "data": {
      "image/png": "[encoded data removed]",
      "text/plain": [
       "<Figure size 400x300 with 1 Axes>"
      ]
     },
     "metadata": {},
     "output_type": "display_data"
    }
   ],
   "source": [
    "valid2023_annualtotal[\"num_quarters\"].hist(figsize=(4, 3))"
   ]
  },
  {
   "cell_type": "code",
   "execution_count": 78,
   "id": "58a65fb5-f43e-4d5a-94de-7bde57716504",
   "metadata": {},
   "outputs": [
    {
     "data": {
      "text/plain": [
       "<Axes: >"
      ]
     },
     "execution_count": 78,
     "metadata": {},
     "output_type": "execute_result"
    },
    {
     "data": {
      "image/png": "[encoded data removed]",
      "text/plain": [
       "<Figure size 400x300 with 1 Axes>"
      ]
     },
     "metadata": {},
     "output_type": "display_data"
    }
   ],
   "source": [
    "valid2023_annualtotal[\"total\"].hist(bins=30, figsize=(4,3))"
   ]
  },
  {
   "cell_type": "markdown",
   "id": "540bb747-2bba-48c0-8831-ca40d66440ea",
   "metadata": {},
   "source": [
    "# convert raw to valid csv"
   ]
  },
  {
   "cell_type": "code",
   "execution_count": 44,
   "id": "c91b2648-3b2a-405e-af4c-63b7859ae91f",
   "metadata": {},
   "outputs": [],
   "source": [
    "def convert_to_valid_csv(table_name, codec=\"windows-1252\"):\n",
    "    raw = pd.read_csv(f\"{datapath_og}Yang_Ruan_{table_name}.txt\", quotechar=\"'\", encoding=codec)\n",
    "    print(len(raw))\n",
    "    print(raw.columns)\n",
    "    raw.to_csv(f\"{datapath}{table_name}.csv\", encoding='utf8', index=False)\n",
    "    return raw"
   ]
  },
  {
   "cell_type": "code",
   "execution_count": 39,
   "id": "656e82dc-d212-46f5-aed7-ee0621d1d624",
   "metadata": {},
   "outputs": [
    {
     "name": "stdout",
     "output_type": "stream",
     "text": [
      "1516158\n",
      "Index(['uniqid', 'agencyid', 'agency'], dtype='object')\n"
     ]
    }
   ],
   "source": [
    "raw = convert_to_valid_csv(\"lob_agency\")"
   ]
  },
  {
   "cell_type": "code",
   "execution_count": 40,
   "id": "5bcf02b7-d42a-455f-a438-a386dd72eae2",
   "metadata": {},
   "outputs": [
    {
     "name": "stderr",
     "output_type": "stream",
     "text": [
      "/tmp/ipykernel_10466/1381348056.py:2: DtypeWarning: Columns (2) have mixed types. Specify dtype option on import or set low_memory=False.\n",
      "  raw = pd.read_csv(f\"{datapath_og}Yang_Ruan_{table_name}.txt\", quotechar=\"'\", encoding=\"windows-1252\")\n"
     ]
    },
    {
     "name": "stdout",
     "output_type": "stream",
     "text": [
      "2284902\n",
      "Index(['b_id', 'si_id', 'congno', 'billid'], dtype='object')\n"
     ]
    }
   ],
   "source": [
    "raw = convert_to_valid_csv(\"lob_bills\")"
   ]
  },
  {
   "cell_type": "code",
   "execution_count": 37,
   "id": "1090b37c-e032-4c6e-9d13-5c36e64281f7",
   "metadata": {},
   "outputs": [
    {
     "name": "stdout",
     "output_type": "stream",
     "text": [
      "1108014\n",
      "Index(['si_id', 'uniqid', 'issueid', 'issue', 'specificissue', 'year', 'type'], dtype='object')\n"
     ]
    }
   ],
   "source": [
    "raw = convert_to_valid_csv(\"lob_issue\")"
   ]
  },
  {
   "cell_type": "code",
   "execution_count": 42,
   "id": "50efeb76-9809-491a-b92b-d797b57755b4",
   "metadata": {},
   "outputs": [
    {
     "name": "stdout",
     "output_type": "stream",
     "text": [
      "1108014\n",
      "Index(['si_id', 'uniqid', 'issueid', 'issue', 'year', 'type'], dtype='object')\n"
     ]
    }
   ],
   "source": [
    "raw = convert_to_valid_csv(\"lob_issue_nospecificissue\")"
   ]
  },
  {
   "cell_type": "markdown",
   "id": "3c9e035a-3460-4948-b65b-3a5ec56a1f38",
   "metadata": {},
   "source": [
    "### lob_lobbying preview"
   ]
  },
  {
   "cell_type": "code",
   "execution_count": 33,
   "id": "b384970c-dfa9-4d2c-ba97-23ea0f663bad",
   "metadata": {},
   "outputs": [
    {
     "name": "stdout",
     "output_type": "stream",
     "text": [
      "564122\n",
      "Index(['uniqid', 'registrant_raw', 'registrant', 'isfirm', 'client_raw',\n",
      "       'client', 'ultorg', 'amount', 'catcode', 'source', 'self',\n",
      "       'includensfs', 'use', 'ind', 'year', 'type', 'typelong'],\n",
      "      dtype='object')\n"
     ]
    }
   ],
   "source": [
    "raw = convert_to_valid_csv(\"lob_lobbying\")"
   ]
  },
  {
   "cell_type": "code",
   "execution_count": 34,
   "id": "89a371a4-cb91-41a5-9b93-f96730a1a9ae",
   "metadata": {},
   "outputs": [
    {
     "data": {
      "text/plain": [
       "catcode\n",
       "Y4000    43651\n",
       "X3000    37005\n",
       "H5100    17389\n",
       "H2100    14473\n",
       "H4300    12746\n",
       "         ...  \n",
       "e1300        3\n",
       "t1600        3\n",
       "e4100        2\n",
       "J5400        2\n",
       "f5300        1\n",
       "Name: count, Length: 475, dtype: int64"
      ]
     },
     "execution_count": 34,
     "metadata": {},
     "output_type": "execute_result"
    }
   ],
   "source": [
    "raw[\"catcode\"].value_counts()"
   ]
  },
  {
   "cell_type": "code",
   "execution_count": 36,
   "id": "b8980f9a-c0d8-45e0-b85d-968799186aec",
   "metadata": {},
   "outputs": [
    {
     "data": {
      "text/html": [
       "<div>\n",
       "<style scoped>\n",
       "    .dataframe tbody tr th:only-of-type {\n",
       "        vertical-align: middle;\n",
       "    }\n",
       "\n",
       "    .dataframe tbody tr th {\n",
       "        vertical-align: top;\n",
       "    }\n",
       "\n",
       "    .dataframe thead th {\n",
       "        text-align: right;\n",
       "    }\n",
       "</style>\n",
       "<table border=\"1\" class=\"dataframe\">\n",
       "  <thead>\n",
       "    <tr style=\"text-align: right;\">\n",
       "      <th></th>\n",
       "      <th>uniqid</th>\n",
       "      <th>registrant_raw</th>\n",
       "      <th>registrant</th>\n",
       "      <th>isfirm</th>\n",
       "      <th>client_raw</th>\n",
       "      <th>client</th>\n",
       "      <th>ultorg</th>\n",
       "      <th>amount</th>\n",
       "      <th>source</th>\n",
       "      <th>self</th>\n",
       "      <th>includensfs</th>\n",
       "      <th>use</th>\n",
       "      <th>ind</th>\n",
       "      <th>year</th>\n",
       "      <th>type</th>\n",
       "      <th>typelong</th>\n",
       "    </tr>\n",
       "    <tr>\n",
       "      <th>catcode</th>\n",
       "      <th></th>\n",
       "      <th></th>\n",
       "      <th></th>\n",
       "      <th></th>\n",
       "      <th></th>\n",
       "      <th></th>\n",
       "      <th></th>\n",
       "      <th></th>\n",
       "      <th></th>\n",
       "      <th></th>\n",
       "      <th></th>\n",
       "      <th></th>\n",
       "      <th></th>\n",
       "      <th></th>\n",
       "      <th></th>\n",
       "      <th></th>\n",
       "    </tr>\n",
       "  </thead>\n",
       "  <tbody>\n",
       "    <tr>\n",
       "      <th>Y4000</th>\n",
       "      <td>0003eca1-4e3a-43cb-a3c5-7426cd761a58</td>\n",
       "      <td>PAUL SUPLIZIO ASSOCIATES</td>\n",
       "      <td>Paul Suplizio Assoc</td>\n",
       "      <td>y</td>\n",
       "      <td>REPEAL BEAT COALITION (BASE EROSION ANTI-ABUSE...</td>\n",
       "      <td>Repeal BEAT Coalition</td>\n",
       "      <td>Repeal BEAT Coalition</td>\n",
       "      <td>5000.0</td>\n",
       "      <td></td>\n",
       "      <td>n</td>\n",
       "      <td>NaN</td>\n",
       "      <td>y</td>\n",
       "      <td>y</td>\n",
       "      <td>2022</td>\n",
       "      <td>q1</td>\n",
       "      <td>FIRST QUARTER REPORT</td>\n",
       "    </tr>\n",
       "    <tr>\n",
       "      <th>Y4000</th>\n",
       "      <td>000B3805-A816-4DB1-B00C-16023F9E0791</td>\n",
       "      <td>Pillsbury Winthrop Shaw Pittman LLP</td>\n",
       "      <td>Pillsbury, Winthrop et al</td>\n",
       "      <td>y</td>\n",
       "      <td>The Rader Group, PLLC on behalf of Nuctech</td>\n",
       "      <td>Nuctech Co</td>\n",
       "      <td>Nuctech Co</td>\n",
       "      <td>10000.0</td>\n",
       "      <td></td>\n",
       "      <td>n</td>\n",
       "      <td>NaN</td>\n",
       "      <td>y</td>\n",
       "      <td>y</td>\n",
       "      <td>2018</td>\n",
       "      <td>q3</td>\n",
       "      <td>THIRD QUARTER REPORT</td>\n",
       "    </tr>\n",
       "    <tr>\n",
       "      <th>Y4000</th>\n",
       "      <td>000f847e-ee5d-4618-913a-69db0009e4d1</td>\n",
       "      <td>RIDGE POLICY GROUP</td>\n",
       "      <td>Ridge Policy Group</td>\n",
       "      <td>y</td>\n",
       "      <td>SCRATCHWORKS</td>\n",
       "      <td>Scratchworks</td>\n",
       "      <td>Scratchworks</td>\n",
       "      <td>10000.0</td>\n",
       "      <td></td>\n",
       "      <td>n</td>\n",
       "      <td>NaN</td>\n",
       "      <td>y</td>\n",
       "      <td>y</td>\n",
       "      <td>2021</td>\n",
       "      <td>q1</td>\n",
       "      <td>FIRST QUARTER REPORT</td>\n",
       "    </tr>\n",
       "    <tr>\n",
       "      <th>Y4000</th>\n",
       "      <td>000F9037-62D6-4FE3-8C8C-C51A29BAB593</td>\n",
       "      <td>AMBASSADOR HUGO LLORENS AND GLOBAL PARTNERS LLC</td>\n",
       "      <td>Ambassador Hugo Llorens &amp; Global Partners LLC</td>\n",
       "      <td>y</td>\n",
       "      <td>Alejandro Chahin</td>\n",
       "      <td>Chahin, Alejandro</td>\n",
       "      <td>Chahin, Alejandro</td>\n",
       "      <td>0.0</td>\n",
       "      <td></td>\n",
       "      <td>n</td>\n",
       "      <td>NaN</td>\n",
       "      <td>y</td>\n",
       "      <td>y</td>\n",
       "      <td>2020</td>\n",
       "      <td>q1</td>\n",
       "      <td>FIRST QUARTER REPORT</td>\n",
       "    </tr>\n",
       "    <tr>\n",
       "      <th>Y4000</th>\n",
       "      <td>00105698-503C-4B43-A125-8750417B94C8</td>\n",
       "      <td>Rulon &amp; White Governance Strategies</td>\n",
       "      <td>Rulon &amp; White Governance Strategies</td>\n",
       "      <td>y</td>\n",
       "      <td>INTERNATIONAL OUTDOOR</td>\n",
       "      <td>International Outdoor</td>\n",
       "      <td>International Outdoor</td>\n",
       "      <td>0.0</td>\n",
       "      <td></td>\n",
       "      <td>n</td>\n",
       "      <td>NaN</td>\n",
       "      <td>y</td>\n",
       "      <td>y</td>\n",
       "      <td>2019</td>\n",
       "      <td>q2</td>\n",
       "      <td>SECOND QUARTER REPORT</td>\n",
       "    </tr>\n",
       "  </tbody>\n",
       "</table>\n",
       "</div>"
      ],
      "text/plain": [
       "                                       uniqid  \\\n",
       "catcode                                         \n",
       "Y4000    0003eca1-4e3a-43cb-a3c5-7426cd761a58   \n",
       "Y4000    000B3805-A816-4DB1-B00C-16023F9E0791   \n",
       "Y4000    000f847e-ee5d-4618-913a-69db0009e4d1   \n",
       "Y4000    000F9037-62D6-4FE3-8C8C-C51A29BAB593   \n",
       "Y4000    00105698-503C-4B43-A125-8750417B94C8   \n",
       "\n",
       "                                          registrant_raw  \\\n",
       "catcode                                                    \n",
       "Y4000                           PAUL SUPLIZIO ASSOCIATES   \n",
       "Y4000                Pillsbury Winthrop Shaw Pittman LLP   \n",
       "Y4000                                 RIDGE POLICY GROUP   \n",
       "Y4000    AMBASSADOR HUGO LLORENS AND GLOBAL PARTNERS LLC   \n",
       "Y4000                Rulon & White Governance Strategies   \n",
       "\n",
       "                                            registrant isfirm  \\\n",
       "catcode                                                         \n",
       "Y4000                              Paul Suplizio Assoc      y   \n",
       "Y4000                        Pillsbury, Winthrop et al      y   \n",
       "Y4000                               Ridge Policy Group      y   \n",
       "Y4000    Ambassador Hugo Llorens & Global Partners LLC      y   \n",
       "Y4000              Rulon & White Governance Strategies      y   \n",
       "\n",
       "                                                client_raw  \\\n",
       "catcode                                                      \n",
       "Y4000    REPEAL BEAT COALITION (BASE EROSION ANTI-ABUSE...   \n",
       "Y4000           The Rader Group, PLLC on behalf of Nuctech   \n",
       "Y4000                                         SCRATCHWORKS   \n",
       "Y4000                                     Alejandro Chahin   \n",
       "Y4000                                INTERNATIONAL OUTDOOR   \n",
       "\n",
       "                        client                 ultorg   amount source self  \\\n",
       "catcode                                                                      \n",
       "Y4000    Repeal BEAT Coalition  Repeal BEAT Coalition   5000.0           n   \n",
       "Y4000               Nuctech Co             Nuctech Co  10000.0           n   \n",
       "Y4000             Scratchworks           Scratchworks  10000.0           n   \n",
       "Y4000        Chahin, Alejandro      Chahin, Alejandro      0.0           n   \n",
       "Y4000    International Outdoor  International Outdoor      0.0           n   \n",
       "\n",
       "        includensfs use ind  year  type               typelong  \n",
       "catcode                                                         \n",
       "Y4000           NaN   y   y  2022  q1     FIRST QUARTER REPORT  \n",
       "Y4000           NaN   y   y  2018  q3     THIRD QUARTER REPORT  \n",
       "Y4000           NaN   y   y  2021  q1     FIRST QUARTER REPORT  \n",
       "Y4000           NaN   y   y  2020  q1     FIRST QUARTER REPORT  \n",
       "Y4000           NaN   y   y  2019  q2    SECOND QUARTER REPORT  "
      ]
     },
     "execution_count": 36,
     "metadata": {},
     "output_type": "execute_result"
    }
   ],
   "source": [
    "raw.set_index(\"catcode\").loc[\"Y4000\"].head()"
   ]
  },
  {
   "cell_type": "markdown",
   "id": "e9a43df2-3a7a-4622-8f44-c329e90ea802",
   "metadata": {},
   "source": [
    "### lob_lobbyist preview"
   ]
  },
  {
   "cell_type": "code",
   "execution_count": 47,
   "id": "c7e86df7-93e8-4080-baf3-8ad3c29a20a7",
   "metadata": {},
   "outputs": [
    {
     "name": "stdout",
     "output_type": "stream",
     "text": [
      "1246042\n",
      "Index(['uniqid', 'lobbyist_raw', 'lobbyistnew', 'lobbyist_id', 'year',\n",
      "       'officialposition', 'cid', 'formercongmem'],\n",
      "      dtype='object')\n"
     ]
    }
   ],
   "source": [
    "raw = convert_to_valid_csv(\"lob_lobbyist\", \"cp850\")"
   ]
  },
  {
   "cell_type": "code",
   "execution_count": 48,
   "id": "1671f247-bfc6-44f2-bec5-de2d7b452e4f",
   "metadata": {},
   "outputs": [
    {
     "data": {
      "text/html": [
       "<div>\n",
       "<style scoped>\n",
       "    .dataframe tbody tr th:only-of-type {\n",
       "        vertical-align: middle;\n",
       "    }\n",
       "\n",
       "    .dataframe tbody tr th {\n",
       "        vertical-align: top;\n",
       "    }\n",
       "\n",
       "    .dataframe thead th {\n",
       "        text-align: right;\n",
       "    }\n",
       "</style>\n",
       "<table border=\"1\" class=\"dataframe\">\n",
       "  <thead>\n",
       "    <tr style=\"text-align: right;\">\n",
       "      <th></th>\n",
       "      <th>uniqid</th>\n",
       "      <th>lobbyist_raw</th>\n",
       "      <th>lobbyistnew</th>\n",
       "      <th>lobbyist_id</th>\n",
       "      <th>year</th>\n",
       "      <th>officialposition</th>\n",
       "      <th>cid</th>\n",
       "      <th>formercongmem</th>\n",
       "    </tr>\n",
       "  </thead>\n",
       "  <tbody>\n",
       "    <tr>\n",
       "      <th>0</th>\n",
       "      <td>000018d7-73cf-403c-bafb-e423afd81c67</td>\n",
       "      <td>SHAW, REBECCA LOUISE</td>\n",
       "      <td>Shaw, Rebecca</td>\n",
       "      <td>Y0000059741L</td>\n",
       "      <td>2022</td>\n",
       "      <td>(Rep. Devin Nunes), Paid Intern, (Rep. Chris G...</td>\n",
       "      <td>NaN</td>\n",
       "      <td>n</td>\n",
       "    </tr>\n",
       "    <tr>\n",
       "      <th>1</th>\n",
       "      <td>000018d7-73cf-403c-bafb-e423afd81c67</td>\n",
       "      <td>HARLOW, BRYCE</td>\n",
       "      <td>Harlow, Bryce L</td>\n",
       "      <td>Y0000040476L</td>\n",
       "      <td>2022</td>\n",
       "      <td>NaN</td>\n",
       "      <td>NaN</td>\n",
       "      <td>n</td>\n",
       "    </tr>\n",
       "    <tr>\n",
       "      <th>2</th>\n",
       "      <td>000018d7-73cf-403c-bafb-e423afd81c67</td>\n",
       "      <td>CASTALDO, KEITH</td>\n",
       "      <td>Castaldo, Keith</td>\n",
       "      <td>Y0000058249L</td>\n",
       "      <td>2022</td>\n",
       "      <td>NaN</td>\n",
       "      <td>NaN</td>\n",
       "      <td>n</td>\n",
       "    </tr>\n",
       "    <tr>\n",
       "      <th>3</th>\n",
       "      <td>000018d7-73cf-403c-bafb-e423afd81c67</td>\n",
       "      <td>STANTON, SHANTI</td>\n",
       "      <td>Stanton, Shanti Ochs</td>\n",
       "      <td>Y0000001722L</td>\n",
       "      <td>2022</td>\n",
       "      <td>NaN</td>\n",
       "      <td>NaN</td>\n",
       "      <td>n</td>\n",
       "    </tr>\n",
       "    <tr>\n",
       "      <th>4</th>\n",
       "      <td>00003552-CB8B-432D-A5E4-0F7D22AFCE59</td>\n",
       "      <td>THOMPSON, MARGARET</td>\n",
       "      <td>Thompson, Meg</td>\n",
       "      <td>Y0000036079L</td>\n",
       "      <td>2020</td>\n",
       "      <td>Professional Staff Member, House Appropriation...</td>\n",
       "      <td>NaN</td>\n",
       "      <td>n</td>\n",
       "    </tr>\n",
       "  </tbody>\n",
       "</table>\n",
       "</div>"
      ],
      "text/plain": [
       "                                 uniqid           lobbyist_raw  \\\n",
       "0  000018d7-73cf-403c-bafb-e423afd81c67  SHAW, REBECCA LOUISE    \n",
       "1  000018d7-73cf-403c-bafb-e423afd81c67        HARLOW, BRYCE     \n",
       "2  000018d7-73cf-403c-bafb-e423afd81c67      CASTALDO, KEITH     \n",
       "3  000018d7-73cf-403c-bafb-e423afd81c67      STANTON, SHANTI     \n",
       "4  00003552-CB8B-432D-A5E4-0F7D22AFCE59     THOMPSON, MARGARET   \n",
       "\n",
       "            lobbyistnew   lobbyist_id  year  \\\n",
       "0         Shaw, Rebecca  Y0000059741L  2022   \n",
       "1       Harlow, Bryce L  Y0000040476L  2022   \n",
       "2       Castaldo, Keith  Y0000058249L  2022   \n",
       "3  Stanton, Shanti Ochs  Y0000001722L  2022   \n",
       "4         Thompson, Meg  Y0000036079L  2020   \n",
       "\n",
       "                                    officialposition  cid formercongmem  \n",
       "0  (Rep. Devin Nunes), Paid Intern, (Rep. Chris G...  NaN             n  \n",
       "1                                                NaN  NaN             n  \n",
       "2                                                NaN  NaN             n  \n",
       "3                                                NaN  NaN             n  \n",
       "4  Professional Staff Member, House Appropriation...  NaN             n  "
      ]
     },
     "execution_count": 48,
     "metadata": {},
     "output_type": "execute_result"
    }
   ],
   "source": [
    "raw.head()"
   ]
  },
  {
   "cell_type": "code",
   "execution_count": 54,
   "id": "43736375-2e68-403b-80b8-ab27c1244a90",
   "metadata": {},
   "outputs": [],
   "source": [
    "lob_lobbyist = raw.set_index([\"lobbyist_id\", \"year\"])"
   ]
  },
  {
   "cell_type": "code",
   "execution_count": 56,
   "id": "f6192a3c-3ef8-4765-b912-0b95156b9797",
   "metadata": {},
   "outputs": [
    {
     "data": {
      "text/plain": [
       "1246042"
      ]
     },
     "execution_count": 56,
     "metadata": {},
     "output_type": "execute_result"
    }
   ],
   "source": [
    "len(lob_lobbyist.index)"
   ]
  },
  {
   "cell_type": "code",
   "execution_count": 57,
   "id": "19972005-0e29-4e29-be98-a0bafd22d597",
   "metadata": {},
   "outputs": [
    {
     "data": {
      "text/plain": [
       "84903"
      ]
     },
     "execution_count": 57,
     "metadata": {},
     "output_type": "execute_result"
    }
   ],
   "source": [
    "len(lob_lobbyist.index.unique())"
   ]
  },
  {
   "cell_type": "code",
   "execution_count": null,
   "id": "a7917f34-f2c0-42e9-864b-908325af3ce6",
   "metadata": {},
   "outputs": [],
   "source": []
  }
 ],
 "metadata": {
  "kernelspec": {
   "display_name": "Python 3 (ipykernel)",
   "language": "python",
   "name": "python3"
  },
  "language_info": {
   "codemirror_mode": {
    "name": "ipython",
    "version": 3
   },
   "file_extension": ".py",
   "mimetype": "text/x-python",
   "name": "python",
   "nbconvert_exporter": "python",
   "pygments_lexer": "ipython3",
   "version": "3.11.6"
  }
 },
 "nbformat": 4,
 "nbformat_minor": 5
}
