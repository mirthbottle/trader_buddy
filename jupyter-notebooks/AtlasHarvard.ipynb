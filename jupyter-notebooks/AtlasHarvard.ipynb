{
 "cells": [
  {
   "cell_type": "code",
   "execution_count": 1,
   "id": "37b0370f-d866-415f-b576-4ce1bed8c168",
   "metadata": {},
   "outputs": [],
   "source": [
    "%load_ext autoreload\n",
    "%autoreload 2\n",
    "\n",
    "%load_ext dotenv\n",
    "%dotenv"
   ]
  },
  {
   "cell_type": "code",
   "execution_count": 3,
   "id": "274e5be5-2624-4336-a64f-66b834cf3a36",
   "metadata": {},
   "outputs": [],
   "source": [
    "import pandas as pd\n",
    "from google.cloud import bigquery\n",
    "\n",
    "client = bigquery.Client()"
   ]
  },
  {
   "cell_type": "code",
   "execution_count": null,
   "id": "e3d8e950-8194-4b95-8689-0cd71e8f0ff2",
   "metadata": {},
   "outputs": [],
   "source": [
    "data = pd.io.stata.read_stata('../../datasets/atlas_harvard/country_partner_hsproduct6digit_year_2021.dta')"
   ]
  },
  {
   "cell_type": "code",
   "execution_count": 22,
   "id": "b175ab7b-ca96-4a62-bd22-2ea511ece5ef",
   "metadata": {},
   "outputs": [],
   "source": [
    "csvpath = '../../datasets/atlas_harvard/country_partner_hsproduct6digit_year_2021.csv'"
   ]
  },
  {
   "cell_type": "code",
   "execution_count": 20,
   "id": "42f94bac-d442-493f-b8e7-efb35434302d",
   "metadata": {},
   "outputs": [],
   "source": [
    "bq_schema = [\n",
    "    bigquery.SchemaField(\"location_id\", \"INTEGER\"),\n",
    "    bigquery.SchemaField(\"partner_id\", \"INTEGER\"),\n",
    "    bigquery.SchemaField(\"product_id\", \"INTEGER\"),\n",
    "    bigquery.SchemaField(\"year\", \"FLOAT\"),\n",
    "    bigquery.SchemaField(\"export_value\", \"NUMERIC\"),\n",
    "    bigquery.SchemaField(\"import_value\", \"NUMERIC\"),\n",
    "    bigquery.SchemaField(\"hs_eci\", \"FLOAT\"),\n",
    "    bigquery.SchemaField(\"hs_coi\", \"FLOAT\"),\n",
    "    bigquery.SchemaField(\"location_code\", \"STRING\"),\n",
    "    bigquery.SchemaField(\"partner_code\", \"STRING\"),\n",
    "    bigquery.SchemaField(\"hs_product_code\", \"STRING\")]"
   ]
  },
  {
   "cell_type": "code",
   "execution_count": 21,
   "id": "23b1bee0-789a-4074-be09-b79770215fd5",
   "metadata": {},
   "outputs": [],
   "source": [
    "job_config = bigquery.LoadJobConfig(\n",
    "    schema=bq_schema, source_format=bigquery.SourceFormat.CSV, skip_leading_rows=1)"
   ]
  },
  {
   "cell_type": "code",
   "execution_count": 23,
   "id": "336df678-f97c-4618-a4b4-2f1b66abe788",
   "metadata": {},
   "outputs": [],
   "source": [
    "with open(csvpath, \"rb\") as source_file:\n",
    "    job = client.load_table_from_file(\n",
    "        source_file, f\"main-street-labs.company_datasets_dev.country_partner_hsproduct6digit\",\n",
    "        job_config=job_config)\n",
    "    job.result()"
   ]
  },
  {
   "cell_type": "code",
   "execution_count": null,
   "id": "ec5e8fc2-ffbf-4665-9b2c-22f315457246",
   "metadata": {},
   "outputs": [],
   "source": []
  }
 ],
 "metadata": {
  "kernelspec": {
   "display_name": "Python 3 (ipykernel)",
   "language": "python",
   "name": "python3"
  },
  "language_info": {
   "codemirror_mode": {
    "name": "ipython",
    "version": 3
   },
   "file_extension": ".py",
   "mimetype": "text/x-python",
   "name": "python",
   "nbconvert_exporter": "python",
   "pygments_lexer": "ipython3",
   "version": "3.11.6"
  }
 },
 "nbformat": 4,
 "nbformat_minor": 5
}
