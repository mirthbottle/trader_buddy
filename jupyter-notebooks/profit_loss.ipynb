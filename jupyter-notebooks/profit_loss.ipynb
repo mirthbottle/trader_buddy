{
 "cells": [
  {
   "cell_type": "code",
   "execution_count": 1,
   "id": "1e32fd03-a5c7-4776-b56e-5f9901eaf741",
   "metadata": {},
   "outputs": [
    {
     "name": "stdout",
     "output_type": "stream",
     "text": [
      "cannot find .env file\n"
     ]
    }
   ],
   "source": [
    "%load_ext autoreload\n",
    "%autoreload 2\n",
    "\n",
    "%load_ext dotenv\n",
    "%dotenv"
   ]
  },
  {
   "cell_type": "code",
   "execution_count": 7,
   "id": "a2230d19-c6f0-447d-b0b5-640d105a4dca",
   "metadata": {},
   "outputs": [],
   "source": [
    "import cProfile\n",
    "import math\n",
    "from decimal import Decimal, getcontext"
   ]
  },
  {
   "cell_type": "code",
   "execution_count": 1,
   "id": "36b3a97d-25a5-4c86-b423-d1316ee4aca2",
   "metadata": {},
   "outputs": [],
   "source": [
    "from datetime import datetime"
   ]
  },
  {
   "cell_type": "code",
   "execution_count": 4,
   "id": "abadf0d7-c529-4377-a86d-95a8b93bb3ae",
   "metadata": {},
   "outputs": [],
   "source": [
    "d1 = datetime.today()"
   ]
  },
  {
   "cell_type": "code",
   "execution_count": 5,
   "id": "3077a2c0-90bd-42f4-bf86-19dc4845c6d3",
   "metadata": {},
   "outputs": [],
   "source": [
    "d2 = datetime(2023, 12, 3)"
   ]
  },
  {
   "cell_type": "code",
   "execution_count": 6,
   "id": "af5a20cb-18d1-4e5c-8abb-d893b0ea135d",
   "metadata": {},
   "outputs": [
    {
     "data": {
      "text/plain": [
       "1"
      ]
     },
     "execution_count": 6,
     "metadata": {},
     "output_type": "execute_result"
    }
   ],
   "source": [
    "(d2-d1).days"
   ]
  },
  {
   "cell_type": "code",
   "execution_count": 18,
   "id": "ca39989e-cfcf-4261-9b43-8eaaba63801b",
   "metadata": {},
   "outputs": [
    {
     "data": {
      "text/plain": [
       "0.10000000000000009"
      ]
     },
     "execution_count": 18,
     "metadata": {},
     "output_type": "execute_result"
    }
   ],
   "source": [
    "math.fsum([Decimal(\"1.1\")/Decimal(\"1\"), Decimal(str(-1))])"
   ]
  },
  {
   "cell_type": "code",
   "execution_count": 23,
   "id": "1248a1e1-d1a0-4718-bde6-69e84016614e",
   "metadata": {},
   "outputs": [],
   "source": [
    "p = float(Decimal(str(4.4))/Decimal(str(4))+Decimal(\"-1\"))"
   ]
  },
  {
   "cell_type": "code",
   "execution_count": 28,
   "id": "4255cc92-835d-4291-85ce-73653e201049",
   "metadata": {},
   "outputs": [
    {
     "data": {
      "text/plain": [
       "1.2"
      ]
     },
     "execution_count": 28,
     "metadata": {},
     "output_type": "execute_result"
    }
   ],
   "source": [
    "float(Decimal(str(p))+Decimal(\"1.1\"))"
   ]
  },
  {
   "cell_type": "code",
   "execution_count": null,
   "id": "34ffab8b-cce9-47e9-b094-5d451eadad5a",
   "metadata": {},
   "outputs": [],
   "source": []
  }
 ],
 "metadata": {
  "kernelspec": {
   "display_name": "Python 3 (ipykernel)",
   "language": "python",
   "name": "python3"
  },
  "language_info": {
   "codemirror_mode": {
    "name": "ipython",
    "version": 3
   },
   "file_extension": ".py",
   "mimetype": "text/x-python",
   "name": "python",
   "nbconvert_exporter": "python",
   "pygments_lexer": "ipython3",
   "version": "3.11.6"
  }
 },
 "nbformat": 4,
 "nbformat_minor": 5
}
