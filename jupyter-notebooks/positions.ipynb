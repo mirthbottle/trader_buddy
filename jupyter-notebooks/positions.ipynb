{
 "cells": [
  {
   "cell_type": "code",
   "execution_count": 1,
   "id": "fb8cd74b-347b-429c-a030-9bb7cfd8bee3",
   "metadata": {},
   "outputs": [],
   "source": [
    "%load_ext autoreload\n",
    "%autoreload 2\n",
    "\n",
    "%load_ext dotenv\n",
    "%dotenv"
   ]
  },
  {
   "cell_type": "code",
   "execution_count": 2,
   "id": "a56e4805-b0ac-447e-a1cc-0cdea72d983e",
   "metadata": {},
   "outputs": [
    {
     "name": "stdout",
     "output_type": "stream",
     "text": [
      "/workspaces/src/trader_buddy/jupyter-notebooks\n"
     ]
    }
   ],
   "source": [
    "from pathlib import Path\n",
    "\n",
    "print(Path.cwd())  # /home/skovorodkin/stack"
   ]
  },
  {
   "cell_type": "code",
   "execution_count": 2,
   "id": "ecaf0290-c193-4765-ac79-dab828d825a3",
   "metadata": {},
   "outputs": [],
   "source": [
    "import pandas as pd\n",
    "from datetime import datetime"
   ]
  },
  {
   "cell_type": "code",
   "execution_count": 3,
   "id": "1c418ac2-c807-433a-8ca6-210c6eef3e3a",
   "metadata": {},
   "outputs": [],
   "source": [
    "from google.cloud import bigquery\n",
    "client = bigquery.Client()"
   ]
  },
  {
   "cell_type": "code",
   "execution_count": 5,
   "id": "bb9fa056-b9de-466d-8da6-c277748f141b",
   "metadata": {},
   "outputs": [],
   "source": [
    "import os\n",
    "import sys\n",
    "sys.path.append(\"../projects/gain_tracker\")\n",
    "from gain_tracker.position import ClosedPosition"
   ]
  },
  {
   "cell_type": "code",
   "execution_count": 6,
   "id": "561aec15-28b2-48eb-a8e7-9f7746e7fefc",
   "metadata": {},
   "outputs": [],
   "source": [
    "query_job = client.query(\"SELECT * FROM `main-street-labs.gain_tracker.closed_positions`\")\n",
    "closed_positions = query_job.result().to_dataframe()"
   ]
  },
  {
   "cell_type": "code",
   "execution_count": 126,
   "id": "4db31329-493c-4724-9cc9-51befdb47720",
   "metadata": {},
   "outputs": [
    {
     "data": {
      "text/plain": [
       "56"
      ]
     },
     "execution_count": 126,
     "metadata": {},
     "output_type": "execute_result"
    }
   ],
   "source": [
    "len(closed_positions)"
   ]
  },
  {
   "cell_type": "code",
   "execution_count": 7,
   "id": "3f7fa532-eecb-498d-872f-5d76ea67e57d",
   "metadata": {},
   "outputs": [],
   "source": [
    "closed_positions.drop_duplicates(subset=[\"POSITION_LOT_ID\", \"QUANTITY\", \"DATE_CLOSED\"], inplace=True)"
   ]
  },
  {
   "cell_type": "code",
   "execution_count": 8,
   "id": "5dbba39b-d50b-4c38-9e93-03f80c7693b9",
   "metadata": {},
   "outputs": [
    {
     "data": {
      "text/plain": [
       "SYMBOL_DESCRIPTION                 object\n",
       "QUANTITY                          float64\n",
       "DATE_ACQUIRED                      dbdate\n",
       "PRICE_PAID                        float64\n",
       "ACCOUNT_ID_KEY                     object\n",
       "POSITION_ID                         Int64\n",
       "POSITION_LOT_ID                     Int64\n",
       "ORIGINAL_QTY                      float64\n",
       "TIMESTAMP             datetime64[us, UTC]\n",
       "DATE_CLOSED                        dbdate\n",
       "TRANSACTION_FEE                   float64\n",
       "TRANSACTION_ID                      Int64\n",
       "MARKET_VALUE                      float64\n",
       "dtype: object"
      ]
     },
     "execution_count": 8,
     "metadata": {},
     "output_type": "execute_result"
    }
   ],
   "source": [
    "closed_positions.dtypes"
   ]
  },
  {
   "cell_type": "code",
   "execution_count": 26,
   "id": "5c37f383-d9f7-4ef3-b993-39f4f7aca582",
   "metadata": {},
   "outputs": [
    {
     "data": {
      "text/plain": [
       "SYMBOL_DESCRIPTION                  object\n",
       "QUANTITY                           float64\n",
       "DATE_ACQUIRED                       dbdate\n",
       "PRICE_PAID                         float64\n",
       "ACCOUNT_ID_KEY                      object\n",
       "POSITION_ID                          Int64\n",
       "POSITION_LOT_ID                      Int64\n",
       "ORIGINAL_QTY                       float64\n",
       "TIMESTAMP              datetime64[us, UTC]\n",
       "DATE_CLOSED                         dbdate\n",
       "TRANSACTION_FEE                    float64\n",
       "TRANSACTION_ID                       Int64\n",
       "MARKET_VALUE                       float64\n",
       "percent_price_gain                  object\n",
       "gain                                object\n",
       "percent_gain                        object\n",
       "annualized_pct_gain                 object\n",
       "days_held                          float64\n",
       "dtype: object"
      ]
     },
     "execution_count": 26,
     "metadata": {},
     "output_type": "execute_result"
    }
   ],
   "source": [
    "closed_gains_df.dtypes"
   ]
  },
  {
   "cell_type": "code",
   "execution_count": 35,
   "id": "4ebd5521-d911-4016-8307-c4d3387feb25",
   "metadata": {},
   "outputs": [],
   "source": [
    "positions = closed_positions.apply(\n",
    "    lambda r: ClosedPosition(\n",
    "        r[\"POSITION_LOT_ID\"],\n",
    "        r[\"ACCOUNT_ID_KEY\"],\n",
    "        r[\"SYMBOL_DESCRIPTION\"],\n",
    "        r[\"PRICE_PAID\"],\n",
    "        r[\"DATE_ACQUIRED\"],\n",
    "        r[\"QUANTITY\"],\n",
    "        r[\"ORIGINAL_QTY\"],\n",
    "        r[\"MARKET_VALUE\"],\n",
    "        transaction_id = r[\"TRANSACTION_ID\"],\n",
    "        transaction_fee = r[\"TRANSACTION_FEE\"],\n",
    "        date_closed=r[\"DATE_CLOSED\"]), axis=1)"
   ]
  },
  {
   "cell_type": "code",
   "execution_count": 154,
   "id": "44a76873-da81-4440-89f7-494d35d730e4",
   "metadata": {},
   "outputs": [],
   "source": [
    "one_p = positions.values[0]"
   ]
  },
  {
   "cell_type": "code",
   "execution_count": 155,
   "id": "4fa7a060-d334-4a4c-9c6c-ce6568f348b1",
   "metadata": {},
   "outputs": [
    {
     "data": {
      "text/plain": [
       "18.99833333333333"
      ]
     },
     "execution_count": 155,
     "metadata": {},
     "output_type": "execute_result"
    }
   ],
   "source": [
    "one_p.market_price()"
   ]
  },
  {
   "cell_type": "code",
   "execution_count": null,
   "id": "a203ec1d-83e9-4031-97b6-eb199571fb0a",
   "metadata": {},
   "outputs": [],
   "source": [
    "gmetrics = positions.apply(lambda p: p.compute_gains())\n",
    "\n",
    "gm_df = pd.DataFrame(gmetrics.values.tolist())\n",
    "\n",
    "closed_gains_df = pd.concat([closed_positions.reset_index(drop=True),gm_df],axis=1)"
   ]
  },
  {
   "cell_type": "code",
   "execution_count": 37,
   "id": "daa796de-4f10-4704-88ab-9586c790cc54",
   "metadata": {},
   "outputs": [
    {
     "data": {
      "text/html": [
       "<div>\n",
       "<style scoped>\n",
       "    .dataframe tbody tr th:only-of-type {\n",
       "        vertical-align: middle;\n",
       "    }\n",
       "\n",
       "    .dataframe tbody tr th {\n",
       "        vertical-align: top;\n",
       "    }\n",
       "\n",
       "    .dataframe thead th {\n",
       "        text-align: right;\n",
       "    }\n",
       "</style>\n",
       "<table border=\"1\" class=\"dataframe\">\n",
       "  <thead>\n",
       "    <tr style=\"text-align: right;\">\n",
       "      <th></th>\n",
       "      <th>SYMBOL_DESCRIPTION</th>\n",
       "      <th>QUANTITY</th>\n",
       "      <th>DATE_ACQUIRED</th>\n",
       "      <th>PRICE_PAID</th>\n",
       "      <th>ACCOUNT_ID_KEY</th>\n",
       "      <th>POSITION_ID</th>\n",
       "      <th>POSITION_LOT_ID</th>\n",
       "      <th>ORIGINAL_QTY</th>\n",
       "      <th>TIMESTAMP</th>\n",
       "      <th>DATE_CLOSED</th>\n",
       "      <th>TRANSACTION_FEE</th>\n",
       "      <th>TRANSACTION_ID</th>\n",
       "      <th>MARKET_VALUE</th>\n",
       "      <th>percent_price_gain</th>\n",
       "      <th>gain</th>\n",
       "      <th>percent_gain</th>\n",
       "      <th>annualized_pct_gain</th>\n",
       "      <th>days_held</th>\n",
       "    </tr>\n",
       "  </thead>\n",
       "  <tbody>\n",
       "    <tr>\n",
       "      <th>49</th>\n",
       "      <td>DQ</td>\n",
       "      <td>10.0</td>\n",
       "      <td>2024-08-29</td>\n",
       "      <td>14.50</td>\n",
       "      <td>SXPtmpM7IZIpymUjhjI-zg</td>\n",
       "      <td>372865585900</td>\n",
       "      <td>2699858515103</td>\n",
       "      <td>10.0</td>\n",
       "      <td>2024-09-13 00:00:00+00:00</td>\n",
       "      <td>2024-09-13</td>\n",
       "      <td>0.0</td>\n",
       "      <td>24257201074125</td>\n",
       "      <td>161.39</td>\n",
       "      <td>0.11303448276</td>\n",
       "      <td>16.3900000002</td>\n",
       "      <td>0.11303448276</td>\n",
       "      <td>12.5428396917</td>\n",
       "      <td>15</td>\n",
       "    </tr>\n",
       "    <tr>\n",
       "      <th>50</th>\n",
       "      <td>NIO</td>\n",
       "      <td>30.0</td>\n",
       "      <td>2024-06-10</td>\n",
       "      <td>4.80</td>\n",
       "      <td>SXPtmpM7IZIpymUjhjI-zg</td>\n",
       "      <td>356289802900</td>\n",
       "      <td>2557349775103</td>\n",
       "      <td>30.0</td>\n",
       "      <td>2024-09-13 00:00:00+00:00</td>\n",
       "      <td>2024-09-13</td>\n",
       "      <td>0.0</td>\n",
       "      <td>24257200235909</td>\n",
       "      <td>158.99</td>\n",
       "      <td>0.10409722222</td>\n",
       "      <td>14.9899999997</td>\n",
       "      <td>0.104097222220</td>\n",
       "      <td>0.46298084520</td>\n",
       "      <td>95</td>\n",
       "    </tr>\n",
       "    <tr>\n",
       "      <th>51</th>\n",
       "      <td>HUBS</td>\n",
       "      <td>2.0</td>\n",
       "      <td>2024-08-20</td>\n",
       "      <td>490.00</td>\n",
       "      <td>SXPtmpM7IZIpymUjhjI-zg</td>\n",
       "      <td>396827605900</td>\n",
       "      <td>2685514461103</td>\n",
       "      <td>2.0</td>\n",
       "      <td>2024-09-13 00:00:00+00:00</td>\n",
       "      <td>2024-09-13</td>\n",
       "      <td>0.0</td>\n",
       "      <td>24257200325971</td>\n",
       "      <td>999.97</td>\n",
       "      <td>0.02037755102</td>\n",
       "      <td>19.9699999996</td>\n",
       "      <td>0.02037755102</td>\n",
       "      <td>0.35905995374</td>\n",
       "      <td>24</td>\n",
       "    </tr>\n",
       "    <tr>\n",
       "      <th>52</th>\n",
       "      <td>CRWD</td>\n",
       "      <td>1.0</td>\n",
       "      <td>2024-07-26</td>\n",
       "      <td>255.00</td>\n",
       "      <td>E2ayfoKSzH1fFZs-7xV48A</td>\n",
       "      <td>391087961900</td>\n",
       "      <td>2632002334103</td>\n",
       "      <td>1.0</td>\n",
       "      <td>2024-09-16 00:00:00+00:00</td>\n",
       "      <td>2024-09-16</td>\n",
       "      <td>0.0</td>\n",
       "      <td>24260201502940</td>\n",
       "      <td>269.99</td>\n",
       "      <td>0.05878431373</td>\n",
       "      <td>14.9900000012</td>\n",
       "      <td>0.0587843137302</td>\n",
       "      <td>0.49323979848</td>\n",
       "      <td>52</td>\n",
       "    </tr>\n",
       "    <tr>\n",
       "      <th>53</th>\n",
       "      <td>IEFA</td>\n",
       "      <td>20.0</td>\n",
       "      <td>2016-06-01</td>\n",
       "      <td>54.11</td>\n",
       "      <td>lP_HmzzVyiLFftb7DXaEUw</td>\n",
       "      <td>26413605005</td>\n",
       "      <td>20702960006</td>\n",
       "      <td>20.0</td>\n",
       "      <td>2024-09-16 00:00:00+00:00</td>\n",
       "      <td>2024-09-16</td>\n",
       "      <td>0.0</td>\n",
       "      <td>24260201374097</td>\n",
       "      <td>1527.95</td>\n",
       "      <td>0.41189244132</td>\n",
       "      <td>445.749999997</td>\n",
       "      <td>0.411892441320</td>\n",
       "      <td>0.04244071730</td>\n",
       "      <td>3029</td>\n",
       "    </tr>\n",
       "  </tbody>\n",
       "</table>\n",
       "</div>"
      ],
      "text/plain": [
       "   SYMBOL_DESCRIPTION  QUANTITY DATE_ACQUIRED  PRICE_PAID  \\\n",
       "49                 DQ      10.0    2024-08-29       14.50   \n",
       "50                NIO      30.0    2024-06-10        4.80   \n",
       "51               HUBS       2.0    2024-08-20      490.00   \n",
       "52               CRWD       1.0    2024-07-26      255.00   \n",
       "53               IEFA      20.0    2016-06-01       54.11   \n",
       "\n",
       "            ACCOUNT_ID_KEY   POSITION_ID  POSITION_LOT_ID  ORIGINAL_QTY  \\\n",
       "49  SXPtmpM7IZIpymUjhjI-zg  372865585900    2699858515103          10.0   \n",
       "50  SXPtmpM7IZIpymUjhjI-zg  356289802900    2557349775103          30.0   \n",
       "51  SXPtmpM7IZIpymUjhjI-zg  396827605900    2685514461103           2.0   \n",
       "52  E2ayfoKSzH1fFZs-7xV48A  391087961900    2632002334103           1.0   \n",
       "53  lP_HmzzVyiLFftb7DXaEUw   26413605005      20702960006          20.0   \n",
       "\n",
       "                   TIMESTAMP DATE_CLOSED  TRANSACTION_FEE  TRANSACTION_ID  \\\n",
       "49 2024-09-13 00:00:00+00:00  2024-09-13              0.0  24257201074125   \n",
       "50 2024-09-13 00:00:00+00:00  2024-09-13              0.0  24257200235909   \n",
       "51 2024-09-13 00:00:00+00:00  2024-09-13              0.0  24257200325971   \n",
       "52 2024-09-16 00:00:00+00:00  2024-09-16              0.0  24260201502940   \n",
       "53 2024-09-16 00:00:00+00:00  2024-09-16              0.0  24260201374097   \n",
       "\n",
       "    MARKET_VALUE percent_price_gain           gain     percent_gain  \\\n",
       "49        161.39      0.11303448276  16.3900000002    0.11303448276   \n",
       "50        158.99      0.10409722222  14.9899999997   0.104097222220   \n",
       "51        999.97      0.02037755102  19.9699999996    0.02037755102   \n",
       "52        269.99      0.05878431373  14.9900000012  0.0587843137302   \n",
       "53       1527.95      0.41189244132  445.749999997   0.411892441320   \n",
       "\n",
       "   annualized_pct_gain  days_held  \n",
       "49       12.5428396917         15  \n",
       "50       0.46298084520         95  \n",
       "51       0.35905995374         24  \n",
       "52       0.49323979848         52  \n",
       "53       0.04244071730       3029  "
      ]
     },
     "execution_count": 37,
     "metadata": {},
     "output_type": "execute_result"
    }
   ],
   "source": [
    "closed_gains_df.tail()"
   ]
  },
  {
   "cell_type": "code",
   "execution_count": 38,
   "id": "22e24805-39dd-4e61-a0c7-665d3c6d0cba",
   "metadata": {},
   "outputs": [],
   "source": [
    "job = client.load_table_from_dataframe(\n",
    "    closed_gains_df.set_index('POSITION_LOT_ID'), \"main-street-labs.gain_tracker.closed_positions\"\n",
    ")"
   ]
  },
  {
   "cell_type": "markdown",
   "id": "cd9915e8-cec5-4a8d-9a39-996d74310bf7",
   "metadata": {},
   "source": [
    "# set datatypes"
   ]
  },
  {
   "cell_type": "code",
   "execution_count": 144,
   "id": "16e9cd47-4bd7-4300-8c80-7fa8472f84ba",
   "metadata": {},
   "outputs": [],
   "source": [
    "empty_ts = pd.DataFrame(\n",
    "    {'account_id': pd.Series(dtype='str'),\n",
    "    'transaction_type': pd.Series(dtype='str'),\n",
    "    'transaction_date': pd.Series(dtype='datetime64[ns]')})"
   ]
  },
  {
   "cell_type": "code",
   "execution_count": 10,
   "id": "81de1839-ca2d-4ff3-9899-2163c936de43",
   "metadata": {},
   "outputs": [
    {
     "data": {
      "text/plain": [
       "account_id                  object\n",
       "transaction_type            object\n",
       "transaction_date    datetime64[ns]\n",
       "dtype: object"
      ]
     },
     "execution_count": 10,
     "metadata": {},
     "output_type": "execute_result"
    }
   ],
   "source": [
    "empty_ts.dtypes"
   ]
  },
  {
   "cell_type": "markdown",
   "id": "c1f254e7-e4c8-4863-a2e3-98823ead7550",
   "metadata": {},
   "source": [
    "# dataframe manip"
   ]
  },
  {
   "cell_type": "code",
   "execution_count": 23,
   "id": "ef9cdd71-0226-4987-a88d-01b81ed6b60d",
   "metadata": {},
   "outputs": [],
   "source": [
    "x = pd.DataFrame(data={\"a\": [1,2, 3], \"b\": [\"f\", \"g\", None], \"c\": [5,66,1]}).set_index(\"a\")"
   ]
  },
  {
   "cell_type": "code",
   "execution_count": 46,
   "id": "4913f7a3-bd7c-42d3-b401-6b32cda103a1",
   "metadata": {},
   "outputs": [
    {
     "data": {
      "text/plain": [
       "a\n",
       "1     True\n",
       "2     True\n",
       "3    False\n",
       "dtype: bool"
      ]
     },
     "execution_count": 46,
     "metadata": {},
     "output_type": "execute_result"
    }
   ],
   "source": [
    "(~x.isna()).all(axis=1)"
   ]
  },
  {
   "cell_type": "code",
   "execution_count": 47,
   "id": "4bd937d1-41ad-4993-9805-e43963546ddf",
   "metadata": {},
   "outputs": [
    {
     "data": {
      "text/html": [
       "<div>\n",
       "<style scoped>\n",
       "    .dataframe tbody tr th:only-of-type {\n",
       "        vertical-align: middle;\n",
       "    }\n",
       "\n",
       "    .dataframe tbody tr th {\n",
       "        vertical-align: top;\n",
       "    }\n",
       "\n",
       "    .dataframe thead th {\n",
       "        text-align: right;\n",
       "    }\n",
       "</style>\n",
       "<table border=\"1\" class=\"dataframe\">\n",
       "  <thead>\n",
       "    <tr style=\"text-align: right;\">\n",
       "      <th></th>\n",
       "      <th>b</th>\n",
       "      <th>c</th>\n",
       "    </tr>\n",
       "    <tr>\n",
       "      <th>a</th>\n",
       "      <th></th>\n",
       "      <th></th>\n",
       "    </tr>\n",
       "  </thead>\n",
       "  <tbody>\n",
       "    <tr>\n",
       "      <th>1</th>\n",
       "      <td>f</td>\n",
       "      <td>5</td>\n",
       "    </tr>\n",
       "    <tr>\n",
       "      <th>2</th>\n",
       "      <td>g</td>\n",
       "      <td>66</td>\n",
       "    </tr>\n",
       "    <tr>\n",
       "      <th>3</th>\n",
       "      <td>None</td>\n",
       "      <td>1</td>\n",
       "    </tr>\n",
       "  </tbody>\n",
       "</table>\n",
       "</div>"
      ],
      "text/plain": [
       "      b   c\n",
       "a          \n",
       "1     f   5\n",
       "2     g  66\n",
       "3  None   1"
      ]
     },
     "execution_count": 47,
     "metadata": {},
     "output_type": "execute_result"
    }
   ],
   "source": [
    "x.loc["
   ]
  },
  {
   "cell_type": "code",
   "execution_count": 48,
   "id": "96b243ef-d4da-4e9e-a0c3-957630abf21d",
   "metadata": {},
   "outputs": [],
   "source": [
    "y = x.head(2).copy()\n",
    "# x.loc[2, \"b\"] = \"ff\"\n",
    "# x.loc[5] = pd.Series({\"b\": \"t\"})"
   ]
  },
  {
   "cell_type": "markdown",
   "id": "7fa8abcb-1e3e-4684-b410-55ea6c815887",
   "metadata": {},
   "source": [
    "# yfinance"
   ]
  },
  {
   "cell_type": "code",
   "execution_count": 29,
   "id": "3c416a48-0ef3-45d9-a61c-9af080249446",
   "metadata": {},
   "outputs": [],
   "source": [
    "import yfinance as yf"
   ]
  },
  {
   "cell_type": "code",
   "execution_count": 2,
   "id": "be0eeb6b-88db-4659-9b1f-d63555c7bc7d",
   "metadata": {},
   "outputs": [],
   "source": [
    "sp500 = yf.Ticker(\"IVV\")"
   ]
  },
  {
   "cell_type": "code",
   "execution_count": 4,
   "id": "f57b0f53-114f-4218-89c6-c6807800a4a1",
   "metadata": {},
   "outputs": [
    {
     "data": {
      "text/plain": [
       "'America/New_York'"
      ]
     },
     "execution_count": 4,
     "metadata": {},
     "output_type": "execute_result"
    }
   ],
   "source": [
    "sp500.fast_info[\"timezone\"]"
   ]
  },
  {
   "cell_type": "code",
   "execution_count": 6,
   "id": "a3758560-1c6a-44fe-943b-3c7fe92efc3d",
   "metadata": {},
   "outputs": [
    {
     "data": {
      "text/plain": [
       "542.5931"
      ]
     },
     "execution_count": 6,
     "metadata": {},
     "output_type": "execute_result"
    }
   ],
   "source": [
    "sp500.info['navPrice']"
   ]
  },
  {
   "cell_type": "code",
   "execution_count": 9,
   "id": "86ade1e6-8e5a-4ed4-880d-81cb715955e9",
   "metadata": {},
   "outputs": [
    {
     "data": {
      "text/plain": [
       "958743000"
      ]
     },
     "execution_count": 9,
     "metadata": {},
     "output_type": "execute_result"
    }
   ],
   "source": [
    "sp500.info['firstTradeDateEpochUtc']"
   ]
  },
  {
   "cell_type": "code",
   "execution_count": 7,
   "id": "afb77e03-7cc5-4268-849f-5d40e49228d7",
   "metadata": {},
   "outputs": [
    {
     "data": {
      "text/plain": [
       "543.6699829101562"
      ]
     },
     "execution_count": 7,
     "metadata": {},
     "output_type": "execute_result"
    }
   ],
   "source": [
    "sp500.fast_info[\"lastPrice\"]"
   ]
  },
  {
   "cell_type": "code",
   "execution_count": 6,
   "id": "272f48e2-78dd-4a1a-8b65-a58d16ef9a74",
   "metadata": {},
   "outputs": [
    {
     "data": {
      "text/plain": [
       "'iShares Core S&P 500 ETF'"
      ]
     },
     "execution_count": 6,
     "metadata": {},
     "output_type": "execute_result"
    }
   ],
   "source": [
    "sp500.info[\"shortName\"]"
   ]
  },
  {
   "cell_type": "code",
   "execution_count": 10,
   "id": "198a7134-a858-4f14-89c7-c68f03471a9d",
   "metadata": {},
   "outputs": [
    {
     "data": {
      "text/plain": [
       "'17732e4a-0401-33ba-977d-a9848ab99a1e'"
      ]
     },
     "execution_count": 10,
     "metadata": {},
     "output_type": "execute_result"
    }
   ],
   "source": [
    "sp500.info[\"uuid\"]"
   ]
  },
  {
   "cell_type": "code",
   "execution_count": 11,
   "id": "c60929ab-0a38-4f28-b026-999eb464fa68",
   "metadata": {},
   "outputs": [
    {
     "data": {
      "text/plain": [
       "'PCX'"
      ]
     },
     "execution_count": 11,
     "metadata": {},
     "output_type": "execute_result"
    }
   ],
   "source": [
    "sp500.info[\"exchange\"]"
   ]
  },
  {
   "cell_type": "code",
   "execution_count": 12,
   "id": "476cd609-6fa0-4afa-a416-8df752c52644",
   "metadata": {},
   "outputs": [
    {
     "data": {
      "text/plain": [
       "489.94"
      ]
     },
     "execution_count": 12,
     "metadata": {},
     "output_type": "execute_result"
    }
   ],
   "source": [
    "sp500.info[\"open\"]"
   ]
  },
  {
   "cell_type": "code",
   "execution_count": 13,
   "id": "ce0e83a4-e44f-4d95-91fd-dd12c6b1ef0b",
   "metadata": {},
   "outputs": [
    {
     "data": {
      "text/plain": [
       "489.62"
      ]
     },
     "execution_count": 13,
     "metadata": {},
     "output_type": "execute_result"
    }
   ],
   "source": [
    "sp500.info[\"bid\"]"
   ]
  },
  {
   "cell_type": "code",
   "execution_count": 8,
   "id": "ec155a3c-2bb2-4171-852b-3e6cf5fc2f9c",
   "metadata": {},
   "outputs": [
    {
     "data": {
      "text/plain": [
       "542.53"
      ]
     },
     "execution_count": 8,
     "metadata": {},
     "output_type": "execute_result"
    }
   ],
   "source": [
    "sp500.info[\"previousClose\"]"
   ]
  },
  {
   "cell_type": "code",
   "execution_count": 17,
   "id": "2407cb42-e278-4b1f-b3f7-13dec925b8b0",
   "metadata": {},
   "outputs": [
    {
     "data": {
      "text/plain": [
       "6635596"
      ]
     },
     "execution_count": 17,
     "metadata": {},
     "output_type": "execute_result"
    }
   ],
   "source": [
    "sp500.info[\"volume\"]"
   ]
  },
  {
   "cell_type": "code",
   "execution_count": 10,
   "id": "0a88fbd7-2145-43d6-974a-d38e6492ee2f",
   "metadata": {},
   "outputs": [
    {
     "data": {
      "text/plain": [
       "['phone',\n",
       " 'longBusinessSummary',\n",
       " 'maxAge',\n",
       " 'priceHint',\n",
       " 'previousClose',\n",
       " 'open',\n",
       " 'dayLow',\n",
       " 'dayHigh',\n",
       " 'regularMarketPreviousClose',\n",
       " 'regularMarketOpen',\n",
       " 'regularMarketDayLow',\n",
       " 'regularMarketDayHigh',\n",
       " 'trailingPE',\n",
       " 'volume',\n",
       " 'regularMarketVolume',\n",
       " 'averageVolume',\n",
       " 'averageVolume10days',\n",
       " 'averageDailyVolume10Day',\n",
       " 'bidSize',\n",
       " 'askSize',\n",
       " 'yield',\n",
       " 'totalAssets',\n",
       " 'fiftyTwoWeekLow',\n",
       " 'fiftyTwoWeekHigh',\n",
       " 'fiftyDayAverage',\n",
       " 'twoHundredDayAverage',\n",
       " 'trailingAnnualDividendRate',\n",
       " 'trailingAnnualDividendYield',\n",
       " 'navPrice',\n",
       " 'currency',\n",
       " 'category',\n",
       " 'ytdReturn',\n",
       " 'beta3Year',\n",
       " 'fundFamily',\n",
       " 'fundInceptionDate',\n",
       " 'legalType',\n",
       " 'threeYearAverageReturn',\n",
       " 'fiveYearAverageReturn',\n",
       " 'exchange',\n",
       " 'quoteType',\n",
       " 'symbol',\n",
       " 'underlyingSymbol',\n",
       " 'shortName',\n",
       " 'longName',\n",
       " 'firstTradeDateEpochUtc',\n",
       " 'timeZoneFullName',\n",
       " 'timeZoneShortName',\n",
       " 'uuid',\n",
       " 'messageBoardId',\n",
       " 'gmtOffSetMilliseconds',\n",
       " 'trailingPegRatio']"
      ]
     },
     "execution_count": 10,
     "metadata": {},
     "output_type": "execute_result"
    }
   ],
   "source": [
    "list(sp500.info)"
   ]
  },
  {
   "cell_type": "code",
   "execution_count": 18,
   "id": "1e34e0a6-574b-4b58-9ff7-d365aeb9302e",
   "metadata": {},
   "outputs": [],
   "source": [
    "# get historical market data\n",
    "# hist = sp500.history(period=\"1mo\")\n",
    "hist = sp500.history(period=\"1day\")"
   ]
  },
  {
   "cell_type": "code",
   "execution_count": 24,
   "id": "b66f6a45-0150-4c2e-9810-0e1193368de9",
   "metadata": {},
   "outputs": [
    {
     "data": {
      "text/html": [
       "<div>\n",
       "<style scoped>\n",
       "    .dataframe tbody tr th:only-of-type {\n",
       "        vertical-align: middle;\n",
       "    }\n",
       "\n",
       "    .dataframe tbody tr th {\n",
       "        vertical-align: top;\n",
       "    }\n",
       "\n",
       "    .dataframe thead th {\n",
       "        text-align: right;\n",
       "    }\n",
       "</style>\n",
       "<table border=\"1\" class=\"dataframe\">\n",
       "  <thead>\n",
       "    <tr style=\"text-align: right;\">\n",
       "      <th></th>\n",
       "      <th>Open</th>\n",
       "      <th>High</th>\n",
       "      <th>Low</th>\n",
       "      <th>Close</th>\n",
       "      <th>Volume</th>\n",
       "      <th>Dividends</th>\n",
       "      <th>Stock Splits</th>\n",
       "      <th>Capital Gains</th>\n",
       "    </tr>\n",
       "    <tr>\n",
       "      <th>Date</th>\n",
       "      <th></th>\n",
       "      <th></th>\n",
       "      <th></th>\n",
       "      <th></th>\n",
       "      <th></th>\n",
       "      <th></th>\n",
       "      <th></th>\n",
       "      <th></th>\n",
       "    </tr>\n",
       "  </thead>\n",
       "  <tbody>\n",
       "    <tr>\n",
       "      <th>2024-01-25 00:00:00-05:00</th>\n",
       "      <td>489.940002</td>\n",
       "      <td>490.619995</td>\n",
       "      <td>487.839996</td>\n",
       "      <td>490.329987</td>\n",
       "      <td>6615725</td>\n",
       "      <td>0.0</td>\n",
       "      <td>0.0</td>\n",
       "      <td>0.0</td>\n",
       "    </tr>\n",
       "  </tbody>\n",
       "</table>\n",
       "</div>"
      ],
      "text/plain": [
       "                                 Open        High         Low       Close  \\\n",
       "Date                                                                        \n",
       "2024-01-25 00:00:00-05:00  489.940002  490.619995  487.839996  490.329987   \n",
       "\n",
       "                            Volume  Dividends  Stock Splits  Capital Gains  \n",
       "Date                                                                        \n",
       "2024-01-25 00:00:00-05:00  6615725        0.0           0.0            0.0  "
      ]
     },
     "execution_count": 24,
     "metadata": {},
     "output_type": "execute_result"
    }
   ],
   "source": [
    "hist"
   ]
  },
  {
   "cell_type": "code",
   "execution_count": 111,
   "id": "c0926bc7-9dd3-4c69-a05c-79f3fad75dfb",
   "metadata": {},
   "outputs": [],
   "source": [
    "# co = yf.Ticker(\"TTEK\")\n",
    "# co = yf.Ticker(\"C\")\n",
    "co = yf.Ticker(\"MSFT\")"
   ]
  },
  {
   "cell_type": "code",
   "execution_count": 112,
   "id": "a2876129-9544-41bc-958a-a75e10757325",
   "metadata": {},
   "outputs": [
    {
     "data": {
      "text/html": [
       "<div>\n",
       "<style scoped>\n",
       "    .dataframe tbody tr th:only-of-type {\n",
       "        vertical-align: middle;\n",
       "    }\n",
       "\n",
       "    .dataframe tbody tr th {\n",
       "        vertical-align: top;\n",
       "    }\n",
       "\n",
       "    .dataframe thead th {\n",
       "        text-align: right;\n",
       "    }\n",
       "</style>\n",
       "<table border=\"1\" class=\"dataframe\">\n",
       "  <thead>\n",
       "    <tr style=\"text-align: right;\">\n",
       "      <th></th>\n",
       "      <th>esgScores</th>\n",
       "    </tr>\n",
       "  </thead>\n",
       "  <tbody>\n",
       "    <tr>\n",
       "      <th>adult</th>\n",
       "      <td>False</td>\n",
       "    </tr>\n",
       "    <tr>\n",
       "      <th>alcoholic</th>\n",
       "      <td>False</td>\n",
       "    </tr>\n",
       "    <tr>\n",
       "      <th>animalTesting</th>\n",
       "      <td>False</td>\n",
       "    </tr>\n",
       "    <tr>\n",
       "      <th>catholic</th>\n",
       "      <td>False</td>\n",
       "    </tr>\n",
       "    <tr>\n",
       "      <th>coal</th>\n",
       "      <td>False</td>\n",
       "    </tr>\n",
       "    <tr>\n",
       "      <th>controversialWeapons</th>\n",
       "      <td>False</td>\n",
       "    </tr>\n",
       "    <tr>\n",
       "      <th>environmentPercentile</th>\n",
       "      <td>None</td>\n",
       "    </tr>\n",
       "    <tr>\n",
       "      <th>environmentScore</th>\n",
       "      <td>1.46</td>\n",
       "    </tr>\n",
       "    <tr>\n",
       "      <th>esgPerformance</th>\n",
       "      <td>UNDER_PERF</td>\n",
       "    </tr>\n",
       "    <tr>\n",
       "      <th>furLeather</th>\n",
       "      <td>False</td>\n",
       "    </tr>\n",
       "    <tr>\n",
       "      <th>gambling</th>\n",
       "      <td>False</td>\n",
       "    </tr>\n",
       "    <tr>\n",
       "      <th>gmo</th>\n",
       "      <td>False</td>\n",
       "    </tr>\n",
       "    <tr>\n",
       "      <th>governancePercentile</th>\n",
       "      <td>None</td>\n",
       "    </tr>\n",
       "    <tr>\n",
       "      <th>governanceScore</th>\n",
       "      <td>6.07</td>\n",
       "    </tr>\n",
       "    <tr>\n",
       "      <th>highestControversy</th>\n",
       "      <td>3.0</td>\n",
       "    </tr>\n",
       "    <tr>\n",
       "      <th>maxAge</th>\n",
       "      <td>86400</td>\n",
       "    </tr>\n",
       "    <tr>\n",
       "      <th>militaryContract</th>\n",
       "      <td>False</td>\n",
       "    </tr>\n",
       "    <tr>\n",
       "      <th>nuclear</th>\n",
       "      <td>False</td>\n",
       "    </tr>\n",
       "    <tr>\n",
       "      <th>palmOil</th>\n",
       "      <td>False</td>\n",
       "    </tr>\n",
       "    <tr>\n",
       "      <th>peerCount</th>\n",
       "      <td>105</td>\n",
       "    </tr>\n",
       "    <tr>\n",
       "      <th>peerEnvironmentPerformance</th>\n",
       "      <td>{'min': 0.07, 'avg': 2.5702912621359224, 'max'...</td>\n",
       "    </tr>\n",
       "    <tr>\n",
       "      <th>peerEsgScorePerformance</th>\n",
       "      <td>{'min': 9.84, 'avg': 18.17809523809525, 'max':...</td>\n",
       "    </tr>\n",
       "    <tr>\n",
       "      <th>peerGovernancePerformance</th>\n",
       "      <td>{'min': 3.47, 'avg': 6.753495145631067, 'max':...</td>\n",
       "    </tr>\n",
       "    <tr>\n",
       "      <th>peerGroup</th>\n",
       "      <td>Software &amp; Services</td>\n",
       "    </tr>\n",
       "    <tr>\n",
       "      <th>peerHighestControversyPerformance</th>\n",
       "      <td>{'min': 0.0, 'avg': 1.5333333333333334, 'max':...</td>\n",
       "    </tr>\n",
       "    <tr>\n",
       "      <th>peerSocialPerformance</th>\n",
       "      <td>{'min': 4.61, 'avg': 8.862038834951454, 'max':...</td>\n",
       "    </tr>\n",
       "    <tr>\n",
       "      <th>percentile</th>\n",
       "      <td>11.36</td>\n",
       "    </tr>\n",
       "    <tr>\n",
       "      <th>pesticides</th>\n",
       "      <td>False</td>\n",
       "    </tr>\n",
       "    <tr>\n",
       "      <th>ratingMonth</th>\n",
       "      <td>9</td>\n",
       "    </tr>\n",
       "    <tr>\n",
       "      <th>ratingYear</th>\n",
       "      <td>2023</td>\n",
       "    </tr>\n",
       "    <tr>\n",
       "      <th>relatedControversy</th>\n",
       "      <td>[Customer Incidents]</td>\n",
       "    </tr>\n",
       "    <tr>\n",
       "      <th>smallArms</th>\n",
       "      <td>False</td>\n",
       "    </tr>\n",
       "    <tr>\n",
       "      <th>socialPercentile</th>\n",
       "      <td>None</td>\n",
       "    </tr>\n",
       "    <tr>\n",
       "      <th>socialScore</th>\n",
       "      <td>7.53</td>\n",
       "    </tr>\n",
       "    <tr>\n",
       "      <th>tobacco</th>\n",
       "      <td>False</td>\n",
       "    </tr>\n",
       "    <tr>\n",
       "      <th>totalEsg</th>\n",
       "      <td>15.06</td>\n",
       "    </tr>\n",
       "  </tbody>\n",
       "</table>\n",
       "</div>"
      ],
      "text/plain": [
       "                                                                           esgScores\n",
       "adult                                                                          False\n",
       "alcoholic                                                                      False\n",
       "animalTesting                                                                  False\n",
       "catholic                                                                       False\n",
       "coal                                                                           False\n",
       "controversialWeapons                                                           False\n",
       "environmentPercentile                                                           None\n",
       "environmentScore                                                                1.46\n",
       "esgPerformance                                                            UNDER_PERF\n",
       "furLeather                                                                     False\n",
       "gambling                                                                       False\n",
       "gmo                                                                            False\n",
       "governancePercentile                                                            None\n",
       "governanceScore                                                                 6.07\n",
       "highestControversy                                                               3.0\n",
       "maxAge                                                                         86400\n",
       "militaryContract                                                               False\n",
       "nuclear                                                                        False\n",
       "palmOil                                                                        False\n",
       "peerCount                                                                        105\n",
       "peerEnvironmentPerformance         {'min': 0.07, 'avg': 2.5702912621359224, 'max'...\n",
       "peerEsgScorePerformance            {'min': 9.84, 'avg': 18.17809523809525, 'max':...\n",
       "peerGovernancePerformance          {'min': 3.47, 'avg': 6.753495145631067, 'max':...\n",
       "peerGroup                                                        Software & Services\n",
       "peerHighestControversyPerformance  {'min': 0.0, 'avg': 1.5333333333333334, 'max':...\n",
       "peerSocialPerformance              {'min': 4.61, 'avg': 8.862038834951454, 'max':...\n",
       "percentile                                                                     11.36\n",
       "pesticides                                                                     False\n",
       "ratingMonth                                                                        9\n",
       "ratingYear                                                                      2023\n",
       "relatedControversy                                              [Customer Incidents]\n",
       "smallArms                                                                      False\n",
       "socialPercentile                                                                None\n",
       "socialScore                                                                     7.53\n",
       "tobacco                                                                        False\n",
       "totalEsg                                                                       15.06"
      ]
     },
     "execution_count": 112,
     "metadata": {},
     "output_type": "execute_result"
    }
   ],
   "source": [
    "# doesn't exist for TTEK\n",
    "co.sustainability"
   ]
  },
  {
   "cell_type": "code",
   "execution_count": 44,
   "id": "ffed1a0d-71fb-4858-86b0-09018c600369",
   "metadata": {},
   "outputs": [
    {
     "data": {
      "text/html": [
       "<div>\n",
       "<style scoped>\n",
       "    .dataframe tbody tr th:only-of-type {\n",
       "        vertical-align: middle;\n",
       "    }\n",
       "\n",
       "    .dataframe tbody tr th {\n",
       "        vertical-align: top;\n",
       "    }\n",
       "\n",
       "    .dataframe thead th {\n",
       "        text-align: right;\n",
       "    }\n",
       "</style>\n",
       "<table border=\"1\" class=\"dataframe\">\n",
       "  <thead>\n",
       "    <tr style=\"text-align: right;\">\n",
       "      <th></th>\n",
       "      <th>Date Reported</th>\n",
       "      <th>Holder</th>\n",
       "      <th>pctHeld</th>\n",
       "      <th>Shares</th>\n",
       "      <th>Value</th>\n",
       "    </tr>\n",
       "  </thead>\n",
       "  <tbody>\n",
       "    <tr>\n",
       "      <th>0</th>\n",
       "      <td>2023-06-30</td>\n",
       "      <td>Vanguard Group Inc</td>\n",
       "      <td>0.0863</td>\n",
       "      <td>339103490</td>\n",
       "      <td>5130635803</td>\n",
       "    </tr>\n",
       "    <tr>\n",
       "      <th>1</th>\n",
       "      <td>2023-06-30</td>\n",
       "      <td>Blackrock Inc.</td>\n",
       "      <td>0.0710</td>\n",
       "      <td>279184561</td>\n",
       "      <td>4224062407</td>\n",
       "    </tr>\n",
       "    <tr>\n",
       "      <th>2</th>\n",
       "      <td>2023-06-30</td>\n",
       "      <td>State Street Corporation</td>\n",
       "      <td>0.0430</td>\n",
       "      <td>168856962</td>\n",
       "      <td>2554805835</td>\n",
       "    </tr>\n",
       "    <tr>\n",
       "      <th>3</th>\n",
       "      <td>2023-06-30</td>\n",
       "      <td>Newport Trust Company, LLC</td>\n",
       "      <td>0.0387</td>\n",
       "      <td>152155847</td>\n",
       "      <td>2302117965</td>\n",
       "    </tr>\n",
       "    <tr>\n",
       "      <th>4</th>\n",
       "      <td>2023-06-30</td>\n",
       "      <td>Charles Schwab Investment Management, Inc.</td>\n",
       "      <td>0.0216</td>\n",
       "      <td>84734138</td>\n",
       "      <td>1282027507</td>\n",
       "    </tr>\n",
       "    <tr>\n",
       "      <th>5</th>\n",
       "      <td>2023-06-30</td>\n",
       "      <td>Geode Capital Management, LLC</td>\n",
       "      <td>0.0184</td>\n",
       "      <td>72311048</td>\n",
       "      <td>1094066156</td>\n",
       "    </tr>\n",
       "    <tr>\n",
       "      <th>6</th>\n",
       "      <td>2023-06-30</td>\n",
       "      <td>Fisher Asset Management, LLC</td>\n",
       "      <td>0.0154</td>\n",
       "      <td>60733261</td>\n",
       "      <td>918894238</td>\n",
       "    </tr>\n",
       "    <tr>\n",
       "      <th>7</th>\n",
       "      <td>2023-06-30</td>\n",
       "      <td>Morgan Stanley</td>\n",
       "      <td>0.0123</td>\n",
       "      <td>48518047</td>\n",
       "      <td>734078051</td>\n",
       "    </tr>\n",
       "    <tr>\n",
       "      <th>8</th>\n",
       "      <td>2023-06-30</td>\n",
       "      <td>Northern Trust Corporation</td>\n",
       "      <td>0.0093</td>\n",
       "      <td>36716417</td>\n",
       "      <td>555519389</td>\n",
       "    </tr>\n",
       "    <tr>\n",
       "      <th>9</th>\n",
       "      <td>2022-12-31</td>\n",
       "      <td>Norges Bank Investment Management</td>\n",
       "      <td>0.0092</td>\n",
       "      <td>36047929</td>\n",
       "      <td>419237414</td>\n",
       "    </tr>\n",
       "  </tbody>\n",
       "</table>\n",
       "</div>"
      ],
      "text/plain": [
       "  Date Reported                                      Holder  pctHeld  \\\n",
       "0    2023-06-30                          Vanguard Group Inc   0.0863   \n",
       "1    2023-06-30                              Blackrock Inc.   0.0710   \n",
       "2    2023-06-30                    State Street Corporation   0.0430   \n",
       "3    2023-06-30                  Newport Trust Company, LLC   0.0387   \n",
       "4    2023-06-30  Charles Schwab Investment Management, Inc.   0.0216   \n",
       "5    2023-06-30               Geode Capital Management, LLC   0.0184   \n",
       "6    2023-06-30                Fisher Asset Management, LLC   0.0154   \n",
       "7    2023-06-30                              Morgan Stanley   0.0123   \n",
       "8    2023-06-30                  Northern Trust Corporation   0.0093   \n",
       "9    2022-12-31           Norges Bank Investment Management   0.0092   \n",
       "\n",
       "      Shares       Value  \n",
       "0  339103490  5130635803  \n",
       "1  279184561  4224062407  \n",
       "2  168856962  2554805835  \n",
       "3  152155847  2302117965  \n",
       "4   84734138  1282027507  \n",
       "5   72311048  1094066156  \n",
       "6   60733261   918894238  \n",
       "7   48518047   734078051  \n",
       "8   36716417   555519389  \n",
       "9   36047929   419237414  "
      ]
     },
     "execution_count": 44,
     "metadata": {},
     "output_type": "execute_result"
    }
   ],
   "source": [
    "co.institutional_holders\n",
    "# co.earnings_estimate"
   ]
  },
  {
   "cell_type": "code",
   "execution_count": 7,
   "id": "f1bd88a3-506f-4247-8acc-4d8b6b63c11d",
   "metadata": {},
   "outputs": [],
   "source": [
    "revenue = 4522550"
   ]
  },
  {
   "cell_type": "code",
   "execution_count": 103,
   "id": "0cc4c42c-a5a1-45e8-b20b-138538c31600",
   "metadata": {},
   "outputs": [],
   "source": [
    "years = co.income_stmt.loc[\"Total Revenue\"].to_frame().apply(lambda r: r.name.year, axis=1)"
   ]
  },
  {
   "cell_type": "code",
   "execution_count": 62,
   "id": "439c98fe-04e1-4b32-915f-f44a4a1a1c31",
   "metadata": {},
   "outputs": [],
   "source": [
    "nx = yf.Ticker(\"2z\")"
   ]
  },
  {
   "cell_type": "code",
   "execution_count": 72,
   "id": "fb60c06c-a740-4521-8a03-1d1c784cd9c6",
   "metadata": {},
   "outputs": [],
   "source": [
    "nx.info.get(\"shortName\")"
   ]
  },
  {
   "cell_type": "code",
   "execution_count": 108,
   "id": "951e32d5-224a-4831-bd36-6fa19f293731",
   "metadata": {},
   "outputs": [
    {
     "data": {
      "text/plain": [
       "'Citigroup, Inc.'"
      ]
     },
     "execution_count": 108,
     "metadata": {},
     "output_type": "execute_result"
    }
   ],
   "source": [
    "co.info[\"shortName\"]"
   ]
  },
  {
   "cell_type": "code",
   "execution_count": 104,
   "id": "45551589-d9b4-44b7-96e6-a1716f827a4a",
   "metadata": {},
   "outputs": [],
   "source": [
    "revs = co.income_stmt.loc[\"Total Revenue\"]"
   ]
  },
  {
   "cell_type": "code",
   "execution_count": 105,
   "id": "59d5dc17-cfaf-4041-b87a-986d5c007071",
   "metadata": {},
   "outputs": [
    {
     "data": {
      "text/plain": [
       "2023-12-31    1450871000.0\n",
       "2022-12-31    1261868000.0\n",
       "2021-12-31    1258846000.0\n",
       "2020-12-31    1124391000.0\n",
       "Name: Total Revenue, dtype: object"
      ]
     },
     "execution_count": 105,
     "metadata": {},
     "output_type": "execute_result"
    }
   ],
   "source": [
    "revs"
   ]
  },
  {
   "cell_type": "code",
   "execution_count": 11,
   "id": "9fc77b94-c5b2-43a7-90df-60bbca3f722f",
   "metadata": {},
   "outputs": [
    {
     "data": {
      "text/plain": [
       "True"
      ]
     },
     "execution_count": 11,
     "metadata": {},
     "output_type": "execute_result"
    }
   ],
   "source": [
    "co.income_stmt.loc[\"Total Revenue\", '2023-09-30'] == revenue*1000"
   ]
  },
  {
   "cell_type": "code",
   "execution_count": 12,
   "id": "365f89da-73e8-4eb4-96e5-abde7e26f759",
   "metadata": {},
   "outputs": [],
   "source": [
    "co = yf.Ticker(\"600383\")"
   ]
  },
  {
   "cell_type": "code",
   "execution_count": 15,
   "id": "9a119cdd-0eb5-488d-a09c-3f1e5548e789",
   "metadata": {},
   "outputs": [
    {
     "name": "stderr",
     "output_type": "stream",
     "text": [
      "404 Client Error: Not Found for url: https://query2.finance.yahoo.com/v10/finance/quoteSummary/600383?modules=financialData%2CquoteType%2CdefaultKeyStatistics%2CassetProfile%2CsummaryDetail&corsDomain=finance.yahoo.com&formatted=false&symbol=600383&crumb=M4Dp01e0VzE\n"
     ]
    },
    {
     "data": {
      "text/plain": [
       "{'trailingPegRatio': None}"
      ]
     },
     "execution_count": 15,
     "metadata": {},
     "output_type": "execute_result"
    }
   ],
   "source": [
    "co.info"
   ]
  },
  {
   "cell_type": "code",
   "execution_count": null,
   "id": "c649b285-e8e7-495a-8bc0-5363733d7dcd",
   "metadata": {},
   "outputs": [],
   "source": []
  }
 ],
 "metadata": {
  "kernelspec": {
   "display_name": "Python 3 (ipykernel)",
   "language": "python",
   "name": "python3"
  },
  "language_info": {
   "codemirror_mode": {
    "name": "ipython",
    "version": 3
   },
   "file_extension": ".py",
   "mimetype": "text/x-python",
   "name": "python",
   "nbconvert_exporter": "python",
   "pygments_lexer": "ipython3",
   "version": "3.11.6"
  }
 },
 "nbformat": 4,
 "nbformat_minor": 5
}
