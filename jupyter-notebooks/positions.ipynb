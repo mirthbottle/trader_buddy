{
 "cells": [
  {
   "cell_type": "code",
   "execution_count": 1,
   "id": "fb8cd74b-347b-429c-a030-9bb7cfd8bee3",
   "metadata": {
    "tags": []
   },
   "outputs": [],
   "source": [
    "%load_ext autoreload\n",
    "%autoreload 2\n",
    "\n",
    "%load_ext dotenv\n",
    "%dotenv"
   ]
  },
  {
   "cell_type": "code",
   "execution_count": 2,
   "id": "a56e4805-b0ac-447e-a1cc-0cdea72d983e",
   "metadata": {},
   "outputs": [
    {
     "name": "stdout",
     "output_type": "stream",
     "text": [
      "/workspaces/src/trader_buddy/jupyter-notebooks\n"
     ]
    }
   ],
   "source": [
    "from pathlib import Path\n",
    "\n",
    "print(Path.cwd())  # /home/skovorodkin/stack"
   ]
  },
  {
   "cell_type": "code",
   "execution_count": 2,
   "id": "ecaf0290-c193-4765-ac79-dab828d825a3",
   "metadata": {},
   "outputs": [],
   "source": [
    "import pandas as pd\n",
    "from datetime import datetime"
   ]
  },
  {
   "cell_type": "code",
   "execution_count": 3,
   "id": "1c418ac2-c807-433a-8ca6-210c6eef3e3a",
   "metadata": {},
   "outputs": [],
   "source": [
    "from google.cloud import bigquery\n",
    "client = bigquery.Client()"
   ]
  },
  {
   "cell_type": "code",
   "execution_count": 5,
   "id": "bb9fa056-b9de-466d-8da6-c277748f141b",
   "metadata": {},
   "outputs": [],
   "source": [
    "import os\n",
    "import sys\n",
    "sys.path.append(\"../projects/gain_tracker\")\n",
    "from gain_tracker.position import ClosedPosition"
   ]
  },
  {
   "cell_type": "code",
   "execution_count": 6,
   "id": "561aec15-28b2-48eb-a8e7-9f7746e7fefc",
   "metadata": {},
   "outputs": [],
   "source": [
    "query_job = client.query(\"SELECT * FROM `main-street-labs.gain_tracker.closed_positions`\")\n",
    "closed_positions = query_job.result().to_dataframe()"
   ]
  },
  {
   "cell_type": "code",
   "execution_count": 126,
   "id": "4db31329-493c-4724-9cc9-51befdb47720",
   "metadata": {},
   "outputs": [
    {
     "data": {
      "text/plain": [
       "56"
      ]
     },
     "execution_count": 126,
     "metadata": {},
     "output_type": "execute_result"
    }
   ],
   "source": [
    "len(closed_positions)"
   ]
  },
  {
   "cell_type": "code",
   "execution_count": 7,
   "id": "3f7fa532-eecb-498d-872f-5d76ea67e57d",
   "metadata": {},
   "outputs": [],
   "source": [
    "closed_positions.drop_duplicates(subset=[\"POSITION_LOT_ID\", \"QUANTITY\", \"DATE_CLOSED\"], inplace=True)"
   ]
  },
  {
   "cell_type": "code",
   "execution_count": 8,
   "id": "5dbba39b-d50b-4c38-9e93-03f80c7693b9",
   "metadata": {},
   "outputs": [
    {
     "data": {
      "text/plain": [
       "SYMBOL_DESCRIPTION                 object\n",
       "QUANTITY                          float64\n",
       "DATE_ACQUIRED                      dbdate\n",
       "PRICE_PAID                        float64\n",
       "ACCOUNT_ID_KEY                     object\n",
       "POSITION_ID                         Int64\n",
       "POSITION_LOT_ID                     Int64\n",
       "ORIGINAL_QTY                      float64\n",
       "TIMESTAMP             datetime64[us, UTC]\n",
       "DATE_CLOSED                        dbdate\n",
       "TRANSACTION_FEE                   float64\n",
       "TRANSACTION_ID                      Int64\n",
       "MARKET_VALUE                      float64\n",
       "dtype: object"
      ]
     },
     "execution_count": 8,
     "metadata": {},
     "output_type": "execute_result"
    }
   ],
   "source": [
    "closed_positions.dtypes"
   ]
  },
  {
   "cell_type": "code",
   "execution_count": 26,
   "id": "5c37f383-d9f7-4ef3-b993-39f4f7aca582",
   "metadata": {},
   "outputs": [
    {
     "data": {
      "text/plain": [
       "SYMBOL_DESCRIPTION                  object\n",
       "QUANTITY                           float64\n",
       "DATE_ACQUIRED                       dbdate\n",
       "PRICE_PAID                         float64\n",
       "ACCOUNT_ID_KEY                      object\n",
       "POSITION_ID                          Int64\n",
       "POSITION_LOT_ID                      Int64\n",
       "ORIGINAL_QTY                       float64\n",
       "TIMESTAMP              datetime64[us, UTC]\n",
       "DATE_CLOSED                         dbdate\n",
       "TRANSACTION_FEE                    float64\n",
       "TRANSACTION_ID                       Int64\n",
       "MARKET_VALUE                       float64\n",
       "percent_price_gain                  object\n",
       "gain                                object\n",
       "percent_gain                        object\n",
       "annualized_pct_gain                 object\n",
       "days_held                          float64\n",
       "dtype: object"
      ]
     },
     "execution_count": 26,
     "metadata": {},
     "output_type": "execute_result"
    }
   ],
   "source": [
    "closed_gains_df.dtypes"
   ]
  },
  {
   "cell_type": "code",
   "execution_count": 35,
   "id": "4ebd5521-d911-4016-8307-c4d3387feb25",
   "metadata": {},
   "outputs": [],
   "source": [
    "positions = closed_positions.apply(\n",
    "    lambda r: ClosedPosition(\n",
    "        r[\"POSITION_LOT_ID\"],\n",
    "        r[\"ACCOUNT_ID_KEY\"],\n",
    "        r[\"SYMBOL_DESCRIPTION\"],\n",
    "        r[\"PRICE_PAID\"],\n",
    "        r[\"DATE_ACQUIRED\"],\n",
    "        r[\"QUANTITY\"],\n",
    "        r[\"ORIGINAL_QTY\"],\n",
    "        r[\"MARKET_VALUE\"],\n",
    "        transaction_id = r[\"TRANSACTION_ID\"],\n",
    "        transaction_fee = r[\"TRANSACTION_FEE\"],\n",
    "        date_closed=r[\"DATE_CLOSED\"]), axis=1)"
   ]
  },
  {
   "cell_type": "code",
   "execution_count": 154,
   "id": "44a76873-da81-4440-89f7-494d35d730e4",
   "metadata": {},
   "outputs": [],
   "source": [
    "one_p = positions.values[0]"
   ]
  },
  {
   "cell_type": "code",
   "execution_count": 155,
   "id": "4fa7a060-d334-4a4c-9c6c-ce6568f348b1",
   "metadata": {},
   "outputs": [
    {
     "data": {
      "text/plain": [
       "18.99833333333333"
      ]
     },
     "execution_count": 155,
     "metadata": {},
     "output_type": "execute_result"
    }
   ],
   "source": [
    "one_p.market_price()"
   ]
  },
  {
   "cell_type": "code",
   "execution_count": null,
   "id": "a203ec1d-83e9-4031-97b6-eb199571fb0a",
   "metadata": {},
   "outputs": [],
   "source": [
    "gmetrics = positions.apply(lambda p: p.compute_gains())\n",
    "\n",
    "gm_df = pd.DataFrame(gmetrics.values.tolist())\n",
    "\n",
    "closed_gains_df = pd.concat([closed_positions.reset_index(drop=True),gm_df],axis=1)"
   ]
  },
  {
   "cell_type": "code",
   "execution_count": 37,
   "id": "daa796de-4f10-4704-88ab-9586c790cc54",
   "metadata": {},
   "outputs": [
    {
     "data": {
      "text/html": [
       "<div>\n",
       "<style scoped>\n",
       "    .dataframe tbody tr th:only-of-type {\n",
       "        vertical-align: middle;\n",
       "    }\n",
       "\n",
       "    .dataframe tbody tr th {\n",
       "        vertical-align: top;\n",
       "    }\n",
       "\n",
       "    .dataframe thead th {\n",
       "        text-align: right;\n",
       "    }\n",
       "</style>\n",
       "<table border=\"1\" class=\"dataframe\">\n",
       "  <thead>\n",
       "    <tr style=\"text-align: right;\">\n",
       "      <th></th>\n",
       "      <th>SYMBOL_DESCRIPTION</th>\n",
       "      <th>QUANTITY</th>\n",
       "      <th>DATE_ACQUIRED</th>\n",
       "      <th>PRICE_PAID</th>\n",
       "      <th>ACCOUNT_ID_KEY</th>\n",
       "      <th>POSITION_ID</th>\n",
       "      <th>POSITION_LOT_ID</th>\n",
       "      <th>ORIGINAL_QTY</th>\n",
       "      <th>TIMESTAMP</th>\n",
       "      <th>DATE_CLOSED</th>\n",
       "      <th>TRANSACTION_FEE</th>\n",
       "      <th>TRANSACTION_ID</th>\n",
       "      <th>MARKET_VALUE</th>\n",
       "      <th>percent_price_gain</th>\n",
       "      <th>gain</th>\n",
       "      <th>percent_gain</th>\n",
       "      <th>annualized_pct_gain</th>\n",
       "      <th>days_held</th>\n",
       "    </tr>\n",
       "  </thead>\n",
       "  <tbody>\n",
       "    <tr>\n",
       "      <th>49</th>\n",
       "      <td>DQ</td>\n",
       "      <td>10.0</td>\n",
       "      <td>2024-08-29</td>\n",
       "      <td>14.50</td>\n",
       "      <td>SXPtmpM7IZIpymUjhjI-zg</td>\n",
       "      <td>372865585900</td>\n",
       "      <td>2699858515103</td>\n",
       "      <td>10.0</td>\n",
       "      <td>2024-09-13 00:00:00+00:00</td>\n",
       "      <td>2024-09-13</td>\n",
       "      <td>0.0</td>\n",
       "      <td>24257201074125</td>\n",
       "      <td>161.39</td>\n",
       "      <td>0.11303448276</td>\n",
       "      <td>16.3900000002</td>\n",
       "      <td>0.11303448276</td>\n",
       "      <td>12.5428396917</td>\n",
       "      <td>15</td>\n",
       "    </tr>\n",
       "    <tr>\n",
       "      <th>50</th>\n",
       "      <td>NIO</td>\n",
       "      <td>30.0</td>\n",
       "      <td>2024-06-10</td>\n",
       "      <td>4.80</td>\n",
       "      <td>SXPtmpM7IZIpymUjhjI-zg</td>\n",
       "      <td>356289802900</td>\n",
       "      <td>2557349775103</td>\n",
       "      <td>30.0</td>\n",
       "      <td>2024-09-13 00:00:00+00:00</td>\n",
       "      <td>2024-09-13</td>\n",
       "      <td>0.0</td>\n",
       "      <td>24257200235909</td>\n",
       "      <td>158.99</td>\n",
       "      <td>0.10409722222</td>\n",
       "      <td>14.9899999997</td>\n",
       "      <td>0.104097222220</td>\n",
       "      <td>0.46298084520</td>\n",
       "      <td>95</td>\n",
       "    </tr>\n",
       "    <tr>\n",
       "      <th>51</th>\n",
       "      <td>HUBS</td>\n",
       "      <td>2.0</td>\n",
       "      <td>2024-08-20</td>\n",
       "      <td>490.00</td>\n",
       "      <td>SXPtmpM7IZIpymUjhjI-zg</td>\n",
       "      <td>396827605900</td>\n",
       "      <td>2685514461103</td>\n",
       "      <td>2.0</td>\n",
       "      <td>2024-09-13 00:00:00+00:00</td>\n",
       "      <td>2024-09-13</td>\n",
       "      <td>0.0</td>\n",
       "      <td>24257200325971</td>\n",
       "      <td>999.97</td>\n",
       "      <td>0.02037755102</td>\n",
       "      <td>19.9699999996</td>\n",
       "      <td>0.02037755102</td>\n",
       "      <td>0.35905995374</td>\n",
       "      <td>24</td>\n",
       "    </tr>\n",
       "    <tr>\n",
       "      <th>52</th>\n",
       "      <td>CRWD</td>\n",
       "      <td>1.0</td>\n",
       "      <td>2024-07-26</td>\n",
       "      <td>255.00</td>\n",
       "      <td>E2ayfoKSzH1fFZs-7xV48A</td>\n",
       "      <td>391087961900</td>\n",
       "      <td>2632002334103</td>\n",
       "      <td>1.0</td>\n",
       "      <td>2024-09-16 00:00:00+00:00</td>\n",
       "      <td>2024-09-16</td>\n",
       "      <td>0.0</td>\n",
       "      <td>24260201502940</td>\n",
       "      <td>269.99</td>\n",
       "      <td>0.05878431373</td>\n",
       "      <td>14.9900000012</td>\n",
       "      <td>0.0587843137302</td>\n",
       "      <td>0.49323979848</td>\n",
       "      <td>52</td>\n",
       "    </tr>\n",
       "    <tr>\n",
       "      <th>53</th>\n",
       "      <td>IEFA</td>\n",
       "      <td>20.0</td>\n",
       "      <td>2016-06-01</td>\n",
       "      <td>54.11</td>\n",
       "      <td>lP_HmzzVyiLFftb7DXaEUw</td>\n",
       "      <td>26413605005</td>\n",
       "      <td>20702960006</td>\n",
       "      <td>20.0</td>\n",
       "      <td>2024-09-16 00:00:00+00:00</td>\n",
       "      <td>2024-09-16</td>\n",
       "      <td>0.0</td>\n",
       "      <td>24260201374097</td>\n",
       "      <td>1527.95</td>\n",
       "      <td>0.41189244132</td>\n",
       "      <td>445.749999997</td>\n",
       "      <td>0.411892441320</td>\n",
       "      <td>0.04244071730</td>\n",
       "      <td>3029</td>\n",
       "    </tr>\n",
       "  </tbody>\n",
       "</table>\n",
       "</div>"
      ],
      "text/plain": [
       "   SYMBOL_DESCRIPTION  QUANTITY DATE_ACQUIRED  PRICE_PAID  \\\n",
       "49                 DQ      10.0    2024-08-29       14.50   \n",
       "50                NIO      30.0    2024-06-10        4.80   \n",
       "51               HUBS       2.0    2024-08-20      490.00   \n",
       "52               CRWD       1.0    2024-07-26      255.00   \n",
       "53               IEFA      20.0    2016-06-01       54.11   \n",
       "\n",
       "            ACCOUNT_ID_KEY   POSITION_ID  POSITION_LOT_ID  ORIGINAL_QTY  \\\n",
       "49  SXPtmpM7IZIpymUjhjI-zg  372865585900    2699858515103          10.0   \n",
       "50  SXPtmpM7IZIpymUjhjI-zg  356289802900    2557349775103          30.0   \n",
       "51  SXPtmpM7IZIpymUjhjI-zg  396827605900    2685514461103           2.0   \n",
       "52  E2ayfoKSzH1fFZs-7xV48A  391087961900    2632002334103           1.0   \n",
       "53  lP_HmzzVyiLFftb7DXaEUw   26413605005      20702960006          20.0   \n",
       "\n",
       "                   TIMESTAMP DATE_CLOSED  TRANSACTION_FEE  TRANSACTION_ID  \\\n",
       "49 2024-09-13 00:00:00+00:00  2024-09-13              0.0  24257201074125   \n",
       "50 2024-09-13 00:00:00+00:00  2024-09-13              0.0  24257200235909   \n",
       "51 2024-09-13 00:00:00+00:00  2024-09-13              0.0  24257200325971   \n",
       "52 2024-09-16 00:00:00+00:00  2024-09-16              0.0  24260201502940   \n",
       "53 2024-09-16 00:00:00+00:00  2024-09-16              0.0  24260201374097   \n",
       "\n",
       "    MARKET_VALUE percent_price_gain           gain     percent_gain  \\\n",
       "49        161.39      0.11303448276  16.3900000002    0.11303448276   \n",
       "50        158.99      0.10409722222  14.9899999997   0.104097222220   \n",
       "51        999.97      0.02037755102  19.9699999996    0.02037755102   \n",
       "52        269.99      0.05878431373  14.9900000012  0.0587843137302   \n",
       "53       1527.95      0.41189244132  445.749999997   0.411892441320   \n",
       "\n",
       "   annualized_pct_gain  days_held  \n",
       "49       12.5428396917         15  \n",
       "50       0.46298084520         95  \n",
       "51       0.35905995374         24  \n",
       "52       0.49323979848         52  \n",
       "53       0.04244071730       3029  "
      ]
     },
     "execution_count": 37,
     "metadata": {},
     "output_type": "execute_result"
    }
   ],
   "source": [
    "closed_gains_df.tail()"
   ]
  },
  {
   "cell_type": "code",
   "execution_count": 38,
   "id": "22e24805-39dd-4e61-a0c7-665d3c6d0cba",
   "metadata": {},
   "outputs": [],
   "source": [
    "job = client.load_table_from_dataframe(\n",
    "    closed_gains_df.set_index('POSITION_LOT_ID'), \"main-street-labs.gain_tracker.closed_positions\"\n",
    ")"
   ]
  },
  {
   "cell_type": "markdown",
   "id": "cd9915e8-cec5-4a8d-9a39-996d74310bf7",
   "metadata": {},
   "source": [
    "# set datatypes"
   ]
  },
  {
   "cell_type": "code",
   "execution_count": 144,
   "id": "16e9cd47-4bd7-4300-8c80-7fa8472f84ba",
   "metadata": {},
   "outputs": [],
   "source": [
    "empty_ts = pd.DataFrame(\n",
    "    {'account_id': pd.Series(dtype='str'),\n",
    "    'transaction_type': pd.Series(dtype='str'),\n",
    "    'transaction_date': pd.Series(dtype='datetime64[ns]')})"
   ]
  },
  {
   "cell_type": "code",
   "execution_count": 10,
   "id": "81de1839-ca2d-4ff3-9899-2163c936de43",
   "metadata": {},
   "outputs": [
    {
     "data": {
      "text/plain": [
       "account_id                  object\n",
       "transaction_type            object\n",
       "transaction_date    datetime64[ns]\n",
       "dtype: object"
      ]
     },
     "execution_count": 10,
     "metadata": {},
     "output_type": "execute_result"
    }
   ],
   "source": [
    "empty_ts.dtypes"
   ]
  },
  {
   "cell_type": "markdown",
   "id": "c1f254e7-e4c8-4863-a2e3-98823ead7550",
   "metadata": {},
   "source": [
    "# dataframe manip"
   ]
  },
  {
   "cell_type": "code",
   "execution_count": 23,
   "id": "ef9cdd71-0226-4987-a88d-01b81ed6b60d",
   "metadata": {},
   "outputs": [],
   "source": [
    "x = pd.DataFrame(data={\"a\": [1,2, 3], \"b\": [\"f\", \"g\", None], \"c\": [5,66,1]}).set_index(\"a\")"
   ]
  },
  {
   "cell_type": "code",
   "execution_count": 46,
   "id": "4913f7a3-bd7c-42d3-b401-6b32cda103a1",
   "metadata": {},
   "outputs": [
    {
     "data": {
      "text/plain": [
       "a\n",
       "1     True\n",
       "2     True\n",
       "3    False\n",
       "dtype: bool"
      ]
     },
     "execution_count": 46,
     "metadata": {},
     "output_type": "execute_result"
    }
   ],
   "source": [
    "(~x.isna()).all(axis=1)"
   ]
  },
  {
   "cell_type": "code",
   "execution_count": 47,
   "id": "4bd937d1-41ad-4993-9805-e43963546ddf",
   "metadata": {},
   "outputs": [
    {
     "data": {
      "text/html": [
       "<div>\n",
       "<style scoped>\n",
       "    .dataframe tbody tr th:only-of-type {\n",
       "        vertical-align: middle;\n",
       "    }\n",
       "\n",
       "    .dataframe tbody tr th {\n",
       "        vertical-align: top;\n",
       "    }\n",
       "\n",
       "    .dataframe thead th {\n",
       "        text-align: right;\n",
       "    }\n",
       "</style>\n",
       "<table border=\"1\" class=\"dataframe\">\n",
       "  <thead>\n",
       "    <tr style=\"text-align: right;\">\n",
       "      <th></th>\n",
       "      <th>b</th>\n",
       "      <th>c</th>\n",
       "    </tr>\n",
       "    <tr>\n",
       "      <th>a</th>\n",
       "      <th></th>\n",
       "      <th></th>\n",
       "    </tr>\n",
       "  </thead>\n",
       "  <tbody>\n",
       "    <tr>\n",
       "      <th>1</th>\n",
       "      <td>f</td>\n",
       "      <td>5</td>\n",
       "    </tr>\n",
       "    <tr>\n",
       "      <th>2</th>\n",
       "      <td>g</td>\n",
       "      <td>66</td>\n",
       "    </tr>\n",
       "    <tr>\n",
       "      <th>3</th>\n",
       "      <td>None</td>\n",
       "      <td>1</td>\n",
       "    </tr>\n",
       "  </tbody>\n",
       "</table>\n",
       "</div>"
      ],
      "text/plain": [
       "      b   c\n",
       "a          \n",
       "1     f   5\n",
       "2     g  66\n",
       "3  None   1"
      ]
     },
     "execution_count": 47,
     "metadata": {},
     "output_type": "execute_result"
    }
   ],
   "source": [
    "x.loc["
   ]
  },
  {
   "cell_type": "code",
   "execution_count": 48,
   "id": "96b243ef-d4da-4e9e-a0c3-957630abf21d",
   "metadata": {},
   "outputs": [],
   "source": [
    "y = x.head(2).copy()\n",
    "# x.loc[2, \"b\"] = \"ff\"\n",
    "# x.loc[5] = pd.Series({\"b\": \"t\"})"
   ]
  },
  {
   "cell_type": "markdown",
   "id": "7fa8abcb-1e3e-4684-b410-55ea6c815887",
   "metadata": {},
   "source": [
    "# yfinance"
   ]
  },
  {
   "cell_type": "code",
   "execution_count": 2,
   "id": "3c416a48-0ef3-45d9-a61c-9af080249446",
   "metadata": {
    "tags": []
   },
   "outputs": [],
   "source": [
    "import yfinance as yf"
   ]
  },
  {
   "cell_type": "code",
   "execution_count": 2,
   "id": "be0eeb6b-88db-4659-9b1f-d63555c7bc7d",
   "metadata": {},
   "outputs": [],
   "source": [
    "sp500 = yf.Ticker(\"IVV\")"
   ]
  },
  {
   "cell_type": "code",
   "execution_count": 4,
   "id": "f57b0f53-114f-4218-89c6-c6807800a4a1",
   "metadata": {},
   "outputs": [
    {
     "data": {
      "text/plain": [
       "'America/New_York'"
      ]
     },
     "execution_count": 4,
     "metadata": {},
     "output_type": "execute_result"
    }
   ],
   "source": [
    "sp500.fast_info[\"timezone\"]"
   ]
  },
  {
   "cell_type": "code",
   "execution_count": 6,
   "id": "a3758560-1c6a-44fe-943b-3c7fe92efc3d",
   "metadata": {},
   "outputs": [
    {
     "data": {
      "text/plain": [
       "542.5931"
      ]
     },
     "execution_count": 6,
     "metadata": {},
     "output_type": "execute_result"
    }
   ],
   "source": [
    "sp500.info['navPrice']"
   ]
  },
  {
   "cell_type": "code",
   "execution_count": 9,
   "id": "86ade1e6-8e5a-4ed4-880d-81cb715955e9",
   "metadata": {},
   "outputs": [
    {
     "data": {
      "text/plain": [
       "958743000"
      ]
     },
     "execution_count": 9,
     "metadata": {},
     "output_type": "execute_result"
    }
   ],
   "source": [
    "sp500.info['firstTradeDateEpochUtc']"
   ]
  },
  {
   "cell_type": "code",
   "execution_count": 7,
   "id": "afb77e03-7cc5-4268-849f-5d40e49228d7",
   "metadata": {},
   "outputs": [
    {
     "data": {
      "text/plain": [
       "543.6699829101562"
      ]
     },
     "execution_count": 7,
     "metadata": {},
     "output_type": "execute_result"
    }
   ],
   "source": [
    "sp500.fast_info[\"lastPrice\"]"
   ]
  },
  {
   "cell_type": "code",
   "execution_count": 6,
   "id": "272f48e2-78dd-4a1a-8b65-a58d16ef9a74",
   "metadata": {},
   "outputs": [
    {
     "data": {
      "text/plain": [
       "'iShares Core S&P 500 ETF'"
      ]
     },
     "execution_count": 6,
     "metadata": {},
     "output_type": "execute_result"
    }
   ],
   "source": [
    "sp500.info[\"shortName\"]"
   ]
  },
  {
   "cell_type": "code",
   "execution_count": 10,
   "id": "198a7134-a858-4f14-89c7-c68f03471a9d",
   "metadata": {},
   "outputs": [
    {
     "data": {
      "text/plain": [
       "'17732e4a-0401-33ba-977d-a9848ab99a1e'"
      ]
     },
     "execution_count": 10,
     "metadata": {},
     "output_type": "execute_result"
    }
   ],
   "source": [
    "sp500.info[\"uuid\"]"
   ]
  },
  {
   "cell_type": "code",
   "execution_count": 11,
   "id": "c60929ab-0a38-4f28-b026-999eb464fa68",
   "metadata": {},
   "outputs": [
    {
     "data": {
      "text/plain": [
       "'PCX'"
      ]
     },
     "execution_count": 11,
     "metadata": {},
     "output_type": "execute_result"
    }
   ],
   "source": [
    "sp500.info[\"exchange\"]"
   ]
  },
  {
   "cell_type": "code",
   "execution_count": 12,
   "id": "476cd609-6fa0-4afa-a416-8df752c52644",
   "metadata": {},
   "outputs": [
    {
     "data": {
      "text/plain": [
       "489.94"
      ]
     },
     "execution_count": 12,
     "metadata": {},
     "output_type": "execute_result"
    }
   ],
   "source": [
    "sp500.info[\"open\"]"
   ]
  },
  {
   "cell_type": "code",
   "execution_count": 13,
   "id": "ce0e83a4-e44f-4d95-91fd-dd12c6b1ef0b",
   "metadata": {},
   "outputs": [
    {
     "data": {
      "text/plain": [
       "489.62"
      ]
     },
     "execution_count": 13,
     "metadata": {},
     "output_type": "execute_result"
    }
   ],
   "source": [
    "sp500.info[\"bid\"]"
   ]
  },
  {
   "cell_type": "code",
   "execution_count": 8,
   "id": "ec155a3c-2bb2-4171-852b-3e6cf5fc2f9c",
   "metadata": {},
   "outputs": [
    {
     "data": {
      "text/plain": [
       "542.53"
      ]
     },
     "execution_count": 8,
     "metadata": {},
     "output_type": "execute_result"
    }
   ],
   "source": [
    "sp500.info[\"previousClose\"]"
   ]
  },
  {
   "cell_type": "code",
   "execution_count": 17,
   "id": "2407cb42-e278-4b1f-b3f7-13dec925b8b0",
   "metadata": {},
   "outputs": [
    {
     "data": {
      "text/plain": [
       "6635596"
      ]
     },
     "execution_count": 17,
     "metadata": {},
     "output_type": "execute_result"
    }
   ],
   "source": [
    "sp500.info[\"volume\"]"
   ]
  },
  {
   "cell_type": "code",
   "execution_count": 10,
   "id": "0a88fbd7-2145-43d6-974a-d38e6492ee2f",
   "metadata": {},
   "outputs": [
    {
     "data": {
      "text/plain": [
       "['phone',\n",
       " 'longBusinessSummary',\n",
       " 'maxAge',\n",
       " 'priceHint',\n",
       " 'previousClose',\n",
       " 'open',\n",
       " 'dayLow',\n",
       " 'dayHigh',\n",
       " 'regularMarketPreviousClose',\n",
       " 'regularMarketOpen',\n",
       " 'regularMarketDayLow',\n",
       " 'regularMarketDayHigh',\n",
       " 'trailingPE',\n",
       " 'volume',\n",
       " 'regularMarketVolume',\n",
       " 'averageVolume',\n",
       " 'averageVolume10days',\n",
       " 'averageDailyVolume10Day',\n",
       " 'bidSize',\n",
       " 'askSize',\n",
       " 'yield',\n",
       " 'totalAssets',\n",
       " 'fiftyTwoWeekLow',\n",
       " 'fiftyTwoWeekHigh',\n",
       " 'fiftyDayAverage',\n",
       " 'twoHundredDayAverage',\n",
       " 'trailingAnnualDividendRate',\n",
       " 'trailingAnnualDividendYield',\n",
       " 'navPrice',\n",
       " 'currency',\n",
       " 'category',\n",
       " 'ytdReturn',\n",
       " 'beta3Year',\n",
       " 'fundFamily',\n",
       " 'fundInceptionDate',\n",
       " 'legalType',\n",
       " 'threeYearAverageReturn',\n",
       " 'fiveYearAverageReturn',\n",
       " 'exchange',\n",
       " 'quoteType',\n",
       " 'symbol',\n",
       " 'underlyingSymbol',\n",
       " 'shortName',\n",
       " 'longName',\n",
       " 'firstTradeDateEpochUtc',\n",
       " 'timeZoneFullName',\n",
       " 'timeZoneShortName',\n",
       " 'uuid',\n",
       " 'messageBoardId',\n",
       " 'gmtOffSetMilliseconds',\n",
       " 'trailingPegRatio']"
      ]
     },
     "execution_count": 10,
     "metadata": {},
     "output_type": "execute_result"
    }
   ],
   "source": [
    "list(sp500.info)"
   ]
  },
  {
   "cell_type": "code",
   "execution_count": 18,
   "id": "1e34e0a6-574b-4b58-9ff7-d365aeb9302e",
   "metadata": {},
   "outputs": [],
   "source": [
    "# get historical market data\n",
    "# hist = sp500.history(period=\"1mo\")\n",
    "hist = sp500.history(period=\"1day\")"
   ]
  },
  {
   "cell_type": "code",
   "execution_count": 24,
   "id": "b66f6a45-0150-4c2e-9810-0e1193368de9",
   "metadata": {},
   "outputs": [
    {
     "data": {
      "text/html": [
       "<div>\n",
       "<style scoped>\n",
       "    .dataframe tbody tr th:only-of-type {\n",
       "        vertical-align: middle;\n",
       "    }\n",
       "\n",
       "    .dataframe tbody tr th {\n",
       "        vertical-align: top;\n",
       "    }\n",
       "\n",
       "    .dataframe thead th {\n",
       "        text-align: right;\n",
       "    }\n",
       "</style>\n",
       "<table border=\"1\" class=\"dataframe\">\n",
       "  <thead>\n",
       "    <tr style=\"text-align: right;\">\n",
       "      <th></th>\n",
       "      <th>Open</th>\n",
       "      <th>High</th>\n",
       "      <th>Low</th>\n",
       "      <th>Close</th>\n",
       "      <th>Volume</th>\n",
       "      <th>Dividends</th>\n",
       "      <th>Stock Splits</th>\n",
       "      <th>Capital Gains</th>\n",
       "    </tr>\n",
       "    <tr>\n",
       "      <th>Date</th>\n",
       "      <th></th>\n",
       "      <th></th>\n",
       "      <th></th>\n",
       "      <th></th>\n",
       "      <th></th>\n",
       "      <th></th>\n",
       "      <th></th>\n",
       "      <th></th>\n",
       "    </tr>\n",
       "  </thead>\n",
       "  <tbody>\n",
       "    <tr>\n",
       "      <th>2024-01-25 00:00:00-05:00</th>\n",
       "      <td>489.940002</td>\n",
       "      <td>490.619995</td>\n",
       "      <td>487.839996</td>\n",
       "      <td>490.329987</td>\n",
       "      <td>6615725</td>\n",
       "      <td>0.0</td>\n",
       "      <td>0.0</td>\n",
       "      <td>0.0</td>\n",
       "    </tr>\n",
       "  </tbody>\n",
       "</table>\n",
       "</div>"
      ],
      "text/plain": [
       "                                 Open        High         Low       Close  \\\n",
       "Date                                                                        \n",
       "2024-01-25 00:00:00-05:00  489.940002  490.619995  487.839996  490.329987   \n",
       "\n",
       "                            Volume  Dividends  Stock Splits  Capital Gains  \n",
       "Date                                                                        \n",
       "2024-01-25 00:00:00-05:00  6615725        0.0           0.0            0.0  "
      ]
     },
     "execution_count": 24,
     "metadata": {},
     "output_type": "execute_result"
    }
   ],
   "source": [
    "hist"
   ]
  },
  {
   "cell_type": "code",
   "execution_count": 17,
   "id": "77e4027d-1a01-41be-bb73-84ab62a9d3e5",
   "metadata": {
    "tags": []
   },
   "outputs": [
    {
     "ename": "TypeError",
     "evalue": "super(type, obj): obj must be an instance or subtype of type",
     "output_type": "error",
     "traceback": [
      "\u001b[0;31m---------------------------------------------------------------------------\u001b[0m",
      "\u001b[0;31mTypeError\u001b[0m                                 Traceback (most recent call last)",
      "Cell \u001b[0;32mIn[17], line 1\u001b[0m\n\u001b[0;32m----> 1\u001b[0m cos \u001b[38;5;241m=\u001b[39m \u001b[43myf\u001b[49m\u001b[38;5;241;43m.\u001b[39;49m\u001b[43mTickers\u001b[49m\u001b[43m(\u001b[49m\u001b[43m[\u001b[49m\u001b[38;5;124;43m'\u001b[39;49m\u001b[38;5;124;43mTTEK\u001b[39;49m\u001b[38;5;124;43m'\u001b[39;49m\u001b[43m,\u001b[49m\u001b[43m \u001b[49m\u001b[38;5;124;43m'\u001b[39;49m\u001b[38;5;124;43mMSFT\u001b[39;49m\u001b[38;5;124;43m'\u001b[39;49m\u001b[43m,\u001b[49m\u001b[43m \u001b[49m\u001b[38;5;124;43m'\u001b[39;49m\u001b[38;5;124;43mSPOT\u001b[39;49m\u001b[38;5;124;43m'\u001b[39;49m\u001b[43m]\u001b[49m\u001b[43m)\u001b[49m\n",
      "File \u001b[0;32m~/.local/lib/python3.11/site-packages/yfinance/tickers.py:40\u001b[0m, in \u001b[0;36mTickers.__init__\u001b[0;34m(self, tickers, session)\u001b[0m\n\u001b[1;32m     37\u001b[0m tickers \u001b[38;5;241m=\u001b[39m tickers \u001b[38;5;28;01mif\u001b[39;00m \u001b[38;5;28misinstance\u001b[39m(\n\u001b[1;32m     38\u001b[0m     tickers, \u001b[38;5;28mlist\u001b[39m) \u001b[38;5;28;01melse\u001b[39;00m tickers\u001b[38;5;241m.\u001b[39mreplace(\u001b[38;5;124m'\u001b[39m\u001b[38;5;124m,\u001b[39m\u001b[38;5;124m'\u001b[39m, \u001b[38;5;124m'\u001b[39m\u001b[38;5;124m \u001b[39m\u001b[38;5;124m'\u001b[39m)\u001b[38;5;241m.\u001b[39msplit()\n\u001b[1;32m     39\u001b[0m \u001b[38;5;28mself\u001b[39m\u001b[38;5;241m.\u001b[39msymbols \u001b[38;5;241m=\u001b[39m [ticker\u001b[38;5;241m.\u001b[39mupper() \u001b[38;5;28;01mfor\u001b[39;00m ticker \u001b[38;5;129;01min\u001b[39;00m tickers]\n\u001b[0;32m---> 40\u001b[0m \u001b[38;5;28mself\u001b[39m\u001b[38;5;241m.\u001b[39mtickers \u001b[38;5;241m=\u001b[39m \u001b[43m{\u001b[49m\u001b[43mticker\u001b[49m\u001b[43m:\u001b[49m\u001b[43m \u001b[49m\u001b[43mTicker\u001b[49m\u001b[43m(\u001b[49m\u001b[43mticker\u001b[49m\u001b[43m,\u001b[49m\u001b[43m \u001b[49m\u001b[43msession\u001b[49m\u001b[38;5;241;43m=\u001b[39;49m\u001b[43msession\u001b[49m\u001b[43m)\u001b[49m\u001b[43m \u001b[49m\u001b[38;5;28;43;01mfor\u001b[39;49;00m\u001b[43m \u001b[49m\u001b[43mticker\u001b[49m\u001b[43m \u001b[49m\u001b[38;5;129;43;01min\u001b[39;49;00m\u001b[43m \u001b[49m\u001b[38;5;28;43mself\u001b[39;49m\u001b[38;5;241;43m.\u001b[39;49m\u001b[43msymbols\u001b[49m\u001b[43m}\u001b[49m\n\u001b[1;32m     42\u001b[0m \u001b[38;5;28mself\u001b[39m\u001b[38;5;241m.\u001b[39m_data \u001b[38;5;241m=\u001b[39m YfData(session\u001b[38;5;241m=\u001b[39msession)\n\u001b[1;32m     44\u001b[0m \u001b[38;5;28mself\u001b[39m\u001b[38;5;241m.\u001b[39m_message_handler \u001b[38;5;241m=\u001b[39m \u001b[38;5;28;01mNone\u001b[39;00m\n",
      "File \u001b[0;32m~/.local/lib/python3.11/site-packages/yfinance/tickers.py:40\u001b[0m, in \u001b[0;36m<dictcomp>\u001b[0;34m(.0)\u001b[0m\n\u001b[1;32m     37\u001b[0m tickers \u001b[38;5;241m=\u001b[39m tickers \u001b[38;5;28;01mif\u001b[39;00m \u001b[38;5;28misinstance\u001b[39m(\n\u001b[1;32m     38\u001b[0m     tickers, \u001b[38;5;28mlist\u001b[39m) \u001b[38;5;28;01melse\u001b[39;00m tickers\u001b[38;5;241m.\u001b[39mreplace(\u001b[38;5;124m'\u001b[39m\u001b[38;5;124m,\u001b[39m\u001b[38;5;124m'\u001b[39m, \u001b[38;5;124m'\u001b[39m\u001b[38;5;124m \u001b[39m\u001b[38;5;124m'\u001b[39m)\u001b[38;5;241m.\u001b[39msplit()\n\u001b[1;32m     39\u001b[0m \u001b[38;5;28mself\u001b[39m\u001b[38;5;241m.\u001b[39msymbols \u001b[38;5;241m=\u001b[39m [ticker\u001b[38;5;241m.\u001b[39mupper() \u001b[38;5;28;01mfor\u001b[39;00m ticker \u001b[38;5;129;01min\u001b[39;00m tickers]\n\u001b[0;32m---> 40\u001b[0m \u001b[38;5;28mself\u001b[39m\u001b[38;5;241m.\u001b[39mtickers \u001b[38;5;241m=\u001b[39m {ticker: \u001b[43mTicker\u001b[49m\u001b[43m(\u001b[49m\u001b[43mticker\u001b[49m\u001b[43m,\u001b[49m\u001b[43m \u001b[49m\u001b[43msession\u001b[49m\u001b[38;5;241;43m=\u001b[39;49m\u001b[43msession\u001b[49m\u001b[43m)\u001b[49m \u001b[38;5;28;01mfor\u001b[39;00m ticker \u001b[38;5;129;01min\u001b[39;00m \u001b[38;5;28mself\u001b[39m\u001b[38;5;241m.\u001b[39msymbols}\n\u001b[1;32m     42\u001b[0m \u001b[38;5;28mself\u001b[39m\u001b[38;5;241m.\u001b[39m_data \u001b[38;5;241m=\u001b[39m YfData(session\u001b[38;5;241m=\u001b[39msession)\n\u001b[1;32m     44\u001b[0m \u001b[38;5;28mself\u001b[39m\u001b[38;5;241m.\u001b[39m_message_handler \u001b[38;5;241m=\u001b[39m \u001b[38;5;28;01mNone\u001b[39;00m\n",
      "File \u001b[0;32m~/.local/lib/python3.11/site-packages/yfinance/ticker.py:35\u001b[0m, in \u001b[0;36mTicker.__init__\u001b[0;34m(self, ticker, session, proxy)\u001b[0m\n\u001b[1;32m     34\u001b[0m \u001b[38;5;28;01mdef\u001b[39;00m \u001b[38;5;21m__init__\u001b[39m(\u001b[38;5;28mself\u001b[39m, ticker, session\u001b[38;5;241m=\u001b[39m\u001b[38;5;28;01mNone\u001b[39;00m, proxy\u001b[38;5;241m=\u001b[39m_SENTINEL_):\n\u001b[0;32m---> 35\u001b[0m     \u001b[38;5;28;43msuper\u001b[39;49m\u001b[43m(\u001b[49m\u001b[43mTicker\u001b[49m\u001b[43m,\u001b[49m\u001b[43m \u001b[49m\u001b[38;5;28;43mself\u001b[39;49m\u001b[43m)\u001b[49m\u001b[38;5;241m.\u001b[39m\u001b[38;5;21m__init__\u001b[39m(ticker, session\u001b[38;5;241m=\u001b[39msession, proxy\u001b[38;5;241m=\u001b[39mproxy)\n\u001b[1;32m     36\u001b[0m     \u001b[38;5;28mself\u001b[39m\u001b[38;5;241m.\u001b[39m_expirations \u001b[38;5;241m=\u001b[39m {}\n\u001b[1;32m     37\u001b[0m     \u001b[38;5;28mself\u001b[39m\u001b[38;5;241m.\u001b[39m_underlying  \u001b[38;5;241m=\u001b[39m {}\n",
      "\u001b[0;31mTypeError\u001b[0m: super(type, obj): obj must be an instance or subtype of type"
     ]
    }
   ],
   "source": [
    "cos = yf.Tickers(['TTEK', 'MSFT', 'SPOT'])"
   ]
  },
  {
   "cell_type": "code",
   "execution_count": 15,
   "id": "9242aff0-f09b-4a6e-950b-704c4c100b21",
   "metadata": {
    "tags": []
   },
   "outputs": [
    {
     "data": {
      "text/plain": [
       "'0.2.61'"
      ]
     },
     "execution_count": 15,
     "metadata": {},
     "output_type": "execute_result"
    }
   ],
   "source": [
    "yf.__version__"
   ]
  },
  {
   "cell_type": "code",
   "execution_count": 12,
   "id": "ae518d56-8baf-46b7-8fc3-88c958cdd6dc",
   "metadata": {
    "tags": []
   },
   "outputs": [
    {
     "ename": "YFRateLimitError",
     "evalue": "Too Many Requests. Rate limited. Try after a while.",
     "output_type": "error",
     "traceback": [
      "\u001b[0;31m---------------------------------------------------------------------------\u001b[0m",
      "\u001b[0;31mYFRateLimitError\u001b[0m                          Traceback (most recent call last)",
      "Cell \u001b[0;32mIn[12], line 1\u001b[0m\n\u001b[0;32m----> 1\u001b[0m \u001b[43mcos\u001b[49m\u001b[38;5;241;43m.\u001b[39;49m\u001b[43mtickers\u001b[49m\u001b[43m[\u001b[49m\u001b[38;5;124;43m'\u001b[39;49m\u001b[38;5;124;43mSPOT\u001b[39;49m\u001b[38;5;124;43m'\u001b[39;49m\u001b[43m]\u001b[49m\u001b[38;5;241;43m.\u001b[39;49m\u001b[43minfo\u001b[49m[\u001b[38;5;124m'\u001b[39m\u001b[38;5;124mlastPrice\u001b[39m\u001b[38;5;124m'\u001b[39m]\n",
      "File \u001b[0;32m~/.local/lib/python3.11/site-packages/yfinance/ticker.py:159\u001b[0m, in \u001b[0;36mTicker.info\u001b[0;34m(self)\u001b[0m\n\u001b[1;32m    157\u001b[0m \u001b[38;5;129m@property\u001b[39m\n\u001b[1;32m    158\u001b[0m \u001b[38;5;28;01mdef\u001b[39;00m \u001b[38;5;21minfo\u001b[39m(\u001b[38;5;28mself\u001b[39m) \u001b[38;5;241m-\u001b[39m\u001b[38;5;241m>\u001b[39m \u001b[38;5;28mdict\u001b[39m:\n\u001b[0;32m--> 159\u001b[0m     \u001b[38;5;28;01mreturn\u001b[39;00m \u001b[38;5;28;43mself\u001b[39;49m\u001b[38;5;241;43m.\u001b[39;49m\u001b[43mget_info\u001b[49m\u001b[43m(\u001b[49m\u001b[43m)\u001b[49m\n",
      "File \u001b[0;32m~/.local/lib/python3.11/site-packages/yfinance/base.py:232\u001b[0m, in \u001b[0;36mTickerBase.get_info\u001b[0;34m(self, proxy)\u001b[0m\n\u001b[1;32m    230\u001b[0m \u001b[38;5;28;01mdef\u001b[39;00m \u001b[38;5;21mget_info\u001b[39m(\u001b[38;5;28mself\u001b[39m, proxy\u001b[38;5;241m=\u001b[39m\u001b[38;5;28;01mNone\u001b[39;00m) \u001b[38;5;241m-\u001b[39m\u001b[38;5;241m>\u001b[39m \u001b[38;5;28mdict\u001b[39m:\n\u001b[1;32m    231\u001b[0m     \u001b[38;5;28mself\u001b[39m\u001b[38;5;241m.\u001b[39m_quote\u001b[38;5;241m.\u001b[39mproxy \u001b[38;5;241m=\u001b[39m proxy \u001b[38;5;129;01mor\u001b[39;00m \u001b[38;5;28mself\u001b[39m\u001b[38;5;241m.\u001b[39mproxy\n\u001b[0;32m--> 232\u001b[0m     data \u001b[38;5;241m=\u001b[39m \u001b[38;5;28;43mself\u001b[39;49m\u001b[38;5;241;43m.\u001b[39;49m\u001b[43m_quote\u001b[49m\u001b[38;5;241;43m.\u001b[39;49m\u001b[43minfo\u001b[49m\n\u001b[1;32m    233\u001b[0m     \u001b[38;5;28;01mreturn\u001b[39;00m data\n",
      "File \u001b[0;32m~/.local/lib/python3.11/site-packages/yfinance/scrapers/quote.py:508\u001b[0m, in \u001b[0;36mQuote.info\u001b[0;34m(self)\u001b[0m\n\u001b[1;32m    505\u001b[0m \u001b[38;5;129m@property\u001b[39m\n\u001b[1;32m    506\u001b[0m \u001b[38;5;28;01mdef\u001b[39;00m \u001b[38;5;21minfo\u001b[39m(\u001b[38;5;28mself\u001b[39m) \u001b[38;5;241m-\u001b[39m\u001b[38;5;241m>\u001b[39m \u001b[38;5;28mdict\u001b[39m:\n\u001b[1;32m    507\u001b[0m     \u001b[38;5;28;01mif\u001b[39;00m \u001b[38;5;28mself\u001b[39m\u001b[38;5;241m.\u001b[39m_info \u001b[38;5;129;01mis\u001b[39;00m \u001b[38;5;28;01mNone\u001b[39;00m:\n\u001b[0;32m--> 508\u001b[0m         \u001b[38;5;28;43mself\u001b[39;49m\u001b[38;5;241;43m.\u001b[39;49m\u001b[43m_fetch_info\u001b[49m\u001b[43m(\u001b[49m\u001b[38;5;28;43mself\u001b[39;49m\u001b[38;5;241;43m.\u001b[39;49m\u001b[43mproxy\u001b[49m\u001b[43m)\u001b[49m\n\u001b[1;32m    509\u001b[0m         \u001b[38;5;28mself\u001b[39m\u001b[38;5;241m.\u001b[39m_fetch_complementary(\u001b[38;5;28mself\u001b[39m\u001b[38;5;241m.\u001b[39mproxy)\n\u001b[1;32m    511\u001b[0m     \u001b[38;5;28;01mreturn\u001b[39;00m \u001b[38;5;28mself\u001b[39m\u001b[38;5;241m.\u001b[39m_info\n",
      "File \u001b[0;32m~/.local/lib/python3.11/site-packages/yfinance/scrapers/quote.py:609\u001b[0m, in \u001b[0;36mQuote._fetch_info\u001b[0;34m(self, proxy)\u001b[0m\n\u001b[1;32m    607\u001b[0m \u001b[38;5;28mself\u001b[39m\u001b[38;5;241m.\u001b[39m_already_fetched \u001b[38;5;241m=\u001b[39m \u001b[38;5;28;01mTrue\u001b[39;00m\n\u001b[1;32m    608\u001b[0m modules \u001b[38;5;241m=\u001b[39m [\u001b[38;5;124m'\u001b[39m\u001b[38;5;124mfinancialData\u001b[39m\u001b[38;5;124m'\u001b[39m, \u001b[38;5;124m'\u001b[39m\u001b[38;5;124mquoteType\u001b[39m\u001b[38;5;124m'\u001b[39m, \u001b[38;5;124m'\u001b[39m\u001b[38;5;124mdefaultKeyStatistics\u001b[39m\u001b[38;5;124m'\u001b[39m, \u001b[38;5;124m'\u001b[39m\u001b[38;5;124massetProfile\u001b[39m\u001b[38;5;124m'\u001b[39m, \u001b[38;5;124m'\u001b[39m\u001b[38;5;124msummaryDetail\u001b[39m\u001b[38;5;124m'\u001b[39m]\n\u001b[0;32m--> 609\u001b[0m result \u001b[38;5;241m=\u001b[39m \u001b[38;5;28;43mself\u001b[39;49m\u001b[38;5;241;43m.\u001b[39;49m\u001b[43m_fetch\u001b[49m\u001b[43m(\u001b[49m\u001b[43mproxy\u001b[49m\u001b[43m,\u001b[49m\u001b[43m \u001b[49m\u001b[43mmodules\u001b[49m\u001b[38;5;241;43m=\u001b[39;49m\u001b[43mmodules\u001b[49m\u001b[43m)\u001b[49m\n\u001b[1;32m    610\u001b[0m result\u001b[38;5;241m.\u001b[39mupdate(\u001b[38;5;28mself\u001b[39m\u001b[38;5;241m.\u001b[39m_fetch_additional_info(proxy))\n\u001b[1;32m    611\u001b[0m \u001b[38;5;28;01mif\u001b[39;00m result \u001b[38;5;129;01mis\u001b[39;00m \u001b[38;5;28;01mNone\u001b[39;00m:\n",
      "File \u001b[0;32m~/.local/lib/python3.11/site-packages/yfinance/scrapers/quote.py:587\u001b[0m, in \u001b[0;36mQuote._fetch\u001b[0;34m(self, proxy, modules)\u001b[0m\n\u001b[1;32m    585\u001b[0m params_dict \u001b[38;5;241m=\u001b[39m {\u001b[38;5;124m\"\u001b[39m\u001b[38;5;124mmodules\u001b[39m\u001b[38;5;124m\"\u001b[39m: modules, \u001b[38;5;124m\"\u001b[39m\u001b[38;5;124mcorsDomain\u001b[39m\u001b[38;5;124m\"\u001b[39m: \u001b[38;5;124m\"\u001b[39m\u001b[38;5;124mfinance.yahoo.com\u001b[39m\u001b[38;5;124m\"\u001b[39m, \u001b[38;5;124m\"\u001b[39m\u001b[38;5;124mformatted\u001b[39m\u001b[38;5;124m\"\u001b[39m: \u001b[38;5;124m\"\u001b[39m\u001b[38;5;124mfalse\u001b[39m\u001b[38;5;124m\"\u001b[39m, \u001b[38;5;124m\"\u001b[39m\u001b[38;5;124msymbol\u001b[39m\u001b[38;5;124m\"\u001b[39m: \u001b[38;5;28mself\u001b[39m\u001b[38;5;241m.\u001b[39m_symbol}\n\u001b[1;32m    586\u001b[0m \u001b[38;5;28;01mtry\u001b[39;00m:\n\u001b[0;32m--> 587\u001b[0m     result \u001b[38;5;241m=\u001b[39m \u001b[38;5;28;43mself\u001b[39;49m\u001b[38;5;241;43m.\u001b[39;49m\u001b[43m_data\u001b[49m\u001b[38;5;241;43m.\u001b[39;49m\u001b[43mget_raw_json\u001b[49m\u001b[43m(\u001b[49m\u001b[43m_QUOTE_SUMMARY_URL_\u001b[49m\u001b[43m \u001b[49m\u001b[38;5;241;43m+\u001b[39;49m\u001b[43m \u001b[49m\u001b[38;5;124;43mf\u001b[39;49m\u001b[38;5;124;43m\"\u001b[39;49m\u001b[38;5;124;43m/\u001b[39;49m\u001b[38;5;132;43;01m{\u001b[39;49;00m\u001b[38;5;28;43mself\u001b[39;49m\u001b[38;5;241;43m.\u001b[39;49m\u001b[43m_symbol\u001b[49m\u001b[38;5;132;43;01m}\u001b[39;49;00m\u001b[38;5;124;43m\"\u001b[39;49m\u001b[43m,\u001b[49m\u001b[43m \u001b[49m\u001b[43muser_agent_headers\u001b[49m\u001b[38;5;241;43m=\u001b[39;49m\u001b[38;5;28;43mself\u001b[39;49m\u001b[38;5;241;43m.\u001b[39;49m\u001b[43m_data\u001b[49m\u001b[38;5;241;43m.\u001b[39;49m\u001b[43muser_agent_headers\u001b[49m\u001b[43m,\u001b[49m\u001b[43m \u001b[49m\u001b[43mparams\u001b[49m\u001b[38;5;241;43m=\u001b[39;49m\u001b[43mparams_dict\u001b[49m\u001b[43m,\u001b[49m\u001b[43m \u001b[49m\u001b[43mproxy\u001b[49m\u001b[38;5;241;43m=\u001b[39;49m\u001b[43mproxy\u001b[49m\u001b[43m)\u001b[49m\n\u001b[1;32m    588\u001b[0m \u001b[38;5;28;01mexcept\u001b[39;00m requests\u001b[38;5;241m.\u001b[39mexceptions\u001b[38;5;241m.\u001b[39mHTTPError \u001b[38;5;28;01mas\u001b[39;00m e:\n\u001b[1;32m    589\u001b[0m     utils\u001b[38;5;241m.\u001b[39mget_yf_logger()\u001b[38;5;241m.\u001b[39merror(\u001b[38;5;28mstr\u001b[39m(e))\n",
      "File \u001b[0;32m~/.local/lib/python3.11/site-packages/yfinance/data.py:428\u001b[0m, in \u001b[0;36mYfData.get_raw_json\u001b[0;34m(self, url, user_agent_headers, params, proxy, timeout)\u001b[0m\n\u001b[1;32m    426\u001b[0m \u001b[38;5;28;01mdef\u001b[39;00m \u001b[38;5;21mget_raw_json\u001b[39m(\u001b[38;5;28mself\u001b[39m, url, user_agent_headers\u001b[38;5;241m=\u001b[39m\u001b[38;5;28;01mNone\u001b[39;00m, params\u001b[38;5;241m=\u001b[39m\u001b[38;5;28;01mNone\u001b[39;00m, proxy\u001b[38;5;241m=\u001b[39m\u001b[38;5;28;01mNone\u001b[39;00m, timeout\u001b[38;5;241m=\u001b[39m\u001b[38;5;241m30\u001b[39m):\n\u001b[1;32m    427\u001b[0m     utils\u001b[38;5;241m.\u001b[39mget_yf_logger()\u001b[38;5;241m.\u001b[39mdebug(\u001b[38;5;124mf\u001b[39m\u001b[38;5;124m'\u001b[39m\u001b[38;5;124mget_raw_json(): \u001b[39m\u001b[38;5;132;01m{\u001b[39;00murl\u001b[38;5;132;01m}\u001b[39;00m\u001b[38;5;124m'\u001b[39m)\n\u001b[0;32m--> 428\u001b[0m     response \u001b[38;5;241m=\u001b[39m \u001b[38;5;28;43mself\u001b[39;49m\u001b[38;5;241;43m.\u001b[39;49m\u001b[43mget\u001b[49m\u001b[43m(\u001b[49m\u001b[43murl\u001b[49m\u001b[43m,\u001b[49m\u001b[43m \u001b[49m\u001b[43muser_agent_headers\u001b[49m\u001b[38;5;241;43m=\u001b[39;49m\u001b[43muser_agent_headers\u001b[49m\u001b[43m,\u001b[49m\u001b[43m \u001b[49m\u001b[43mparams\u001b[49m\u001b[38;5;241;43m=\u001b[39;49m\u001b[43mparams\u001b[49m\u001b[43m,\u001b[49m\u001b[43m \u001b[49m\u001b[43mproxy\u001b[49m\u001b[38;5;241;43m=\u001b[39;49m\u001b[43mproxy\u001b[49m\u001b[43m,\u001b[49m\u001b[43m \u001b[49m\u001b[43mtimeout\u001b[49m\u001b[38;5;241;43m=\u001b[39;49m\u001b[43mtimeout\u001b[49m\u001b[43m)\u001b[49m\n\u001b[1;32m    429\u001b[0m     response\u001b[38;5;241m.\u001b[39mraise_for_status()\n\u001b[1;32m    430\u001b[0m     \u001b[38;5;28;01mreturn\u001b[39;00m response\u001b[38;5;241m.\u001b[39mjson()\n",
      "File \u001b[0;32m~/.local/lib/python3.11/site-packages/yfinance/utils.py:104\u001b[0m, in \u001b[0;36mlog_indent_decorator.<locals>.wrapper\u001b[0;34m(*args, **kwargs)\u001b[0m\n\u001b[1;32m    101\u001b[0m logger\u001b[38;5;241m.\u001b[39mdebug(\u001b[38;5;124mf\u001b[39m\u001b[38;5;124m'\u001b[39m\u001b[38;5;124mEntering \u001b[39m\u001b[38;5;132;01m{\u001b[39;00mfunc\u001b[38;5;241m.\u001b[39m\u001b[38;5;18m__name__\u001b[39m\u001b[38;5;132;01m}\u001b[39;00m\u001b[38;5;124m()\u001b[39m\u001b[38;5;124m'\u001b[39m)\n\u001b[1;32m    103\u001b[0m \u001b[38;5;28;01mwith\u001b[39;00m IndentationContext():\n\u001b[0;32m--> 104\u001b[0m     result \u001b[38;5;241m=\u001b[39m \u001b[43mfunc\u001b[49m\u001b[43m(\u001b[49m\u001b[38;5;241;43m*\u001b[39;49m\u001b[43margs\u001b[49m\u001b[43m,\u001b[49m\u001b[43m \u001b[49m\u001b[38;5;241;43m*\u001b[39;49m\u001b[38;5;241;43m*\u001b[39;49m\u001b[43mkwargs\u001b[49m\u001b[43m)\u001b[49m\n\u001b[1;32m    106\u001b[0m logger\u001b[38;5;241m.\u001b[39mdebug(\u001b[38;5;124mf\u001b[39m\u001b[38;5;124m'\u001b[39m\u001b[38;5;124mExiting \u001b[39m\u001b[38;5;132;01m{\u001b[39;00mfunc\u001b[38;5;241m.\u001b[39m\u001b[38;5;18m__name__\u001b[39m\u001b[38;5;132;01m}\u001b[39;00m\u001b[38;5;124m()\u001b[39m\u001b[38;5;124m'\u001b[39m)\n\u001b[1;32m    107\u001b[0m \u001b[38;5;28;01mreturn\u001b[39;00m result\n",
      "File \u001b[0;32m~/.local/lib/python3.11/site-packages/yfinance/data.py:347\u001b[0m, in \u001b[0;36mYfData.get\u001b[0;34m(self, url, user_agent_headers, params, proxy, timeout)\u001b[0m\n\u001b[1;32m    345\u001b[0m \u001b[38;5;129m@utils\u001b[39m\u001b[38;5;241m.\u001b[39mlog_indent_decorator\n\u001b[1;32m    346\u001b[0m \u001b[38;5;28;01mdef\u001b[39;00m \u001b[38;5;21mget\u001b[39m(\u001b[38;5;28mself\u001b[39m, url, user_agent_headers\u001b[38;5;241m=\u001b[39m\u001b[38;5;28;01mNone\u001b[39;00m, params\u001b[38;5;241m=\u001b[39m\u001b[38;5;28;01mNone\u001b[39;00m, proxy\u001b[38;5;241m=\u001b[39m\u001b[38;5;28;01mNone\u001b[39;00m, timeout\u001b[38;5;241m=\u001b[39m\u001b[38;5;241m30\u001b[39m):\n\u001b[0;32m--> 347\u001b[0m     \u001b[38;5;28;01mreturn\u001b[39;00m \u001b[38;5;28;43mself\u001b[39;49m\u001b[38;5;241;43m.\u001b[39;49m\u001b[43m_make_request\u001b[49m\u001b[43m(\u001b[49m\u001b[43murl\u001b[49m\u001b[43m,\u001b[49m\u001b[43m \u001b[49m\u001b[43mrequest_method\u001b[49m\u001b[43m \u001b[49m\u001b[38;5;241;43m=\u001b[39;49m\u001b[43m \u001b[49m\u001b[38;5;28;43mself\u001b[39;49m\u001b[38;5;241;43m.\u001b[39;49m\u001b[43m_session\u001b[49m\u001b[38;5;241;43m.\u001b[39;49m\u001b[43mget\u001b[49m\u001b[43m,\u001b[49m\u001b[43m \u001b[49m\u001b[43muser_agent_headers\u001b[49m\u001b[38;5;241;43m=\u001b[39;49m\u001b[43muser_agent_headers\u001b[49m\u001b[43m,\u001b[49m\u001b[43m \u001b[49m\u001b[43mparams\u001b[49m\u001b[38;5;241;43m=\u001b[39;49m\u001b[43mparams\u001b[49m\u001b[43m,\u001b[49m\u001b[43m \u001b[49m\u001b[43mproxy\u001b[49m\u001b[38;5;241;43m=\u001b[39;49m\u001b[43mproxy\u001b[49m\u001b[43m,\u001b[49m\u001b[43m \u001b[49m\u001b[43mtimeout\u001b[49m\u001b[38;5;241;43m=\u001b[39;49m\u001b[43mtimeout\u001b[49m\u001b[43m)\u001b[49m\n",
      "File \u001b[0;32m~/.local/lib/python3.11/site-packages/yfinance/utils.py:104\u001b[0m, in \u001b[0;36mlog_indent_decorator.<locals>.wrapper\u001b[0;34m(*args, **kwargs)\u001b[0m\n\u001b[1;32m    101\u001b[0m logger\u001b[38;5;241m.\u001b[39mdebug(\u001b[38;5;124mf\u001b[39m\u001b[38;5;124m'\u001b[39m\u001b[38;5;124mEntering \u001b[39m\u001b[38;5;132;01m{\u001b[39;00mfunc\u001b[38;5;241m.\u001b[39m\u001b[38;5;18m__name__\u001b[39m\u001b[38;5;132;01m}\u001b[39;00m\u001b[38;5;124m()\u001b[39m\u001b[38;5;124m'\u001b[39m)\n\u001b[1;32m    103\u001b[0m \u001b[38;5;28;01mwith\u001b[39;00m IndentationContext():\n\u001b[0;32m--> 104\u001b[0m     result \u001b[38;5;241m=\u001b[39m \u001b[43mfunc\u001b[49m\u001b[43m(\u001b[49m\u001b[38;5;241;43m*\u001b[39;49m\u001b[43margs\u001b[49m\u001b[43m,\u001b[49m\u001b[43m \u001b[49m\u001b[38;5;241;43m*\u001b[39;49m\u001b[38;5;241;43m*\u001b[39;49m\u001b[43mkwargs\u001b[49m\u001b[43m)\u001b[49m\n\u001b[1;32m    106\u001b[0m logger\u001b[38;5;241m.\u001b[39mdebug(\u001b[38;5;124mf\u001b[39m\u001b[38;5;124m'\u001b[39m\u001b[38;5;124mExiting \u001b[39m\u001b[38;5;132;01m{\u001b[39;00mfunc\u001b[38;5;241m.\u001b[39m\u001b[38;5;18m__name__\u001b[39m\u001b[38;5;132;01m}\u001b[39;00m\u001b[38;5;124m()\u001b[39m\u001b[38;5;124m'\u001b[39m)\n\u001b[1;32m    107\u001b[0m \u001b[38;5;28;01mreturn\u001b[39;00m result\n",
      "File \u001b[0;32m~/.local/lib/python3.11/site-packages/yfinance/data.py:409\u001b[0m, in \u001b[0;36mYfData._make_request\u001b[0;34m(self, url, request_method, user_agent_headers, body, params, proxy, timeout)\u001b[0m\n\u001b[1;32m    407\u001b[0m     \u001b[38;5;66;03m# Raise exception if rate limited\u001b[39;00m\n\u001b[1;32m    408\u001b[0m     \u001b[38;5;28;01mif\u001b[39;00m response\u001b[38;5;241m.\u001b[39mstatus_code \u001b[38;5;241m==\u001b[39m \u001b[38;5;241m429\u001b[39m:\n\u001b[0;32m--> 409\u001b[0m         \u001b[38;5;28;01mraise\u001b[39;00m YFRateLimitError()\n\u001b[1;32m    411\u001b[0m \u001b[38;5;28;01mreturn\u001b[39;00m response\n",
      "\u001b[0;31mYFRateLimitError\u001b[0m: Too Many Requests. Rate limited. Try after a while."
     ]
    }
   ],
   "source": [
    "cos.tickers['SPOT'].info['lastPrice']"
   ]
  },
  {
   "cell_type": "code",
   "execution_count": 18,
   "id": "c0926bc7-9dd3-4c69-a05c-79f3fad75dfb",
   "metadata": {
    "tags": []
   },
   "outputs": [],
   "source": [
    "# co = yf.Ticker(\"TTEK\")\n",
    "# co = yf.Ticker(\"C\")\n",
    "co = yf.Ticker(\"MSFT\")"
   ]
  },
  {
   "cell_type": "code",
   "execution_count": 19,
   "id": "a2876129-9544-41bc-958a-a75e10757325",
   "metadata": {
    "tags": []
   },
   "outputs": [
    {
     "data": {
      "text/html": [
       "<div>\n",
       "<style scoped>\n",
       "    .dataframe tbody tr th:only-of-type {\n",
       "        vertical-align: middle;\n",
       "    }\n",
       "\n",
       "    .dataframe tbody tr th {\n",
       "        vertical-align: top;\n",
       "    }\n",
       "\n",
       "    .dataframe thead th {\n",
       "        text-align: right;\n",
       "    }\n",
       "</style>\n",
       "<table border=\"1\" class=\"dataframe\">\n",
       "  <thead>\n",
       "    <tr style=\"text-align: right;\">\n",
       "      <th></th>\n",
       "      <th>esgScores</th>\n",
       "    </tr>\n",
       "  </thead>\n",
       "  <tbody>\n",
       "    <tr>\n",
       "      <th>maxAge</th>\n",
       "      <td>86400</td>\n",
       "    </tr>\n",
       "    <tr>\n",
       "      <th>totalEsg</th>\n",
       "      <td>17.39</td>\n",
       "    </tr>\n",
       "    <tr>\n",
       "      <th>environmentScore</th>\n",
       "      <td>3.61</td>\n",
       "    </tr>\n",
       "    <tr>\n",
       "      <th>socialScore</th>\n",
       "      <td>8.98</td>\n",
       "    </tr>\n",
       "    <tr>\n",
       "      <th>governanceScore</th>\n",
       "      <td>4.8</td>\n",
       "    </tr>\n",
       "    <tr>\n",
       "      <th>ratingYear</th>\n",
       "      <td>2025</td>\n",
       "    </tr>\n",
       "    <tr>\n",
       "      <th>ratingMonth</th>\n",
       "      <td>5</td>\n",
       "    </tr>\n",
       "    <tr>\n",
       "      <th>highestControversy</th>\n",
       "      <td>3.0</td>\n",
       "    </tr>\n",
       "    <tr>\n",
       "      <th>peerCount</th>\n",
       "      <td>577</td>\n",
       "    </tr>\n",
       "    <tr>\n",
       "      <th>esgPerformance</th>\n",
       "      <td>LAG_PERF</td>\n",
       "    </tr>\n",
       "    <tr>\n",
       "      <th>peerGroup</th>\n",
       "      <td>Software &amp; Services</td>\n",
       "    </tr>\n",
       "    <tr>\n",
       "      <th>relatedControversy</th>\n",
       "      <td>[Customer Incidents]</td>\n",
       "    </tr>\n",
       "    <tr>\n",
       "      <th>peerEsgScorePerformance</th>\n",
       "      <td>{'min': 7.44, 'avg': 20.931663778162918, 'max'...</td>\n",
       "    </tr>\n",
       "    <tr>\n",
       "      <th>peerGovernancePerformance</th>\n",
       "      <td>{'min': 1.34, 'avg': 5.605, 'max': 10.54}</td>\n",
       "    </tr>\n",
       "    <tr>\n",
       "      <th>peerSocialPerformance</th>\n",
       "      <td>{'min': 4.49, 'avg': 9.94333333333333, 'max': ...</td>\n",
       "    </tr>\n",
       "    <tr>\n",
       "      <th>peerEnvironmentPerformance</th>\n",
       "      <td>{'min': 0.05, 'avg': 3.160079365079365, 'max':...</td>\n",
       "    </tr>\n",
       "    <tr>\n",
       "      <th>peerHighestControversyPerformance</th>\n",
       "      <td>{'min': 0.0, 'avg': 0.6637781629116117, 'max':...</td>\n",
       "    </tr>\n",
       "    <tr>\n",
       "      <th>percentile</th>\n",
       "      <td>None</td>\n",
       "    </tr>\n",
       "    <tr>\n",
       "      <th>environmentPercentile</th>\n",
       "      <td>None</td>\n",
       "    </tr>\n",
       "    <tr>\n",
       "      <th>socialPercentile</th>\n",
       "      <td>None</td>\n",
       "    </tr>\n",
       "    <tr>\n",
       "      <th>governancePercentile</th>\n",
       "      <td>None</td>\n",
       "    </tr>\n",
       "    <tr>\n",
       "      <th>adult</th>\n",
       "      <td>False</td>\n",
       "    </tr>\n",
       "    <tr>\n",
       "      <th>alcoholic</th>\n",
       "      <td>False</td>\n",
       "    </tr>\n",
       "    <tr>\n",
       "      <th>animalTesting</th>\n",
       "      <td>False</td>\n",
       "    </tr>\n",
       "    <tr>\n",
       "      <th>catholic</th>\n",
       "      <td>None</td>\n",
       "    </tr>\n",
       "    <tr>\n",
       "      <th>controversialWeapons</th>\n",
       "      <td>False</td>\n",
       "    </tr>\n",
       "    <tr>\n",
       "      <th>smallArms</th>\n",
       "      <td>False</td>\n",
       "    </tr>\n",
       "    <tr>\n",
       "      <th>furLeather</th>\n",
       "      <td>False</td>\n",
       "    </tr>\n",
       "    <tr>\n",
       "      <th>gambling</th>\n",
       "      <td>False</td>\n",
       "    </tr>\n",
       "    <tr>\n",
       "      <th>gmo</th>\n",
       "      <td>False</td>\n",
       "    </tr>\n",
       "    <tr>\n",
       "      <th>militaryContract</th>\n",
       "      <td>False</td>\n",
       "    </tr>\n",
       "    <tr>\n",
       "      <th>nuclear</th>\n",
       "      <td>False</td>\n",
       "    </tr>\n",
       "    <tr>\n",
       "      <th>pesticides</th>\n",
       "      <td>False</td>\n",
       "    </tr>\n",
       "    <tr>\n",
       "      <th>palmOil</th>\n",
       "      <td>False</td>\n",
       "    </tr>\n",
       "    <tr>\n",
       "      <th>coal</th>\n",
       "      <td>False</td>\n",
       "    </tr>\n",
       "    <tr>\n",
       "      <th>tobacco</th>\n",
       "      <td>False</td>\n",
       "    </tr>\n",
       "  </tbody>\n",
       "</table>\n",
       "</div>"
      ],
      "text/plain": [
       "                                                                           esgScores\n",
       "maxAge                                                                         86400\n",
       "totalEsg                                                                       17.39\n",
       "environmentScore                                                                3.61\n",
       "socialScore                                                                     8.98\n",
       "governanceScore                                                                  4.8\n",
       "ratingYear                                                                      2025\n",
       "ratingMonth                                                                        5\n",
       "highestControversy                                                               3.0\n",
       "peerCount                                                                        577\n",
       "esgPerformance                                                              LAG_PERF\n",
       "peerGroup                                                        Software & Services\n",
       "relatedControversy                                              [Customer Incidents]\n",
       "peerEsgScorePerformance            {'min': 7.44, 'avg': 20.931663778162918, 'max'...\n",
       "peerGovernancePerformance                  {'min': 1.34, 'avg': 5.605, 'max': 10.54}\n",
       "peerSocialPerformance              {'min': 4.49, 'avg': 9.94333333333333, 'max': ...\n",
       "peerEnvironmentPerformance         {'min': 0.05, 'avg': 3.160079365079365, 'max':...\n",
       "peerHighestControversyPerformance  {'min': 0.0, 'avg': 0.6637781629116117, 'max':...\n",
       "percentile                                                                      None\n",
       "environmentPercentile                                                           None\n",
       "socialPercentile                                                                None\n",
       "governancePercentile                                                            None\n",
       "adult                                                                          False\n",
       "alcoholic                                                                      False\n",
       "animalTesting                                                                  False\n",
       "catholic                                                                        None\n",
       "controversialWeapons                                                           False\n",
       "smallArms                                                                      False\n",
       "furLeather                                                                     False\n",
       "gambling                                                                       False\n",
       "gmo                                                                            False\n",
       "militaryContract                                                               False\n",
       "nuclear                                                                        False\n",
       "pesticides                                                                     False\n",
       "palmOil                                                                        False\n",
       "coal                                                                           False\n",
       "tobacco                                                                        False"
      ]
     },
     "execution_count": 19,
     "metadata": {},
     "output_type": "execute_result"
    }
   ],
   "source": [
    "# doesn't exist for TTEK\n",
    "co.sustainability"
   ]
  },
  {
   "cell_type": "code",
   "execution_count": 20,
   "id": "ffed1a0d-71fb-4858-86b0-09018c600369",
   "metadata": {
    "tags": []
   },
   "outputs": [
    {
     "data": {
      "text/html": [
       "<div>\n",
       "<style scoped>\n",
       "    .dataframe tbody tr th:only-of-type {\n",
       "        vertical-align: middle;\n",
       "    }\n",
       "\n",
       "    .dataframe tbody tr th {\n",
       "        vertical-align: top;\n",
       "    }\n",
       "\n",
       "    .dataframe thead th {\n",
       "        text-align: right;\n",
       "    }\n",
       "</style>\n",
       "<table border=\"1\" class=\"dataframe\">\n",
       "  <thead>\n",
       "    <tr style=\"text-align: right;\">\n",
       "      <th></th>\n",
       "      <th>Date Reported</th>\n",
       "      <th>Holder</th>\n",
       "      <th>pctHeld</th>\n",
       "      <th>Shares</th>\n",
       "      <th>Value</th>\n",
       "      <th>pctChange</th>\n",
       "    </tr>\n",
       "  </thead>\n",
       "  <tbody>\n",
       "    <tr>\n",
       "      <th>0</th>\n",
       "      <td>2025-03-31</td>\n",
       "      <td>Vanguard Group Inc</td>\n",
       "      <td>0.0930</td>\n",
       "      <td>691386214</td>\n",
       "      <td>310612177253</td>\n",
       "      <td>0.0107</td>\n",
       "    </tr>\n",
       "    <tr>\n",
       "      <th>1</th>\n",
       "      <td>2025-03-31</td>\n",
       "      <td>Blackrock Inc.</td>\n",
       "      <td>0.0785</td>\n",
       "      <td>583284931</td>\n",
       "      <td>262046593797</td>\n",
       "      <td>0.0122</td>\n",
       "    </tr>\n",
       "    <tr>\n",
       "      <th>2</th>\n",
       "      <td>2024-12-31</td>\n",
       "      <td>State Street Corporation</td>\n",
       "      <td>0.0397</td>\n",
       "      <td>295109622</td>\n",
       "      <td>132580951661</td>\n",
       "      <td>0.0194</td>\n",
       "    </tr>\n",
       "    <tr>\n",
       "      <th>3</th>\n",
       "      <td>2024-12-31</td>\n",
       "      <td>FMR, LLC</td>\n",
       "      <td>0.0266</td>\n",
       "      <td>197512226</td>\n",
       "      <td>88734344581</td>\n",
       "      <td>-0.0667</td>\n",
       "    </tr>\n",
       "    <tr>\n",
       "      <th>4</th>\n",
       "      <td>2024-12-31</td>\n",
       "      <td>Geode Capital Management, LLC</td>\n",
       "      <td>0.0226</td>\n",
       "      <td>168128024</td>\n",
       "      <td>75533197704</td>\n",
       "      <td>0.0188</td>\n",
       "    </tr>\n",
       "    <tr>\n",
       "      <th>5</th>\n",
       "      <td>2024-12-31</td>\n",
       "      <td>Price (T.Rowe) Associates Inc</td>\n",
       "      <td>0.0182</td>\n",
       "      <td>135151848</td>\n",
       "      <td>60718320552</td>\n",
       "      <td>-0.0037</td>\n",
       "    </tr>\n",
       "    <tr>\n",
       "      <th>6</th>\n",
       "      <td>2024-12-31</td>\n",
       "      <td>JPMORGAN CHASE &amp; CO</td>\n",
       "      <td>0.0182</td>\n",
       "      <td>134943661</td>\n",
       "      <td>60624790458</td>\n",
       "      <td>-0.0211</td>\n",
       "    </tr>\n",
       "    <tr>\n",
       "      <th>7</th>\n",
       "      <td>2024-12-31</td>\n",
       "      <td>Morgan Stanley</td>\n",
       "      <td>0.0169</td>\n",
       "      <td>125501255</td>\n",
       "      <td>56382695046</td>\n",
       "      <td>0.0117</td>\n",
       "    </tr>\n",
       "    <tr>\n",
       "      <th>8</th>\n",
       "      <td>2024-12-31</td>\n",
       "      <td>NORGES BANK</td>\n",
       "      <td>0.0142</td>\n",
       "      <td>105202984</td>\n",
       "      <td>47263493619</td>\n",
       "      <td>0.0838</td>\n",
       "    </tr>\n",
       "    <tr>\n",
       "      <th>9</th>\n",
       "      <td>2024-12-31</td>\n",
       "      <td>Northern Trust Corporation</td>\n",
       "      <td>0.0113</td>\n",
       "      <td>83787746</td>\n",
       "      <td>37642483586</td>\n",
       "      <td>0.1607</td>\n",
       "    </tr>\n",
       "  </tbody>\n",
       "</table>\n",
       "</div>"
      ],
      "text/plain": [
       "  Date Reported                         Holder  pctHeld     Shares  \\\n",
       "0    2025-03-31             Vanguard Group Inc   0.0930  691386214   \n",
       "1    2025-03-31                 Blackrock Inc.   0.0785  583284931   \n",
       "2    2024-12-31       State Street Corporation   0.0397  295109622   \n",
       "3    2024-12-31                       FMR, LLC   0.0266  197512226   \n",
       "4    2024-12-31  Geode Capital Management, LLC   0.0226  168128024   \n",
       "5    2024-12-31  Price (T.Rowe) Associates Inc   0.0182  135151848   \n",
       "6    2024-12-31            JPMORGAN CHASE & CO   0.0182  134943661   \n",
       "7    2024-12-31                 Morgan Stanley   0.0169  125501255   \n",
       "8    2024-12-31                    NORGES BANK   0.0142  105202984   \n",
       "9    2024-12-31     Northern Trust Corporation   0.0113   83787746   \n",
       "\n",
       "          Value  pctChange  \n",
       "0  310612177253     0.0107  \n",
       "1  262046593797     0.0122  \n",
       "2  132580951661     0.0194  \n",
       "3   88734344581    -0.0667  \n",
       "4   75533197704     0.0188  \n",
       "5   60718320552    -0.0037  \n",
       "6   60624790458    -0.0211  \n",
       "7   56382695046     0.0117  \n",
       "8   47263493619     0.0838  \n",
       "9   37642483586     0.1607  "
      ]
     },
     "execution_count": 20,
     "metadata": {},
     "output_type": "execute_result"
    }
   ],
   "source": [
    "co.institutional_holders\n",
    "# co.earnings_estimate"
   ]
  },
  {
   "cell_type": "code",
   "execution_count": 7,
   "id": "f1bd88a3-506f-4247-8acc-4d8b6b63c11d",
   "metadata": {},
   "outputs": [],
   "source": [
    "revenue = 4522550"
   ]
  },
  {
   "cell_type": "code",
   "execution_count": 103,
   "id": "0cc4c42c-a5a1-45e8-b20b-138538c31600",
   "metadata": {},
   "outputs": [],
   "source": [
    "years = co.income_stmt.loc[\"Total Revenue\"].to_frame().apply(lambda r: r.name.year, axis=1)"
   ]
  },
  {
   "cell_type": "code",
   "execution_count": 62,
   "id": "439c98fe-04e1-4b32-915f-f44a4a1a1c31",
   "metadata": {},
   "outputs": [],
   "source": [
    "nx = yf.Ticker(\"2z\")"
   ]
  },
  {
   "cell_type": "code",
   "execution_count": 72,
   "id": "fb60c06c-a740-4521-8a03-1d1c784cd9c6",
   "metadata": {},
   "outputs": [],
   "source": [
    "nx.info.get(\"shortName\")"
   ]
  },
  {
   "cell_type": "code",
   "execution_count": 108,
   "id": "951e32d5-224a-4831-bd36-6fa19f293731",
   "metadata": {},
   "outputs": [
    {
     "data": {
      "text/plain": [
       "'Citigroup, Inc.'"
      ]
     },
     "execution_count": 108,
     "metadata": {},
     "output_type": "execute_result"
    }
   ],
   "source": [
    "co.info[\"shortName\"]"
   ]
  },
  {
   "cell_type": "code",
   "execution_count": 104,
   "id": "45551589-d9b4-44b7-96e6-a1716f827a4a",
   "metadata": {},
   "outputs": [],
   "source": [
    "revs = co.income_stmt.loc[\"Total Revenue\"]"
   ]
  },
  {
   "cell_type": "code",
   "execution_count": 105,
   "id": "59d5dc17-cfaf-4041-b87a-986d5c007071",
   "metadata": {},
   "outputs": [
    {
     "data": {
      "text/plain": [
       "2023-12-31    1450871000.0\n",
       "2022-12-31    1261868000.0\n",
       "2021-12-31    1258846000.0\n",
       "2020-12-31    1124391000.0\n",
       "Name: Total Revenue, dtype: object"
      ]
     },
     "execution_count": 105,
     "metadata": {},
     "output_type": "execute_result"
    }
   ],
   "source": [
    "revs"
   ]
  },
  {
   "cell_type": "code",
   "execution_count": 11,
   "id": "9fc77b94-c5b2-43a7-90df-60bbca3f722f",
   "metadata": {},
   "outputs": [
    {
     "data": {
      "text/plain": [
       "True"
      ]
     },
     "execution_count": 11,
     "metadata": {},
     "output_type": "execute_result"
    }
   ],
   "source": [
    "co.income_stmt.loc[\"Total Revenue\", '2023-09-30'] == revenue*1000"
   ]
  },
  {
   "cell_type": "code",
   "execution_count": 12,
   "id": "365f89da-73e8-4eb4-96e5-abde7e26f759",
   "metadata": {},
   "outputs": [],
   "source": [
    "co = yf.Ticker(\"600383\")"
   ]
  },
  {
   "cell_type": "code",
   "execution_count": 15,
   "id": "9a119cdd-0eb5-488d-a09c-3f1e5548e789",
   "metadata": {},
   "outputs": [
    {
     "name": "stderr",
     "output_type": "stream",
     "text": [
      "404 Client Error: Not Found for url: https://query2.finance.yahoo.com/v10/finance/quoteSummary/600383?modules=financialData%2CquoteType%2CdefaultKeyStatistics%2CassetProfile%2CsummaryDetail&corsDomain=finance.yahoo.com&formatted=false&symbol=600383&crumb=M4Dp01e0VzE\n"
     ]
    },
    {
     "data": {
      "text/plain": [
       "{'trailingPegRatio': None}"
      ]
     },
     "execution_count": 15,
     "metadata": {},
     "output_type": "execute_result"
    }
   ],
   "source": [
    "co.info"
   ]
  },
  {
   "cell_type": "code",
   "execution_count": null,
   "id": "c649b285-e8e7-495a-8bc0-5363733d7dcd",
   "metadata": {},
   "outputs": [],
   "source": []
  }
 ],
 "metadata": {
  "kernelspec": {
   "display_name": "Python 3 (ipykernel)",
   "language": "python",
   "name": "python3"
  },
  "language_info": {
   "codemirror_mode": {
    "name": "ipython",
    "version": 3
   },
   "file_extension": ".py",
   "mimetype": "text/x-python",
   "name": "python",
   "nbconvert_exporter": "python",
   "pygments_lexer": "ipython3",
   "version": "3.11.10"
  }
 },
 "nbformat": 4,
 "nbformat_minor": 5
}
