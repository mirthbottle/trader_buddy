{
 "cells": [
  {
   "cell_type": "code",
   "execution_count": 1,
   "id": "fb8cd74b-347b-429c-a030-9bb7cfd8bee3",
   "metadata": {},
   "outputs": [],
   "source": [
    "%load_ext autoreload\n",
    "%autoreload 2\n",
    "\n",
    "%load_ext dotenv\n",
    "%dotenv"
   ]
  },
  {
   "cell_type": "code",
   "execution_count": 22,
   "id": "a56e4805-b0ac-447e-a1cc-0cdea72d983e",
   "metadata": {},
   "outputs": [
    {
     "name": "stdout",
     "output_type": "stream",
     "text": [
      "/workspaces/src/trader_buddy/jupyter-notebooks\n"
     ]
    }
   ],
   "source": [
    "from pathlib import Path\n",
    "\n",
    "print(Path.cwd())  # /home/skovorodkin/stack"
   ]
  },
  {
   "cell_type": "code",
   "execution_count": 3,
   "id": "3c416a48-0ef3-45d9-a61c-9af080249446",
   "metadata": {},
   "outputs": [],
   "source": [
    "import yfinance as yf"
   ]
  },
  {
   "cell_type": "code",
   "execution_count": 4,
   "id": "be0eeb6b-88db-4659-9b1f-d63555c7bc7d",
   "metadata": {},
   "outputs": [],
   "source": [
    "sp500 = yf.Ticker(\"IVV\")"
   ]
  },
  {
   "cell_type": "code",
   "execution_count": 6,
   "id": "272f48e2-78dd-4a1a-8b65-a58d16ef9a74",
   "metadata": {},
   "outputs": [
    {
     "data": {
      "text/plain": [
       "'iShares Core S&P 500 ETF'"
      ]
     },
     "execution_count": 6,
     "metadata": {},
     "output_type": "execute_result"
    }
   ],
   "source": [
    "sp500.info[\"shortName\"]"
   ]
  },
  {
   "cell_type": "code",
   "execution_count": 10,
   "id": "198a7134-a858-4f14-89c7-c68f03471a9d",
   "metadata": {},
   "outputs": [
    {
     "data": {
      "text/plain": [
       "'17732e4a-0401-33ba-977d-a9848ab99a1e'"
      ]
     },
     "execution_count": 10,
     "metadata": {},
     "output_type": "execute_result"
    }
   ],
   "source": [
    "sp500.info[\"uuid\"]"
   ]
  },
  {
   "cell_type": "code",
   "execution_count": 11,
   "id": "c60929ab-0a38-4f28-b026-999eb464fa68",
   "metadata": {},
   "outputs": [
    {
     "data": {
      "text/plain": [
       "'PCX'"
      ]
     },
     "execution_count": 11,
     "metadata": {},
     "output_type": "execute_result"
    }
   ],
   "source": [
    "sp500.info[\"exchange\"]"
   ]
  },
  {
   "cell_type": "code",
   "execution_count": 12,
   "id": "476cd609-6fa0-4afa-a416-8df752c52644",
   "metadata": {},
   "outputs": [
    {
     "data": {
      "text/plain": [
       "489.94"
      ]
     },
     "execution_count": 12,
     "metadata": {},
     "output_type": "execute_result"
    }
   ],
   "source": [
    "sp500.info[\"open\"]"
   ]
  },
  {
   "cell_type": "code",
   "execution_count": 13,
   "id": "ce0e83a4-e44f-4d95-91fd-dd12c6b1ef0b",
   "metadata": {},
   "outputs": [
    {
     "data": {
      "text/plain": [
       "489.62"
      ]
     },
     "execution_count": 13,
     "metadata": {},
     "output_type": "execute_result"
    }
   ],
   "source": [
    "sp500.info[\"bid\"]"
   ]
  },
  {
   "cell_type": "code",
   "execution_count": 16,
   "id": "ec155a3c-2bb2-4171-852b-3e6cf5fc2f9c",
   "metadata": {},
   "outputs": [
    {
     "data": {
      "text/plain": [
       "487.61"
      ]
     },
     "execution_count": 16,
     "metadata": {},
     "output_type": "execute_result"
    }
   ],
   "source": [
    "sp500.info[\"previousClose\"]"
   ]
  },
  {
   "cell_type": "code",
   "execution_count": 17,
   "id": "2407cb42-e278-4b1f-b3f7-13dec925b8b0",
   "metadata": {},
   "outputs": [
    {
     "data": {
      "text/plain": [
       "6635596"
      ]
     },
     "execution_count": 17,
     "metadata": {},
     "output_type": "execute_result"
    }
   ],
   "source": [
    "sp500.info[\"volume\"]"
   ]
  },
  {
   "cell_type": "code",
   "execution_count": 9,
   "id": "0a88fbd7-2145-43d6-974a-d38e6492ee2f",
   "metadata": {},
   "outputs": [
    {
     "data": {
      "text/plain": [
       "['phone',\n",
       " 'longBusinessSummary',\n",
       " 'maxAge',\n",
       " 'priceHint',\n",
       " 'previousClose',\n",
       " 'open',\n",
       " 'dayLow',\n",
       " 'dayHigh',\n",
       " 'regularMarketPreviousClose',\n",
       " 'regularMarketOpen',\n",
       " 'regularMarketDayLow',\n",
       " 'regularMarketDayHigh',\n",
       " 'trailingPE',\n",
       " 'volume',\n",
       " 'regularMarketVolume',\n",
       " 'averageVolume',\n",
       " 'averageVolume10days',\n",
       " 'averageDailyVolume10Day',\n",
       " 'bid',\n",
       " 'ask',\n",
       " 'bidSize',\n",
       " 'askSize',\n",
       " 'yield',\n",
       " 'totalAssets',\n",
       " 'fiftyTwoWeekLow',\n",
       " 'fiftyTwoWeekHigh',\n",
       " 'fiftyDayAverage',\n",
       " 'twoHundredDayAverage',\n",
       " 'trailingAnnualDividendRate',\n",
       " 'trailingAnnualDividendYield',\n",
       " 'navPrice',\n",
       " 'currency',\n",
       " 'category',\n",
       " 'ytdReturn',\n",
       " 'beta3Year',\n",
       " 'fundFamily',\n",
       " 'fundInceptionDate',\n",
       " 'legalType',\n",
       " 'threeYearAverageReturn',\n",
       " 'fiveYearAverageReturn',\n",
       " 'exchange',\n",
       " 'quoteType',\n",
       " 'symbol',\n",
       " 'underlyingSymbol',\n",
       " 'shortName',\n",
       " 'longName',\n",
       " 'firstTradeDateEpochUtc',\n",
       " 'timeZoneFullName',\n",
       " 'timeZoneShortName',\n",
       " 'uuid',\n",
       " 'messageBoardId',\n",
       " 'gmtOffSetMilliseconds',\n",
       " 'trailingPegRatio']"
      ]
     },
     "execution_count": 9,
     "metadata": {},
     "output_type": "execute_result"
    }
   ],
   "source": [
    "list(sp500.info)"
   ]
  },
  {
   "cell_type": "code",
   "execution_count": 18,
   "id": "1e34e0a6-574b-4b58-9ff7-d365aeb9302e",
   "metadata": {},
   "outputs": [],
   "source": [
    "# get historical market data\n",
    "# hist = sp500.history(period=\"1mo\")\n",
    "hist = sp500.history(period=\"1day\")"
   ]
  },
  {
   "cell_type": "code",
   "execution_count": 19,
   "id": "b66f6a45-0150-4c2e-9810-0e1193368de9",
   "metadata": {},
   "outputs": [
    {
     "data": {
      "text/html": [
       "<div>\n",
       "<style scoped>\n",
       "    .dataframe tbody tr th:only-of-type {\n",
       "        vertical-align: middle;\n",
       "    }\n",
       "\n",
       "    .dataframe tbody tr th {\n",
       "        vertical-align: top;\n",
       "    }\n",
       "\n",
       "    .dataframe thead th {\n",
       "        text-align: right;\n",
       "    }\n",
       "</style>\n",
       "<table border=\"1\" class=\"dataframe\">\n",
       "  <thead>\n",
       "    <tr style=\"text-align: right;\">\n",
       "      <th></th>\n",
       "      <th>Open</th>\n",
       "      <th>High</th>\n",
       "      <th>Low</th>\n",
       "      <th>Close</th>\n",
       "      <th>Volume</th>\n",
       "      <th>Dividends</th>\n",
       "      <th>Stock Splits</th>\n",
       "      <th>Capital Gains</th>\n",
       "    </tr>\n",
       "    <tr>\n",
       "      <th>Date</th>\n",
       "      <th></th>\n",
       "      <th></th>\n",
       "      <th></th>\n",
       "      <th></th>\n",
       "      <th></th>\n",
       "      <th></th>\n",
       "      <th></th>\n",
       "      <th></th>\n",
       "    </tr>\n",
       "  </thead>\n",
       "  <tbody>\n",
       "    <tr>\n",
       "      <th>2024-01-25 00:00:00-05:00</th>\n",
       "      <td>489.940002</td>\n",
       "      <td>490.619995</td>\n",
       "      <td>487.839996</td>\n",
       "      <td>490.329987</td>\n",
       "      <td>6615725</td>\n",
       "      <td>0.0</td>\n",
       "      <td>0.0</td>\n",
       "      <td>0.0</td>\n",
       "    </tr>\n",
       "  </tbody>\n",
       "</table>\n",
       "</div>"
      ],
      "text/plain": [
       "                                 Open        High         Low       Close  \\\n",
       "Date                                                                        \n",
       "2024-01-25 00:00:00-05:00  489.940002  490.619995  487.839996  490.329987   \n",
       "\n",
       "                            Volume  Dividends  Stock Splits  Capital Gains  \n",
       "Date                                                                        \n",
       "2024-01-25 00:00:00-05:00  6615725        0.0           0.0            0.0  "
      ]
     },
     "execution_count": 19,
     "metadata": {},
     "output_type": "execute_result"
    }
   ],
   "source": [
    "hist"
   ]
  },
  {
   "cell_type": "code",
   "execution_count": null,
   "id": "4699e594-936c-46a5-9beb-28a5b6837184",
   "metadata": {},
   "outputs": [],
   "source": []
  }
 ],
 "metadata": {
  "kernelspec": {
   "display_name": "Python 3 (ipykernel)",
   "language": "python",
   "name": "python3"
  },
  "language_info": {
   "codemirror_mode": {
    "name": "ipython",
    "version": 3
   },
   "file_extension": ".py",
   "mimetype": "text/x-python",
   "name": "python",
   "nbconvert_exporter": "python",
   "pygments_lexer": "ipython3",
   "version": "3.11.6"
  }
 },
 "nbformat": 4,
 "nbformat_minor": 5
}
