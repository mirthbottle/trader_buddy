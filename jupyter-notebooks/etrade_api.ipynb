{
 "cells": [
  {
   "cell_type": "code",
   "execution_count": 1,
   "id": "52eb9e0c-b18b-4f58-9d2b-9b40145fa34c",
   "metadata": {},
   "outputs": [],
   "source": [
    "%load_ext autoreload\n",
    "%autoreload 2\n",
    "\n",
    "%load_ext dotenv\n",
    "%dotenv"
   ]
  },
  {
   "cell_type": "code",
   "execution_count": 2,
   "id": "6530afbc-d305-4085-a36a-994560db6faa",
   "metadata": {},
   "outputs": [],
   "source": [
    "import pandas as pd\n",
    "from datetime import date\n",
    "\n",
    "import os"
   ]
  },
  {
   "cell_type": "code",
   "execution_count": 3,
   "id": "663f2d80-82a8-45fe-8453-c806fdd0e8b2",
   "metadata": {},
   "outputs": [],
   "source": [
    "import authorization as auth"
   ]
  },
  {
   "cell_type": "code",
   "execution_count": 3,
   "id": "70c24566-260f-41e2-a5f7-e844c1829540",
   "metadata": {},
   "outputs": [],
   "source": [
    "consumer_key = os.getenv(\"ETRADE_SANDBOX_KEY\")\n",
    "consumer_secret = os.getenv(\"ETRADE_SANDBOX_SECRET\")"
   ]
  },
  {
   "cell_type": "code",
   "execution_count": 8,
   "id": "81cf2a57-10ed-4dd4-b508-04753265b4d7",
   "metadata": {},
   "outputs": [],
   "source": [
    "sb_oauth = auth.ETradeOAuth(consumer_key, consumer_secret)"
   ]
  },
  {
   "cell_type": "code",
   "execution_count": 10,
   "id": "a40991a7-9ed2-40e7-98d2-9684a16dfe61",
   "metadata": {},
   "outputs": [],
   "source": [
    "from rauth import OAuth1Service\n",
    "import webbrowser"
   ]
  },
  {
   "cell_type": "code",
   "execution_count": 5,
   "id": "529fdb4f-890e-4060-855f-084aca3d0b36",
   "metadata": {},
   "outputs": [],
   "source": [
    "service = OAuth1Service(\n",
    "              name = 'etrade',\n",
    "              consumer_key = consumer_key,\n",
    "              consumer_secret = consumer_secret,\n",
    "              request_token_url = 'https://apisb.etrade.com/oauth/request_token',\n",
    "              access_token_url = 'https://apisb.etrade.com/oauth/access_token',\n",
    "              authorize_url = 'https://us.etrade.com/e/t/etws/authorize?key={}&token={}',\n",
    "              base_url = 'https://apisb.etrade.com')\n"
   ]
  },
  {
   "cell_type": "code",
   "execution_count": 86,
   "id": "da8f86ac-17d1-4f6e-a9f0-1a046775c754",
   "metadata": {},
   "outputs": [],
   "source": [
    "oauth_token, oauth_token_secret = service.get_request_token(params = \n",
    "                                  {'oauth_callback': 'oob', \n",
    "                                   'format': 'json'})"
   ]
  },
  {
   "cell_type": "code",
   "execution_count": 87,
   "id": "2006d46a-53e1-45ca-9c0b-78aacd29cd58",
   "metadata": {},
   "outputs": [],
   "source": [
    "auth_url = service.authorize_url.format(consumer_key, oauth_token)"
   ]
  },
  {
   "cell_type": "code",
   "execution_count": 88,
   "id": "03b08bb9-7881-4b8f-8a23-7d164f4e4fde",
   "metadata": {},
   "outputs": [
    {
     "name": "stdin",
     "output_type": "stream",
     "text": [
      "Please input the verifier:  OPZHC\n"
     ]
    }
   ],
   "source": [
    "# Get verifier (direct input in console, still working on callback)\n",
    "webbrowser.open(auth_url)\n",
    "verifier = input('Please input the verifier: ')"
   ]
  },
  {
   "cell_type": "code",
   "execution_count": 89,
   "id": "1a8604be-6d9d-46b8-9688-93a329a9ca5e",
   "metadata": {},
   "outputs": [],
   "source": [
    "session = service.get_auth_session(oauth_token, oauth_token_secret, params = {'oauth_verifier': verifier})"
   ]
  },
  {
   "cell_type": "code",
   "execution_count": 91,
   "id": "882c661e-c32c-4554-b5b0-b6c68292a981",
   "metadata": {},
   "outputs": [],
   "source": [
    "list_accounts_url = 'https://apisb.etrade.com/v1/accounts/list.json'"
   ]
  },
  {
   "cell_type": "code",
   "execution_count": 92,
   "id": "a448e718-bb79-480e-addd-87ed3c133ded",
   "metadata": {},
   "outputs": [],
   "source": [
    "resp = session.get(list_accounts_url, params = {'format': 'json'})"
   ]
  },
  {
   "cell_type": "code",
   "execution_count": 94,
   "id": "c52fce4f-14e2-429b-9ef8-d7f9f3f4dac7",
   "metadata": {},
   "outputs": [
    {
     "data": {
      "text/plain": [
       "{'AccountListResponse': {'Accounts': {'Account': [{'accountId': '823145980',\n",
       "     'accountIdKey': 'dBZOKt9xDrtRSAOl4MSiiA',\n",
       "     'accountMode': 'IRA',\n",
       "     'accountDesc': 'Brokerage',\n",
       "     'accountName': 'NickName-1',\n",
       "     'accountType': 'MARGIN',\n",
       "     'institutionType': 'BROKERAGE',\n",
       "     'accountStatus': 'ACTIVE',\n",
       "     'closedDate': 0,\n",
       "     'shareWorksAccount': False,\n",
       "     'fcManagedMssbClosedAccount': False},\n",
       "    {'accountId': '583156360',\n",
       "     'accountIdKey': 'vQMsebA1H5WltUfDkJP48g',\n",
       "     'accountMode': 'CASH',\n",
       "     'accountDesc': 'Complete Savings',\n",
       "     'accountName': 'NickName-2',\n",
       "     'accountType': 'INDIVIDUAL',\n",
       "     'institutionType': 'BROKERAGE',\n",
       "     'accountStatus': 'ACTIVE',\n",
       "     'closedDate': 0,\n",
       "     'shareWorksAccount': False,\n",
       "     'fcManagedMssbClosedAccount': False},\n",
       "    {'accountId': '707004180',\n",
       "     'accountIdKey': '6_Dpy0rmuQ9cu9IbTfvF2A',\n",
       "     'accountMode': 'CASH',\n",
       "     'accountDesc': 'INDIVIDUAL',\n",
       "     'accountName': 'NickName-3',\n",
       "     'accountType': 'INDIVIDUAL',\n",
       "     'institutionType': 'BROKERAGE',\n",
       "     'accountStatus': 'ACTIVE',\n",
       "     'closedDate': 0,\n",
       "     'shareWorksAccount': False,\n",
       "     'fcManagedMssbClosedAccount': False},\n",
       "    {'accountId': '835151430',\n",
       "     'accountIdKey': 'xj1Dc18FTqWPqkEEVUr5rw',\n",
       "     'accountMode': 'CASH',\n",
       "     'accountDesc': 'INDIVIDUAL',\n",
       "     'accountName': '',\n",
       "     'accountType': 'CASH',\n",
       "     'institutionType': 'BROKERAGE',\n",
       "     'accountStatus': 'CLOSED',\n",
       "     'closedDate': 1521027780,\n",
       "     'shareWorksAccount': False,\n",
       "     'fcManagedMssbClosedAccount': False}]}}}"
      ]
     },
     "execution_count": 94,
     "metadata": {},
     "output_type": "execute_result"
    }
   ],
   "source": [
    "# resp.text\n",
    "resp.json()"
   ]
  },
  {
   "cell_type": "code",
   "execution_count": 95,
   "id": "36d4392a-9054-4d23-9b07-d3c062499ccd",
   "metadata": {},
   "outputs": [],
   "source": [
    "accountIdKey = \"xj1Dc18FTqWPqkEEVUr5rw\"\n",
    "instType = \"BROKERAGE\""
   ]
  },
  {
   "cell_type": "code",
   "execution_count": 96,
   "id": "ac0350b2-0381-4514-9bed-ee344cfbb4ff",
   "metadata": {},
   "outputs": [],
   "source": [
    "account_balances_url = f\"https://apisb.etrade.com/v1/accounts/{accountIdKey}/balance.json\""
   ]
  },
  {
   "cell_type": "code",
   "execution_count": 75,
   "id": "3d9940bb-9062-4fc8-9c51-a29aae76517e",
   "metadata": {},
   "outputs": [
    {
     "data": {
      "text/plain": [
       "'https://apisb.etrade.com/v1/accounts/xj1Dc18FTqWPqkEEVUr5rw/balance'"
      ]
     },
     "execution_count": 75,
     "metadata": {},
     "output_type": "execute_result"
    }
   ],
   "source": [
    "account_balances_url"
   ]
  },
  {
   "cell_type": "code",
   "execution_count": 76,
   "id": "01d45a0d-5200-49ee-9cce-ba68b8189a54",
   "metadata": {},
   "outputs": [],
   "source": [
    "resp = session.get(account_balances_url, params = {\"instType\":instType,\"realNAV\": False})"
   ]
  },
  {
   "cell_type": "code",
   "execution_count": 77,
   "id": "b5c3e869-450e-4fdd-860f-72fd0cfa3015",
   "metadata": {},
   "outputs": [
    {
     "data": {
      "text/plain": [
       "'<?xml version=\"1.0\" encoding=\"UTF-8\" standalone=\"yes\"?><BalanceResponse><accountId>833535350</accountId><accountType>MARGIN</accountType><optionLevel>LEVEL_4</optionLevel><accountDescription></accountDescription><Cash><fundsForOpenOrdersCash>0.0</fundsForOpenOrdersCash><moneyMktBalance>0.0</moneyMktBalance></Cash><Computed><cashAvailableForInvestment>0.00</cashAvailableForInvestment><cashAvailableForWithdrawal>0.00</cashAvailableForWithdrawal><netCash>-740.450013</netCash><cashBalance>0.0</cashBalance><settledCashForInvestment>0.0</settledCashForInvestment><unSettledCashForInvestment>0.0</unSettledCashForInvestment><fundsWithheldFromPurchasePower>0.0</fundsWithheldFromPurchasePower><fundsWithheldFromWithdrawal>0.0</fundsWithheldFromWithdrawal><OpenCalls><cashCall>0.0</cashCall></OpenCalls><RealTimeValues><totalAccountValue>0.0</totalAccountValue><netMv>-454.22</netMv><netMvLong>0.0</netMvLong></RealTimeValues></Computed></BalanceResponse>'"
      ]
     },
     "execution_count": 77,
     "metadata": {},
     "output_type": "execute_result"
    }
   ],
   "source": [
    "resp.text"
   ]
  },
  {
   "cell_type": "code",
   "execution_count": 97,
   "id": "bfef7edb-d14a-4b01-b070-0ada2f205769",
   "metadata": {},
   "outputs": [],
   "source": [
    "view_portfolio_url = f\"https://apisb.etrade.com/v1/accounts/{accountIdKey}/portfolio.json\""
   ]
  },
  {
   "cell_type": "code",
   "execution_count": 98,
   "id": "42fcfb78-96be-449d-a980-1b6d4d513a9c",
   "metadata": {},
   "outputs": [],
   "source": [
    "viewp_resp = session.get(view_portfolio_url)"
   ]
  },
  {
   "cell_type": "code",
   "execution_count": 80,
   "id": "e7dad2c9-2388-4dda-8884-9bab2108e8a0",
   "metadata": {},
   "outputs": [],
   "source": [
    "import json"
   ]
  },
  {
   "cell_type": "code",
   "execution_count": 99,
   "id": "3df84cfa-736a-41ff-a750-5b080ac1f01f",
   "metadata": {},
   "outputs": [],
   "source": [
    "data = json.loads(viewp_resp.text)"
   ]
  },
  {
   "cell_type": "code",
   "execution_count": 102,
   "id": "d08f1eaf-2b4b-4c66-8451-6c5a32dec389",
   "metadata": {},
   "outputs": [
    {
     "data": {
      "text/plain": [
       "True"
      ]
     },
     "execution_count": 102,
     "metadata": {},
     "output_type": "execute_result"
    }
   ],
   "source": [
    "viewp_resp.json() == data"
   ]
  },
  {
   "cell_type": "code",
   "execution_count": 104,
   "id": "fcc693f2-1fee-4650-bbc1-d773cdabc429",
   "metadata": {},
   "outputs": [
    {
     "data": {
      "text/plain": [
       "True"
      ]
     },
     "execution_count": 104,
     "metadata": {},
     "output_type": "execute_result"
    }
   ],
   "source": [
    "'PortfolioResponse' in data"
   ]
  },
  {
   "cell_type": "code",
   "execution_count": 100,
   "id": "7309d0d6-f9b7-44cc-905f-0d6d83b188a0",
   "metadata": {},
   "outputs": [
    {
     "data": {
      "text/plain": [
       "{'PortfolioResponse': {'AccountPortfolio': [{'accountId': '833597000',\n",
       "    'Position': [{'positionId': 27005131,\n",
       "      'symbolDescription': 'BR',\n",
       "      'dateAcquired': -57600000,\n",
       "      'pricePaid': 0,\n",
       "      'commissions': 0,\n",
       "      'otherFees': 0,\n",
       "      'quantity': 10,\n",
       "      'positionIndicator': 'TYPE2',\n",
       "      'positionType': 'LONG',\n",
       "      'daysGain': -2.7999,\n",
       "      'daysGainPct': -1.3346,\n",
       "      'marketValue': 207,\n",
       "      'totalCost': 0,\n",
       "      'totalGain': 207,\n",
       "      'totalGainPct': 0,\n",
       "      'pctOfPortfolio': 0.0018,\n",
       "      'costPerShare': 0,\n",
       "      'todayCommissions': 0,\n",
       "      'todayFees': 0,\n",
       "      'todayPricePaid': 0,\n",
       "      'todayQuantity': 0,\n",
       "      'lotsDetails': 'https://apisb.etrade.com/v1/accounts/E5Nd4LJBsEi_UyHm4Vio9g/portfolio/27005131',\n",
       "      'quoteDetails': 'https://apisb.etrade.com/v1/market/quote/BR',\n",
       "      'Product': {'symbol': 'BR',\n",
       "       'securityType': 'EQ',\n",
       "       'expiryYear': 0,\n",
       "       'expiryMonth': 0,\n",
       "       'expiryDay': 0,\n",
       "       'strikePrice': 0,\n",
       "       'productId': {'symbol': 'BR'}},\n",
       "      'Quick': {'lastTrade': 20.7,\n",
       "       'lastTradeTime': 1343160240,\n",
       "       'change': -0.28,\n",
       "       'changePct': -1.3346,\n",
       "       'volume': 431591}},\n",
       "     {'positionId': 4709131,\n",
       "      'symbolDescription': 'GLD',\n",
       "      'dateAcquired': 1335250800000,\n",
       "      'pricePaid': 1,\n",
       "      'commissions': 5,\n",
       "      'otherFees': 0,\n",
       "      'quantity': 2,\n",
       "      'positionIndicator': 'TYPE1',\n",
       "      'positionType': 'LONG',\n",
       "      'daysGain': 0.9799,\n",
       "      'daysGainPct': 0.3201,\n",
       "      'marketValue': 307.04,\n",
       "      'totalCost': 7,\n",
       "      'totalGain': 300.04,\n",
       "      'totalGainPct': 4286.2857,\n",
       "      'pctOfPortfolio': 0.0028,\n",
       "      'costPerShare': 3.5,\n",
       "      'todayCommissions': 0,\n",
       "      'todayFees': 0,\n",
       "      'todayPricePaid': 0,\n",
       "      'todayQuantity': 0,\n",
       "      'lotsDetails': 'https://apisb.etrade.com/v1/accounts/E5Nd4LJBsEi_UyHm4Vio9g/portfolio/4709131',\n",
       "      'quoteDetails': 'https://apisb.etrade.com/v1/market/quote/GLD',\n",
       "      'Product': {'symbol': 'GLD',\n",
       "       'securityType': 'EQ',\n",
       "       'expiryYear': 0,\n",
       "       'expiryMonth': 0,\n",
       "       'expiryDay': 0,\n",
       "       'strikePrice': 0,\n",
       "       'productId': {'symbol': 'GLD'}},\n",
       "      'Quick': {'lastTrade': 153.52,\n",
       "       'lastTradeTime': 1343160000,\n",
       "       'change': 0.49,\n",
       "       'changePct': 0.3201,\n",
       "       'volume': 6510878}},\n",
       "     {'positionId': 4729131,\n",
       "      'symbolDescription': 'MSFT',\n",
       "      'dateAcquired': 1335250800000,\n",
       "      'pricePaid': 1,\n",
       "      'commissions': 5,\n",
       "      'otherFees': 0,\n",
       "      'quantity': 1,\n",
       "      'positionIndicator': 'TYPE2',\n",
       "      'positionType': 'LONG',\n",
       "      'daysGain': -0.13,\n",
       "      'daysGainPct': -0.4439,\n",
       "      'marketValue': 29.1499,\n",
       "      'totalCost': 6,\n",
       "      'totalGain': 23.1499,\n",
       "      'totalGainPct': 385.8333,\n",
       "      'pctOfPortfolio': 0.0002,\n",
       "      'costPerShare': 6,\n",
       "      'todayCommissions': 0,\n",
       "      'todayFees': 0,\n",
       "      'todayPricePaid': 0,\n",
       "      'todayQuantity': 0,\n",
       "      'lotsDetails': 'https://apisb.etrade.com/v1/accounts/E5Nd4LJBsEi_UyHm4Vio9g/portfolio/4729131',\n",
       "      'quoteDetails': 'https://apisb.etrade.com/v1/market/quote/MSFT',\n",
       "      'Product': {'symbol': 'MSFT',\n",
       "       'securityType': 'EQ',\n",
       "       'expiryYear': 0,\n",
       "       'expiryMonth': 0,\n",
       "       'expiryDay': 0,\n",
       "       'strikePrice': 0,\n",
       "       'productId': {'symbol': 'MSFT'}},\n",
       "      'Quick': {'lastTrade': 29.15,\n",
       "       'lastTradeTime': 1343160000,\n",
       "       'change': -0.13,\n",
       "       'changePct': -0.4439,\n",
       "       'volume': 47711254}},\n",
       "     {'positionId': 23971131,\n",
       "      'symbolDescription': 'MSFT',\n",
       "      'dateAcquired': -57600000,\n",
       "      'pricePaid': 0,\n",
       "      'commissions': 0,\n",
       "      'otherFees': 0,\n",
       "      'quantity': -10,\n",
       "      'positionIndicator': 'TYPE5',\n",
       "      'positionType': 'SHORT',\n",
       "      'daysGain': 1.3,\n",
       "      'daysGainPct': -0.4439,\n",
       "      'marketValue': -291.5,\n",
       "      'totalCost': 0,\n",
       "      'totalGain': -291.5,\n",
       "      'totalGainPct': 0,\n",
       "      'pctOfPortfolio': -0.0026,\n",
       "      'costPerShare': 0,\n",
       "      'todayCommissions': 0,\n",
       "      'todayFees': 0,\n",
       "      'todayPricePaid': 0,\n",
       "      'todayQuantity': 0,\n",
       "      'lotsDetails': 'https://apisb.etrade.com/v1/accounts/E5Nd4LJBsEi_UyHm4Vio9g/portfolio/23971131',\n",
       "      'quoteDetails': 'https://apisb.etrade.com/v1/market/quote/MSFT',\n",
       "      'Product': {'symbol': 'MSFT',\n",
       "       'securityType': 'EQ',\n",
       "       'expiryYear': 0,\n",
       "       'expiryMonth': 0,\n",
       "       'expiryDay': 0,\n",
       "       'strikePrice': 0,\n",
       "       'productId': {'symbol': 'MSFT'}},\n",
       "      'Quick': {'lastTrade': 29.15,\n",
       "       'lastTradeTime': 1343160000,\n",
       "       'change': -0.13,\n",
       "       'changePct': -0.4439,\n",
       "       'volume': 47711254}},\n",
       "     {'positionId': 4725131,\n",
       "      'symbolDescription': 'RBL',\n",
       "      'dateAcquired': 1335250800000,\n",
       "      'pricePaid': 1,\n",
       "      'commissions': 5,\n",
       "      'otherFees': 0,\n",
       "      'quantity': 2,\n",
       "      'positionIndicator': 'TYPE2',\n",
       "      'positionType': 'LONG',\n",
       "      'daysGain': -0.52,\n",
       "      'daysGainPct': -1.0252,\n",
       "      'marketValue': 50.2,\n",
       "      'totalCost': 7,\n",
       "      'totalGain': 43.2,\n",
       "      'totalGainPct': 617.1428,\n",
       "      'pctOfPortfolio': 0.0004,\n",
       "      'costPerShare': 3.5,\n",
       "      'todayCommissions': 0,\n",
       "      'todayFees': 0,\n",
       "      'todayPricePaid': 0,\n",
       "      'todayQuantity': 0,\n",
       "      'lotsDetails': 'https://apisb.etrade.com/v1/accounts/E5Nd4LJBsEi_UyHm4Vio9g/portfolio/4725131',\n",
       "      'quoteDetails': 'https://apisb.etrade.com/v1/market/quote/RBL',\n",
       "      'Product': {'symbol': 'RBL',\n",
       "       'securityType': 'EQ',\n",
       "       'expiryYear': 0,\n",
       "       'expiryMonth': 0,\n",
       "       'expiryDay': 0,\n",
       "       'strikePrice': 0,\n",
       "       'productId': {'symbol': 'RBL'}},\n",
       "      'Quick': {'lastTrade': 25.1,\n",
       "       'lastTradeTime': 1343159760,\n",
       "       'change': -0.26,\n",
       "       'changePct': -1.0252,\n",
       "       'volume': 11827}},\n",
       "     {'positionId': 20841131,\n",
       "      'symbolDescription': 'RPI',\n",
       "      'dateAcquired': 1335250800000,\n",
       "      'pricePaid': 7.5599,\n",
       "      'commissions': 5,\n",
       "      'otherFees': 45,\n",
       "      'quantity': 2,\n",
       "      'positionIndicator': 'TYPE2',\n",
       "      'positionType': 'LONG',\n",
       "      'daysGain': 0,\n",
       "      'daysGainPct': 0,\n",
       "      'marketValue': 2.8599,\n",
       "      'totalCost': 65.12,\n",
       "      'totalGain': -62.2599,\n",
       "      'totalGainPct': -95.6081,\n",
       "      'pctOfPortfolio': 0.0,\n",
       "      'costPerShare': 32.56,\n",
       "      'todayCommissions': 0,\n",
       "      'todayFees': 0,\n",
       "      'todayPricePaid': 0,\n",
       "      'todayQuantity': 0,\n",
       "      'lotsDetails': 'https://apisb.etrade.com/v1/accounts/E5Nd4LJBsEi_UyHm4Vio9g/portfolio/20841131',\n",
       "      'quoteDetails': 'https://apisb.etrade.com/v1/market/quote/RPI',\n",
       "      'Product': {'symbol': 'RPI',\n",
       "       'securityType': 'EQ',\n",
       "       'expiryYear': 0,\n",
       "       'expiryMonth': 0,\n",
       "       'expiryDay': 0,\n",
       "       'strikePrice': 0,\n",
       "       'productId': {'symbol': 'RPI'}},\n",
       "      'Quick': {'lastTrade': 1.43,\n",
       "       'lastTradeTime': 1343150700,\n",
       "       'change': 0,\n",
       "       'changePct': 0,\n",
       "       'volume': 1803}},\n",
       "     {'positionId': 4732131,\n",
       "      'symbolDescription': 'RXD',\n",
       "      'dateAcquired': 1335250800000,\n",
       "      'pricePaid': 1,\n",
       "      'commissions': 2.99,\n",
       "      'otherFees': 0.0099,\n",
       "      'quantity': -3,\n",
       "      'positionIndicator': 'TYPE5',\n",
       "      'positionType': 'SHORT',\n",
       "      'daysGain': -1.296,\n",
       "      'daysGainPct': 2.6799,\n",
       "      'marketValue': -49.6559,\n",
       "      'totalCost': 0,\n",
       "      'totalGain': -49.6559,\n",
       "      'totalGainPct': -827.6,\n",
       "      'pctOfPortfolio': -0.0004,\n",
       "      'costPerShare': 0,\n",
       "      'todayCommissions': 0,\n",
       "      'todayFees': 0,\n",
       "      'todayPricePaid': 0,\n",
       "      'todayQuantity': 0,\n",
       "      'lotsDetails': 'https://apisb.etrade.com/v1/accounts/E5Nd4LJBsEi_UyHm4Vio9g/portfolio/4732131',\n",
       "      'quoteDetails': 'https://apisb.etrade.com/v1/market/quote/RXD',\n",
       "      'Product': {'symbol': 'RXD',\n",
       "       'securityType': 'EQ',\n",
       "       'expiryYear': 0,\n",
       "       'expiryMonth': 0,\n",
       "       'expiryDay': 0,\n",
       "       'strikePrice': 0,\n",
       "       'productId': {'symbol': 'RXD'}},\n",
       "      'Quick': {'lastTrade': 16.552,\n",
       "       'lastTradeTime': 1343157480,\n",
       "       'change': 0.432,\n",
       "       'changePct': 2.6799,\n",
       "       'volume': 2200}}],\n",
       "    'totalPages': 1}]}}"
      ]
     },
     "execution_count": 100,
     "metadata": {},
     "output_type": "execute_result"
    }
   ],
   "source": [
    "data"
   ]
  },
  {
   "cell_type": "code",
   "execution_count": 6,
   "id": "7c7c0a2c-d302-404b-b18d-5ff803a0b020",
   "metadata": {},
   "outputs": [],
   "source": [
    "a = [0, None]"
   ]
  },
  {
   "cell_type": "code",
   "execution_count": 11,
   "id": "7d532a46-787e-4d7c-937a-6dec9ad67fb3",
   "metadata": {},
   "outputs": [
    {
     "data": {
      "text/plain": [
       "0"
      ]
     },
     "execution_count": 11,
     "metadata": {},
     "output_type": "execute_result"
    }
   ],
   "source": [
    "8//10"
   ]
  },
  {
   "cell_type": "code",
   "execution_count": null,
   "id": "3528a318-7440-413c-93dc-b387195a3d60",
   "metadata": {},
   "outputs": [],
   "source": []
  }
 ],
 "metadata": {
  "kernelspec": {
   "display_name": "Python 3 (ipykernel)",
   "language": "python",
   "name": "python3"
  },
  "language_info": {
   "codemirror_mode": {
    "name": "ipython",
    "version": 3
   },
   "file_extension": ".py",
   "mimetype": "text/x-python",
   "name": "python",
   "nbconvert_exporter": "python",
   "pygments_lexer": "ipython3",
   "version": "3.11.6"
  }
 },
 "nbformat": 4,
 "nbformat_minor": 5
}
