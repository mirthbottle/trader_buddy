{
 "cells": [
  {
   "cell_type": "code",
   "execution_count": 2,
   "id": "52eb9e0c-b18b-4f58-9d2b-9b40145fa34c",
   "metadata": {},
   "outputs": [],
   "source": [
    "%load_ext autoreload\n",
    "%autoreload 2\n",
    "\n",
    "%load_ext dotenv\n",
    "%dotenv"
   ]
  },
  {
   "cell_type": "code",
   "execution_count": 4,
   "id": "70ebe237-5391-4a24-8467-a8d28e2e77b3",
   "metadata": {},
   "outputs": [],
   "source": [
    "# to reload\n",
    "%dotenv"
   ]
  },
  {
   "cell_type": "code",
   "execution_count": 3,
   "id": "e1a37063-eb4a-4cb6-9fe8-336f566da190",
   "metadata": {},
   "outputs": [],
   "source": [
    "from google.cloud import bigquery\n",
    "\n",
    "client = bigquery.Client()"
   ]
  },
  {
   "cell_type": "code",
   "execution_count": 60,
   "id": "980ed469-580e-4248-a03c-a3783325d2d2",
   "metadata": {},
   "outputs": [],
   "source": [
    "p_sample = pd.read_excel(\"../projects/gain_tracker/tests/positions_sample.xlsx\")"
   ]
  },
  {
   "cell_type": "code",
   "execution_count": 44,
   "id": "f79ca687-5227-4410-87d9-b9b14b456242",
   "metadata": {},
   "outputs": [
    {
     "data": {
      "text/plain": [
       "portfolio_id                    object\n",
       "position_id                      int64\n",
       "external_id                     object\n",
       "id_type                         object\n",
       "position_entry_date     datetime64[ns]\n",
       "exchange                        object\n",
       "quantity                         int64\n",
       "status                          object\n",
       "position_entry_price           float64\n",
       "position_exit_date      datetime64[ns]\n",
       "position_exit_price            float64\n",
       "recognized_gain                float64\n",
       "dtype: object"
      ]
     },
     "execution_count": 44,
     "metadata": {},
     "output_type": "execute_result"
    }
   ],
   "source": [
    "p_sample.dtypes"
   ]
  },
  {
   "cell_type": "markdown",
   "id": "811bf3e3-7284-4330-b2a1-0a32ce85eb87",
   "metadata": {},
   "source": [
    "### change to Decimals"
   ]
  },
  {
   "cell_type": "code",
   "execution_count": 1,
   "id": "da5324ce-4eb6-4928-a212-56bad589e1b5",
   "metadata": {},
   "outputs": [],
   "source": [
    "from decimal import Decimal"
   ]
  },
  {
   "cell_type": "code",
   "execution_count": null,
   "id": "9801fb89-f500-466f-b5b6-385a2e14a7c4",
   "metadata": {},
   "outputs": [],
   "source": [
    "p_sample.loc[:, \"position_entry_price\"] = p_sample[\"position_entry_price\"].apply(\n",
    "    lambda p: Decimal(str(round(p, 6))))\n",
    "\n",
    "p_sample.loc[:, \"position_exit_price\"] = p_sample[\"position_exit_price\"].apply(\n",
    "    lambda p: Decimal(str(round(p, 6))))"
   ]
  },
  {
   "cell_type": "code",
   "execution_count": 52,
   "id": "2d138b9a-511d-42b1-964a-50c8480742b4",
   "metadata": {},
   "outputs": [
    {
     "data": {
      "text/html": [
       "<div>\n",
       "<style scoped>\n",
       "    .dataframe tbody tr th:only-of-type {\n",
       "        vertical-align: middle;\n",
       "    }\n",
       "\n",
       "    .dataframe tbody tr th {\n",
       "        vertical-align: top;\n",
       "    }\n",
       "\n",
       "    .dataframe thead th {\n",
       "        text-align: right;\n",
       "    }\n",
       "</style>\n",
       "<table border=\"1\" class=\"dataframe\">\n",
       "  <thead>\n",
       "    <tr style=\"text-align: right;\">\n",
       "      <th></th>\n",
       "      <th>portfolio_id</th>\n",
       "      <th>position_id</th>\n",
       "      <th>external_id</th>\n",
       "      <th>id_type</th>\n",
       "      <th>position_entry_date</th>\n",
       "      <th>exchange</th>\n",
       "      <th>quantity</th>\n",
       "      <th>status</th>\n",
       "      <th>position_entry_price</th>\n",
       "      <th>position_exit_date</th>\n",
       "      <th>position_exit_price</th>\n",
       "      <th>recognized_gain</th>\n",
       "    </tr>\n",
       "  </thead>\n",
       "  <tbody>\n",
       "    <tr>\n",
       "      <th>26</th>\n",
       "      <td>Roth IRA</td>\n",
       "      <td>26</td>\n",
       "      <td>TSLA</td>\n",
       "      <td>TICKER</td>\n",
       "      <td>2024-01-25</td>\n",
       "      <td>PCX</td>\n",
       "      <td>2</td>\n",
       "      <td>OPEN_LONG</td>\n",
       "      <td>180.4</td>\n",
       "      <td>NaT</td>\n",
       "      <td>NaN</td>\n",
       "      <td>NaN</td>\n",
       "    </tr>\n",
       "    <tr>\n",
       "      <th>27</th>\n",
       "      <td>IRA</td>\n",
       "      <td>27</td>\n",
       "      <td>DQ</td>\n",
       "      <td>TICKER</td>\n",
       "      <td>2024-01-25</td>\n",
       "      <td>PCX</td>\n",
       "      <td>20</td>\n",
       "      <td>OPEN_LONG</td>\n",
       "      <td>19.5</td>\n",
       "      <td>NaT</td>\n",
       "      <td>NaN</td>\n",
       "      <td>NaN</td>\n",
       "    </tr>\n",
       "    <tr>\n",
       "      <th>28</th>\n",
       "      <td>IRA</td>\n",
       "      <td>28</td>\n",
       "      <td>CVS</td>\n",
       "      <td>TICKER</td>\n",
       "      <td>2024-01-25</td>\n",
       "      <td>PCX</td>\n",
       "      <td>8</td>\n",
       "      <td>OPEN_LONG</td>\n",
       "      <td>71.99</td>\n",
       "      <td>NaT</td>\n",
       "      <td>NaN</td>\n",
       "      <td>NaN</td>\n",
       "    </tr>\n",
       "    <tr>\n",
       "      <th>29</th>\n",
       "      <td>Roth IRA</td>\n",
       "      <td>29</td>\n",
       "      <td>BLDE</td>\n",
       "      <td>TICKER</td>\n",
       "      <td>2024-01-30</td>\n",
       "      <td>PCX</td>\n",
       "      <td>160</td>\n",
       "      <td>OPEN_LONG</td>\n",
       "      <td>3.0</td>\n",
       "      <td>NaT</td>\n",
       "      <td>NaN</td>\n",
       "      <td>NaN</td>\n",
       "    </tr>\n",
       "    <tr>\n",
       "      <th>30</th>\n",
       "      <td>IRA</td>\n",
       "      <td>30</td>\n",
       "      <td>GPS</td>\n",
       "      <td>TICKER</td>\n",
       "      <td>2024-01-31</td>\n",
       "      <td>PCX</td>\n",
       "      <td>20</td>\n",
       "      <td>OPEN_LONG</td>\n",
       "      <td>18.9</td>\n",
       "      <td>NaT</td>\n",
       "      <td>NaN</td>\n",
       "      <td>NaN</td>\n",
       "    </tr>\n",
       "  </tbody>\n",
       "</table>\n",
       "</div>"
      ],
      "text/plain": [
       "   portfolio_id  position_id external_id id_type position_entry_date exchange  \\\n",
       "26     Roth IRA           26        TSLA  TICKER          2024-01-25      PCX   \n",
       "27          IRA           27          DQ  TICKER          2024-01-25      PCX   \n",
       "28          IRA           28         CVS  TICKER          2024-01-25      PCX   \n",
       "29     Roth IRA           29        BLDE  TICKER          2024-01-30      PCX   \n",
       "30          IRA           30         GPS  TICKER          2024-01-31      PCX   \n",
       "\n",
       "    quantity     status position_entry_price position_exit_date  \\\n",
       "26         2  OPEN_LONG                180.4                NaT   \n",
       "27        20  OPEN_LONG                 19.5                NaT   \n",
       "28         8  OPEN_LONG                71.99                NaT   \n",
       "29       160  OPEN_LONG                  3.0                NaT   \n",
       "30        20  OPEN_LONG                 18.9                NaT   \n",
       "\n",
       "   position_exit_price  recognized_gain  \n",
       "26                 NaN              NaN  \n",
       "27                 NaN              NaN  \n",
       "28                 NaN              NaN  \n",
       "29                 NaN              NaN  \n",
       "30                 NaN              NaN  "
      ]
     },
     "execution_count": 52,
     "metadata": {},
     "output_type": "execute_result"
    }
   ],
   "source": [
    "p_sample.tail()"
   ]
  },
  {
   "cell_type": "code",
   "execution_count": 53,
   "id": "b536376f-6b8e-4214-9612-1424b5c70ba3",
   "metadata": {},
   "outputs": [
    {
     "data": {
      "text/plain": [
       "portfolio_id                    object\n",
       "position_id                      int64\n",
       "external_id                     object\n",
       "id_type                         object\n",
       "position_entry_date     datetime64[ns]\n",
       "exchange                        object\n",
       "quantity                         int64\n",
       "status                          object\n",
       "position_entry_price            object\n",
       "position_exit_date      datetime64[ns]\n",
       "position_exit_price             object\n",
       "recognized_gain                float64\n",
       "dtype: object"
      ]
     },
     "execution_count": 53,
     "metadata": {},
     "output_type": "execute_result"
    }
   ],
   "source": [
    "p_sample.dtypes"
   ]
  },
  {
   "cell_type": "code",
   "execution_count": 54,
   "id": "6d4285b3-1842-470f-a4c2-62a707c5dcd6",
   "metadata": {},
   "outputs": [],
   "source": [
    "job = client.load_table_from_dataframe(\n",
    "    p_sample, \"main-street-labs.gain_tracker_dev.positions_dec\"\n",
    ")"
   ]
  },
  {
   "cell_type": "code",
   "execution_count": 56,
   "id": "624f0d5b-da03-4129-82b5-b587db77015b",
   "metadata": {},
   "outputs": [],
   "source": [
    "# Perform a query.\n",
    "QUERY = (\n",
    "    'SELECT position_id, position_entry_price, position_exit_price FROM `main-street-labs.gain_tracker_dev.positions_dec`'\n",
    ")\n",
    "p_dec_sample_dl = client.query_and_wait(QUERY).to_dataframe()  # API request"
   ]
  },
  {
   "cell_type": "code",
   "execution_count": 108,
   "id": "0a93c626-6129-4942-8565-8bf224c13368",
   "metadata": {},
   "outputs": [
    {
     "data": {
      "text/html": [
       "<div>\n",
       "<style scoped>\n",
       "    .dataframe tbody tr th:only-of-type {\n",
       "        vertical-align: middle;\n",
       "    }\n",
       "\n",
       "    .dataframe tbody tr th {\n",
       "        vertical-align: top;\n",
       "    }\n",
       "\n",
       "    .dataframe thead th {\n",
       "        text-align: right;\n",
       "    }\n",
       "</style>\n",
       "<table border=\"1\" class=\"dataframe\">\n",
       "  <thead>\n",
       "    <tr style=\"text-align: right;\">\n",
       "      <th></th>\n",
       "      <th>position_id</th>\n",
       "      <th>position_entry_price</th>\n",
       "      <th>position_exit_price</th>\n",
       "    </tr>\n",
       "  </thead>\n",
       "  <tbody>\n",
       "    <tr>\n",
       "      <th>26</th>\n",
       "      <td>1</td>\n",
       "      <td>156.000</td>\n",
       "      <td>158.0000</td>\n",
       "    </tr>\n",
       "    <tr>\n",
       "      <th>27</th>\n",
       "      <td>0</td>\n",
       "      <td>210.130</td>\n",
       "      <td>470.0000</td>\n",
       "    </tr>\n",
       "    <tr>\n",
       "      <th>28</th>\n",
       "      <td>4</td>\n",
       "      <td>7.895</td>\n",
       "      <td>9.4000</td>\n",
       "    </tr>\n",
       "    <tr>\n",
       "      <th>29</th>\n",
       "      <td>5</td>\n",
       "      <td>7.895</td>\n",
       "      <td>9.2349</td>\n",
       "    </tr>\n",
       "    <tr>\n",
       "      <th>30</th>\n",
       "      <td>3</td>\n",
       "      <td>39.030</td>\n",
       "      <td>46.0700</td>\n",
       "    </tr>\n",
       "  </tbody>\n",
       "</table>\n",
       "</div>"
      ],
      "text/plain": [
       "    position_id  position_entry_price  position_exit_price\n",
       "26            1               156.000             158.0000\n",
       "27            0               210.130             470.0000\n",
       "28            4                 7.895               9.4000\n",
       "29            5                 7.895               9.2349\n",
       "30            3                39.030              46.0700"
      ]
     },
     "execution_count": 108,
     "metadata": {},
     "output_type": "execute_result"
    }
   ],
   "source": [
    "p_dec_sample_dl.tail()"
   ]
  },
  {
   "cell_type": "code",
   "execution_count": 5,
   "id": "b7b9546d-7025-475e-855b-6a616d675fa6",
   "metadata": {},
   "outputs": [],
   "source": [
    "# Perform a query.\n",
    "QUERY = (\n",
    "    'SELECT * FROM `main-street-labs.gain_tracker_dev.etrade_positions`'\n",
    ")\n",
    "etrade_pos = client.query_and_wait(QUERY).to_dataframe()  # API request"
   ]
  },
  {
   "cell_type": "code",
   "execution_count": 7,
   "id": "670ac686-d62f-4c20-b36e-21f093b536ae",
   "metadata": {},
   "outputs": [],
   "source": [
    "etrade_pos_2 = client.query_and_wait(QUERY).to_dataframe().set_index(\"POSITIONID\")"
   ]
  },
  {
   "cell_type": "code",
   "execution_count": 10,
   "id": "1491d213-b487-4fbe-9bc4-0a4e7445136d",
   "metadata": {},
   "outputs": [
    {
     "data": {
      "text/html": [
       "<div>\n",
       "<style scoped>\n",
       "    .dataframe tbody tr th:only-of-type {\n",
       "        vertical-align: middle;\n",
       "    }\n",
       "\n",
       "    .dataframe tbody tr th {\n",
       "        vertical-align: top;\n",
       "    }\n",
       "\n",
       "    .dataframe thead th {\n",
       "        text-align: right;\n",
       "    }\n",
       "</style>\n",
       "<table border=\"1\" class=\"dataframe\">\n",
       "  <thead>\n",
       "    <tr style=\"text-align: right;\">\n",
       "      <th></th>\n",
       "      <th>SYMBOLDESCRIPTION</th>\n",
       "      <th>DATEACQUIRED</th>\n",
       "      <th>PRICEPAID</th>\n",
       "      <th>COMMISSIONS</th>\n",
       "      <th>OTHERFEES</th>\n",
       "      <th>QUANTITY</th>\n",
       "      <th>POSITIONINDICATOR</th>\n",
       "      <th>POSITIONTYPE</th>\n",
       "      <th>DAYSGAIN</th>\n",
       "      <th>DAYSGAINPCT</th>\n",
       "      <th>...</th>\n",
       "      <th>TODAYFEES</th>\n",
       "      <th>TODAYPRICEPAID</th>\n",
       "      <th>TODAYQUANTITY</th>\n",
       "      <th>ADJPREVCLOSE</th>\n",
       "      <th>LOTSDETAILS</th>\n",
       "      <th>QUOTEDETAILS</th>\n",
       "      <th>PRODUCT</th>\n",
       "      <th>QUICK</th>\n",
       "      <th>ACCOUNT_ID_KEY</th>\n",
       "      <th>__index_level_0__</th>\n",
       "    </tr>\n",
       "    <tr>\n",
       "      <th>POSITIONID</th>\n",
       "      <th></th>\n",
       "      <th></th>\n",
       "      <th></th>\n",
       "      <th></th>\n",
       "      <th></th>\n",
       "      <th></th>\n",
       "      <th></th>\n",
       "      <th></th>\n",
       "      <th></th>\n",
       "      <th></th>\n",
       "      <th></th>\n",
       "      <th></th>\n",
       "      <th></th>\n",
       "      <th></th>\n",
       "      <th></th>\n",
       "      <th></th>\n",
       "      <th></th>\n",
       "      <th></th>\n",
       "      <th></th>\n",
       "      <th></th>\n",
       "      <th></th>\n",
       "    </tr>\n",
       "  </thead>\n",
       "  <tbody>\n",
       "    <tr>\n",
       "      <th>93444125900</th>\n",
       "      <td>BARDX</td>\n",
       "      <td>1598414400000</td>\n",
       "      <td>9.0643</td>\n",
       "      <td>0.0</td>\n",
       "      <td>0</td>\n",
       "      <td>242.6009</td>\n",
       "      <td>TYPE1</td>\n",
       "      <td>LONG</td>\n",
       "      <td>-4.8520</td>\n",
       "      <td>-0.2205</td>\n",
       "      <td>...</td>\n",
       "      <td>0</td>\n",
       "      <td>0</td>\n",
       "      <td>0</td>\n",
       "      <td>9.07</td>\n",
       "      <td>https://api.etrade.com/v1/accounts/lP_HmzzVyiL...</td>\n",
       "      <td>https://api.etrade.com/v1/market/quote/BARDX.json</td>\n",
       "      <td>{'expiryDay': 0, 'expiryMonth': 0, 'expiryYear...</td>\n",
       "      <td>{'change': -0.02, 'changePct': -0.2205, 'lastT...</td>\n",
       "      <td>lP_HmzzVyiLFftb7DXaEUw</td>\n",
       "      <td>9</td>\n",
       "    </tr>\n",
       "    <tr>\n",
       "      <th>41190282005</th>\n",
       "      <td>PORTX</td>\n",
       "      <td>1481864400000</td>\n",
       "      <td>38.0497</td>\n",
       "      <td>0.0</td>\n",
       "      <td>0</td>\n",
       "      <td>74.1910</td>\n",
       "      <td>TYPE1</td>\n",
       "      <td>LONG</td>\n",
       "      <td>17.8058</td>\n",
       "      <td>0.4176</td>\n",
       "      <td>...</td>\n",
       "      <td>0</td>\n",
       "      <td>0</td>\n",
       "      <td>0</td>\n",
       "      <td>57.46</td>\n",
       "      <td>https://api.etrade.com/v1/accounts/lP_HmzzVyiL...</td>\n",
       "      <td>https://api.etrade.com/v1/market/quote/PORTX.json</td>\n",
       "      <td>{'expiryDay': 0, 'expiryMonth': 0, 'expiryYear...</td>\n",
       "      <td>{'change': 0.24, 'changePct': 0.4176, 'lastTra...</td>\n",
       "      <td>lP_HmzzVyiLFftb7DXaEUw</td>\n",
       "      <td>2</td>\n",
       "    </tr>\n",
       "    <tr>\n",
       "      <th>349212557900</th>\n",
       "      <td>LI</td>\n",
       "      <td>1700629200000</td>\n",
       "      <td>38.6432</td>\n",
       "      <td>0.0</td>\n",
       "      <td>0</td>\n",
       "      <td>40.0000</td>\n",
       "      <td>TYPE1</td>\n",
       "      <td>LONG</td>\n",
       "      <td>-27.6000</td>\n",
       "      <td>-2.2294</td>\n",
       "      <td>...</td>\n",
       "      <td>0</td>\n",
       "      <td>0</td>\n",
       "      <td>0</td>\n",
       "      <td>30.95</td>\n",
       "      <td>https://api.etrade.com/v1/accounts/E2ayfoKSzH1...</td>\n",
       "      <td>https://api.etrade.com/v1/market/quote/LI.json</td>\n",
       "      <td>{'expiryDay': 0, 'expiryMonth': 0, 'expiryYear...</td>\n",
       "      <td>{'change': -0.69, 'changePct': -2.2294, 'lastT...</td>\n",
       "      <td>E2ayfoKSzH1fFZs-7xV48A</td>\n",
       "      <td>2</td>\n",
       "    </tr>\n",
       "    <tr>\n",
       "      <th>359270893900</th>\n",
       "      <td>AMD</td>\n",
       "      <td>1705986000000</td>\n",
       "      <td>166.1999</td>\n",
       "      <td>0.0</td>\n",
       "      <td>0</td>\n",
       "      <td>5.0000</td>\n",
       "      <td>TYPE1</td>\n",
       "      <td>LONG</td>\n",
       "      <td>15.3000</td>\n",
       "      <td>1.8227</td>\n",
       "      <td>...</td>\n",
       "      <td>0</td>\n",
       "      <td>0</td>\n",
       "      <td>0</td>\n",
       "      <td>167.88</td>\n",
       "      <td>https://api.etrade.com/v1/accounts/SXPtmpM7IZI...</td>\n",
       "      <td>https://api.etrade.com/v1/market/quote/AMD.json</td>\n",
       "      <td>{'expiryDay': 0, 'expiryMonth': 0, 'expiryYear...</td>\n",
       "      <td>{'change': 3.06, 'changePct': 1.8227, 'lastTra...</td>\n",
       "      <td>SXPtmpM7IZIpymUjhjI-zg</td>\n",
       "      <td>9</td>\n",
       "    </tr>\n",
       "    <tr>\n",
       "      <th>337469285900</th>\n",
       "      <td>ADTN</td>\n",
       "      <td>1694404800000</td>\n",
       "      <td>7.2654</td>\n",
       "      <td>0.0</td>\n",
       "      <td>0</td>\n",
       "      <td>110.0000</td>\n",
       "      <td>TYPE1</td>\n",
       "      <td>LONG</td>\n",
       "      <td>-19.8000</td>\n",
       "      <td>-2.7439</td>\n",
       "      <td>...</td>\n",
       "      <td>0</td>\n",
       "      <td>0</td>\n",
       "      <td>0</td>\n",
       "      <td>6.56</td>\n",
       "      <td>https://api.etrade.com/v1/accounts/E2ayfoKSzH1...</td>\n",
       "      <td>https://api.etrade.com/v1/market/quote/ADTN.json</td>\n",
       "      <td>{'expiryDay': 0, 'expiryMonth': 0, 'expiryYear...</td>\n",
       "      <td>{'change': -0.18, 'changePct': -2.7439, 'lastT...</td>\n",
       "      <td>E2ayfoKSzH1fFZs-7xV48A</td>\n",
       "      <td>17</td>\n",
       "    </tr>\n",
       "  </tbody>\n",
       "</table>\n",
       "<p>5 rows × 27 columns</p>\n",
       "</div>"
      ],
      "text/plain": [
       "             SYMBOLDESCRIPTION   DATEACQUIRED  PRICEPAID  COMMISSIONS  \\\n",
       "POSITIONID                                                              \n",
       "93444125900              BARDX  1598414400000     9.0643          0.0   \n",
       "41190282005              PORTX  1481864400000    38.0497          0.0   \n",
       "349212557900                LI  1700629200000    38.6432          0.0   \n",
       "359270893900               AMD  1705986000000   166.1999          0.0   \n",
       "337469285900              ADTN  1694404800000     7.2654          0.0   \n",
       "\n",
       "              OTHERFEES  QUANTITY POSITIONINDICATOR POSITIONTYPE  DAYSGAIN  \\\n",
       "POSITIONID                                                                   \n",
       "93444125900           0  242.6009             TYPE1         LONG   -4.8520   \n",
       "41190282005           0   74.1910             TYPE1         LONG   17.8058   \n",
       "349212557900          0   40.0000             TYPE1         LONG  -27.6000   \n",
       "359270893900          0    5.0000             TYPE1         LONG   15.3000   \n",
       "337469285900          0  110.0000             TYPE1         LONG  -19.8000   \n",
       "\n",
       "              DAYSGAINPCT  ...  TODAYFEES  TODAYPRICEPAID  TODAYQUANTITY  \\\n",
       "POSITIONID                 ...                                             \n",
       "93444125900       -0.2205  ...          0               0              0   \n",
       "41190282005        0.4176  ...          0               0              0   \n",
       "349212557900      -2.2294  ...          0               0              0   \n",
       "359270893900       1.8227  ...          0               0              0   \n",
       "337469285900      -2.7439  ...          0               0              0   \n",
       "\n",
       "              ADJPREVCLOSE                                        LOTSDETAILS  \\\n",
       "POSITIONID                                                                      \n",
       "93444125900           9.07  https://api.etrade.com/v1/accounts/lP_HmzzVyiL...   \n",
       "41190282005          57.46  https://api.etrade.com/v1/accounts/lP_HmzzVyiL...   \n",
       "349212557900         30.95  https://api.etrade.com/v1/accounts/E2ayfoKSzH1...   \n",
       "359270893900        167.88  https://api.etrade.com/v1/accounts/SXPtmpM7IZI...   \n",
       "337469285900          6.56  https://api.etrade.com/v1/accounts/E2ayfoKSzH1...   \n",
       "\n",
       "                                                   QUOTEDETAILS  \\\n",
       "POSITIONID                                                        \n",
       "93444125900   https://api.etrade.com/v1/market/quote/BARDX.json   \n",
       "41190282005   https://api.etrade.com/v1/market/quote/PORTX.json   \n",
       "349212557900     https://api.etrade.com/v1/market/quote/LI.json   \n",
       "359270893900    https://api.etrade.com/v1/market/quote/AMD.json   \n",
       "337469285900   https://api.etrade.com/v1/market/quote/ADTN.json   \n",
       "\n",
       "                                                        PRODUCT  \\\n",
       "POSITIONID                                                        \n",
       "93444125900   {'expiryDay': 0, 'expiryMonth': 0, 'expiryYear...   \n",
       "41190282005   {'expiryDay': 0, 'expiryMonth': 0, 'expiryYear...   \n",
       "349212557900  {'expiryDay': 0, 'expiryMonth': 0, 'expiryYear...   \n",
       "359270893900  {'expiryDay': 0, 'expiryMonth': 0, 'expiryYear...   \n",
       "337469285900  {'expiryDay': 0, 'expiryMonth': 0, 'expiryYear...   \n",
       "\n",
       "                                                          QUICK  \\\n",
       "POSITIONID                                                        \n",
       "93444125900   {'change': -0.02, 'changePct': -0.2205, 'lastT...   \n",
       "41190282005   {'change': 0.24, 'changePct': 0.4176, 'lastTra...   \n",
       "349212557900  {'change': -0.69, 'changePct': -2.2294, 'lastT...   \n",
       "359270893900  {'change': 3.06, 'changePct': 1.8227, 'lastTra...   \n",
       "337469285900  {'change': -0.18, 'changePct': -2.7439, 'lastT...   \n",
       "\n",
       "                      ACCOUNT_ID_KEY  __index_level_0__  \n",
       "POSITIONID                                               \n",
       "93444125900   lP_HmzzVyiLFftb7DXaEUw                  9  \n",
       "41190282005   lP_HmzzVyiLFftb7DXaEUw                  2  \n",
       "349212557900  E2ayfoKSzH1fFZs-7xV48A                  2  \n",
       "359270893900  SXPtmpM7IZIpymUjhjI-zg                  9  \n",
       "337469285900  E2ayfoKSzH1fFZs-7xV48A                 17  \n",
       "\n",
       "[5 rows x 27 columns]"
      ]
     },
     "execution_count": 10,
     "metadata": {},
     "output_type": "execute_result"
    }
   ],
   "source": [
    "etrade_pos.set_index(\"POSITIONID\", inplace=True)\n",
    "etrade_pos.head()"
   ]
  },
  {
   "cell_type": "code",
   "execution_count": 15,
   "id": "fda4af13-f3fe-4bd2-a647-8eacc480961c",
   "metadata": {},
   "outputs": [
    {
     "data": {
      "text/plain": [
       "51"
      ]
     },
     "execution_count": 15,
     "metadata": {},
     "output_type": "execute_result"
    }
   ],
   "source": [
    "len(etrade_pos)"
   ]
  },
  {
   "cell_type": "code",
   "execution_count": 16,
   "id": "7422f23c-f60b-48fe-8dbb-a142f3b9c993",
   "metadata": {},
   "outputs": [],
   "source": [
    "pos_diff = etrade_pos.loc[~etrade_pos.index.isin(etrade_pos_2.head(10).index)]"
   ]
  },
  {
   "cell_type": "code",
   "execution_count": 17,
   "id": "a5134cfc-5625-4a9d-8e66-9fd59a627b47",
   "metadata": {
    "collapsed": true,
    "jupyter": {
     "outputs_hidden": true,
     "source_hidden": true
    },
    "scrolled": true
   },
   "outputs": [
    {
     "data": {
      "text/plain": [
       "41"
      ]
     },
     "execution_count": 17,
     "metadata": {},
     "output_type": "execute_result"
    }
   ],
   "source": [
    "len(pos_diff)"
   ]
  },
  {
   "cell_type": "markdown",
   "id": "96dfe298-47cf-4508-9014-17f7a031d413",
   "metadata": {},
   "source": [
    "# Use ETrade API"
   ]
  },
  {
   "cell_type": "code",
   "execution_count": 4,
   "id": "6530afbc-d305-4085-a36a-994560db6faa",
   "metadata": {},
   "outputs": [],
   "source": [
    "import pandas as pd\n",
    "from datetime import date, datetime\n",
    "\n",
    "import os\n",
    "import sys\n",
    "sys.path.append(\"../projects/gain_tracker\")"
   ]
  },
  {
   "cell_type": "code",
   "execution_count": 5,
   "id": "bcd7827f-83f9-462a-8501-7079033774da",
   "metadata": {},
   "outputs": [],
   "source": [
    "from gain_tracker.resources.etrade_api import ETradeAPI"
   ]
  },
  {
   "cell_type": "code",
   "execution_count": 35,
   "id": "1ec37b5c-8ad4-49e3-90a9-d768072a82ec",
   "metadata": {},
   "outputs": [
    {
     "data": {
      "text/plain": [
       "'2024-01-03'"
      ]
     },
     "execution_count": 35,
     "metadata": {},
     "output_type": "execute_result"
    }
   ],
   "source": [
    "datetime.fromtimestamp(1704258000000/1000).date().isoformat()"
   ]
  },
  {
   "cell_type": "code",
   "execution_count": 6,
   "id": "70c24566-260f-41e2-a5f7-e844c1829540",
   "metadata": {},
   "outputs": [],
   "source": [
    "# consumer_key = os.getenv(\"ETRADE_SANDBOX_KEY\")\n",
    "# consumer_secret = os.getenv(\"ETRADE_SANDBOX_SECRET\")\n",
    "consumer_key = os.getenv(\"ETRADE_KEY\")\n",
    "consumer_secret = os.getenv(\"ETRADE_SECRET\")"
   ]
  },
  {
   "cell_type": "code",
   "execution_count": 7,
   "id": "2fdbe42a-a151-4f10-a150-d3895f5e11d9",
   "metadata": {},
   "outputs": [],
   "source": [
    "etrader = ETradeAPI(\"prod\")"
   ]
  },
  {
   "cell_type": "code",
   "execution_count": 25,
   "id": "735d4f28-9765-4449-8ebc-9e4dddc07bad",
   "metadata": {
    "scrolled": true
   },
   "outputs": [
    {
     "name": "stdin",
     "output_type": "stream",
     "text": [
      "Please accept agreement and enter verification code from browser:  E65XK\n"
     ]
    },
    {
     "data": {
      "text/plain": [
       "<rauth.session.OAuth1Session at 0x7f44a9b2a4d0>"
      ]
     },
     "execution_count": 25,
     "metadata": {},
     "output_type": "execute_result"
    }
   ],
   "source": [
    "etrader.authenticate_session()"
   ]
  },
  {
   "cell_type": "markdown",
   "id": "0804214d-8b69-4a15-b9a1-07c086bccc8f",
   "metadata": {},
   "source": [
    "accounts = etrader.list_accounts()"
   ]
  },
  {
   "cell_type": "code",
   "execution_count": 61,
   "id": "9dd5abe1-e477-4aa5-97e8-be9f4c678930",
   "metadata": {},
   "outputs": [
    {
     "data": {
      "text/plain": [
       "3"
      ]
     },
     "execution_count": 61,
     "metadata": {},
     "output_type": "execute_result"
    }
   ],
   "source": [
    "len(accounts)"
   ]
  },
  {
   "cell_type": "markdown",
   "id": "3c0bf1e2-80d0-4afb-b8c6-ea836c8cc9ba",
   "metadata": {},
   "source": [
    "etrader.session_token"
   ]
  },
  {
   "cell_type": "markdown",
   "id": "02250b7e-cde4-4f90-9386-acf7d1466786",
   "metadata": {},
   "source": [
    "etrader.session_token_secret"
   ]
  },
  {
   "cell_type": "code",
   "execution_count": 29,
   "id": "9920fe6b-fd82-4501-828a-ce641a59da88",
   "metadata": {},
   "outputs": [],
   "source": [
    "a_etrader = ETradeAPI(\"prod\", session_token=etrader.session_token, session_token_secret=etrader.session_token_secret)"
   ]
  },
  {
   "cell_type": "code",
   "execution_count": 30,
   "id": "49e9b311-a422-489d-b77b-2902dbc39d4a",
   "metadata": {},
   "outputs": [],
   "source": [
    "session = a_etrader.create_authenticated_session()"
   ]
  },
  {
   "cell_type": "code",
   "execution_count": 31,
   "id": "9c622db9-ce3d-4091-ab47-f8578df91fb0",
   "metadata": {},
   "outputs": [
    {
     "data": {
      "text/plain": [
       "200"
      ]
     },
     "execution_count": 31,
     "metadata": {},
     "output_type": "execute_result"
    }
   ],
   "source": [
    "response = session.get(\"https://api.etrade.com/oauth/renew_access_token\")\n",
    "response.status_code"
   ]
  },
  {
   "cell_type": "code",
   "execution_count": 31,
   "id": "882c661e-c32c-4554-b5b0-b6c68292a981",
   "metadata": {},
   "outputs": [],
   "source": [
    "# list_accounts_url = 'https://apisb.etrade.com/v1/accounts/list.json'\n",
    "list_accounts_url = 'https://api.etrade.com/v1/accounts/list.json'"
   ]
  },
  {
   "cell_type": "code",
   "execution_count": 33,
   "id": "ba8d96b7-d0e9-4c03-a19d-9b7e9d8b13ef",
   "metadata": {},
   "outputs": [
    {
     "data": {
      "text/plain": [
       "[{'accountId': '153285977',\n",
       "  'accountIdKey': 'lP_HmzzVyiLFftb7DXaEUw',\n",
       "  'accountMode': 'CASH',\n",
       "  'accountDesc': 'Individual Brokerage',\n",
       "  'accountName': '',\n",
       "  'accountType': 'INDIVIDUAL',\n",
       "  'institutionType': 'BROKERAGE',\n",
       "  'accountStatus': 'ACTIVE',\n",
       "  'closedDate': 0,\n",
       "  'shareWorksAccount': False,\n",
       "  'fcManagedMssbClosedAccount': False},\n",
       " {'accountId': '227699084',\n",
       "  'accountIdKey': 'E2ayfoKSzH1fFZs-7xV48A',\n",
       "  'accountMode': 'CASH',\n",
       "  'accountDesc': 'Roth IRA',\n",
       "  'accountName': '',\n",
       "  'accountType': 'ROTHIRA',\n",
       "  'institutionType': 'BROKERAGE',\n",
       "  'accountStatus': 'ACTIVE',\n",
       "  'closedDate': 0,\n",
       "  'shareWorksAccount': False,\n",
       "  'fcManagedMssbClosedAccount': False},\n",
       " {'accountId': '892405345',\n",
       "  'accountIdKey': 'SXPtmpM7IZIpymUjhjI-zg',\n",
       "  'accountMode': 'CASH',\n",
       "  'accountDesc': 'Traditional IRA',\n",
       "  'accountName': '',\n",
       "  'accountType': 'CONTRIBUTORY',\n",
       "  'institutionType': 'BROKERAGE',\n",
       "  'accountStatus': 'ACTIVE',\n",
       "  'closedDate': 0,\n",
       "  'shareWorksAccount': False,\n",
       "  'fcManagedMssbClosedAccount': False}]"
      ]
     },
     "execution_count": 33,
     "metadata": {},
     "output_type": "execute_result"
    }
   ],
   "source": [
    "resp.json()[\"AccountListResponse\"][\"Accounts\"][\"Account\"]"
   ]
  },
  {
   "cell_type": "code",
   "execution_count": 32,
   "id": "95f4f5c1-4ffa-46b8-aa0d-51448ace15b2",
   "metadata": {},
   "outputs": [
    {
     "data": {
      "text/html": [
       "<div>\n",
       "<style scoped>\n",
       "    .dataframe tbody tr th:only-of-type {\n",
       "        vertical-align: middle;\n",
       "    }\n",
       "\n",
       "    .dataframe tbody tr th {\n",
       "        vertical-align: top;\n",
       "    }\n",
       "\n",
       "    .dataframe thead th {\n",
       "        text-align: right;\n",
       "    }\n",
       "</style>\n",
       "<table border=\"1\" class=\"dataframe\">\n",
       "  <thead>\n",
       "    <tr style=\"text-align: right;\">\n",
       "      <th></th>\n",
       "      <th>accountId</th>\n",
       "      <th>accountIdKey</th>\n",
       "      <th>accountMode</th>\n",
       "      <th>accountDesc</th>\n",
       "      <th>accountName</th>\n",
       "      <th>accountType</th>\n",
       "      <th>institutionType</th>\n",
       "      <th>accountStatus</th>\n",
       "      <th>closedDate</th>\n",
       "      <th>shareWorksAccount</th>\n",
       "      <th>fcManagedMssbClosedAccount</th>\n",
       "    </tr>\n",
       "  </thead>\n",
       "  <tbody>\n",
       "    <tr>\n",
       "      <th>0</th>\n",
       "      <td>153285977</td>\n",
       "      <td>lP_HmzzVyiLFftb7DXaEUw</td>\n",
       "      <td>CASH</td>\n",
       "      <td>Individual Brokerage</td>\n",
       "      <td></td>\n",
       "      <td>INDIVIDUAL</td>\n",
       "      <td>BROKERAGE</td>\n",
       "      <td>ACTIVE</td>\n",
       "      <td>0</td>\n",
       "      <td>False</td>\n",
       "      <td>False</td>\n",
       "    </tr>\n",
       "    <tr>\n",
       "      <th>1</th>\n",
       "      <td>227699084</td>\n",
       "      <td>E2ayfoKSzH1fFZs-7xV48A</td>\n",
       "      <td>CASH</td>\n",
       "      <td>Roth IRA</td>\n",
       "      <td></td>\n",
       "      <td>ROTHIRA</td>\n",
       "      <td>BROKERAGE</td>\n",
       "      <td>ACTIVE</td>\n",
       "      <td>0</td>\n",
       "      <td>False</td>\n",
       "      <td>False</td>\n",
       "    </tr>\n",
       "    <tr>\n",
       "      <th>2</th>\n",
       "      <td>892405345</td>\n",
       "      <td>SXPtmpM7IZIpymUjhjI-zg</td>\n",
       "      <td>CASH</td>\n",
       "      <td>Traditional IRA</td>\n",
       "      <td></td>\n",
       "      <td>CONTRIBUTORY</td>\n",
       "      <td>BROKERAGE</td>\n",
       "      <td>ACTIVE</td>\n",
       "      <td>0</td>\n",
       "      <td>False</td>\n",
       "      <td>False</td>\n",
       "    </tr>\n",
       "  </tbody>\n",
       "</table>\n",
       "</div>"
      ],
      "text/plain": [
       "   accountId            accountIdKey accountMode           accountDesc  \\\n",
       "0  153285977  lP_HmzzVyiLFftb7DXaEUw        CASH  Individual Brokerage   \n",
       "1  227699084  E2ayfoKSzH1fFZs-7xV48A        CASH              Roth IRA   \n",
       "2  892405345  SXPtmpM7IZIpymUjhjI-zg        CASH       Traditional IRA   \n",
       "\n",
       "  accountName   accountType institutionType accountStatus  closedDate  \\\n",
       "0                INDIVIDUAL       BROKERAGE        ACTIVE           0   \n",
       "1                   ROTHIRA       BROKERAGE        ACTIVE           0   \n",
       "2              CONTRIBUTORY       BROKERAGE        ACTIVE           0   \n",
       "\n",
       "   shareWorksAccount  fcManagedMssbClosedAccount  \n",
       "0              False                       False  \n",
       "1              False                       False  \n",
       "2              False                       False  "
      ]
     },
     "execution_count": 32,
     "metadata": {},
     "output_type": "execute_result"
    }
   ],
   "source": [
    "resp = session.get(list_accounts_url, params = {'format': 'json'})\n",
    "\n",
    "accounts = pd.DataFrame(resp.json()[\"AccountListResponse\"][\"Accounts\"][\"Account\"])\n",
    "\n",
    "accounts"
   ]
  },
  {
   "cell_type": "code",
   "execution_count": 99,
   "id": "36d4392a-9054-4d23-9b07-d3c062499ccd",
   "metadata": {},
   "outputs": [],
   "source": [
    "accountIdKey = \"SXPtmpM7IZIpymUjhjI-zg\"\n",
    "accountIdKey = \"E2ayfoKSzH1fFZs-7xV48A\"\n",
    "instType = \"BROKERAGE\""
   ]
  },
  {
   "cell_type": "code",
   "execution_count": 39,
   "id": "ac0350b2-0381-4514-9bed-ee344cfbb4ff",
   "metadata": {},
   "outputs": [],
   "source": [
    "account_balances_url = f\"https://apisb.etrade.com/v1/accounts/{accountIdKey}/balance.json\""
   ]
  },
  {
   "cell_type": "code",
   "execution_count": 75,
   "id": "3d9940bb-9062-4fc8-9c51-a29aae76517e",
   "metadata": {},
   "outputs": [
    {
     "data": {
      "text/plain": [
       "'https://apisb.etrade.com/v1/accounts/xj1Dc18FTqWPqkEEVUr5rw/balance'"
      ]
     },
     "execution_count": 75,
     "metadata": {},
     "output_type": "execute_result"
    }
   ],
   "source": [
    "account_balances_url"
   ]
  },
  {
   "cell_type": "code",
   "execution_count": 76,
   "id": "01d45a0d-5200-49ee-9cce-ba68b8189a54",
   "metadata": {},
   "outputs": [],
   "source": [
    "resp = session.get(account_balances_url, params = {\"instType\":instType,\"realNAV\": False})"
   ]
  },
  {
   "cell_type": "code",
   "execution_count": 77,
   "id": "b5c3e869-450e-4fdd-860f-72fd0cfa3015",
   "metadata": {},
   "outputs": [
    {
     "data": {
      "text/plain": [
       "'<?xml version=\"1.0\" encoding=\"UTF-8\" standalone=\"yes\"?><BalanceResponse><accountId>833535350</accountId><accountType>MARGIN</accountType><optionLevel>LEVEL_4</optionLevel><accountDescription></accountDescription><Cash><fundsForOpenOrdersCash>0.0</fundsForOpenOrdersCash><moneyMktBalance>0.0</moneyMktBalance></Cash><Computed><cashAvailableForInvestment>0.00</cashAvailableForInvestment><cashAvailableForWithdrawal>0.00</cashAvailableForWithdrawal><netCash>-740.450013</netCash><cashBalance>0.0</cashBalance><settledCashForInvestment>0.0</settledCashForInvestment><unSettledCashForInvestment>0.0</unSettledCashForInvestment><fundsWithheldFromPurchasePower>0.0</fundsWithheldFromPurchasePower><fundsWithheldFromWithdrawal>0.0</fundsWithheldFromWithdrawal><OpenCalls><cashCall>0.0</cashCall></OpenCalls><RealTimeValues><totalAccountValue>0.0</totalAccountValue><netMv>-454.22</netMv><netMvLong>0.0</netMvLong></RealTimeValues></Computed></BalanceResponse>'"
      ]
     },
     "execution_count": 77,
     "metadata": {},
     "output_type": "execute_result"
    }
   ],
   "source": [
    "resp.text"
   ]
  },
  {
   "cell_type": "code",
   "execution_count": 101,
   "id": "a96ff188-56b0-4ce4-b6a0-b9f8e0e27fe3",
   "metadata": {},
   "outputs": [],
   "source": [
    "positions = a_etrader.view_portfolio(accountIdKey)"
   ]
  },
  {
   "cell_type": "code",
   "execution_count": 102,
   "id": "f0cd3590-884f-4b53-b78c-2db06a2b3d44",
   "metadata": {},
   "outputs": [
    {
     "data": {
      "text/html": [
       "<div>\n",
       "<style scoped>\n",
       "    .dataframe tbody tr th:only-of-type {\n",
       "        vertical-align: middle;\n",
       "    }\n",
       "\n",
       "    .dataframe tbody tr th {\n",
       "        vertical-align: top;\n",
       "    }\n",
       "\n",
       "    .dataframe thead th {\n",
       "        text-align: right;\n",
       "    }\n",
       "</style>\n",
       "<table border=\"1\" class=\"dataframe\">\n",
       "  <thead>\n",
       "    <tr style=\"text-align: right;\">\n",
       "      <th></th>\n",
       "      <th>symbolDescription</th>\n",
       "      <th>pricePaid</th>\n",
       "      <th>dateAcquired</th>\n",
       "      <th>positionLotId</th>\n",
       "      <th>positionId</th>\n",
       "    </tr>\n",
       "  </thead>\n",
       "  <tbody>\n",
       "    <tr>\n",
       "      <th>0</th>\n",
       "      <td>USMV</td>\n",
       "      <td>43.640</td>\n",
       "      <td>1458532800000</td>\n",
       "      <td>9965198006</td>\n",
       "      <td>10227202005</td>\n",
       "    </tr>\n",
       "    <tr>\n",
       "      <th>1</th>\n",
       "      <td>IVV</td>\n",
       "      <td>210.130</td>\n",
       "      <td>1461643200000</td>\n",
       "      <td>15384288006</td>\n",
       "      <td>14848902005</td>\n",
       "    </tr>\n",
       "    <tr>\n",
       "      <th>2</th>\n",
       "      <td>IVV</td>\n",
       "      <td>495.500</td>\n",
       "      <td>1707800400000</td>\n",
       "      <td>2343150552103</td>\n",
       "      <td>14848902005</td>\n",
       "    </tr>\n",
       "    <tr>\n",
       "      <th>3</th>\n",
       "      <td>ITOT</td>\n",
       "      <td>47.105</td>\n",
       "      <td>1462161600000</td>\n",
       "      <td>16438625006</td>\n",
       "      <td>22411007005</td>\n",
       "    </tr>\n",
       "    <tr>\n",
       "      <th>4</th>\n",
       "      <td>ITOT</td>\n",
       "      <td>74.350</td>\n",
       "      <td>1596513600000</td>\n",
       "      <td>749658972103</td>\n",
       "      <td>22411007005</td>\n",
       "    </tr>\n",
       "  </tbody>\n",
       "</table>\n",
       "</div>"
      ],
      "text/plain": [
       "  symbolDescription  pricePaid   dateAcquired  positionLotId   positionId\n",
       "0              USMV     43.640  1458532800000     9965198006  10227202005\n",
       "1               IVV    210.130  1461643200000    15384288006  14848902005\n",
       "2               IVV    495.500  1707800400000  2343150552103  14848902005\n",
       "3              ITOT     47.105  1462161600000    16438625006  22411007005\n",
       "4              ITOT     74.350  1596513600000   749658972103  22411007005"
      ]
     },
     "execution_count": 102,
     "metadata": {},
     "output_type": "execute_result"
    }
   ],
   "source": [
    "positions[[\"symbolDescription\", \"pricePaid\", \"dateAcquired\", \"positionLotId\", \"positionId\"]].head()"
   ]
  },
  {
   "cell_type": "code",
   "execution_count": 105,
   "id": "94eaec4f-aca0-4f11-b23c-ac4ec320291e",
   "metadata": {},
   "outputs": [
    {
     "data": {
      "text/plain": [
       "'https://api.etrade.com/v1/accounts/E2ayfoKSzH1fFZs-7xV48A/portfolio/10227202005.json'"
      ]
     },
     "execution_count": 105,
     "metadata": {},
     "output_type": "execute_result"
    }
   ],
   "source": [
    "positions.set_index(\"symbolDescription\").loc[\"USMV\", \"lotsDetails\"]"
   ]
  },
  {
   "cell_type": "code",
   "execution_count": 40,
   "id": "bfef7edb-d14a-4b01-b070-0ada2f205769",
   "metadata": {},
   "outputs": [],
   "source": [
    "# view_portfolio_url = f\"https://apisb.etrade.com/v1/accounts/{accountIdKey}/portfolio.json\"\n",
    "view_portfolio_url = f\"https://api.etrade.com/v1/accounts/{accountIdKey}/portfolio.json\""
   ]
  },
  {
   "cell_type": "code",
   "execution_count": 57,
   "id": "42fcfb78-96be-449d-a980-1b6d4d513a9c",
   "metadata": {},
   "outputs": [],
   "source": [
    "viewp_resp = session.get(view_portfolio_url, params={\"view\": \"QUICK\", \"lotsRequired\": True})"
   ]
  },
  {
   "cell_type": "code",
   "execution_count": 58,
   "id": "1f8a8879-aad6-47b4-99c8-fa694ecc9827",
   "metadata": {},
   "outputs": [],
   "source": [
    "data = viewp_resp.json()"
   ]
  },
  {
   "cell_type": "code",
   "execution_count": 59,
   "id": "5c91f10f-c43c-4c17-b72f-b504b68464dd",
   "metadata": {},
   "outputs": [],
   "source": [
    "ps_x = data[\"PortfolioResponse\"][\"AccountPortfolio\"][0][\"Position\"]"
   ]
  },
  {
   "cell_type": "code",
   "execution_count": 61,
   "id": "acafb2cd-1af5-4566-a9c1-f228b0725bfc",
   "metadata": {
    "collapsed": true,
    "jupyter": {
     "outputs_hidden": true
    }
   },
   "outputs": [
    {
     "data": {
      "text/plain": [
       "{'accountId': '892405345',\n",
       " 'Position': [{'positionId': 356478010900,\n",
       "   'symbolDescription': 'AIRR',\n",
       "   'dateAcquired': 1704430800000,\n",
       "   'pricePaid': 55.1,\n",
       "   'commissions': 0,\n",
       "   'otherFees': 0,\n",
       "   'quantity': 10,\n",
       "   'positionIndicator': 'TYPE1',\n",
       "   'positionType': 'LONG',\n",
       "   'daysGain': 1.3,\n",
       "   'daysGainPct': 0.2042,\n",
       "   'marketValue': 637.7999,\n",
       "   'totalCost': 551,\n",
       "   'totalGain': 86.7999,\n",
       "   'totalGainPct': 15.7531,\n",
       "   'pctOfPortfolio': 4.6407,\n",
       "   'costPerShare': 55.1,\n",
       "   'todayCommissions': 0,\n",
       "   'todayFees': 0,\n",
       "   'todayPricePaid': 0,\n",
       "   'todayQuantity': 0,\n",
       "   'adjPrevClose': 63.65,\n",
       "   'lotsDetails': 'https://api.etrade.com/v1/accounts/SXPtmpM7IZIpymUjhjI-zg/portfolio/356478010900.json',\n",
       "   'quoteDetails': 'https://api.etrade.com/v1/market/quote/AIRR.json',\n",
       "   'Product': {'symbol': 'AIRR',\n",
       "    'securityType': 'EQ',\n",
       "    'securitySubType': 'ETF',\n",
       "    'expiryYear': 0,\n",
       "    'expiryMonth': 0,\n",
       "    'expiryDay': 0,\n",
       "    'strikePrice': 0,\n",
       "    'productId': {'symbol': 'AIRR', 'typeCode': 'EQUITY'}},\n",
       "   'Quick': {'lastTrade': 63.78,\n",
       "    'lastTradeTime': 1709317173,\n",
       "    'change': 0.13,\n",
       "    'changePct': 0.2042,\n",
       "    'volume': 71591,\n",
       "    'quoteStatus': 'INVALID'}},\n",
       "  {'positionId': 364189645900,\n",
       "   'symbolDescription': 'MDB',\n",
       "   'dateAcquired': 1707973200000,\n",
       "   'pricePaid': 459.5,\n",
       "   'commissions': 0,\n",
       "   'otherFees': 0,\n",
       "   'quantity': 2,\n",
       "   'positionIndicator': 'TYPE1',\n",
       "   'positionType': 'LONG',\n",
       "   'daysGain': -7.16,\n",
       "   'daysGainPct': -0.7998,\n",
       "   'marketValue': 888,\n",
       "   'totalCost': 919,\n",
       "   'totalGain': -31,\n",
       "   'totalGainPct': -3.3732,\n",
       "   'pctOfPortfolio': 6.4612,\n",
       "   'costPerShare': 459.5,\n",
       "   'todayCommissions': 0,\n",
       "   'todayFees': 0,\n",
       "   'todayPricePaid': 0,\n",
       "   'todayQuantity': 0,\n",
       "   'adjPrevClose': 447.58,\n",
       "   'lotsDetails': 'https://api.etrade.com/v1/accounts/SXPtmpM7IZIpymUjhjI-zg/portfolio/364189645900.json',\n",
       "   'quoteDetails': 'https://api.etrade.com/v1/market/quote/MDB.json',\n",
       "   'Product': {'symbol': 'MDB',\n",
       "    'securityType': 'EQ',\n",
       "    'expiryYear': 0,\n",
       "    'expiryMonth': 0,\n",
       "    'expiryDay': 0,\n",
       "    'strikePrice': 0,\n",
       "    'productId': {'symbol': 'MDB', 'typeCode': 'EQUITY'}},\n",
       "   'Quick': {'lastTrade': 444.0,\n",
       "    'lastTradeTime': 1709317408,\n",
       "    'change': -3.58,\n",
       "    'changePct': -0.7998,\n",
       "    'volume': 738143,\n",
       "    'quoteStatus': 'INVALID'}},\n",
       "  {'positionId': 356289802900,\n",
       "   'symbolDescription': 'NIO',\n",
       "   'dateAcquired': 1704430800000,\n",
       "   'pricePaid': 8.0213,\n",
       "   'commissions': 0,\n",
       "   'otherFees': 0,\n",
       "   'quantity': 122,\n",
       "   'positionIndicator': 'TYPE1',\n",
       "   'positionType': 'LONG',\n",
       "   'daysGain': 7.503,\n",
       "   'daysGainPct': 1.0695,\n",
       "   'marketValue': 709.003,\n",
       "   'totalCost': 978.6029,\n",
       "   'totalGain': -269.5999,\n",
       "   'totalGainPct': -27.5494,\n",
       "   'pctOfPortfolio': 5.1588,\n",
       "   'costPerShare': 8.0213,\n",
       "   'todayCommissions': 0,\n",
       "   'todayFees': 0,\n",
       "   'todayPricePaid': 0,\n",
       "   'todayQuantity': 0,\n",
       "   'adjPrevClose': 5.75,\n",
       "   'lotsDetails': 'https://api.etrade.com/v1/accounts/SXPtmpM7IZIpymUjhjI-zg/portfolio/356289802900.json',\n",
       "   'quoteDetails': 'https://api.etrade.com/v1/market/quote/NIO.json',\n",
       "   'Product': {'symbol': 'NIO',\n",
       "    'securityType': 'EQ',\n",
       "    'expiryYear': 0,\n",
       "    'expiryMonth': 0,\n",
       "    'expiryDay': 0,\n",
       "    'strikePrice': 0,\n",
       "    'productId': {'symbol': 'NIO', 'typeCode': 'EQUITY'}},\n",
       "   'Quick': {'lastTrade': 5.8115,\n",
       "    'lastTradeTime': 1709317421,\n",
       "    'change': 0.0615,\n",
       "    'changePct': 1.0695,\n",
       "    'volume': 27819275,\n",
       "    'quoteStatus': 'INVALID'}},\n",
       "  {'positionId': 362184578900,\n",
       "   'symbolDescription': 'RKT',\n",
       "   'dateAcquired': 1707109200000,\n",
       "   'pricePaid': 11.5999,\n",
       "   'commissions': 0,\n",
       "   'otherFees': 0,\n",
       "   'quantity': 20,\n",
       "   'positionIndicator': 'TYPE1',\n",
       "   'positionType': 'LONG',\n",
       "   'daysGain': 3,\n",
       "   'daysGainPct': 1.1942,\n",
       "   'marketValue': 254.1999,\n",
       "   'totalCost': 232,\n",
       "   'totalGain': 22.1999,\n",
       "   'totalGainPct': 9.5689,\n",
       "   'pctOfPortfolio': 1.8495,\n",
       "   'costPerShare': 11.6,\n",
       "   'todayCommissions': 0,\n",
       "   'todayFees': 0,\n",
       "   'todayPricePaid': 0,\n",
       "   'todayQuantity': 0,\n",
       "   'adjPrevClose': 12.56,\n",
       "   'lotsDetails': 'https://api.etrade.com/v1/accounts/SXPtmpM7IZIpymUjhjI-zg/portfolio/362184578900.json',\n",
       "   'quoteDetails': 'https://api.etrade.com/v1/market/quote/RKT.json',\n",
       "   'Product': {'symbol': 'RKT',\n",
       "    'securityType': 'EQ',\n",
       "    'expiryYear': 0,\n",
       "    'expiryMonth': 0,\n",
       "    'expiryDay': 0,\n",
       "    'strikePrice': 0,\n",
       "    'productId': {'symbol': 'RKT', 'typeCode': 'EQUITY'}},\n",
       "   'Quick': {'lastTrade': 12.71,\n",
       "    'lastTradeTime': 1709317387,\n",
       "    'change': 0.15,\n",
       "    'changePct': 1.1942,\n",
       "    'volume': 977402,\n",
       "    'quoteStatus': 'INVALID'}},\n",
       "  {'positionId': 355904930900,\n",
       "   'symbolDescription': 'RS',\n",
       "   'dateAcquired': 1704258000000,\n",
       "   'pricePaid': 279,\n",
       "   'commissions': 0,\n",
       "   'otherFees': 0,\n",
       "   'quantity': 3,\n",
       "   'positionIndicator': 'TYPE1',\n",
       "   'positionType': 'LONG',\n",
       "   'daysGain': 2.325,\n",
       "   'daysGainPct': 0.2412,\n",
       "   'marketValue': 965.985,\n",
       "   'totalCost': 837,\n",
       "   'totalGain': 128.985,\n",
       "   'totalGainPct': 15.4103,\n",
       "   'pctOfPortfolio': 7.0286,\n",
       "   'costPerShare': 279,\n",
       "   'todayCommissions': 0,\n",
       "   'todayFees': 0,\n",
       "   'todayPricePaid': 0,\n",
       "   'todayQuantity': 0,\n",
       "   'adjPrevClose': 321.22,\n",
       "   'lotsDetails': 'https://api.etrade.com/v1/accounts/SXPtmpM7IZIpymUjhjI-zg/portfolio/355904930900.json',\n",
       "   'quoteDetails': 'https://api.etrade.com/v1/market/quote/RS.json',\n",
       "   'Product': {'symbol': 'RS',\n",
       "    'securityType': 'EQ',\n",
       "    'expiryYear': 0,\n",
       "    'expiryMonth': 0,\n",
       "    'expiryDay': 0,\n",
       "    'strikePrice': 0,\n",
       "    'productId': {'symbol': 'RS', 'typeCode': 'EQUITY'}},\n",
       "   'Quick': {'lastTrade': 321.995,\n",
       "    'lastTradeTime': 1709317411,\n",
       "    'change': 0.775,\n",
       "    'changePct': 0.2412,\n",
       "    'volume': 78111,\n",
       "    'quoteStatus': 'INVALID'}},\n",
       "  {'positionId': 352880804900,\n",
       "   'symbolDescription': 'SCHG',\n",
       "   'dateAcquired': 1702530000000,\n",
       "   'pricePaid': 81.5849,\n",
       "   'commissions': 0,\n",
       "   'otherFees': 0,\n",
       "   'quantity': 10,\n",
       "   'positionIndicator': 'TYPE1',\n",
       "   'positionType': 'LONG',\n",
       "   'daysGain': 10,\n",
       "   'daysGainPct': 1.0989,\n",
       "   'marketValue': 920,\n",
       "   'totalCost': 815.85,\n",
       "   'totalGain': 104.15,\n",
       "   'totalGainPct': 12.7658,\n",
       "   'pctOfPortfolio': 6.694,\n",
       "   'costPerShare': 81.585,\n",
       "   'todayCommissions': 0,\n",
       "   'todayFees': 0,\n",
       "   'todayPricePaid': 0,\n",
       "   'todayQuantity': 0,\n",
       "   'adjPrevClose': 91.0,\n",
       "   'lotsDetails': 'https://api.etrade.com/v1/accounts/SXPtmpM7IZIpymUjhjI-zg/portfolio/352880804900.json',\n",
       "   'quoteDetails': 'https://api.etrade.com/v1/market/quote/SCHG.json',\n",
       "   'Product': {'symbol': 'SCHG',\n",
       "    'securityType': 'EQ',\n",
       "    'securitySubType': 'ETF',\n",
       "    'expiryYear': 0,\n",
       "    'expiryMonth': 0,\n",
       "    'expiryDay': 0,\n",
       "    'strikePrice': 0,\n",
       "    'productId': {'symbol': 'SCHG', 'typeCode': 'EQUITY'}},\n",
       "   'Quick': {'lastTrade': 92.0,\n",
       "    'lastTradeTime': 1709317407,\n",
       "    'change': 1,\n",
       "    'changePct': 1.0989,\n",
       "    'volume': 1132184,\n",
       "    'quoteStatus': 'INVALID'}},\n",
       "  {'positionId': 350936501900,\n",
       "   'symbolDescription': 'KWEB',\n",
       "   'dateAcquired': 1701752400000,\n",
       "   'pricePaid': 26.41,\n",
       "   'commissions': 0,\n",
       "   'otherFees': 0,\n",
       "   'quantity': 10,\n",
       "   'positionIndicator': 'TYPE1',\n",
       "   'positionType': 'LONG',\n",
       "   'daysGain': 6.5499,\n",
       "   'daysGainPct': 2.5828,\n",
       "   'marketValue': 260.1499,\n",
       "   'totalCost': 264.1,\n",
       "   'totalGain': -3.95,\n",
       "   'totalGainPct': -1.4956,\n",
       "   'pctOfPortfolio': 1.8928,\n",
       "   'costPerShare': 26.41,\n",
       "   'todayCommissions': 0,\n",
       "   'todayFees': 0,\n",
       "   'todayPricePaid': 0,\n",
       "   'todayQuantity': 0,\n",
       "   'adjPrevClose': 25.36,\n",
       "   'lotsDetails': 'https://api.etrade.com/v1/accounts/SXPtmpM7IZIpymUjhjI-zg/portfolio/350936501900.json',\n",
       "   'quoteDetails': 'https://api.etrade.com/v1/market/quote/KWEB.json',\n",
       "   'Product': {'symbol': 'KWEB',\n",
       "    'securityType': 'EQ',\n",
       "    'securitySubType': 'ETF',\n",
       "    'expiryYear': 0,\n",
       "    'expiryMonth': 0,\n",
       "    'expiryDay': 0,\n",
       "    'strikePrice': 0,\n",
       "    'productId': {'symbol': 'KWEB', 'typeCode': 'EQUITY'}},\n",
       "   'Quick': {'lastTrade': 26.015,\n",
       "    'lastTradeTime': 1709317410,\n",
       "    'change': 0.655,\n",
       "    'changePct': 2.5828,\n",
       "    'volume': 9775875,\n",
       "    'quoteStatus': 'INVALID'}},\n",
       "  {'positionId': 354861253900,\n",
       "   'symbolDescription': 'KRE',\n",
       "   'dateAcquired': 1703653200000,\n",
       "   'pricePaid': 53.1869,\n",
       "   'commissions': 0,\n",
       "   'otherFees': 0,\n",
       "   'quantity': 10,\n",
       "   'positionIndicator': 'TYPE1',\n",
       "   'positionType': 'LONG',\n",
       "   'daysGain': -7.4009,\n",
       "   'daysGainPct': -1.5373,\n",
       "   'marketValue': 473.999,\n",
       "   'totalCost': 531.87,\n",
       "   'totalGain': -57.871,\n",
       "   'totalGainPct': -10.8806,\n",
       "   'pctOfPortfolio': 3.4488,\n",
       "   'costPerShare': 53.187,\n",
       "   'todayCommissions': 0,\n",
       "   'todayFees': 0,\n",
       "   'todayPricePaid': 0,\n",
       "   'todayQuantity': 0,\n",
       "   'adjPrevClose': 48.14,\n",
       "   'lotsDetails': 'https://api.etrade.com/v1/accounts/SXPtmpM7IZIpymUjhjI-zg/portfolio/354861253900.json',\n",
       "   'quoteDetails': 'https://api.etrade.com/v1/market/quote/KRE.json',\n",
       "   'Product': {'symbol': 'KRE',\n",
       "    'securityType': 'EQ',\n",
       "    'securitySubType': 'ETF',\n",
       "    'expiryYear': 0,\n",
       "    'expiryMonth': 0,\n",
       "    'expiryDay': 0,\n",
       "    'strikePrice': 0,\n",
       "    'productId': {'symbol': 'KRE', 'typeCode': 'EQUITY'}},\n",
       "   'Quick': {'lastTrade': 47.3999,\n",
       "    'lastTradeTime': 1709317406,\n",
       "    'change': -0.7401,\n",
       "    'changePct': -1.5373,\n",
       "    'volume': 10047376,\n",
       "    'quoteStatus': 'INVALID'}},\n",
       "  {'positionId': 361160681900,\n",
       "   'symbolDescription': 'KBWR',\n",
       "   'dateAcquired': 1706677200000,\n",
       "   'pricePaid': 52,\n",
       "   'commissions': 0,\n",
       "   'otherFees': 0,\n",
       "   'quantity': 10,\n",
       "   'positionIndicator': 'TYPE1',\n",
       "   'positionType': 'LONG',\n",
       "   'daysGain': -8.5449,\n",
       "   'daysGainPct': -1.7297,\n",
       "   'marketValue': 485.4549,\n",
       "   'totalCost': 520,\n",
       "   'totalGain': -34.545,\n",
       "   'totalGainPct': -6.6432,\n",
       "   'pctOfPortfolio': 3.5322,\n",
       "   'costPerShare': 52,\n",
       "   'todayCommissions': 0,\n",
       "   'todayFees': 0,\n",
       "   'todayPricePaid': 0,\n",
       "   'todayQuantity': 0,\n",
       "   'adjPrevClose': 49.4,\n",
       "   'lotsDetails': 'https://api.etrade.com/v1/accounts/SXPtmpM7IZIpymUjhjI-zg/portfolio/361160681900.json',\n",
       "   'quoteDetails': 'https://api.etrade.com/v1/market/quote/KBWR.json',\n",
       "   'Product': {'symbol': 'KBWR',\n",
       "    'securityType': 'EQ',\n",
       "    'securitySubType': 'ETF',\n",
       "    'expiryYear': 0,\n",
       "    'expiryMonth': 0,\n",
       "    'expiryDay': 0,\n",
       "    'strikePrice': 0,\n",
       "    'productId': {'symbol': 'KBWR', 'typeCode': 'EQUITY'}},\n",
       "   'Quick': {'lastTrade': 48.5455,\n",
       "    'lastTradeTime': 1709317146,\n",
       "    'change': -0.8545,\n",
       "    'changePct': -1.7297,\n",
       "    'volume': 4345,\n",
       "    'quoteStatus': 'INVALID'}},\n",
       "  {'positionId': 366807420900,\n",
       "   'symbolDescription': 'CVS',\n",
       "   'dateAcquired': 1709182800000,\n",
       "   'pricePaid': 73.7999,\n",
       "   'commissions': 0,\n",
       "   'otherFees': 0,\n",
       "   'quantity': 2,\n",
       "   'positionIndicator': 'TYPE1',\n",
       "   'positionType': 'LONG',\n",
       "   'daysGain': -0.9699,\n",
       "   'daysGainPct': -0.6521,\n",
       "   'marketValue': 147.77,\n",
       "   'totalCost': 147.5999,\n",
       "   'totalGain': 0.17,\n",
       "   'totalGainPct': 0.1151,\n",
       "   'pctOfPortfolio': 1.0751,\n",
       "   'costPerShare': 73.8,\n",
       "   'todayCommissions': 0,\n",
       "   'todayFees': 0,\n",
       "   'todayPricePaid': 0,\n",
       "   'todayQuantity': 0,\n",
       "   'adjPrevClose': 74.37,\n",
       "   'lotsDetails': 'https://api.etrade.com/v1/accounts/SXPtmpM7IZIpymUjhjI-zg/portfolio/366807420900.json',\n",
       "   'quoteDetails': 'https://api.etrade.com/v1/market/quote/CVS.json',\n",
       "   'Product': {'symbol': 'CVS',\n",
       "    'securityType': 'EQ',\n",
       "    'expiryYear': 0,\n",
       "    'expiryMonth': 0,\n",
       "    'expiryDay': 0,\n",
       "    'strikePrice': 0,\n",
       "    'productId': {'symbol': 'CVS', 'typeCode': 'EQUITY'}},\n",
       "   'Quick': {'lastTrade': 73.885,\n",
       "    'lastTradeTime': 1709317419,\n",
       "    'change': -0.485,\n",
       "    'changePct': -0.6521,\n",
       "    'volume': 4652950,\n",
       "    'quoteStatus': 'INVALID'}},\n",
       "  {'positionId': 361098308900,\n",
       "   'symbolDescription': 'GPS',\n",
       "   'dateAcquired': 1706677200000,\n",
       "   'pricePaid': 18.8999,\n",
       "   'commissions': 0,\n",
       "   'otherFees': 0,\n",
       "   'quantity': 20,\n",
       "   'positionIndicator': 'TYPE1',\n",
       "   'positionType': 'LONG',\n",
       "   'daysGain': 3.3999,\n",
       "   'daysGainPct': 0.8975,\n",
       "   'marketValue': 382.1999,\n",
       "   'totalCost': 378,\n",
       "   'totalGain': 4.2,\n",
       "   'totalGainPct': 1.1111,\n",
       "   'pctOfPortfolio': 2.7809,\n",
       "   'costPerShare': 18.9,\n",
       "   'todayCommissions': 0,\n",
       "   'todayFees': 0,\n",
       "   'todayPricePaid': 0,\n",
       "   'todayQuantity': 0,\n",
       "   'adjPrevClose': 18.94,\n",
       "   'lotsDetails': 'https://api.etrade.com/v1/accounts/SXPtmpM7IZIpymUjhjI-zg/portfolio/361098308900.json',\n",
       "   'quoteDetails': 'https://api.etrade.com/v1/market/quote/GPS.json',\n",
       "   'Product': {'symbol': 'GPS',\n",
       "    'securityType': 'EQ',\n",
       "    'expiryYear': 0,\n",
       "    'expiryMonth': 0,\n",
       "    'expiryDay': 0,\n",
       "    'strikePrice': 0,\n",
       "    'productId': {'symbol': 'GPS', 'typeCode': 'EQUITY'}},\n",
       "   'Quick': {'lastTrade': 19.11,\n",
       "    'lastTradeTime': 1709317411,\n",
       "    'change': 0.17,\n",
       "    'changePct': 0.8975,\n",
       "    'volume': 2633519,\n",
       "    'quoteStatus': 'INVALID'}},\n",
       "  {'positionId': 364760900900,\n",
       "   'symbolDescription': 'GTLB',\n",
       "   'dateAcquired': 1708405200000,\n",
       "   'pricePaid': 71.76,\n",
       "   'commissions': 0,\n",
       "   'otherFees': 0,\n",
       "   'quantity': 6,\n",
       "   'positionIndicator': 'TYPE1',\n",
       "   'positionType': 'LONG',\n",
       "   'daysGain': 7.7999,\n",
       "   'daysGainPct': 1.8025,\n",
       "   'marketValue': 440.5199,\n",
       "   'totalCost': 430.56,\n",
       "   'totalGain': 9.96,\n",
       "   'totalGainPct': 2.3132,\n",
       "   'pctOfPortfolio': 3.2052,\n",
       "   'costPerShare': 71.76,\n",
       "   'todayCommissions': 0,\n",
       "   'todayFees': 0,\n",
       "   'todayPricePaid': 0,\n",
       "   'todayQuantity': 0,\n",
       "   'adjPrevClose': 72.12,\n",
       "   'lotsDetails': 'https://api.etrade.com/v1/accounts/SXPtmpM7IZIpymUjhjI-zg/portfolio/364760900900.json',\n",
       "   'quoteDetails': 'https://api.etrade.com/v1/market/quote/GTLB.json',\n",
       "   'Product': {'symbol': 'GTLB',\n",
       "    'securityType': 'EQ',\n",
       "    'expiryYear': 0,\n",
       "    'expiryMonth': 0,\n",
       "    'expiryDay': 0,\n",
       "    'strikePrice': 0,\n",
       "    'productId': {'symbol': 'GTLB', 'typeCode': 'EQUITY'}},\n",
       "   'Quick': {'lastTrade': 73.42,\n",
       "    'lastTradeTime': 1709317407,\n",
       "    'change': 1.3,\n",
       "    'changePct': 1.8025,\n",
       "    'volume': 1697838,\n",
       "    'quoteStatus': 'INVALID'}},\n",
       "  {'positionId': 305833509900,\n",
       "   'symbolDescription': 'ITOT',\n",
       "   'dateAcquired': 1690948800000,\n",
       "   'pricePaid': 100.6342,\n",
       "   'commissions': 0,\n",
       "   'otherFees': 0,\n",
       "   'quantity': 28,\n",
       "   'positionIndicator': 'TYPE1',\n",
       "   'positionType': 'LONG',\n",
       "   'daysGain': 23.3799,\n",
       "   'daysGainPct': 0.7455,\n",
       "   'marketValue': 3159.38,\n",
       "   'totalCost': 2817.7599,\n",
       "   'totalGain': 341.62,\n",
       "   'totalGainPct': 12.1238,\n",
       "   'pctOfPortfolio': 22.9881,\n",
       "   'costPerShare': 100.6342,\n",
       "   'todayCommissions': 0,\n",
       "   'todayFees': 0,\n",
       "   'todayPricePaid': 0,\n",
       "   'todayQuantity': 0,\n",
       "   'adjPrevClose': 112.0,\n",
       "   'lotsDetails': 'https://api.etrade.com/v1/accounts/SXPtmpM7IZIpymUjhjI-zg/portfolio/305833509900.json',\n",
       "   'quoteDetails': 'https://api.etrade.com/v1/market/quote/ITOT.json',\n",
       "   'Product': {'symbol': 'ITOT',\n",
       "    'securityType': 'EQ',\n",
       "    'securitySubType': 'ETF',\n",
       "    'expiryYear': 0,\n",
       "    'expiryMonth': 0,\n",
       "    'expiryDay': 0,\n",
       "    'strikePrice': 0,\n",
       "    'productId': {'symbol': 'ITOT', 'typeCode': 'EQUITY'}},\n",
       "   'Quick': {'lastTrade': 112.835,\n",
       "    'lastTradeTime': 1709317398,\n",
       "    'change': 0.835,\n",
       "    'changePct': 0.7455,\n",
       "    'volume': 870640,\n",
       "    'quoteStatus': 'INVALID'}},\n",
       "  {'positionId': 321211374900,\n",
       "   'symbolDescription': 'IYR',\n",
       "   'dateAcquired': 1686110400000,\n",
       "   'pricePaid': 84.4599,\n",
       "   'commissions': 0,\n",
       "   'otherFees': 0,\n",
       "   'quantity': 10,\n",
       "   'positionIndicator': 'TYPE1',\n",
       "   'positionType': 'LONG',\n",
       "   'daysGain': 1.3,\n",
       "   'daysGainPct': 0.1467,\n",
       "   'marketValue': 887.2999,\n",
       "   'totalCost': 844.6,\n",
       "   'totalGain': 42.7,\n",
       "   'totalGainPct': 5.0556,\n",
       "   'pctOfPortfolio': 6.4561,\n",
       "   'costPerShare': 84.46,\n",
       "   'todayCommissions': 0,\n",
       "   'todayFees': 0,\n",
       "   'todayPricePaid': 0,\n",
       "   'todayQuantity': 0,\n",
       "   'adjPrevClose': 88.6,\n",
       "   'lotsDetails': 'https://api.etrade.com/v1/accounts/SXPtmpM7IZIpymUjhjI-zg/portfolio/321211374900.json',\n",
       "   'quoteDetails': 'https://api.etrade.com/v1/market/quote/IYR.json',\n",
       "   'Product': {'symbol': 'IYR',\n",
       "    'securityType': 'EQ',\n",
       "    'securitySubType': 'ETF',\n",
       "    'expiryYear': 0,\n",
       "    'expiryMonth': 0,\n",
       "    'expiryDay': 0,\n",
       "    'strikePrice': 0,\n",
       "    'productId': {'symbol': 'IYR', 'typeCode': 'EQUITY'}},\n",
       "   'Quick': {'lastTrade': 88.73,\n",
       "    'lastTradeTime': 1709317421,\n",
       "    'change': 0.13,\n",
       "    'changePct': 0.1467,\n",
       "    'volume': 5692030,\n",
       "    'quoteStatus': 'INVALID'}},\n",
       "  {'positionId': 351564282900,\n",
       "   'symbolDescription': 'YELP',\n",
       "   'dateAcquired': 1701925200000,\n",
       "   'pricePaid': 38.7599,\n",
       "   'commissions': 0,\n",
       "   'otherFees': 0,\n",
       "   'quantity': 25,\n",
       "   'positionIndicator': 'TYPE1',\n",
       "   'positionType': 'LONG',\n",
       "   'daysGain': -0.75,\n",
       "   'daysGainPct': -0.078,\n",
       "   'marketValue': 960.25,\n",
       "   'totalCost': 969,\n",
       "   'totalGain': -8.75,\n",
       "   'totalGainPct': -0.9029,\n",
       "   'pctOfPortfolio': 6.9869,\n",
       "   'costPerShare': 38.76,\n",
       "   'todayCommissions': 0,\n",
       "   'todayFees': 0,\n",
       "   'todayPricePaid': 0,\n",
       "   'todayQuantity': 0,\n",
       "   'adjPrevClose': 38.44,\n",
       "   'lotsDetails': 'https://api.etrade.com/v1/accounts/SXPtmpM7IZIpymUjhjI-zg/portfolio/351564282900.json',\n",
       "   'quoteDetails': 'https://api.etrade.com/v1/market/quote/YELP.json',\n",
       "   'Product': {'symbol': 'YELP',\n",
       "    'securityType': 'EQ',\n",
       "    'expiryYear': 0,\n",
       "    'expiryMonth': 0,\n",
       "    'expiryDay': 0,\n",
       "    'strikePrice': 0,\n",
       "    'productId': {'symbol': 'YELP', 'typeCode': 'EQUITY'}},\n",
       "   'Quick': {'lastTrade': 38.41,\n",
       "    'lastTradeTime': 1709317318,\n",
       "    'change': -0.03,\n",
       "    'changePct': -0.078,\n",
       "    'volume': 298752,\n",
       "    'quoteStatus': 'INVALID'}}],\n",
       " 'totalPages': 1}"
      ]
     },
     "execution_count": 61,
     "metadata": {},
     "output_type": "execute_result"
    }
   ],
   "source": [
    "data[\"PortfolioResponse\"][\"AccountPortfolio\"][0]"
   ]
  },
  {
   "cell_type": "code",
   "execution_count": 110,
   "id": "fe89a64c-78d9-49ba-9eb7-5fbc47856611",
   "metadata": {},
   "outputs": [],
   "source": [
    "l_resp = session.get(\"https://api.etrade.com/v1/accounts/SXPtmpM7IZIpymUjhjI-zg/portfolio/364189645900.json\")\n",
    "# l_resp = session.get('https://api.etrade.com/v1/accounts/E2ayfoKSzH1fFZs-7xV48A/portfolio/10227202005.json')"
   ]
  },
  {
   "cell_type": "code",
   "execution_count": 111,
   "id": "82c60c17-b0ec-4da5-bcd0-a5895ece2970",
   "metadata": {},
   "outputs": [],
   "source": [
    "lot_data = l_resp.json()"
   ]
  },
  {
   "cell_type": "code",
   "execution_count": 112,
   "id": "cea8a5a2-3da6-45ea-be44-9035969305ff",
   "metadata": {},
   "outputs": [
    {
     "data": {
      "text/plain": [
       "{'PositionLotsResponse': {'shortType': 1,\n",
       "  'PositionLot': [{'positionId': 364189645900,\n",
       "    'positionLotId': 2347253384103,\n",
       "    'price': 475.0,\n",
       "    'termCode': 2,\n",
       "    'daysGain': -34.0,\n",
       "    'daysGainPct': -7.7448,\n",
       "    'marketValue': 405.0,\n",
       "    'totalCost': 475.0,\n",
       "    'totalCostForGainPct': -14.7368,\n",
       "    'totalGain': -70.0,\n",
       "    'lotSourceCode': 1,\n",
       "    'originalQty': 1,\n",
       "    'remainingQty': 1,\n",
       "    'availableQty': 0,\n",
       "    'orderNo': 99,\n",
       "    'legNo': 1,\n",
       "    'acquiredDate': 1707973200000,\n",
       "    'locationCode': 1,\n",
       "    'exchangeRate': 1.0,\n",
       "    'settlementCurrency': 'USD',\n",
       "    'paymentCurrency': 'USD',\n",
       "    'adjPrice': 0.0,\n",
       "    'commPerShare': 0.0,\n",
       "    'feesPerShare': 0.0,\n",
       "    'shortType': 1},\n",
       "   {'positionId': 364189645900,\n",
       "    'positionLotId': 2357680677103,\n",
       "    'price': 444.0,\n",
       "    'termCode': 2,\n",
       "    'daysGain': -34.0,\n",
       "    'daysGainPct': -7.7448,\n",
       "    'marketValue': 405.0,\n",
       "    'totalCost': 444.0,\n",
       "    'totalCostForGainPct': -8.7837,\n",
       "    'totalGain': -39.0,\n",
       "    'lotSourceCode': 1,\n",
       "    'originalQty': 1,\n",
       "    'remainingQty': 1,\n",
       "    'availableQty': 0,\n",
       "    'orderNo': 112,\n",
       "    'legNo': 1,\n",
       "    'acquiredDate': 1708578000000,\n",
       "    'locationCode': 1,\n",
       "    'exchangeRate': 1.0,\n",
       "    'settlementCurrency': 'USD',\n",
       "    'paymentCurrency': 'USD',\n",
       "    'adjPrice': 0.0,\n",
       "    'commPerShare': 0.0,\n",
       "    'feesPerShare': 0.0,\n",
       "    'shortType': 1}]}}"
      ]
     },
     "execution_count": 112,
     "metadata": {},
     "output_type": "execute_result"
    }
   ],
   "source": [
    "lot_data"
   ]
  },
  {
   "cell_type": "code",
   "execution_count": 60,
   "id": "9082b8e9-3b4c-4938-98b7-8bc319bf0903",
   "metadata": {},
   "outputs": [
    {
     "data": {
      "text/plain": [
       "[{'positionId': 364189645900,\n",
       "  'symbolDescription': 'MDB',\n",
       "  'dateAcquired': 1707973200000,\n",
       "  'pricePaid': 459.5,\n",
       "  'commissions': 0,\n",
       "  'otherFees': 0,\n",
       "  'quantity': 2,\n",
       "  'positionIndicator': 'TYPE1',\n",
       "  'positionType': 'LONG',\n",
       "  'daysGain': -7.16,\n",
       "  'daysGainPct': -0.7998,\n",
       "  'marketValue': 888,\n",
       "  'totalCost': 919,\n",
       "  'totalGain': -31,\n",
       "  'totalGainPct': -3.3732,\n",
       "  'pctOfPortfolio': 6.4612,\n",
       "  'costPerShare': 459.5,\n",
       "  'todayCommissions': 0,\n",
       "  'todayFees': 0,\n",
       "  'todayPricePaid': 0,\n",
       "  'todayQuantity': 0,\n",
       "  'adjPrevClose': 447.58,\n",
       "  'lotsDetails': 'https://api.etrade.com/v1/accounts/SXPtmpM7IZIpymUjhjI-zg/portfolio/364189645900.json',\n",
       "  'quoteDetails': 'https://api.etrade.com/v1/market/quote/MDB.json',\n",
       "  'Product': {'symbol': 'MDB',\n",
       "   'securityType': 'EQ',\n",
       "   'expiryYear': 0,\n",
       "   'expiryMonth': 0,\n",
       "   'expiryDay': 0,\n",
       "   'strikePrice': 0,\n",
       "   'productId': {'symbol': 'MDB', 'typeCode': 'EQUITY'}},\n",
       "  'Quick': {'lastTrade': 444.0,\n",
       "   'lastTradeTime': 1709317408,\n",
       "   'change': -3.58,\n",
       "   'changePct': -0.7998,\n",
       "   'volume': 738143,\n",
       "   'quoteStatus': 'INVALID'}}]"
      ]
     },
     "execution_count": 60,
     "metadata": {},
     "output_type": "execute_result"
    }
   ],
   "source": [
    "[p for p in ps_x if p[\"symbolDescription\"] == \"MDB\"]"
   ]
  },
  {
   "cell_type": "code",
   "execution_count": 24,
   "id": "23bc0fef-85e9-4a46-ae7a-881086373857",
   "metadata": {},
   "outputs": [
    {
     "data": {
      "text/plain": [
       "1"
      ]
     },
     "execution_count": 24,
     "metadata": {},
     "output_type": "execute_result"
    }
   ],
   "source": [
    "data[\"PortfolioResponse\"][\"AccountPortfolio\"][0][\"totalPages\"]"
   ]
  },
  {
   "cell_type": "code",
   "execution_count": 70,
   "id": "9801cffc-98da-43c0-929b-ff13ad925c9b",
   "metadata": {},
   "outputs": [],
   "source": [
    "q_resp = session.get('https://api.etrade.com/v1/market/quote/MDB.json')"
   ]
  },
  {
   "cell_type": "code",
   "execution_count": 71,
   "id": "4601413c-964e-47a5-825c-56e9e2e0859a",
   "metadata": {},
   "outputs": [
    {
     "data": {
      "text/plain": [
       "{'QuoteResponse': {'QuoteData': [{'dateTime': '17:15:49 EST 03-04-2024',\n",
       "    'dateTimeUTC': 1709590549,\n",
       "    'quoteStatus': 'CLOSING',\n",
       "    'ahFlag': 'true',\n",
       "    'hasMiniOptions': False,\n",
       "    'All': {'adjustedFlag': False,\n",
       "     'ask': 440.0,\n",
       "     'askSize': 500,\n",
       "     'askTime': '17:15:49 EST 03-04-2024',\n",
       "     'bid': 435.3,\n",
       "     'bidExchange': '',\n",
       "     'bidSize': 2000,\n",
       "     'bidTime': '17:15:49 EST 03-04-2024',\n",
       "     'changeClose': 2.16,\n",
       "     'changeClosePercentage': 0.49,\n",
       "     'companyName': 'MONGODB INC CL A',\n",
       "     'daysToExpiration': 0,\n",
       "     'dirLast': '2',\n",
       "     'dividend': 0.0,\n",
       "     'eps': -2.63,\n",
       "     'estEarnings': 2.924,\n",
       "     'exDividendDate': 0,\n",
       "     'high': 443.09,\n",
       "     'high52': 509.62,\n",
       "     'lastTrade': 439.0,\n",
       "     'low': 427.29,\n",
       "     'low52': 189.5901,\n",
       "     'open': 437.08,\n",
       "     'openInterest': 0,\n",
       "     'optionStyle': '',\n",
       "     'optionUnderlier': '',\n",
       "     'previousClose': 436.84,\n",
       "     'previousDayVolume': 1442620,\n",
       "     'primaryExchange': 'NSDQ',\n",
       "     'symbolDescription': 'MONGODB INC CL A',\n",
       "     'totalVolume': 1003724,\n",
       "     'upc': 0,\n",
       "     'cashDeliverable': 0,\n",
       "     'marketCap': 31685703000.0,\n",
       "     'sharesOutstanding': 72177000,\n",
       "     'nextEarningDate': '',\n",
       "     'beta': 2.3,\n",
       "     'yield': 0.0,\n",
       "     'declaredDividend': 0.0,\n",
       "     'dividendPayableDate': 0,\n",
       "     'pe': 0.0,\n",
       "     'week52LowDate': 1678742179,\n",
       "     'week52HiDate': 1707776179,\n",
       "     'intrinsicValue': 0.0,\n",
       "     'timePremium': 0.0,\n",
       "     'optionMultiplier': 0.0,\n",
       "     'contractSize': 0.0,\n",
       "     'expirationDate': 0,\n",
       "     'timeOfLastTrade': 1709586001,\n",
       "     'averageVolume': 1016924,\n",
       "     'ExtendedHourQuoteDetail': {'lastPrice': 435.0,\n",
       "      'change': -1.84,\n",
       "      'percentChange': -0.42,\n",
       "      'bid': 435.3,\n",
       "      'bidSize': 2000,\n",
       "      'ask': 440.0,\n",
       "      'askSize': 500,\n",
       "      'volume': 1003724,\n",
       "      'timeOfLastTrade': 1709590549,\n",
       "      'timeZone': 'EST',\n",
       "      'quoteStatus': 'EH_REALTIME'}},\n",
       "    'Product': {'symbol': 'MDB', 'securityType': 'EQ'}}]}}"
      ]
     },
     "execution_count": 71,
     "metadata": {},
     "output_type": "execute_result"
    }
   ],
   "source": [
    "q_resp.json()"
   ]
  },
  {
   "cell_type": "code",
   "execution_count": 30,
   "id": "e7dad2c9-2388-4dda-8884-9bab2108e8a0",
   "metadata": {},
   "outputs": [],
   "source": [
    "import json"
   ]
  },
  {
   "cell_type": "code",
   "execution_count": 31,
   "id": "3df84cfa-736a-41ff-a750-5b080ac1f01f",
   "metadata": {},
   "outputs": [],
   "source": [
    "data = json.loads(viewp_resp.text)"
   ]
  },
  {
   "cell_type": "code",
   "execution_count": 102,
   "id": "d08f1eaf-2b4b-4c66-8451-6c5a32dec389",
   "metadata": {},
   "outputs": [
    {
     "data": {
      "text/plain": [
       "True"
      ]
     },
     "execution_count": 102,
     "metadata": {},
     "output_type": "execute_result"
    }
   ],
   "source": [
    "viewp_resp.json() == data"
   ]
  },
  {
   "cell_type": "code",
   "execution_count": 86,
   "id": "2e817374-bcbd-405c-9f5b-488d5dd90e2b",
   "metadata": {},
   "outputs": [
    {
     "data": {
      "text/plain": [
       "datetime.datetime(2023, 12, 20, 5, 0)"
      ]
     },
     "execution_count": 86,
     "metadata": {},
     "output_type": "execute_result"
    }
   ],
   "source": [
    "datetime.fromtimestamp(1703048400000/1000)"
   ]
  },
  {
   "cell_type": "code",
   "execution_count": null,
   "id": "44ebabb7-c54e-4a70-a82f-6c335c758b3c",
   "metadata": {},
   "outputs": [],
   "source": [
    "data"
   ]
  },
  {
   "cell_type": "code",
   "execution_count": 14,
   "id": "67b26226-6d91-408c-a363-bb9dc553c3c6",
   "metadata": {},
   "outputs": [],
   "source": [
    "root_yr = Decimal(\"1\")/Decimal(\"2.21095890411\")"
   ]
  },
  {
   "cell_type": "code",
   "execution_count": 18,
   "id": "758087b7-2a7e-4f92-bc07-dad6a14ed84c",
   "metadata": {},
   "outputs": [
    {
     "data": {
      "text/plain": [
       "Decimal('-0.0552087701011349359455755951')"
      ]
     },
     "execution_count": 18,
     "metadata": {},
     "output_type": "execute_result"
    }
   ],
   "source": [
    "(Decimal(\"-0.118\")+Decimal(\"1\"))**root_yr+Decimal(\"-1\")"
   ]
  },
  {
   "cell_type": "code",
   "execution_count": null,
   "id": "216b110c-2d29-4034-b4ac-93228a429de8",
   "metadata": {},
   "outputs": [],
   "source": []
  }
 ],
 "metadata": {
  "kernelspec": {
   "display_name": "Python 3 (ipykernel)",
   "language": "python",
   "name": "python3"
  },
  "language_info": {
   "codemirror_mode": {
    "name": "ipython",
    "version": 3
   },
   "file_extension": ".py",
   "mimetype": "text/x-python",
   "name": "python",
   "nbconvert_exporter": "python",
   "pygments_lexer": "ipython3",
   "version": "3.11.6"
  }
 },
 "nbformat": 4,
 "nbformat_minor": 5
}
