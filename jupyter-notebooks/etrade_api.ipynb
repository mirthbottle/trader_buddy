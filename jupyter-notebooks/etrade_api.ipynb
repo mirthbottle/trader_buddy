{
 "cells": [
  {
   "cell_type": "code",
   "execution_count": 1,
   "id": "52eb9e0c-b18b-4f58-9d2b-9b40145fa34c",
   "metadata": {
    "tags": []
   },
   "outputs": [],
   "source": [
    "%load_ext autoreload\n",
    "%autoreload 2\n",
    "\n",
    "%load_ext dotenv\n",
    "%dotenv"
   ]
  },
  {
   "cell_type": "code",
   "execution_count": null,
   "id": "a684eaeb-44d2-466b-a685-cbbf49ea75cc",
   "metadata": {},
   "outputs": [],
   "source": [
    "# to reload\n",
    "# %dotenv"
   ]
  },
  {
   "cell_type": "markdown",
   "id": "96dfe298-47cf-4508-9014-17f7a031d413",
   "metadata": {},
   "source": [
    "# Use ETrade API"
   ]
  },
  {
   "cell_type": "code",
   "execution_count": 2,
   "id": "6530afbc-d305-4085-a36a-994560db6faa",
   "metadata": {
    "tags": []
   },
   "outputs": [],
   "source": [
    "import pandas as pd\n",
    "from datetime import date, datetime, timedelta\n",
    "\n",
    "import os\n",
    "import sys\n",
    "sys.path.append(\"../projects/gain_tracker\")"
   ]
  },
  {
   "cell_type": "code",
   "execution_count": 3,
   "id": "bcd7827f-83f9-462a-8501-7079033774da",
   "metadata": {
    "tags": []
   },
   "outputs": [
    {
     "name": "stderr",
     "output_type": "stream",
     "text": [
      "/workspaces/src/trader_buddy/jupyter-notebooks/../projects/gain_tracker/gain_tracker/assets/positions.py:90: ExperimentalWarning: Parameter `allow_nonexistent_upstream_partitions` of initializer `TimeWindowPartitionMapping.__init__` is experimental. It may break in future versions, even between dot releases. To mute warnings for experimental functionality, invoke warnings.filterwarnings(\"ignore\", category=dagster.ExperimentalWarning) or use one of the other methods described at https://docs.python.org/3/library/warnings.html#describing-warning-filters.\n",
      "  partition_mapping=TimeWindowPartitionMapping(\n"
     ]
    }
   ],
   "source": [
    "from gain_tracker.resources.etrade_api import ETradeAPI\n",
    "from gain_tracker.assets.positions import camel_to_snake"
   ]
  },
  {
   "cell_type": "code",
   "execution_count": 4,
   "id": "70c24566-260f-41e2-a5f7-e844c1829540",
   "metadata": {
    "tags": []
   },
   "outputs": [],
   "source": [
    "# consumer_key = os.getenv(\"ETRADE_SANDBOX_KEY\")\n",
    "# consumer_secret = os.getenv(\"ETRADE_SANDBOX_SECRET\")\n",
    "consumer_key = os.getenv(\"ETRADE_KEY\")\n",
    "consumer_secret = os.getenv(\"ETRADE_SECRET\")"
   ]
  },
  {
   "cell_type": "code",
   "execution_count": 5,
   "id": "6c538f57-24c4-4602-a29d-032ec0bc134e",
   "metadata": {
    "tags": []
   },
   "outputs": [],
   "source": [
    "etrader = ETradeAPI(\"prod\")"
   ]
  },
  {
   "cell_type": "code",
   "execution_count": 6,
   "id": "b68a300d-2f27-452f-ae3e-bfb7251b59c5",
   "metadata": {
    "tags": []
   },
   "outputs": [
    {
     "name": "stdin",
     "output_type": "stream",
     "text": [
      "Please accept agreement and enter verification code from browser:  XEOYM\n"
     ]
    },
    {
     "data": {
      "text/plain": [
       "<rauth.session.OAuth1Session at 0x7f46f5a311d0>"
      ]
     },
     "execution_count": 6,
     "metadata": {},
     "output_type": "execute_result"
    }
   ],
   "source": [
    "etrader.authenticate_session()"
   ]
  },
  {
   "cell_type": "markdown",
   "id": "bb730997-c783-4d8b-b1f9-5630e181c352",
   "metadata": {
    "tags": []
   },
   "source": [
    "print(etrader.dagster_config_input_string())"
   ]
  },
  {
   "cell_type": "code",
   "execution_count": 40,
   "id": "88e4a9c8-7da7-4aa0-a804-749fdb0cdeae",
   "metadata": {},
   "outputs": [],
   "source": [
    "accounts = etrader.list_accounts()"
   ]
  },
  {
   "cell_type": "code",
   "execution_count": 49,
   "id": "0d01d04f-e8c7-43d9-91f6-ee91187b76a7",
   "metadata": {},
   "outputs": [],
   "source": [
    "acc_date = date(2024, 2, 4)"
   ]
  },
  {
   "cell_type": "code",
   "execution_count": 48,
   "id": "78e38f24-6c47-429d-a1a4-8fc59f9dd46b",
   "metadata": {},
   "outputs": [],
   "source": [
    "accounts_df = pd.DataFrame(accounts)\n",
    "\n",
    "snake_cols = {c:camel_to_snake(c) for c in accounts_df.columns}\n",
    "accounts_df.rename(columns=snake_cols, inplace=True)"
   ]
  },
  {
   "cell_type": "code",
   "execution_count": 61,
   "id": "dc090813-9f4d-433e-a0a1-e9a23836c9e7",
   "metadata": {},
   "outputs": [],
   "source": [
    "acc_dfs = []\n",
    "\n",
    "while acc_date < date(2024, 3, 25):\n",
    "    accounts_df.loc[:, 'date'] = acc_date\n",
    "    acc_dfs.append(accounts_df.copy(deep=True)) \n",
    "    acc_date = acc_date + timedelta(days=1)"
   ]
  },
  {
   "cell_type": "code",
   "execution_count": 62,
   "id": "d41b17f7-cf6a-411e-a07b-8b8dcbbe9172",
   "metadata": {},
   "outputs": [],
   "source": [
    "acc_backfill = pd.concat(acc_dfs)"
   ]
  },
  {
   "cell_type": "code",
   "execution_count": 56,
   "id": "f7cb090c-9de7-4776-afe6-d49f4268dbd2",
   "metadata": {},
   "outputs": [],
   "source": [
    "from google.cloud import bigquery\n",
    "\n",
    "client = bigquery.Client()"
   ]
  },
  {
   "cell_type": "code",
   "execution_count": 63,
   "id": "31f63e15-617b-4275-a3e4-e44fd6f8c854",
   "metadata": {},
   "outputs": [],
   "source": [
    "job = client.load_table_from_dataframe(\n",
    "    acc_backfill.set_index('account_id'), \"main-street-labs.gain_tracker.etrade_accounts\"\n",
    ")"
   ]
  },
  {
   "cell_type": "code",
   "execution_count": 30,
   "id": "9920fe6b-fd82-4501-828a-ce641a59da88",
   "metadata": {},
   "outputs": [],
   "source": [
    "a_etrader = ETradeAPI(\"prod\", session_token=etrader.session_token, session_token_secret=etrader.session_token_secret)"
   ]
  },
  {
   "cell_type": "markdown",
   "id": "3fd6e50a-23a6-4337-a952-9f9caf8f8d01",
   "metadata": {},
   "source": [
    "print(a_etrader.dagster_config_input_string())"
   ]
  },
  {
   "cell_type": "code",
   "execution_count": 31,
   "id": "49e9b311-a422-489d-b77b-2902dbc39d4a",
   "metadata": {},
   "outputs": [],
   "source": [
    "session = a_etrader.create_authenticated_session()"
   ]
  },
  {
   "cell_type": "code",
   "execution_count": 11,
   "id": "9c622db9-ce3d-4091-ab47-f8578df91fb0",
   "metadata": {},
   "outputs": [
    {
     "data": {
      "text/plain": [
       "200"
      ]
     },
     "execution_count": 11,
     "metadata": {},
     "output_type": "execute_result"
    }
   ],
   "source": [
    "response = session.get(\"https://api.etrade.com/oauth/renew_access_token\")\n",
    "response.status_code"
   ]
  },
  {
   "cell_type": "code",
   "execution_count": 38,
   "id": "882c661e-c32c-4554-b5b0-b6c68292a981",
   "metadata": {},
   "outputs": [],
   "source": [
    "# list_accounts_url = 'https://apisb.etrade.com/v1/accounts/list.json'\n",
    "list_accounts_url = 'https://api.etrade.com/v1/accounts/list.json'"
   ]
  },
  {
   "cell_type": "code",
   "execution_count": 39,
   "id": "95f4f5c1-4ffa-46b8-aa0d-51448ace15b2",
   "metadata": {},
   "outputs": [
    {
     "data": {
      "text/html": [
       "<div>\n",
       "<style scoped>\n",
       "    .dataframe tbody tr th:only-of-type {\n",
       "        vertical-align: middle;\n",
       "    }\n",
       "\n",
       "    .dataframe tbody tr th {\n",
       "        vertical-align: top;\n",
       "    }\n",
       "\n",
       "    .dataframe thead th {\n",
       "        text-align: right;\n",
       "    }\n",
       "</style>\n",
       "<table border=\"1\" class=\"dataframe\">\n",
       "  <thead>\n",
       "    <tr style=\"text-align: right;\">\n",
       "      <th></th>\n",
       "      <th>accountId</th>\n",
       "      <th>accountIdKey</th>\n",
       "      <th>accountMode</th>\n",
       "      <th>accountDesc</th>\n",
       "      <th>accountName</th>\n",
       "      <th>accountType</th>\n",
       "      <th>institutionType</th>\n",
       "      <th>accountStatus</th>\n",
       "      <th>closedDate</th>\n",
       "      <th>shareWorksAccount</th>\n",
       "      <th>fcManagedMssbClosedAccount</th>\n",
       "    </tr>\n",
       "  </thead>\n",
       "  <tbody>\n",
       "    <tr>\n",
       "      <th>0</th>\n",
       "      <td>153285977</td>\n",
       "      <td>lP_HmzzVyiLFftb7DXaEUw</td>\n",
       "      <td>CASH</td>\n",
       "      <td>Individual Brokerage</td>\n",
       "      <td></td>\n",
       "      <td>INDIVIDUAL</td>\n",
       "      <td>BROKERAGE</td>\n",
       "      <td>ACTIVE</td>\n",
       "      <td>0</td>\n",
       "      <td>False</td>\n",
       "      <td>False</td>\n",
       "    </tr>\n",
       "    <tr>\n",
       "      <th>1</th>\n",
       "      <td>227699084</td>\n",
       "      <td>E2ayfoKSzH1fFZs-7xV48A</td>\n",
       "      <td>CASH</td>\n",
       "      <td>Roth IRA</td>\n",
       "      <td></td>\n",
       "      <td>ROTHIRA</td>\n",
       "      <td>BROKERAGE</td>\n",
       "      <td>ACTIVE</td>\n",
       "      <td>0</td>\n",
       "      <td>False</td>\n",
       "      <td>False</td>\n",
       "    </tr>\n",
       "    <tr>\n",
       "      <th>2</th>\n",
       "      <td>892405345</td>\n",
       "      <td>SXPtmpM7IZIpymUjhjI-zg</td>\n",
       "      <td>CASH</td>\n",
       "      <td>Traditional IRA</td>\n",
       "      <td></td>\n",
       "      <td>CONTRIBUTORY</td>\n",
       "      <td>BROKERAGE</td>\n",
       "      <td>ACTIVE</td>\n",
       "      <td>0</td>\n",
       "      <td>False</td>\n",
       "      <td>False</td>\n",
       "    </tr>\n",
       "  </tbody>\n",
       "</table>\n",
       "</div>"
      ],
      "text/plain": [
       "   accountId            accountIdKey accountMode           accountDesc  \\\n",
       "0  153285977  lP_HmzzVyiLFftb7DXaEUw        CASH  Individual Brokerage   \n",
       "1  227699084  E2ayfoKSzH1fFZs-7xV48A        CASH              Roth IRA   \n",
       "2  892405345  SXPtmpM7IZIpymUjhjI-zg        CASH       Traditional IRA   \n",
       "\n",
       "  accountName   accountType institutionType accountStatus  closedDate  \\\n",
       "0                INDIVIDUAL       BROKERAGE        ACTIVE           0   \n",
       "1                   ROTHIRA       BROKERAGE        ACTIVE           0   \n",
       "2              CONTRIBUTORY       BROKERAGE        ACTIVE           0   \n",
       "\n",
       "   shareWorksAccount  fcManagedMssbClosedAccount  \n",
       "0              False                       False  \n",
       "1              False                       False  \n",
       "2              False                       False  "
      ]
     },
     "execution_count": 39,
     "metadata": {},
     "output_type": "execute_result"
    }
   ],
   "source": [
    "resp = session.get(list_accounts_url, params = {'format': 'json'})\n",
    "\n",
    "accounts = pd.DataFrame(resp.json()[\"AccountListResponse\"][\"Accounts\"][\"Account\"])\n",
    "\n",
    "accounts"
   ]
  },
  {
   "cell_type": "code",
   "execution_count": 32,
   "id": "36d4392a-9054-4d23-9b07-d3c062499ccd",
   "metadata": {},
   "outputs": [],
   "source": [
    "accountIdKey = \"SXPtmpM7IZIpymUjhjI-zg\"\n",
    "accountIdKey = \"E2ayfoKSzH1fFZs-7xV48A\"\n",
    "instType = \"BROKERAGE\""
   ]
  },
  {
   "cell_type": "code",
   "execution_count": 36,
   "id": "09f6bd9a-5312-4b16-8743-1f06eb408585",
   "metadata": {},
   "outputs": [
    {
     "name": "stdout",
     "output_type": "stream",
     "text": [
      "{'startDate': '02042024', 'endDate': '02112024'}\n"
     ]
    },
    {
     "data": {
      "text/plain": [
       "5"
      ]
     },
     "execution_count": 36,
     "metadata": {},
     "output_type": "execute_result"
    }
   ],
   "source": [
    "transactions = a_etrader.get_transactions(accountIdKey, date_range=(\"02042024\", \"02112024\"))\n",
    "# transactions = a_etrader.get_transactions(accountIdKey, start_end_dates=(\"03112024\", \"03182024\"))\n",
    "\n",
    "len(transactions)"
   ]
  },
  {
   "cell_type": "code",
   "execution_count": 34,
   "id": "9ba89859-e23f-4a18-9645-84917fe6e571",
   "metadata": {},
   "outputs": [
    {
     "data": {
      "text/plain": [
       "Index(['transactionId', 'accountId', 'transactionDate', 'postDate', 'amount',\n",
       "       'description', 'transactionType', 'memo', 'imageFlag', 'instType',\n",
       "       'storeId', 'detailsURI', 'quantity', 'price', 'settlementCurrency',\n",
       "       'paymentCurrency', 'fee', 'displaySymbol', 'settlementDate', 'symbol',\n",
       "       'securityType'],\n",
       "      dtype='object')"
      ]
     },
     "execution_count": 34,
     "metadata": {},
     "output_type": "execute_result"
    }
   ],
   "source": [
    "transactions.columns"
   ]
  },
  {
   "cell_type": "code",
   "execution_count": 35,
   "id": "f78c1da1-1889-4352-9617-65770af391a2",
   "metadata": {},
   "outputs": [
    {
     "data": {
      "text/html": [
       "<div>\n",
       "<style scoped>\n",
       "    .dataframe tbody tr th:only-of-type {\n",
       "        vertical-align: middle;\n",
       "    }\n",
       "\n",
       "    .dataframe tbody tr th {\n",
       "        vertical-align: top;\n",
       "    }\n",
       "\n",
       "    .dataframe thead th {\n",
       "        text-align: right;\n",
       "    }\n",
       "</style>\n",
       "<table border=\"1\" class=\"dataframe\">\n",
       "  <thead>\n",
       "    <tr style=\"text-align: right;\">\n",
       "      <th></th>\n",
       "      <th>transactionId</th>\n",
       "      <th>accountId</th>\n",
       "      <th>transactionDate</th>\n",
       "      <th>postDate</th>\n",
       "      <th>amount</th>\n",
       "      <th>description</th>\n",
       "      <th>transactionType</th>\n",
       "      <th>memo</th>\n",
       "      <th>imageFlag</th>\n",
       "      <th>instType</th>\n",
       "      <th>...</th>\n",
       "      <th>detailsURI</th>\n",
       "      <th>quantity</th>\n",
       "      <th>price</th>\n",
       "      <th>settlementCurrency</th>\n",
       "      <th>paymentCurrency</th>\n",
       "      <th>fee</th>\n",
       "      <th>displaySymbol</th>\n",
       "      <th>settlementDate</th>\n",
       "      <th>symbol</th>\n",
       "      <th>securityType</th>\n",
       "    </tr>\n",
       "  </thead>\n",
       "  <tbody>\n",
       "    <tr>\n",
       "      <th>32</th>\n",
       "      <td>24228501183016</td>\n",
       "      <td>227699084</td>\n",
       "      <td>1723739401000</td>\n",
       "      <td>1723791600000</td>\n",
       "      <td>460.30</td>\n",
       "      <td>TETRA TECH INC UNSOLICITED TRADE</td>\n",
       "      <td>Sold</td>\n",
       "      <td></td>\n",
       "      <td>False</td>\n",
       "      <td>BROKERAGE</td>\n",
       "      <td>...</td>\n",
       "      <td>https://api.etrade.com/v1/accounts/E2ayfoKSzH1...</td>\n",
       "      <td>-2.0</td>\n",
       "      <td>230.16</td>\n",
       "      <td>USD</td>\n",
       "      <td>USD</td>\n",
       "      <td>0.02</td>\n",
       "      <td>TTEK</td>\n",
       "      <td>1723791600000</td>\n",
       "      <td>TTEK</td>\n",
       "      <td>EQ</td>\n",
       "    </tr>\n",
       "    <tr>\n",
       "      <th>33</th>\n",
       "      <td>24228501183015</td>\n",
       "      <td>227699084</td>\n",
       "      <td>1723739400000</td>\n",
       "      <td>1723791600000</td>\n",
       "      <td>583.38</td>\n",
       "      <td>SUPER MICRO COMPUTER INC UNSOLICITED TRADE</td>\n",
       "      <td>Sold</td>\n",
       "      <td></td>\n",
       "      <td>False</td>\n",
       "      <td>BROKERAGE</td>\n",
       "      <td>...</td>\n",
       "      <td>https://api.etrade.com/v1/accounts/E2ayfoKSzH1...</td>\n",
       "      <td>-1.0</td>\n",
       "      <td>583.40</td>\n",
       "      <td>USD</td>\n",
       "      <td>USD</td>\n",
       "      <td>0.02</td>\n",
       "      <td>SMCI</td>\n",
       "      <td>1723791600000</td>\n",
       "      <td>SMCI</td>\n",
       "      <td>EQ</td>\n",
       "    </tr>\n",
       "    <tr>\n",
       "      <th>34</th>\n",
       "      <td>24227500383170</td>\n",
       "      <td>227699084</td>\n",
       "      <td>1723676095000</td>\n",
       "      <td>1723705200000</td>\n",
       "      <td>-193.00</td>\n",
       "      <td>ITRON INC UNSOLICITED TRADE</td>\n",
       "      <td>Bought</td>\n",
       "      <td></td>\n",
       "      <td>False</td>\n",
       "      <td>BROKERAGE</td>\n",
       "      <td>...</td>\n",
       "      <td>https://api.etrade.com/v1/accounts/E2ayfoKSzH1...</td>\n",
       "      <td>2.0</td>\n",
       "      <td>96.50</td>\n",
       "      <td>USD</td>\n",
       "      <td>USD</td>\n",
       "      <td>0.00</td>\n",
       "      <td>ITRI</td>\n",
       "      <td>1723705200000</td>\n",
       "      <td>ITRI</td>\n",
       "      <td>EQ</td>\n",
       "    </tr>\n",
       "  </tbody>\n",
       "</table>\n",
       "<p>3 rows × 21 columns</p>\n",
       "</div>"
      ],
      "text/plain": [
       "     transactionId  accountId  transactionDate       postDate  amount  \\\n",
       "32  24228501183016  227699084    1723739401000  1723791600000  460.30   \n",
       "33  24228501183015  227699084    1723739400000  1723791600000  583.38   \n",
       "34  24227500383170  227699084    1723676095000  1723705200000 -193.00   \n",
       "\n",
       "                                   description transactionType memo  \\\n",
       "32            TETRA TECH INC UNSOLICITED TRADE            Sold        \n",
       "33  SUPER MICRO COMPUTER INC UNSOLICITED TRADE            Sold        \n",
       "34                 ITRON INC UNSOLICITED TRADE          Bought        \n",
       "\n",
       "    imageFlag   instType  ...  \\\n",
       "32      False  BROKERAGE  ...   \n",
       "33      False  BROKERAGE  ...   \n",
       "34      False  BROKERAGE  ...   \n",
       "\n",
       "                                           detailsURI quantity   price  \\\n",
       "32  https://api.etrade.com/v1/accounts/E2ayfoKSzH1...     -2.0  230.16   \n",
       "33  https://api.etrade.com/v1/accounts/E2ayfoKSzH1...     -1.0  583.40   \n",
       "34  https://api.etrade.com/v1/accounts/E2ayfoKSzH1...      2.0   96.50   \n",
       "\n",
       "    settlementCurrency paymentCurrency   fee  displaySymbol settlementDate  \\\n",
       "32                 USD             USD  0.02           TTEK  1723791600000   \n",
       "33                 USD             USD  0.02           SMCI  1723791600000   \n",
       "34                 USD             USD  0.00           ITRI  1723705200000   \n",
       "\n",
       "    symbol securityType  \n",
       "32    TTEK           EQ  \n",
       "33    SMCI           EQ  \n",
       "34    ITRI           EQ  \n",
       "\n",
       "[3 rows x 21 columns]"
      ]
     },
     "execution_count": 35,
     "metadata": {},
     "output_type": "execute_result"
    }
   ],
   "source": [
    "transactions.tail(3)"
   ]
  },
  {
   "cell_type": "code",
   "execution_count": 96,
   "id": "b08a8876-e1f8-4931-b788-69e70cbbcef5",
   "metadata": {},
   "outputs": [
    {
     "data": {
      "text/plain": [
       "Index(['transactionId', 'accountId', 'transactionDate', 'postDate', 'amount',\n",
       "       'description', 'transactionType', 'memo', 'imageFlag', 'instType',\n",
       "       'storeId', 'brokerage', 'detailsURI', 'product', 'quantity', 'price',\n",
       "       'settlementCurrency', 'paymentCurrency', 'fee', 'displaySymbol',\n",
       "       'settlementDate'],\n",
       "      dtype='object')"
      ]
     },
     "execution_count": 96,
     "metadata": {},
     "output_type": "execute_result"
    }
   ],
   "source": [
    "transactions.columns"
   ]
  },
  {
   "cell_type": "code",
   "execution_count": 51,
   "id": "14f6a44c-88b6-4a97-bd29-4fd49fe9061c",
   "metadata": {},
   "outputs": [],
   "source": [
    "transactions_url = f\"https://api.etrade.com/v1/accounts/{accountIdKey}/transactions.json\""
   ]
  },
  {
   "cell_type": "code",
   "execution_count": 61,
   "id": "37257aca-434c-4e8b-9ced-2fb10187b6b9",
   "metadata": {},
   "outputs": [],
   "source": [
    "t_resp = session.get(transactions_url, params={\"startDate\": \"03112024\", \"endDate\": \"03192024\"})"
   ]
  },
  {
   "cell_type": "code",
   "execution_count": 62,
   "id": "804d4421-eca5-444f-b2e1-9c556b20567a",
   "metadata": {},
   "outputs": [],
   "source": [
    "tdata = t_resp.json()"
   ]
  },
  {
   "cell_type": "code",
   "execution_count": 63,
   "id": "e668e16c-9ad0-4f5b-9884-6a6f11f6e4ac",
   "metadata": {},
   "outputs": [
    {
     "data": {
      "text/plain": [
       "dict_keys(['pageMarkers', 'moreTransactions', 'transactionCount', 'totalCount', 'Transaction'])"
      ]
     },
     "execution_count": 63,
     "metadata": {},
     "output_type": "execute_result"
    }
   ],
   "source": [
    "tdata[\"TransactionListResponse\"].keys()"
   ]
  },
  {
   "cell_type": "code",
   "execution_count": 64,
   "id": "e0c98e59-f87b-4e42-a913-264b89557071",
   "metadata": {},
   "outputs": [
    {
     "data": {
      "text/plain": [
       "11"
      ]
     },
     "execution_count": 64,
     "metadata": {},
     "output_type": "execute_result"
    }
   ],
   "source": [
    "transactions = pd.DataFrame(tdata[\"TransactionListResponse\"][\"Transaction\"])\n",
    "len(transactions)"
   ]
  },
  {
   "cell_type": "code",
   "execution_count": 74,
   "id": "46e14b27-9c8b-44a3-b094-ee5db982b30c",
   "metadata": {},
   "outputs": [],
   "source": [
    "sold = transactions.loc[transactions[\"transactionType\"]==\"Sold\"].set_index([\"displaySymbol\", \"amount\"])"
   ]
  },
  {
   "cell_type": "code",
   "execution_count": 76,
   "id": "15ad7540-9c5e-4e68-8aad-6b2d6b439403",
   "metadata": {},
   "outputs": [
    {
     "data": {
      "text/plain": [
       "transactionId                                            24067500657444\n",
       "accountId                                                     227699084\n",
       "transactionDate                                           1709832601000\n",
       "postDate                                                  1710140400000\n",
       "description                RIVIAN AUTOMOTIVE INC CL A UNSOLICITED TRADE\n",
       "transactionType                                                    Sold\n",
       "memo                                                                   \n",
       "imageFlag                                                         False\n",
       "instType                                                      BROKERAGE\n",
       "storeId                                                               0\n",
       "brokerage             {'product': {'symbol': 'RIVN', 'securityType':...\n",
       "detailsURI            https://api.etrade.com/v1/accounts/E2ayfoKSzH1...\n",
       "product                        {'symbol': 'RIVN', 'securityType': 'EQ'}\n",
       "quantity                                                          -20.0\n",
       "price                                                             11.56\n",
       "settlementCurrency                                                  USD\n",
       "paymentCurrency                                                     USD\n",
       "fee                                                                0.01\n",
       "settlementDate                                            1710140400000\n",
       "Name: (RIVN, 231.19), dtype: object"
      ]
     },
     "execution_count": 76,
     "metadata": {},
     "output_type": "execute_result"
    }
   ],
   "source": [
    "sold.loc[(\"RIVN\", 231.19)]"
   ]
  },
  {
   "cell_type": "code",
   "execution_count": 72,
   "id": "873c9753-6c7d-45d3-8d38-6df8d36ec54f",
   "metadata": {},
   "outputs": [
    {
     "data": {
      "text/html": [
       "<div>\n",
       "<style scoped>\n",
       "    .dataframe tbody tr th:only-of-type {\n",
       "        vertical-align: middle;\n",
       "    }\n",
       "\n",
       "    .dataframe tbody tr th {\n",
       "        vertical-align: top;\n",
       "    }\n",
       "\n",
       "    .dataframe thead th {\n",
       "        text-align: right;\n",
       "    }\n",
       "</style>\n",
       "<table border=\"1\" class=\"dataframe\">\n",
       "  <thead>\n",
       "    <tr style=\"text-align: right;\">\n",
       "      <th></th>\n",
       "      <th>transactionId</th>\n",
       "      <th>accountId</th>\n",
       "      <th>transactionDate</th>\n",
       "      <th>postDate</th>\n",
       "      <th>amount</th>\n",
       "      <th>description</th>\n",
       "      <th>transactionType</th>\n",
       "      <th>memo</th>\n",
       "      <th>imageFlag</th>\n",
       "      <th>instType</th>\n",
       "      <th>...</th>\n",
       "      <th>brokerage</th>\n",
       "      <th>detailsURI</th>\n",
       "      <th>product</th>\n",
       "      <th>quantity</th>\n",
       "      <th>price</th>\n",
       "      <th>settlementCurrency</th>\n",
       "      <th>paymentCurrency</th>\n",
       "      <th>fee</th>\n",
       "      <th>displaySymbol</th>\n",
       "      <th>settlementDate</th>\n",
       "    </tr>\n",
       "  </thead>\n",
       "  <tbody>\n",
       "    <tr>\n",
       "      <th>13</th>\n",
       "      <td>24067500657444</td>\n",
       "      <td>227699084</td>\n",
       "      <td>1709832601000</td>\n",
       "      <td>1710140400000</td>\n",
       "      <td>231.19</td>\n",
       "      <td>RIVIAN AUTOMOTIVE INC CL A UNSOLICITED TRADE</td>\n",
       "      <td>Sold</td>\n",
       "      <td></td>\n",
       "      <td>False</td>\n",
       "      <td>BROKERAGE</td>\n",
       "      <td>...</td>\n",
       "      <td>{'product': {'symbol': 'RIVN', 'securityType':...</td>\n",
       "      <td>https://api.etrade.com/v1/accounts/E2ayfoKSzH1...</td>\n",
       "      <td>{'symbol': 'RIVN', 'securityType': 'EQ'}</td>\n",
       "      <td>-20.0</td>\n",
       "      <td>11.56</td>\n",
       "      <td>USD</td>\n",
       "      <td>USD</td>\n",
       "      <td>0.01</td>\n",
       "      <td>RIVN</td>\n",
       "      <td>1710140400000</td>\n",
       "    </tr>\n",
       "    <tr>\n",
       "      <th>16</th>\n",
       "      <td>24066500771634</td>\n",
       "      <td>227699084</td>\n",
       "      <td>1709746285000</td>\n",
       "      <td>1709884800000</td>\n",
       "      <td>389.99</td>\n",
       "      <td>HANNON ARMSTRONG SUS INFRA CAP UNSOLICITED TRADE</td>\n",
       "      <td>Sold</td>\n",
       "      <td></td>\n",
       "      <td>False</td>\n",
       "      <td>BROKERAGE</td>\n",
       "      <td>...</td>\n",
       "      <td>{'product': {'symbol': 'HASI', 'securityType':...</td>\n",
       "      <td>https://api.etrade.com/v1/accounts/E2ayfoKSzH1...</td>\n",
       "      <td>{'symbol': 'HASI', 'securityType': 'EQ'}</td>\n",
       "      <td>-15.0</td>\n",
       "      <td>26.00</td>\n",
       "      <td>USD</td>\n",
       "      <td>USD</td>\n",
       "      <td>0.01</td>\n",
       "      <td>HASI</td>\n",
       "      <td>1709884800000</td>\n",
       "    </tr>\n",
       "    <tr>\n",
       "      <th>19</th>\n",
       "      <td>24064500884447</td>\n",
       "      <td>227699084</td>\n",
       "      <td>1709580755000</td>\n",
       "      <td>1709712000000</td>\n",
       "      <td>1085.99</td>\n",
       "      <td>TETRA TECH INC UNSOLICITED TRADE</td>\n",
       "      <td>Sold</td>\n",
       "      <td></td>\n",
       "      <td>False</td>\n",
       "      <td>BROKERAGE</td>\n",
       "      <td>...</td>\n",
       "      <td>{'product': {'symbol': 'TTEK', 'securityType':...</td>\n",
       "      <td>https://api.etrade.com/v1/accounts/E2ayfoKSzH1...</td>\n",
       "      <td>{'symbol': 'TTEK', 'securityType': 'EQ'}</td>\n",
       "      <td>-6.0</td>\n",
       "      <td>181.00</td>\n",
       "      <td>USD</td>\n",
       "      <td>USD</td>\n",
       "      <td>0.01</td>\n",
       "      <td>TTEK</td>\n",
       "      <td>1709712000000</td>\n",
       "    </tr>\n",
       "  </tbody>\n",
       "</table>\n",
       "<p>3 rows × 21 columns</p>\n",
       "</div>"
      ],
      "text/plain": [
       "     transactionId  accountId  transactionDate       postDate   amount  \\\n",
       "13  24067500657444  227699084    1709832601000  1710140400000   231.19   \n",
       "16  24066500771634  227699084    1709746285000  1709884800000   389.99   \n",
       "19  24064500884447  227699084    1709580755000  1709712000000  1085.99   \n",
       "\n",
       "                                         description transactionType memo  \\\n",
       "13      RIVIAN AUTOMOTIVE INC CL A UNSOLICITED TRADE            Sold        \n",
       "16  HANNON ARMSTRONG SUS INFRA CAP UNSOLICITED TRADE            Sold        \n",
       "19                  TETRA TECH INC UNSOLICITED TRADE            Sold        \n",
       "\n",
       "    imageFlag   instType  ...  \\\n",
       "13      False  BROKERAGE  ...   \n",
       "16      False  BROKERAGE  ...   \n",
       "19      False  BROKERAGE  ...   \n",
       "\n",
       "                                            brokerage  \\\n",
       "13  {'product': {'symbol': 'RIVN', 'securityType':...   \n",
       "16  {'product': {'symbol': 'HASI', 'securityType':...   \n",
       "19  {'product': {'symbol': 'TTEK', 'securityType':...   \n",
       "\n",
       "                                           detailsURI  \\\n",
       "13  https://api.etrade.com/v1/accounts/E2ayfoKSzH1...   \n",
       "16  https://api.etrade.com/v1/accounts/E2ayfoKSzH1...   \n",
       "19  https://api.etrade.com/v1/accounts/E2ayfoKSzH1...   \n",
       "\n",
       "                                     product quantity   price  \\\n",
       "13  {'symbol': 'RIVN', 'securityType': 'EQ'}    -20.0   11.56   \n",
       "16  {'symbol': 'HASI', 'securityType': 'EQ'}    -15.0   26.00   \n",
       "19  {'symbol': 'TTEK', 'securityType': 'EQ'}     -6.0  181.00   \n",
       "\n",
       "    settlementCurrency paymentCurrency   fee  displaySymbol settlementDate  \n",
       "13                 USD             USD  0.01           RIVN  1710140400000  \n",
       "16                 USD             USD  0.01           HASI  1709884800000  \n",
       "19                 USD             USD  0.01           TTEK  1709712000000  \n",
       "\n",
       "[3 rows x 21 columns]"
      ]
     },
     "execution_count": 72,
     "metadata": {},
     "output_type": "execute_result"
    }
   ],
   "source": [
    "transactions.loc[transactions[\"transactionType\"]==\"Sold\"].head(3)"
   ]
  },
  {
   "cell_type": "code",
   "execution_count": 73,
   "id": "e986ba9a-2d67-47fc-9a55-5fd52b929b16",
   "metadata": {},
   "outputs": [
    {
     "data": {
      "text/plain": [
       "Index(['transactionId', 'accountId', 'transactionDate', 'postDate', 'amount',\n",
       "       'description', 'transactionType', 'memo', 'imageFlag', 'instType',\n",
       "       'storeId', 'brokerage', 'detailsURI', 'product', 'quantity', 'price',\n",
       "       'settlementCurrency', 'paymentCurrency', 'fee', 'displaySymbol',\n",
       "       'settlementDate'],\n",
       "      dtype='object')"
      ]
     },
     "execution_count": 73,
     "metadata": {},
     "output_type": "execute_result"
    }
   ],
   "source": [
    "transactions.columns"
   ]
  },
  {
   "cell_type": "code",
   "execution_count": 20,
   "id": "6d58395a-efd3-49ee-bc46-45c56b5a6d92",
   "metadata": {},
   "outputs": [
    {
     "data": {
      "text/plain": [
       "{'product': {'symbol': 'WMT', 'securityType': 'EQ'},\n",
       " 'quantity': -15,\n",
       " 'price': 59.8,\n",
       " 'settlementCurrency': 'USD',\n",
       " 'paymentCurrency': 'USD',\n",
       " 'fee': 0.01,\n",
       " 'displaySymbol': 'WMT',\n",
       " 'settlementDate': 1709107200000}"
      ]
     },
     "execution_count": 20,
     "metadata": {},
     "output_type": "execute_result"
    }
   ],
   "source": [
    "transactions.loc[transactions[\"transactionType\"]==\"Sold\"].loc[30][\"brokerage\"]"
   ]
  },
  {
   "cell_type": "code",
   "execution_count": 101,
   "id": "8fe1b54e-c2f8-4e8e-8773-d3d90523e565",
   "metadata": {},
   "outputs": [
    {
     "data": {
      "text/plain": [
       "array(['Bought', 'Sold', 'Interest', 'Reorganization', 'Dividend'],\n",
       "      dtype=object)"
      ]
     },
     "execution_count": 101,
     "metadata": {},
     "output_type": "execute_result"
    }
   ],
   "source": [
    "transactions[\"transactionType\"].unique()"
   ]
  },
  {
   "cell_type": "markdown",
   "id": "edaa8965-dacb-4813-872e-9c82bd35689a",
   "metadata": {},
   "source": [
    "### for transactions details, not used at this time"
   ]
  },
  {
   "cell_type": "code",
   "execution_count": 109,
   "id": "56fa6066-0e09-48cb-b59d-a50dca39eb67",
   "metadata": {},
   "outputs": [],
   "source": [
    "session.headers[\"Accept\"] = \"application/json\""
   ]
  },
  {
   "cell_type": "code",
   "execution_count": 110,
   "id": "0f646c92-919c-4eb7-b199-560d62df0f47",
   "metadata": {},
   "outputs": [
    {
     "data": {
      "text/plain": [
       "{'User-Agent': 'python-requests/2.31.0', 'Accept-Encoding': 'gzip, deflate', 'Accept': 'application/json', 'Connection': 'keep-alive'}"
      ]
     },
     "execution_count": 110,
     "metadata": {},
     "output_type": "execute_result"
    }
   ],
   "source": [
    "session.headers"
   ]
  },
  {
   "cell_type": "code",
   "execution_count": 118,
   "id": "91b640fc-9d83-414c-b779-c40bf9083603",
   "metadata": {},
   "outputs": [],
   "source": [
    "td_resp = session.get('https://api.etrade.com/v1/accounts/E2ayfoKSzH1fFZs-7xV48A/transactions/24047500707477')"
   ]
  },
  {
   "cell_type": "code",
   "execution_count": 119,
   "id": "56596574-76a6-4f7a-a33c-24de519a44de",
   "metadata": {},
   "outputs": [
    {
     "data": {
      "text/plain": [
       "{'TransactionDetailsResponse': {'transactionId': 24047500707477,\n",
       "  'accountId': '227699084',\n",
       "  'transactionDate': 1708113439000,\n",
       "  'amount': 1079.99,\n",
       "  'description': 'CONS DISCRET SEL SECT SPDR FD UNSOLICITED TRADE',\n",
       "  'Category': {'categoryId': '0',\n",
       "   'parentId': '0',\n",
       "   'categoryName': '',\n",
       "   'parentName': ''},\n",
       "  'Brokerage': {'transactionType': 'Sold',\n",
       "   'quantity': -6.0,\n",
       "   'price': 180.0,\n",
       "   'settlementCurrency': 'USD',\n",
       "   'paymentCurrency': 'USD',\n",
       "   'fee': 0.01,\n",
       "   'memo': '',\n",
       "   'orderNo': '206',\n",
       "   'Product': {'symbol': 'XLY'}}}}"
      ]
     },
     "execution_count": 119,
     "metadata": {},
     "output_type": "execute_result"
    }
   ],
   "source": [
    "td_resp.json()"
   ]
  },
  {
   "cell_type": "code",
   "execution_count": 39,
   "id": "ac0350b2-0381-4514-9bed-ee344cfbb4ff",
   "metadata": {},
   "outputs": [],
   "source": [
    "account_balances_url = f\"https://apisb.etrade.com/v1/accounts/{accountIdKey}/balance.json\""
   ]
  },
  {
   "cell_type": "code",
   "execution_count": 75,
   "id": "3d9940bb-9062-4fc8-9c51-a29aae76517e",
   "metadata": {},
   "outputs": [
    {
     "data": {
      "text/plain": [
       "'https://apisb.etrade.com/v1/accounts/xj1Dc18FTqWPqkEEVUr5rw/balance'"
      ]
     },
     "execution_count": 75,
     "metadata": {},
     "output_type": "execute_result"
    }
   ],
   "source": [
    "account_balances_url"
   ]
  },
  {
   "cell_type": "code",
   "execution_count": 76,
   "id": "01d45a0d-5200-49ee-9cce-ba68b8189a54",
   "metadata": {},
   "outputs": [],
   "source": [
    "resp = session.get(account_balances_url, params = {\"instType\":instType,\"realNAV\": False})"
   ]
  },
  {
   "cell_type": "code",
   "execution_count": 77,
   "id": "b5c3e869-450e-4fdd-860f-72fd0cfa3015",
   "metadata": {},
   "outputs": [
    {
     "data": {
      "text/plain": [
       "'<?xml version=\"1.0\" encoding=\"UTF-8\" standalone=\"yes\"?><BalanceResponse><accountId>833535350</accountId><accountType>MARGIN</accountType><optionLevel>LEVEL_4</optionLevel><accountDescription></accountDescription><Cash><fundsForOpenOrdersCash>0.0</fundsForOpenOrdersCash><moneyMktBalance>0.0</moneyMktBalance></Cash><Computed><cashAvailableForInvestment>0.00</cashAvailableForInvestment><cashAvailableForWithdrawal>0.00</cashAvailableForWithdrawal><netCash>-740.450013</netCash><cashBalance>0.0</cashBalance><settledCashForInvestment>0.0</settledCashForInvestment><unSettledCashForInvestment>0.0</unSettledCashForInvestment><fundsWithheldFromPurchasePower>0.0</fundsWithheldFromPurchasePower><fundsWithheldFromWithdrawal>0.0</fundsWithheldFromWithdrawal><OpenCalls><cashCall>0.0</cashCall></OpenCalls><RealTimeValues><totalAccountValue>0.0</totalAccountValue><netMv>-454.22</netMv><netMvLong>0.0</netMvLong></RealTimeValues></Computed></BalanceResponse>'"
      ]
     },
     "execution_count": 77,
     "metadata": {},
     "output_type": "execute_result"
    }
   ],
   "source": [
    "resp.text"
   ]
  },
  {
   "cell_type": "code",
   "execution_count": 101,
   "id": "a96ff188-56b0-4ce4-b6a0-b9f8e0e27fe3",
   "metadata": {},
   "outputs": [],
   "source": [
    "positions = a_etrader.view_portfolio(accountIdKey)"
   ]
  },
  {
   "cell_type": "code",
   "execution_count": 102,
   "id": "f0cd3590-884f-4b53-b78c-2db06a2b3d44",
   "metadata": {},
   "outputs": [
    {
     "data": {
      "text/html": [
       "<div>\n",
       "<style scoped>\n",
       "    .dataframe tbody tr th:only-of-type {\n",
       "        vertical-align: middle;\n",
       "    }\n",
       "\n",
       "    .dataframe tbody tr th {\n",
       "        vertical-align: top;\n",
       "    }\n",
       "\n",
       "    .dataframe thead th {\n",
       "        text-align: right;\n",
       "    }\n",
       "</style>\n",
       "<table border=\"1\" class=\"dataframe\">\n",
       "  <thead>\n",
       "    <tr style=\"text-align: right;\">\n",
       "      <th></th>\n",
       "      <th>symbolDescription</th>\n",
       "      <th>pricePaid</th>\n",
       "      <th>dateAcquired</th>\n",
       "      <th>positionLotId</th>\n",
       "      <th>positionId</th>\n",
       "    </tr>\n",
       "  </thead>\n",
       "  <tbody>\n",
       "    <tr>\n",
       "      <th>0</th>\n",
       "      <td>USMV</td>\n",
       "      <td>43.640</td>\n",
       "      <td>1458532800000</td>\n",
       "      <td>9965198006</td>\n",
       "      <td>10227202005</td>\n",
       "    </tr>\n",
       "    <tr>\n",
       "      <th>1</th>\n",
       "      <td>IVV</td>\n",
       "      <td>210.130</td>\n",
       "      <td>1461643200000</td>\n",
       "      <td>15384288006</td>\n",
       "      <td>14848902005</td>\n",
       "    </tr>\n",
       "    <tr>\n",
       "      <th>2</th>\n",
       "      <td>IVV</td>\n",
       "      <td>495.500</td>\n",
       "      <td>1707800400000</td>\n",
       "      <td>2343150552103</td>\n",
       "      <td>14848902005</td>\n",
       "    </tr>\n",
       "    <tr>\n",
       "      <th>3</th>\n",
       "      <td>ITOT</td>\n",
       "      <td>47.105</td>\n",
       "      <td>1462161600000</td>\n",
       "      <td>16438625006</td>\n",
       "      <td>22411007005</td>\n",
       "    </tr>\n",
       "    <tr>\n",
       "      <th>4</th>\n",
       "      <td>ITOT</td>\n",
       "      <td>74.350</td>\n",
       "      <td>1596513600000</td>\n",
       "      <td>749658972103</td>\n",
       "      <td>22411007005</td>\n",
       "    </tr>\n",
       "  </tbody>\n",
       "</table>\n",
       "</div>"
      ],
      "text/plain": [
       "  symbolDescription  pricePaid   dateAcquired  positionLotId   positionId\n",
       "0              USMV     43.640  1458532800000     9965198006  10227202005\n",
       "1               IVV    210.130  1461643200000    15384288006  14848902005\n",
       "2               IVV    495.500  1707800400000  2343150552103  14848902005\n",
       "3              ITOT     47.105  1462161600000    16438625006  22411007005\n",
       "4              ITOT     74.350  1596513600000   749658972103  22411007005"
      ]
     },
     "execution_count": 102,
     "metadata": {},
     "output_type": "execute_result"
    }
   ],
   "source": [
    "positions[[\"symbolDescription\", \"pricePaid\", \"dateAcquired\", \"positionLotId\", \"positionId\"]].head()"
   ]
  },
  {
   "cell_type": "code",
   "execution_count": 105,
   "id": "94eaec4f-aca0-4f11-b23c-ac4ec320291e",
   "metadata": {},
   "outputs": [
    {
     "data": {
      "text/plain": [
       "'https://api.etrade.com/v1/accounts/E2ayfoKSzH1fFZs-7xV48A/portfolio/10227202005.json'"
      ]
     },
     "execution_count": 105,
     "metadata": {},
     "output_type": "execute_result"
    }
   ],
   "source": [
    "positions.set_index(\"symbolDescription\").loc[\"USMV\", \"lotsDetails\"]"
   ]
  },
  {
   "cell_type": "code",
   "execution_count": 40,
   "id": "bfef7edb-d14a-4b01-b070-0ada2f205769",
   "metadata": {},
   "outputs": [],
   "source": [
    "# view_portfolio_url = f\"https://apisb.etrade.com/v1/accounts/{accountIdKey}/portfolio.json\"\n",
    "view_portfolio_url = f\"https://api.etrade.com/v1/accounts/{accountIdKey}/portfolio.json\""
   ]
  },
  {
   "cell_type": "code",
   "execution_count": 57,
   "id": "42fcfb78-96be-449d-a980-1b6d4d513a9c",
   "metadata": {},
   "outputs": [],
   "source": [
    "viewp_resp = session.get(view_portfolio_url, params={\"view\": \"QUICK\", \"lotsRequired\": True})"
   ]
  },
  {
   "cell_type": "code",
   "execution_count": 58,
   "id": "1f8a8879-aad6-47b4-99c8-fa694ecc9827",
   "metadata": {},
   "outputs": [],
   "source": [
    "data = viewp_resp.json()"
   ]
  },
  {
   "cell_type": "code",
   "execution_count": 59,
   "id": "5c91f10f-c43c-4c17-b72f-b504b68464dd",
   "metadata": {},
   "outputs": [],
   "source": [
    "ps_x = data[\"PortfolioResponse\"][\"AccountPortfolio\"][0][\"Position\"]"
   ]
  },
  {
   "cell_type": "code",
   "execution_count": 61,
   "id": "acafb2cd-1af5-4566-a9c1-f228b0725bfc",
   "metadata": {
    "collapsed": true,
    "jupyter": {
     "outputs_hidden": true
    }
   },
   "outputs": [
    {
     "data": {
      "text/plain": [
       "{'accountId': '892405345',\n",
       " 'Position': [{'positionId': 356478010900,\n",
       "   'symbolDescription': 'AIRR',\n",
       "   'dateAcquired': 1704430800000,\n",
       "   'pricePaid': 55.1,\n",
       "   'commissions': 0,\n",
       "   'otherFees': 0,\n",
       "   'quantity': 10,\n",
       "   'positionIndicator': 'TYPE1',\n",
       "   'positionType': 'LONG',\n",
       "   'daysGain': 1.3,\n",
       "   'daysGainPct': 0.2042,\n",
       "   'marketValue': 637.7999,\n",
       "   'totalCost': 551,\n",
       "   'totalGain': 86.7999,\n",
       "   'totalGainPct': 15.7531,\n",
       "   'pctOfPortfolio': 4.6407,\n",
       "   'costPerShare': 55.1,\n",
       "   'todayCommissions': 0,\n",
       "   'todayFees': 0,\n",
       "   'todayPricePaid': 0,\n",
       "   'todayQuantity': 0,\n",
       "   'adjPrevClose': 63.65,\n",
       "   'lotsDetails': 'https://api.etrade.com/v1/accounts/SXPtmpM7IZIpymUjhjI-zg/portfolio/356478010900.json',\n",
       "   'quoteDetails': 'https://api.etrade.com/v1/market/quote/AIRR.json',\n",
       "   'Product': {'symbol': 'AIRR',\n",
       "    'securityType': 'EQ',\n",
       "    'securitySubType': 'ETF',\n",
       "    'expiryYear': 0,\n",
       "    'expiryMonth': 0,\n",
       "    'expiryDay': 0,\n",
       "    'strikePrice': 0,\n",
       "    'productId': {'symbol': 'AIRR', 'typeCode': 'EQUITY'}},\n",
       "   'Quick': {'lastTrade': 63.78,\n",
       "    'lastTradeTime': 1709317173,\n",
       "    'change': 0.13,\n",
       "    'changePct': 0.2042,\n",
       "    'volume': 71591,\n",
       "    'quoteStatus': 'INVALID'}},\n",
       "  {'positionId': 364189645900,\n",
       "   'symbolDescription': 'MDB',\n",
       "   'dateAcquired': 1707973200000,\n",
       "   'pricePaid': 459.5,\n",
       "   'commissions': 0,\n",
       "   'otherFees': 0,\n",
       "   'quantity': 2,\n",
       "   'positionIndicator': 'TYPE1',\n",
       "   'positionType': 'LONG',\n",
       "   'daysGain': -7.16,\n",
       "   'daysGainPct': -0.7998,\n",
       "   'marketValue': 888,\n",
       "   'totalCost': 919,\n",
       "   'totalGain': -31,\n",
       "   'totalGainPct': -3.3732,\n",
       "   'pctOfPortfolio': 6.4612,\n",
       "   'costPerShare': 459.5,\n",
       "   'todayCommissions': 0,\n",
       "   'todayFees': 0,\n",
       "   'todayPricePaid': 0,\n",
       "   'todayQuantity': 0,\n",
       "   'adjPrevClose': 447.58,\n",
       "   'lotsDetails': 'https://api.etrade.com/v1/accounts/SXPtmpM7IZIpymUjhjI-zg/portfolio/364189645900.json',\n",
       "   'quoteDetails': 'https://api.etrade.com/v1/market/quote/MDB.json',\n",
       "   'Product': {'symbol': 'MDB',\n",
       "    'securityType': 'EQ',\n",
       "    'expiryYear': 0,\n",
       "    'expiryMonth': 0,\n",
       "    'expiryDay': 0,\n",
       "    'strikePrice': 0,\n",
       "    'productId': {'symbol': 'MDB', 'typeCode': 'EQUITY'}},\n",
       "   'Quick': {'lastTrade': 444.0,\n",
       "    'lastTradeTime': 1709317408,\n",
       "    'change': -3.58,\n",
       "    'changePct': -0.7998,\n",
       "    'volume': 738143,\n",
       "    'quoteStatus': 'INVALID'}},\n",
       "  {'positionId': 356289802900,\n",
       "   'symbolDescription': 'NIO',\n",
       "   'dateAcquired': 1704430800000,\n",
       "   'pricePaid': 8.0213,\n",
       "   'commissions': 0,\n",
       "   'otherFees': 0,\n",
       "   'quantity': 122,\n",
       "   'positionIndicator': 'TYPE1',\n",
       "   'positionType': 'LONG',\n",
       "   'daysGain': 7.503,\n",
       "   'daysGainPct': 1.0695,\n",
       "   'marketValue': 709.003,\n",
       "   'totalCost': 978.6029,\n",
       "   'totalGain': -269.5999,\n",
       "   'totalGainPct': -27.5494,\n",
       "   'pctOfPortfolio': 5.1588,\n",
       "   'costPerShare': 8.0213,\n",
       "   'todayCommissions': 0,\n",
       "   'todayFees': 0,\n",
       "   'todayPricePaid': 0,\n",
       "   'todayQuantity': 0,\n",
       "   'adjPrevClose': 5.75,\n",
       "   'lotsDetails': 'https://api.etrade.com/v1/accounts/SXPtmpM7IZIpymUjhjI-zg/portfolio/356289802900.json',\n",
       "   'quoteDetails': 'https://api.etrade.com/v1/market/quote/NIO.json',\n",
       "   'Product': {'symbol': 'NIO',\n",
       "    'securityType': 'EQ',\n",
       "    'expiryYear': 0,\n",
       "    'expiryMonth': 0,\n",
       "    'expiryDay': 0,\n",
       "    'strikePrice': 0,\n",
       "    'productId': {'symbol': 'NIO', 'typeCode': 'EQUITY'}},\n",
       "   'Quick': {'lastTrade': 5.8115,\n",
       "    'lastTradeTime': 1709317421,\n",
       "    'change': 0.0615,\n",
       "    'changePct': 1.0695,\n",
       "    'volume': 27819275,\n",
       "    'quoteStatus': 'INVALID'}},\n",
       "  {'positionId': 362184578900,\n",
       "   'symbolDescription': 'RKT',\n",
       "   'dateAcquired': 1707109200000,\n",
       "   'pricePaid': 11.5999,\n",
       "   'commissions': 0,\n",
       "   'otherFees': 0,\n",
       "   'quantity': 20,\n",
       "   'positionIndicator': 'TYPE1',\n",
       "   'positionType': 'LONG',\n",
       "   'daysGain': 3,\n",
       "   'daysGainPct': 1.1942,\n",
       "   'marketValue': 254.1999,\n",
       "   'totalCost': 232,\n",
       "   'totalGain': 22.1999,\n",
       "   'totalGainPct': 9.5689,\n",
       "   'pctOfPortfolio': 1.8495,\n",
       "   'costPerShare': 11.6,\n",
       "   'todayCommissions': 0,\n",
       "   'todayFees': 0,\n",
       "   'todayPricePaid': 0,\n",
       "   'todayQuantity': 0,\n",
       "   'adjPrevClose': 12.56,\n",
       "   'lotsDetails': 'https://api.etrade.com/v1/accounts/SXPtmpM7IZIpymUjhjI-zg/portfolio/362184578900.json',\n",
       "   'quoteDetails': 'https://api.etrade.com/v1/market/quote/RKT.json',\n",
       "   'Product': {'symbol': 'RKT',\n",
       "    'securityType': 'EQ',\n",
       "    'expiryYear': 0,\n",
       "    'expiryMonth': 0,\n",
       "    'expiryDay': 0,\n",
       "    'strikePrice': 0,\n",
       "    'productId': {'symbol': 'RKT', 'typeCode': 'EQUITY'}},\n",
       "   'Quick': {'lastTrade': 12.71,\n",
       "    'lastTradeTime': 1709317387,\n",
       "    'change': 0.15,\n",
       "    'changePct': 1.1942,\n",
       "    'volume': 977402,\n",
       "    'quoteStatus': 'INVALID'}},\n",
       "  {'positionId': 355904930900,\n",
       "   'symbolDescription': 'RS',\n",
       "   'dateAcquired': 1704258000000,\n",
       "   'pricePaid': 279,\n",
       "   'commissions': 0,\n",
       "   'otherFees': 0,\n",
       "   'quantity': 3,\n",
       "   'positionIndicator': 'TYPE1',\n",
       "   'positionType': 'LONG',\n",
       "   'daysGain': 2.325,\n",
       "   'daysGainPct': 0.2412,\n",
       "   'marketValue': 965.985,\n",
       "   'totalCost': 837,\n",
       "   'totalGain': 128.985,\n",
       "   'totalGainPct': 15.4103,\n",
       "   'pctOfPortfolio': 7.0286,\n",
       "   'costPerShare': 279,\n",
       "   'todayCommissions': 0,\n",
       "   'todayFees': 0,\n",
       "   'todayPricePaid': 0,\n",
       "   'todayQuantity': 0,\n",
       "   'adjPrevClose': 321.22,\n",
       "   'lotsDetails': 'https://api.etrade.com/v1/accounts/SXPtmpM7IZIpymUjhjI-zg/portfolio/355904930900.json',\n",
       "   'quoteDetails': 'https://api.etrade.com/v1/market/quote/RS.json',\n",
       "   'Product': {'symbol': 'RS',\n",
       "    'securityType': 'EQ',\n",
       "    'expiryYear': 0,\n",
       "    'expiryMonth': 0,\n",
       "    'expiryDay': 0,\n",
       "    'strikePrice': 0,\n",
       "    'productId': {'symbol': 'RS', 'typeCode': 'EQUITY'}},\n",
       "   'Quick': {'lastTrade': 321.995,\n",
       "    'lastTradeTime': 1709317411,\n",
       "    'change': 0.775,\n",
       "    'changePct': 0.2412,\n",
       "    'volume': 78111,\n",
       "    'quoteStatus': 'INVALID'}},\n",
       "  {'positionId': 352880804900,\n",
       "   'symbolDescription': 'SCHG',\n",
       "   'dateAcquired': 1702530000000,\n",
       "   'pricePaid': 81.5849,\n",
       "   'commissions': 0,\n",
       "   'otherFees': 0,\n",
       "   'quantity': 10,\n",
       "   'positionIndicator': 'TYPE1',\n",
       "   'positionType': 'LONG',\n",
       "   'daysGain': 10,\n",
       "   'daysGainPct': 1.0989,\n",
       "   'marketValue': 920,\n",
       "   'totalCost': 815.85,\n",
       "   'totalGain': 104.15,\n",
       "   'totalGainPct': 12.7658,\n",
       "   'pctOfPortfolio': 6.694,\n",
       "   'costPerShare': 81.585,\n",
       "   'todayCommissions': 0,\n",
       "   'todayFees': 0,\n",
       "   'todayPricePaid': 0,\n",
       "   'todayQuantity': 0,\n",
       "   'adjPrevClose': 91.0,\n",
       "   'lotsDetails': 'https://api.etrade.com/v1/accounts/SXPtmpM7IZIpymUjhjI-zg/portfolio/352880804900.json',\n",
       "   'quoteDetails': 'https://api.etrade.com/v1/market/quote/SCHG.json',\n",
       "   'Product': {'symbol': 'SCHG',\n",
       "    'securityType': 'EQ',\n",
       "    'securitySubType': 'ETF',\n",
       "    'expiryYear': 0,\n",
       "    'expiryMonth': 0,\n",
       "    'expiryDay': 0,\n",
       "    'strikePrice': 0,\n",
       "    'productId': {'symbol': 'SCHG', 'typeCode': 'EQUITY'}},\n",
       "   'Quick': {'lastTrade': 92.0,\n",
       "    'lastTradeTime': 1709317407,\n",
       "    'change': 1,\n",
       "    'changePct': 1.0989,\n",
       "    'volume': 1132184,\n",
       "    'quoteStatus': 'INVALID'}},\n",
       "  {'positionId': 350936501900,\n",
       "   'symbolDescription': 'KWEB',\n",
       "   'dateAcquired': 1701752400000,\n",
       "   'pricePaid': 26.41,\n",
       "   'commissions': 0,\n",
       "   'otherFees': 0,\n",
       "   'quantity': 10,\n",
       "   'positionIndicator': 'TYPE1',\n",
       "   'positionType': 'LONG',\n",
       "   'daysGain': 6.5499,\n",
       "   'daysGainPct': 2.5828,\n",
       "   'marketValue': 260.1499,\n",
       "   'totalCost': 264.1,\n",
       "   'totalGain': -3.95,\n",
       "   'totalGainPct': -1.4956,\n",
       "   'pctOfPortfolio': 1.8928,\n",
       "   'costPerShare': 26.41,\n",
       "   'todayCommissions': 0,\n",
       "   'todayFees': 0,\n",
       "   'todayPricePaid': 0,\n",
       "   'todayQuantity': 0,\n",
       "   'adjPrevClose': 25.36,\n",
       "   'lotsDetails': 'https://api.etrade.com/v1/accounts/SXPtmpM7IZIpymUjhjI-zg/portfolio/350936501900.json',\n",
       "   'quoteDetails': 'https://api.etrade.com/v1/market/quote/KWEB.json',\n",
       "   'Product': {'symbol': 'KWEB',\n",
       "    'securityType': 'EQ',\n",
       "    'securitySubType': 'ETF',\n",
       "    'expiryYear': 0,\n",
       "    'expiryMonth': 0,\n",
       "    'expiryDay': 0,\n",
       "    'strikePrice': 0,\n",
       "    'productId': {'symbol': 'KWEB', 'typeCode': 'EQUITY'}},\n",
       "   'Quick': {'lastTrade': 26.015,\n",
       "    'lastTradeTime': 1709317410,\n",
       "    'change': 0.655,\n",
       "    'changePct': 2.5828,\n",
       "    'volume': 9775875,\n",
       "    'quoteStatus': 'INVALID'}},\n",
       "  {'positionId': 354861253900,\n",
       "   'symbolDescription': 'KRE',\n",
       "   'dateAcquired': 1703653200000,\n",
       "   'pricePaid': 53.1869,\n",
       "   'commissions': 0,\n",
       "   'otherFees': 0,\n",
       "   'quantity': 10,\n",
       "   'positionIndicator': 'TYPE1',\n",
       "   'positionType': 'LONG',\n",
       "   'daysGain': -7.4009,\n",
       "   'daysGainPct': -1.5373,\n",
       "   'marketValue': 473.999,\n",
       "   'totalCost': 531.87,\n",
       "   'totalGain': -57.871,\n",
       "   'totalGainPct': -10.8806,\n",
       "   'pctOfPortfolio': 3.4488,\n",
       "   'costPerShare': 53.187,\n",
       "   'todayCommissions': 0,\n",
       "   'todayFees': 0,\n",
       "   'todayPricePaid': 0,\n",
       "   'todayQuantity': 0,\n",
       "   'adjPrevClose': 48.14,\n",
       "   'lotsDetails': 'https://api.etrade.com/v1/accounts/SXPtmpM7IZIpymUjhjI-zg/portfolio/354861253900.json',\n",
       "   'quoteDetails': 'https://api.etrade.com/v1/market/quote/KRE.json',\n",
       "   'Product': {'symbol': 'KRE',\n",
       "    'securityType': 'EQ',\n",
       "    'securitySubType': 'ETF',\n",
       "    'expiryYear': 0,\n",
       "    'expiryMonth': 0,\n",
       "    'expiryDay': 0,\n",
       "    'strikePrice': 0,\n",
       "    'productId': {'symbol': 'KRE', 'typeCode': 'EQUITY'}},\n",
       "   'Quick': {'lastTrade': 47.3999,\n",
       "    'lastTradeTime': 1709317406,\n",
       "    'change': -0.7401,\n",
       "    'changePct': -1.5373,\n",
       "    'volume': 10047376,\n",
       "    'quoteStatus': 'INVALID'}},\n",
       "  {'positionId': 361160681900,\n",
       "   'symbolDescription': 'KBWR',\n",
       "   'dateAcquired': 1706677200000,\n",
       "   'pricePaid': 52,\n",
       "   'commissions': 0,\n",
       "   'otherFees': 0,\n",
       "   'quantity': 10,\n",
       "   'positionIndicator': 'TYPE1',\n",
       "   'positionType': 'LONG',\n",
       "   'daysGain': -8.5449,\n",
       "   'daysGainPct': -1.7297,\n",
       "   'marketValue': 485.4549,\n",
       "   'totalCost': 520,\n",
       "   'totalGain': -34.545,\n",
       "   'totalGainPct': -6.6432,\n",
       "   'pctOfPortfolio': 3.5322,\n",
       "   'costPerShare': 52,\n",
       "   'todayCommissions': 0,\n",
       "   'todayFees': 0,\n",
       "   'todayPricePaid': 0,\n",
       "   'todayQuantity': 0,\n",
       "   'adjPrevClose': 49.4,\n",
       "   'lotsDetails': 'https://api.etrade.com/v1/accounts/SXPtmpM7IZIpymUjhjI-zg/portfolio/361160681900.json',\n",
       "   'quoteDetails': 'https://api.etrade.com/v1/market/quote/KBWR.json',\n",
       "   'Product': {'symbol': 'KBWR',\n",
       "    'securityType': 'EQ',\n",
       "    'securitySubType': 'ETF',\n",
       "    'expiryYear': 0,\n",
       "    'expiryMonth': 0,\n",
       "    'expiryDay': 0,\n",
       "    'strikePrice': 0,\n",
       "    'productId': {'symbol': 'KBWR', 'typeCode': 'EQUITY'}},\n",
       "   'Quick': {'lastTrade': 48.5455,\n",
       "    'lastTradeTime': 1709317146,\n",
       "    'change': -0.8545,\n",
       "    'changePct': -1.7297,\n",
       "    'volume': 4345,\n",
       "    'quoteStatus': 'INVALID'}},\n",
       "  {'positionId': 366807420900,\n",
       "   'symbolDescription': 'CVS',\n",
       "   'dateAcquired': 1709182800000,\n",
       "   'pricePaid': 73.7999,\n",
       "   'commissions': 0,\n",
       "   'otherFees': 0,\n",
       "   'quantity': 2,\n",
       "   'positionIndicator': 'TYPE1',\n",
       "   'positionType': 'LONG',\n",
       "   'daysGain': -0.9699,\n",
       "   'daysGainPct': -0.6521,\n",
       "   'marketValue': 147.77,\n",
       "   'totalCost': 147.5999,\n",
       "   'totalGain': 0.17,\n",
       "   'totalGainPct': 0.1151,\n",
       "   'pctOfPortfolio': 1.0751,\n",
       "   'costPerShare': 73.8,\n",
       "   'todayCommissions': 0,\n",
       "   'todayFees': 0,\n",
       "   'todayPricePaid': 0,\n",
       "   'todayQuantity': 0,\n",
       "   'adjPrevClose': 74.37,\n",
       "   'lotsDetails': 'https://api.etrade.com/v1/accounts/SXPtmpM7IZIpymUjhjI-zg/portfolio/366807420900.json',\n",
       "   'quoteDetails': 'https://api.etrade.com/v1/market/quote/CVS.json',\n",
       "   'Product': {'symbol': 'CVS',\n",
       "    'securityType': 'EQ',\n",
       "    'expiryYear': 0,\n",
       "    'expiryMonth': 0,\n",
       "    'expiryDay': 0,\n",
       "    'strikePrice': 0,\n",
       "    'productId': {'symbol': 'CVS', 'typeCode': 'EQUITY'}},\n",
       "   'Quick': {'lastTrade': 73.885,\n",
       "    'lastTradeTime': 1709317419,\n",
       "    'change': -0.485,\n",
       "    'changePct': -0.6521,\n",
       "    'volume': 4652950,\n",
       "    'quoteStatus': 'INVALID'}},\n",
       "  {'positionId': 361098308900,\n",
       "   'symbolDescription': 'GPS',\n",
       "   'dateAcquired': 1706677200000,\n",
       "   'pricePaid': 18.8999,\n",
       "   'commissions': 0,\n",
       "   'otherFees': 0,\n",
       "   'quantity': 20,\n",
       "   'positionIndicator': 'TYPE1',\n",
       "   'positionType': 'LONG',\n",
       "   'daysGain': 3.3999,\n",
       "   'daysGainPct': 0.8975,\n",
       "   'marketValue': 382.1999,\n",
       "   'totalCost': 378,\n",
       "   'totalGain': 4.2,\n",
       "   'totalGainPct': 1.1111,\n",
       "   'pctOfPortfolio': 2.7809,\n",
       "   'costPerShare': 18.9,\n",
       "   'todayCommissions': 0,\n",
       "   'todayFees': 0,\n",
       "   'todayPricePaid': 0,\n",
       "   'todayQuantity': 0,\n",
       "   'adjPrevClose': 18.94,\n",
       "   'lotsDetails': 'https://api.etrade.com/v1/accounts/SXPtmpM7IZIpymUjhjI-zg/portfolio/361098308900.json',\n",
       "   'quoteDetails': 'https://api.etrade.com/v1/market/quote/GPS.json',\n",
       "   'Product': {'symbol': 'GPS',\n",
       "    'securityType': 'EQ',\n",
       "    'expiryYear': 0,\n",
       "    'expiryMonth': 0,\n",
       "    'expiryDay': 0,\n",
       "    'strikePrice': 0,\n",
       "    'productId': {'symbol': 'GPS', 'typeCode': 'EQUITY'}},\n",
       "   'Quick': {'lastTrade': 19.11,\n",
       "    'lastTradeTime': 1709317411,\n",
       "    'change': 0.17,\n",
       "    'changePct': 0.8975,\n",
       "    'volume': 2633519,\n",
       "    'quoteStatus': 'INVALID'}},\n",
       "  {'positionId': 364760900900,\n",
       "   'symbolDescription': 'GTLB',\n",
       "   'dateAcquired': 1708405200000,\n",
       "   'pricePaid': 71.76,\n",
       "   'commissions': 0,\n",
       "   'otherFees': 0,\n",
       "   'quantity': 6,\n",
       "   'positionIndicator': 'TYPE1',\n",
       "   'positionType': 'LONG',\n",
       "   'daysGain': 7.7999,\n",
       "   'daysGainPct': 1.8025,\n",
       "   'marketValue': 440.5199,\n",
       "   'totalCost': 430.56,\n",
       "   'totalGain': 9.96,\n",
       "   'totalGainPct': 2.3132,\n",
       "   'pctOfPortfolio': 3.2052,\n",
       "   'costPerShare': 71.76,\n",
       "   'todayCommissions': 0,\n",
       "   'todayFees': 0,\n",
       "   'todayPricePaid': 0,\n",
       "   'todayQuantity': 0,\n",
       "   'adjPrevClose': 72.12,\n",
       "   'lotsDetails': 'https://api.etrade.com/v1/accounts/SXPtmpM7IZIpymUjhjI-zg/portfolio/364760900900.json',\n",
       "   'quoteDetails': 'https://api.etrade.com/v1/market/quote/GTLB.json',\n",
       "   'Product': {'symbol': 'GTLB',\n",
       "    'securityType': 'EQ',\n",
       "    'expiryYear': 0,\n",
       "    'expiryMonth': 0,\n",
       "    'expiryDay': 0,\n",
       "    'strikePrice': 0,\n",
       "    'productId': {'symbol': 'GTLB', 'typeCode': 'EQUITY'}},\n",
       "   'Quick': {'lastTrade': 73.42,\n",
       "    'lastTradeTime': 1709317407,\n",
       "    'change': 1.3,\n",
       "    'changePct': 1.8025,\n",
       "    'volume': 1697838,\n",
       "    'quoteStatus': 'INVALID'}},\n",
       "  {'positionId': 305833509900,\n",
       "   'symbolDescription': 'ITOT',\n",
       "   'dateAcquired': 1690948800000,\n",
       "   'pricePaid': 100.6342,\n",
       "   'commissions': 0,\n",
       "   'otherFees': 0,\n",
       "   'quantity': 28,\n",
       "   'positionIndicator': 'TYPE1',\n",
       "   'positionType': 'LONG',\n",
       "   'daysGain': 23.3799,\n",
       "   'daysGainPct': 0.7455,\n",
       "   'marketValue': 3159.38,\n",
       "   'totalCost': 2817.7599,\n",
       "   'totalGain': 341.62,\n",
       "   'totalGainPct': 12.1238,\n",
       "   'pctOfPortfolio': 22.9881,\n",
       "   'costPerShare': 100.6342,\n",
       "   'todayCommissions': 0,\n",
       "   'todayFees': 0,\n",
       "   'todayPricePaid': 0,\n",
       "   'todayQuantity': 0,\n",
       "   'adjPrevClose': 112.0,\n",
       "   'lotsDetails': 'https://api.etrade.com/v1/accounts/SXPtmpM7IZIpymUjhjI-zg/portfolio/305833509900.json',\n",
       "   'quoteDetails': 'https://api.etrade.com/v1/market/quote/ITOT.json',\n",
       "   'Product': {'symbol': 'ITOT',\n",
       "    'securityType': 'EQ',\n",
       "    'securitySubType': 'ETF',\n",
       "    'expiryYear': 0,\n",
       "    'expiryMonth': 0,\n",
       "    'expiryDay': 0,\n",
       "    'strikePrice': 0,\n",
       "    'productId': {'symbol': 'ITOT', 'typeCode': 'EQUITY'}},\n",
       "   'Quick': {'lastTrade': 112.835,\n",
       "    'lastTradeTime': 1709317398,\n",
       "    'change': 0.835,\n",
       "    'changePct': 0.7455,\n",
       "    'volume': 870640,\n",
       "    'quoteStatus': 'INVALID'}},\n",
       "  {'positionId': 321211374900,\n",
       "   'symbolDescription': 'IYR',\n",
       "   'dateAcquired': 1686110400000,\n",
       "   'pricePaid': 84.4599,\n",
       "   'commissions': 0,\n",
       "   'otherFees': 0,\n",
       "   'quantity': 10,\n",
       "   'positionIndicator': 'TYPE1',\n",
       "   'positionType': 'LONG',\n",
       "   'daysGain': 1.3,\n",
       "   'daysGainPct': 0.1467,\n",
       "   'marketValue': 887.2999,\n",
       "   'totalCost': 844.6,\n",
       "   'totalGain': 42.7,\n",
       "   'totalGainPct': 5.0556,\n",
       "   'pctOfPortfolio': 6.4561,\n",
       "   'costPerShare': 84.46,\n",
       "   'todayCommissions': 0,\n",
       "   'todayFees': 0,\n",
       "   'todayPricePaid': 0,\n",
       "   'todayQuantity': 0,\n",
       "   'adjPrevClose': 88.6,\n",
       "   'lotsDetails': 'https://api.etrade.com/v1/accounts/SXPtmpM7IZIpymUjhjI-zg/portfolio/321211374900.json',\n",
       "   'quoteDetails': 'https://api.etrade.com/v1/market/quote/IYR.json',\n",
       "   'Product': {'symbol': 'IYR',\n",
       "    'securityType': 'EQ',\n",
       "    'securitySubType': 'ETF',\n",
       "    'expiryYear': 0,\n",
       "    'expiryMonth': 0,\n",
       "    'expiryDay': 0,\n",
       "    'strikePrice': 0,\n",
       "    'productId': {'symbol': 'IYR', 'typeCode': 'EQUITY'}},\n",
       "   'Quick': {'lastTrade': 88.73,\n",
       "    'lastTradeTime': 1709317421,\n",
       "    'change': 0.13,\n",
       "    'changePct': 0.1467,\n",
       "    'volume': 5692030,\n",
       "    'quoteStatus': 'INVALID'}},\n",
       "  {'positionId': 351564282900,\n",
       "   'symbolDescription': 'YELP',\n",
       "   'dateAcquired': 1701925200000,\n",
       "   'pricePaid': 38.7599,\n",
       "   'commissions': 0,\n",
       "   'otherFees': 0,\n",
       "   'quantity': 25,\n",
       "   'positionIndicator': 'TYPE1',\n",
       "   'positionType': 'LONG',\n",
       "   'daysGain': -0.75,\n",
       "   'daysGainPct': -0.078,\n",
       "   'marketValue': 960.25,\n",
       "   'totalCost': 969,\n",
       "   'totalGain': -8.75,\n",
       "   'totalGainPct': -0.9029,\n",
       "   'pctOfPortfolio': 6.9869,\n",
       "   'costPerShare': 38.76,\n",
       "   'todayCommissions': 0,\n",
       "   'todayFees': 0,\n",
       "   'todayPricePaid': 0,\n",
       "   'todayQuantity': 0,\n",
       "   'adjPrevClose': 38.44,\n",
       "   'lotsDetails': 'https://api.etrade.com/v1/accounts/SXPtmpM7IZIpymUjhjI-zg/portfolio/351564282900.json',\n",
       "   'quoteDetails': 'https://api.etrade.com/v1/market/quote/YELP.json',\n",
       "   'Product': {'symbol': 'YELP',\n",
       "    'securityType': 'EQ',\n",
       "    'expiryYear': 0,\n",
       "    'expiryMonth': 0,\n",
       "    'expiryDay': 0,\n",
       "    'strikePrice': 0,\n",
       "    'productId': {'symbol': 'YELP', 'typeCode': 'EQUITY'}},\n",
       "   'Quick': {'lastTrade': 38.41,\n",
       "    'lastTradeTime': 1709317318,\n",
       "    'change': -0.03,\n",
       "    'changePct': -0.078,\n",
       "    'volume': 298752,\n",
       "    'quoteStatus': 'INVALID'}}],\n",
       " 'totalPages': 1}"
      ]
     },
     "execution_count": 61,
     "metadata": {},
     "output_type": "execute_result"
    }
   ],
   "source": [
    "data[\"PortfolioResponse\"][\"AccountPortfolio\"][0]"
   ]
  },
  {
   "cell_type": "code",
   "execution_count": 110,
   "id": "fe89a64c-78d9-49ba-9eb7-5fbc47856611",
   "metadata": {},
   "outputs": [],
   "source": [
    "l_resp = session.get(\"https://api.etrade.com/v1/accounts/SXPtmpM7IZIpymUjhjI-zg/portfolio/364189645900.json\")\n",
    "# l_resp = session.get('https://api.etrade.com/v1/accounts/E2ayfoKSzH1fFZs-7xV48A/portfolio/10227202005.json')"
   ]
  },
  {
   "cell_type": "code",
   "execution_count": 111,
   "id": "82c60c17-b0ec-4da5-bcd0-a5895ece2970",
   "metadata": {},
   "outputs": [],
   "source": [
    "lot_data = l_resp.json()"
   ]
  },
  {
   "cell_type": "code",
   "execution_count": 112,
   "id": "cea8a5a2-3da6-45ea-be44-9035969305ff",
   "metadata": {},
   "outputs": [
    {
     "data": {
      "text/plain": [
       "{'PositionLotsResponse': {'shortType': 1,\n",
       "  'PositionLot': [{'positionId': 364189645900,\n",
       "    'positionLotId': 2347253384103,\n",
       "    'price': 475.0,\n",
       "    'termCode': 2,\n",
       "    'daysGain': -34.0,\n",
       "    'daysGainPct': -7.7448,\n",
       "    'marketValue': 405.0,\n",
       "    'totalCost': 475.0,\n",
       "    'totalCostForGainPct': -14.7368,\n",
       "    'totalGain': -70.0,\n",
       "    'lotSourceCode': 1,\n",
       "    'originalQty': 1,\n",
       "    'remainingQty': 1,\n",
       "    'availableQty': 0,\n",
       "    'orderNo': 99,\n",
       "    'legNo': 1,\n",
       "    'acquiredDate': 1707973200000,\n",
       "    'locationCode': 1,\n",
       "    'exchangeRate': 1.0,\n",
       "    'settlementCurrency': 'USD',\n",
       "    'paymentCurrency': 'USD',\n",
       "    'adjPrice': 0.0,\n",
       "    'commPerShare': 0.0,\n",
       "    'feesPerShare': 0.0,\n",
       "    'shortType': 1},\n",
       "   {'positionId': 364189645900,\n",
       "    'positionLotId': 2357680677103,\n",
       "    'price': 444.0,\n",
       "    'termCode': 2,\n",
       "    'daysGain': -34.0,\n",
       "    'daysGainPct': -7.7448,\n",
       "    'marketValue': 405.0,\n",
       "    'totalCost': 444.0,\n",
       "    'totalCostForGainPct': -8.7837,\n",
       "    'totalGain': -39.0,\n",
       "    'lotSourceCode': 1,\n",
       "    'originalQty': 1,\n",
       "    'remainingQty': 1,\n",
       "    'availableQty': 0,\n",
       "    'orderNo': 112,\n",
       "    'legNo': 1,\n",
       "    'acquiredDate': 1708578000000,\n",
       "    'locationCode': 1,\n",
       "    'exchangeRate': 1.0,\n",
       "    'settlementCurrency': 'USD',\n",
       "    'paymentCurrency': 'USD',\n",
       "    'adjPrice': 0.0,\n",
       "    'commPerShare': 0.0,\n",
       "    'feesPerShare': 0.0,\n",
       "    'shortType': 1}]}}"
      ]
     },
     "execution_count": 112,
     "metadata": {},
     "output_type": "execute_result"
    }
   ],
   "source": [
    "lot_data"
   ]
  },
  {
   "cell_type": "code",
   "execution_count": 60,
   "id": "9082b8e9-3b4c-4938-98b7-8bc319bf0903",
   "metadata": {},
   "outputs": [
    {
     "data": {
      "text/plain": [
       "[{'positionId': 364189645900,\n",
       "  'symbolDescription': 'MDB',\n",
       "  'dateAcquired': 1707973200000,\n",
       "  'pricePaid': 459.5,\n",
       "  'commissions': 0,\n",
       "  'otherFees': 0,\n",
       "  'quantity': 2,\n",
       "  'positionIndicator': 'TYPE1',\n",
       "  'positionType': 'LONG',\n",
       "  'daysGain': -7.16,\n",
       "  'daysGainPct': -0.7998,\n",
       "  'marketValue': 888,\n",
       "  'totalCost': 919,\n",
       "  'totalGain': -31,\n",
       "  'totalGainPct': -3.3732,\n",
       "  'pctOfPortfolio': 6.4612,\n",
       "  'costPerShare': 459.5,\n",
       "  'todayCommissions': 0,\n",
       "  'todayFees': 0,\n",
       "  'todayPricePaid': 0,\n",
       "  'todayQuantity': 0,\n",
       "  'adjPrevClose': 447.58,\n",
       "  'lotsDetails': 'https://api.etrade.com/v1/accounts/SXPtmpM7IZIpymUjhjI-zg/portfolio/364189645900.json',\n",
       "  'quoteDetails': 'https://api.etrade.com/v1/market/quote/MDB.json',\n",
       "  'Product': {'symbol': 'MDB',\n",
       "   'securityType': 'EQ',\n",
       "   'expiryYear': 0,\n",
       "   'expiryMonth': 0,\n",
       "   'expiryDay': 0,\n",
       "   'strikePrice': 0,\n",
       "   'productId': {'symbol': 'MDB', 'typeCode': 'EQUITY'}},\n",
       "  'Quick': {'lastTrade': 444.0,\n",
       "   'lastTradeTime': 1709317408,\n",
       "   'change': -3.58,\n",
       "   'changePct': -0.7998,\n",
       "   'volume': 738143,\n",
       "   'quoteStatus': 'INVALID'}}]"
      ]
     },
     "execution_count": 60,
     "metadata": {},
     "output_type": "execute_result"
    }
   ],
   "source": [
    "[p for p in ps_x if p[\"symbolDescription\"] == \"MDB\"]"
   ]
  },
  {
   "cell_type": "code",
   "execution_count": 24,
   "id": "23bc0fef-85e9-4a46-ae7a-881086373857",
   "metadata": {},
   "outputs": [
    {
     "data": {
      "text/plain": [
       "1"
      ]
     },
     "execution_count": 24,
     "metadata": {},
     "output_type": "execute_result"
    }
   ],
   "source": [
    "data[\"PortfolioResponse\"][\"AccountPortfolio\"][0][\"totalPages\"]"
   ]
  },
  {
   "cell_type": "code",
   "execution_count": 70,
   "id": "9801cffc-98da-43c0-929b-ff13ad925c9b",
   "metadata": {},
   "outputs": [],
   "source": [
    "q_resp = session.get('https://api.etrade.com/v1/market/quote/MDB.json')"
   ]
  },
  {
   "cell_type": "code",
   "execution_count": 71,
   "id": "4601413c-964e-47a5-825c-56e9e2e0859a",
   "metadata": {},
   "outputs": [
    {
     "data": {
      "text/plain": [
       "{'QuoteResponse': {'QuoteData': [{'dateTime': '17:15:49 EST 03-04-2024',\n",
       "    'dateTimeUTC': 1709590549,\n",
       "    'quoteStatus': 'CLOSING',\n",
       "    'ahFlag': 'true',\n",
       "    'hasMiniOptions': False,\n",
       "    'All': {'adjustedFlag': False,\n",
       "     'ask': 440.0,\n",
       "     'askSize': 500,\n",
       "     'askTime': '17:15:49 EST 03-04-2024',\n",
       "     'bid': 435.3,\n",
       "     'bidExchange': '',\n",
       "     'bidSize': 2000,\n",
       "     'bidTime': '17:15:49 EST 03-04-2024',\n",
       "     'changeClose': 2.16,\n",
       "     'changeClosePercentage': 0.49,\n",
       "     'companyName': 'MONGODB INC CL A',\n",
       "     'daysToExpiration': 0,\n",
       "     'dirLast': '2',\n",
       "     'dividend': 0.0,\n",
       "     'eps': -2.63,\n",
       "     'estEarnings': 2.924,\n",
       "     'exDividendDate': 0,\n",
       "     'high': 443.09,\n",
       "     'high52': 509.62,\n",
       "     'lastTrade': 439.0,\n",
       "     'low': 427.29,\n",
       "     'low52': 189.5901,\n",
       "     'open': 437.08,\n",
       "     'openInterest': 0,\n",
       "     'optionStyle': '',\n",
       "     'optionUnderlier': '',\n",
       "     'previousClose': 436.84,\n",
       "     'previousDayVolume': 1442620,\n",
       "     'primaryExchange': 'NSDQ',\n",
       "     'symbolDescription': 'MONGODB INC CL A',\n",
       "     'totalVolume': 1003724,\n",
       "     'upc': 0,\n",
       "     'cashDeliverable': 0,\n",
       "     'marketCap': 31685703000.0,\n",
       "     'sharesOutstanding': 72177000,\n",
       "     'nextEarningDate': '',\n",
       "     'beta': 2.3,\n",
       "     'yield': 0.0,\n",
       "     'declaredDividend': 0.0,\n",
       "     'dividendPayableDate': 0,\n",
       "     'pe': 0.0,\n",
       "     'week52LowDate': 1678742179,\n",
       "     'week52HiDate': 1707776179,\n",
       "     'intrinsicValue': 0.0,\n",
       "     'timePremium': 0.0,\n",
       "     'optionMultiplier': 0.0,\n",
       "     'contractSize': 0.0,\n",
       "     'expirationDate': 0,\n",
       "     'timeOfLastTrade': 1709586001,\n",
       "     'averageVolume': 1016924,\n",
       "     'ExtendedHourQuoteDetail': {'lastPrice': 435.0,\n",
       "      'change': -1.84,\n",
       "      'percentChange': -0.42,\n",
       "      'bid': 435.3,\n",
       "      'bidSize': 2000,\n",
       "      'ask': 440.0,\n",
       "      'askSize': 500,\n",
       "      'volume': 1003724,\n",
       "      'timeOfLastTrade': 1709590549,\n",
       "      'timeZone': 'EST',\n",
       "      'quoteStatus': 'EH_REALTIME'}},\n",
       "    'Product': {'symbol': 'MDB', 'securityType': 'EQ'}}]}}"
      ]
     },
     "execution_count": 71,
     "metadata": {},
     "output_type": "execute_result"
    }
   ],
   "source": [
    "q_resp.json()"
   ]
  },
  {
   "cell_type": "code",
   "execution_count": 30,
   "id": "e7dad2c9-2388-4dda-8884-9bab2108e8a0",
   "metadata": {},
   "outputs": [],
   "source": [
    "import json"
   ]
  },
  {
   "cell_type": "code",
   "execution_count": 31,
   "id": "3df84cfa-736a-41ff-a750-5b080ac1f01f",
   "metadata": {},
   "outputs": [],
   "source": [
    "data = json.loads(viewp_resp.text)"
   ]
  },
  {
   "cell_type": "code",
   "execution_count": 102,
   "id": "d08f1eaf-2b4b-4c66-8451-6c5a32dec389",
   "metadata": {},
   "outputs": [
    {
     "data": {
      "text/plain": [
       "True"
      ]
     },
     "execution_count": 102,
     "metadata": {},
     "output_type": "execute_result"
    }
   ],
   "source": [
    "viewp_resp.json() == data"
   ]
  },
  {
   "cell_type": "code",
   "execution_count": 14,
   "id": "72218b36-e87f-4d16-8f0d-ca4c2ae13605",
   "metadata": {},
   "outputs": [
    {
     "data": {
      "text/plain": [
       "datetime.datetime(2000, 5, 19, 13, 30)"
      ]
     },
     "execution_count": 14,
     "metadata": {},
     "output_type": "execute_result"
    }
   ],
   "source": [
    "datetime.fromtimestamp(958743000)"
   ]
  },
  {
   "cell_type": "code",
   "execution_count": 34,
   "id": "2e817374-bcbd-405c-9f5b-488d5dd90e2b",
   "metadata": {},
   "outputs": [
    {
     "data": {
      "text/plain": [
       "datetime.datetime(2024, 3, 27, 7, 0)"
      ]
     },
     "execution_count": 34,
     "metadata": {},
     "output_type": "execute_result"
    }
   ],
   "source": [
    "datetime.fromtimestamp(1711522800000/1000)"
   ]
  },
  {
   "cell_type": "code",
   "execution_count": null,
   "id": "44ebabb7-c54e-4a70-a82f-6c335c758b3c",
   "metadata": {},
   "outputs": [],
   "source": [
    "data"
   ]
  },
  {
   "cell_type": "code",
   "execution_count": 14,
   "id": "67b26226-6d91-408c-a363-bb9dc553c3c6",
   "metadata": {},
   "outputs": [],
   "source": [
    "root_yr = Decimal(\"1\")/Decimal(\"2.21095890411\")"
   ]
  },
  {
   "cell_type": "code",
   "execution_count": 18,
   "id": "758087b7-2a7e-4f92-bc07-dad6a14ed84c",
   "metadata": {},
   "outputs": [
    {
     "data": {
      "text/plain": [
       "Decimal('-0.0552087701011349359455755951')"
      ]
     },
     "execution_count": 18,
     "metadata": {},
     "output_type": "execute_result"
    }
   ],
   "source": [
    "(Decimal(\"-0.118\")+Decimal(\"1\"))**root_yr+Decimal(\"-1\")"
   ]
  },
  {
   "cell_type": "code",
   "execution_count": null,
   "id": "216b110c-2d29-4034-b4ac-93228a429de8",
   "metadata": {},
   "outputs": [],
   "source": []
  }
 ],
 "metadata": {
  "kernelspec": {
   "display_name": "Python 3 (ipykernel)",
   "language": "python",
   "name": "python3"
  },
  "language_info": {
   "codemirror_mode": {
    "name": "ipython",
    "version": 3
   },
   "file_extension": ".py",
   "mimetype": "text/x-python",
   "name": "python",
   "nbconvert_exporter": "python",
   "pygments_lexer": "ipython3",
   "version": "3.11.10"
  }
 },
 "nbformat": 4,
 "nbformat_minor": 5
}
