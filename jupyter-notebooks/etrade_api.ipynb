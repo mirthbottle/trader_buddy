{
 "cells": [
  {
   "cell_type": "code",
   "execution_count": 15,
   "id": "52eb9e0c-b18b-4f58-9d2b-9b40145fa34c",
   "metadata": {},
   "outputs": [],
   "source": [
    "%load_ext autoreload\n",
    "%autoreload 2\n",
    "\n",
    "%load_ext dotenv\n",
    "%dotenv"
   ]
  },
  {
   "cell_type": "code",
   "execution_count": 34,
   "id": "70ebe237-5391-4a24-8467-a8d28e2e77b3",
   "metadata": {},
   "outputs": [],
   "source": [
    "# to reload\n",
    "%dotenv"
   ]
  },
  {
   "cell_type": "code",
   "execution_count": 35,
   "id": "e1a37063-eb4a-4cb6-9fe8-336f566da190",
   "metadata": {},
   "outputs": [],
   "source": [
    "from google.cloud import bigquery\n",
    "\n",
    "client = bigquery.Client()"
   ]
  },
  {
   "cell_type": "code",
   "execution_count": 60,
   "id": "980ed469-580e-4248-a03c-a3783325d2d2",
   "metadata": {},
   "outputs": [],
   "source": [
    "p_sample = pd.read_excel(\"../projects/gain_tracker/tests/positions_sample.xlsx\")"
   ]
  },
  {
   "cell_type": "code",
   "execution_count": 44,
   "id": "f79ca687-5227-4410-87d9-b9b14b456242",
   "metadata": {},
   "outputs": [
    {
     "data": {
      "text/plain": [
       "portfolio_id                    object\n",
       "position_id                      int64\n",
       "external_id                     object\n",
       "id_type                         object\n",
       "position_entry_date     datetime64[ns]\n",
       "exchange                        object\n",
       "quantity                         int64\n",
       "status                          object\n",
       "position_entry_price           float64\n",
       "position_exit_date      datetime64[ns]\n",
       "position_exit_price            float64\n",
       "recognized_gain                float64\n",
       "dtype: object"
      ]
     },
     "execution_count": 44,
     "metadata": {},
     "output_type": "execute_result"
    }
   ],
   "source": [
    "p_sample.dtypes"
   ]
  },
  {
   "cell_type": "markdown",
   "id": "811bf3e3-7284-4330-b2a1-0a32ce85eb87",
   "metadata": {},
   "source": [
    "### change to Decimals"
   ]
  },
  {
   "cell_type": "code",
   "execution_count": 47,
   "id": "da5324ce-4eb6-4928-a212-56bad589e1b5",
   "metadata": {},
   "outputs": [],
   "source": [
    "from decimal import Decimal"
   ]
  },
  {
   "cell_type": "code",
   "execution_count": null,
   "id": "9801fb89-f500-466f-b5b6-385a2e14a7c4",
   "metadata": {},
   "outputs": [],
   "source": [
    "p_sample.loc[:, \"position_entry_price\"] = p_sample[\"position_entry_price\"].apply(\n",
    "    lambda p: Decimal(str(round(p, 6))))\n",
    "\n",
    "p_sample.loc[:, \"position_exit_price\"] = p_sample[\"position_exit_price\"].apply(\n",
    "    lambda p: Decimal(str(round(p, 6))))"
   ]
  },
  {
   "cell_type": "code",
   "execution_count": 52,
   "id": "2d138b9a-511d-42b1-964a-50c8480742b4",
   "metadata": {},
   "outputs": [
    {
     "data": {
      "text/html": [
       "<div>\n",
       "<style scoped>\n",
       "    .dataframe tbody tr th:only-of-type {\n",
       "        vertical-align: middle;\n",
       "    }\n",
       "\n",
       "    .dataframe tbody tr th {\n",
       "        vertical-align: top;\n",
       "    }\n",
       "\n",
       "    .dataframe thead th {\n",
       "        text-align: right;\n",
       "    }\n",
       "</style>\n",
       "<table border=\"1\" class=\"dataframe\">\n",
       "  <thead>\n",
       "    <tr style=\"text-align: right;\">\n",
       "      <th></th>\n",
       "      <th>portfolio_id</th>\n",
       "      <th>position_id</th>\n",
       "      <th>external_id</th>\n",
       "      <th>id_type</th>\n",
       "      <th>position_entry_date</th>\n",
       "      <th>exchange</th>\n",
       "      <th>quantity</th>\n",
       "      <th>status</th>\n",
       "      <th>position_entry_price</th>\n",
       "      <th>position_exit_date</th>\n",
       "      <th>position_exit_price</th>\n",
       "      <th>recognized_gain</th>\n",
       "    </tr>\n",
       "  </thead>\n",
       "  <tbody>\n",
       "    <tr>\n",
       "      <th>26</th>\n",
       "      <td>Roth IRA</td>\n",
       "      <td>26</td>\n",
       "      <td>TSLA</td>\n",
       "      <td>TICKER</td>\n",
       "      <td>2024-01-25</td>\n",
       "      <td>PCX</td>\n",
       "      <td>2</td>\n",
       "      <td>OPEN_LONG</td>\n",
       "      <td>180.4</td>\n",
       "      <td>NaT</td>\n",
       "      <td>NaN</td>\n",
       "      <td>NaN</td>\n",
       "    </tr>\n",
       "    <tr>\n",
       "      <th>27</th>\n",
       "      <td>IRA</td>\n",
       "      <td>27</td>\n",
       "      <td>DQ</td>\n",
       "      <td>TICKER</td>\n",
       "      <td>2024-01-25</td>\n",
       "      <td>PCX</td>\n",
       "      <td>20</td>\n",
       "      <td>OPEN_LONG</td>\n",
       "      <td>19.5</td>\n",
       "      <td>NaT</td>\n",
       "      <td>NaN</td>\n",
       "      <td>NaN</td>\n",
       "    </tr>\n",
       "    <tr>\n",
       "      <th>28</th>\n",
       "      <td>IRA</td>\n",
       "      <td>28</td>\n",
       "      <td>CVS</td>\n",
       "      <td>TICKER</td>\n",
       "      <td>2024-01-25</td>\n",
       "      <td>PCX</td>\n",
       "      <td>8</td>\n",
       "      <td>OPEN_LONG</td>\n",
       "      <td>71.99</td>\n",
       "      <td>NaT</td>\n",
       "      <td>NaN</td>\n",
       "      <td>NaN</td>\n",
       "    </tr>\n",
       "    <tr>\n",
       "      <th>29</th>\n",
       "      <td>Roth IRA</td>\n",
       "      <td>29</td>\n",
       "      <td>BLDE</td>\n",
       "      <td>TICKER</td>\n",
       "      <td>2024-01-30</td>\n",
       "      <td>PCX</td>\n",
       "      <td>160</td>\n",
       "      <td>OPEN_LONG</td>\n",
       "      <td>3.0</td>\n",
       "      <td>NaT</td>\n",
       "      <td>NaN</td>\n",
       "      <td>NaN</td>\n",
       "    </tr>\n",
       "    <tr>\n",
       "      <th>30</th>\n",
       "      <td>IRA</td>\n",
       "      <td>30</td>\n",
       "      <td>GPS</td>\n",
       "      <td>TICKER</td>\n",
       "      <td>2024-01-31</td>\n",
       "      <td>PCX</td>\n",
       "      <td>20</td>\n",
       "      <td>OPEN_LONG</td>\n",
       "      <td>18.9</td>\n",
       "      <td>NaT</td>\n",
       "      <td>NaN</td>\n",
       "      <td>NaN</td>\n",
       "    </tr>\n",
       "  </tbody>\n",
       "</table>\n",
       "</div>"
      ],
      "text/plain": [
       "   portfolio_id  position_id external_id id_type position_entry_date exchange  \\\n",
       "26     Roth IRA           26        TSLA  TICKER          2024-01-25      PCX   \n",
       "27          IRA           27          DQ  TICKER          2024-01-25      PCX   \n",
       "28          IRA           28         CVS  TICKER          2024-01-25      PCX   \n",
       "29     Roth IRA           29        BLDE  TICKER          2024-01-30      PCX   \n",
       "30          IRA           30         GPS  TICKER          2024-01-31      PCX   \n",
       "\n",
       "    quantity     status position_entry_price position_exit_date  \\\n",
       "26         2  OPEN_LONG                180.4                NaT   \n",
       "27        20  OPEN_LONG                 19.5                NaT   \n",
       "28         8  OPEN_LONG                71.99                NaT   \n",
       "29       160  OPEN_LONG                  3.0                NaT   \n",
       "30        20  OPEN_LONG                 18.9                NaT   \n",
       "\n",
       "   position_exit_price  recognized_gain  \n",
       "26                 NaN              NaN  \n",
       "27                 NaN              NaN  \n",
       "28                 NaN              NaN  \n",
       "29                 NaN              NaN  \n",
       "30                 NaN              NaN  "
      ]
     },
     "execution_count": 52,
     "metadata": {},
     "output_type": "execute_result"
    }
   ],
   "source": [
    "p_sample.tail()"
   ]
  },
  {
   "cell_type": "code",
   "execution_count": 53,
   "id": "b536376f-6b8e-4214-9612-1424b5c70ba3",
   "metadata": {},
   "outputs": [
    {
     "data": {
      "text/plain": [
       "portfolio_id                    object\n",
       "position_id                      int64\n",
       "external_id                     object\n",
       "id_type                         object\n",
       "position_entry_date     datetime64[ns]\n",
       "exchange                        object\n",
       "quantity                         int64\n",
       "status                          object\n",
       "position_entry_price            object\n",
       "position_exit_date      datetime64[ns]\n",
       "position_exit_price             object\n",
       "recognized_gain                float64\n",
       "dtype: object"
      ]
     },
     "execution_count": 53,
     "metadata": {},
     "output_type": "execute_result"
    }
   ],
   "source": [
    "p_sample.dtypes"
   ]
  },
  {
   "cell_type": "code",
   "execution_count": 54,
   "id": "6d4285b3-1842-470f-a4c2-62a707c5dcd6",
   "metadata": {},
   "outputs": [],
   "source": [
    "job = client.load_table_from_dataframe(\n",
    "    p_sample, \"main-street-labs.gain_tracker_dev.positions_dec\"\n",
    ")"
   ]
  },
  {
   "cell_type": "code",
   "execution_count": 56,
   "id": "624f0d5b-da03-4129-82b5-b587db77015b",
   "metadata": {},
   "outputs": [],
   "source": [
    "# Perform a query.\n",
    "QUERY = (\n",
    "    'SELECT position_id, position_entry_price, position_exit_price FROM `main-street-labs.gain_tracker_dev.positions_dec`'\n",
    ")\n",
    "p_dec_sample_dl = client.query_and_wait(QUERY).to_dataframe()  # API request"
   ]
  },
  {
   "cell_type": "code",
   "execution_count": 108,
   "id": "0a93c626-6129-4942-8565-8bf224c13368",
   "metadata": {},
   "outputs": [
    {
     "data": {
      "text/html": [
       "<div>\n",
       "<style scoped>\n",
       "    .dataframe tbody tr th:only-of-type {\n",
       "        vertical-align: middle;\n",
       "    }\n",
       "\n",
       "    .dataframe tbody tr th {\n",
       "        vertical-align: top;\n",
       "    }\n",
       "\n",
       "    .dataframe thead th {\n",
       "        text-align: right;\n",
       "    }\n",
       "</style>\n",
       "<table border=\"1\" class=\"dataframe\">\n",
       "  <thead>\n",
       "    <tr style=\"text-align: right;\">\n",
       "      <th></th>\n",
       "      <th>position_id</th>\n",
       "      <th>position_entry_price</th>\n",
       "      <th>position_exit_price</th>\n",
       "    </tr>\n",
       "  </thead>\n",
       "  <tbody>\n",
       "    <tr>\n",
       "      <th>26</th>\n",
       "      <td>1</td>\n",
       "      <td>156.000</td>\n",
       "      <td>158.0000</td>\n",
       "    </tr>\n",
       "    <tr>\n",
       "      <th>27</th>\n",
       "      <td>0</td>\n",
       "      <td>210.130</td>\n",
       "      <td>470.0000</td>\n",
       "    </tr>\n",
       "    <tr>\n",
       "      <th>28</th>\n",
       "      <td>4</td>\n",
       "      <td>7.895</td>\n",
       "      <td>9.4000</td>\n",
       "    </tr>\n",
       "    <tr>\n",
       "      <th>29</th>\n",
       "      <td>5</td>\n",
       "      <td>7.895</td>\n",
       "      <td>9.2349</td>\n",
       "    </tr>\n",
       "    <tr>\n",
       "      <th>30</th>\n",
       "      <td>3</td>\n",
       "      <td>39.030</td>\n",
       "      <td>46.0700</td>\n",
       "    </tr>\n",
       "  </tbody>\n",
       "</table>\n",
       "</div>"
      ],
      "text/plain": [
       "    position_id  position_entry_price  position_exit_price\n",
       "26            1               156.000             158.0000\n",
       "27            0               210.130             470.0000\n",
       "28            4                 7.895               9.4000\n",
       "29            5                 7.895               9.2349\n",
       "30            3                39.030              46.0700"
      ]
     },
     "execution_count": 108,
     "metadata": {},
     "output_type": "execute_result"
    }
   ],
   "source": [
    "p_dec_sample_dl.tail()"
   ]
  },
  {
   "cell_type": "markdown",
   "id": "96dfe298-47cf-4508-9014-17f7a031d413",
   "metadata": {},
   "source": [
    "# Use ETrade API"
   ]
  },
  {
   "cell_type": "code",
   "execution_count": 16,
   "id": "6530afbc-d305-4085-a36a-994560db6faa",
   "metadata": {},
   "outputs": [],
   "source": [
    "import pandas as pd\n",
    "from datetime import date\n",
    "\n",
    "import os"
   ]
  },
  {
   "cell_type": "code",
   "execution_count": 114,
   "id": "70c24566-260f-41e2-a5f7-e844c1829540",
   "metadata": {},
   "outputs": [],
   "source": [
    "# consumer_key = os.getenv(\"ETRADE_SANDBOX_KEY\")\n",
    "# consumer_secret = os.getenv(\"ETRADE_SANDBOX_SECRET\")\n",
    "consumer_key = os.getenv(\"ETRADE_KEY\")\n",
    "consumer_secret = os.getenv(\"ETRADE_SECRET\")"
   ]
  },
  {
   "cell_type": "code",
   "execution_count": 13,
   "id": "a40991a7-9ed2-40e7-98d2-9684a16dfe61",
   "metadata": {},
   "outputs": [],
   "source": [
    "from rauth import OAuth1Service\n",
    "import webbrowser"
   ]
  },
  {
   "cell_type": "code",
   "execution_count": 115,
   "id": "529fdb4f-890e-4060-855f-084aca3d0b36",
   "metadata": {},
   "outputs": [],
   "source": [
    "service = OAuth1Service(\n",
    "              name = 'etrade',\n",
    "              consumer_key = consumer_key,\n",
    "              consumer_secret = consumer_secret,\n",
    "              request_token_url = 'https://apisb.etrade.com/oauth/request_token',\n",
    "              access_token_url = 'https://apisb.etrade.com/oauth/access_token',\n",
    "              authorize_url = 'https://us.etrade.com/e/t/etws/authorize?key={}&token={}',\n",
    "              base_url = 'https://apisb.etrade.com')\n"
   ]
  },
  {
   "cell_type": "code",
   "execution_count": 116,
   "id": "da8f86ac-17d1-4f6e-a9f0-1a046775c754",
   "metadata": {},
   "outputs": [],
   "source": [
    "oauth_token, oauth_token_secret = service.get_request_token(params = \n",
    "                                  {'oauth_callback': 'oob', \n",
    "                                   'format': 'json'})"
   ]
  },
  {
   "cell_type": "code",
   "execution_count": 119,
   "id": "2006d46a-53e1-45ca-9c0b-78aacd29cd58",
   "metadata": {},
   "outputs": [],
   "source": [
    "auth_url = service.authorize_url.format(consumer_key, oauth_token)"
   ]
  },
  {
   "cell_type": "code",
   "execution_count": 120,
   "id": "03b08bb9-7881-4b8f-8a23-7d164f4e4fde",
   "metadata": {},
   "outputs": [
    {
     "name": "stdin",
     "output_type": "stream",
     "text": [
      "Please input the verifier:  MI960\n"
     ]
    }
   ],
   "source": [
    "# Get verifier (direct input in console, still working on callback)\n",
    "webbrowser.open(auth_url)\n",
    "verifier = input('Please input the verifier: ')"
   ]
  },
  {
   "cell_type": "code",
   "execution_count": 121,
   "id": "1a8604be-6d9d-46b8-9688-93a329a9ca5e",
   "metadata": {},
   "outputs": [],
   "source": [
    "session = service.get_auth_session(oauth_token, oauth_token_secret, params = {'oauth_verifier': verifier})"
   ]
  },
  {
   "cell_type": "code",
   "execution_count": 125,
   "id": "882c661e-c32c-4554-b5b0-b6c68292a981",
   "metadata": {},
   "outputs": [],
   "source": [
    "# list_accounts_url = 'https://apisb.etrade.com/v1/accounts/list.json'\n",
    "list_accounts_url = 'https://api.etrade.com/v1/accounts/list.json'"
   ]
  },
  {
   "cell_type": "code",
   "execution_count": 126,
   "id": "a448e718-bb79-480e-addd-87ed3c133ded",
   "metadata": {},
   "outputs": [],
   "source": [
    "resp = session.get(list_accounts_url, params = {'format': 'json'})"
   ]
  },
  {
   "cell_type": "code",
   "execution_count": 127,
   "id": "c52fce4f-14e2-429b-9ef8-d7f9f3f4dac7",
   "metadata": {},
   "outputs": [
    {
     "data": {
      "text/plain": [
       "{'AccountListResponse': {'Accounts': {'Account': [{'accountId': '153285977',\n",
       "     'accountIdKey': 'lP_HmzzVyiLFftb7DXaEUw',\n",
       "     'accountMode': 'CASH',\n",
       "     'accountDesc': 'Individual Brokerage',\n",
       "     'accountName': '',\n",
       "     'accountType': 'INDIVIDUAL',\n",
       "     'institutionType': 'BROKERAGE',\n",
       "     'accountStatus': 'ACTIVE',\n",
       "     'closedDate': 0,\n",
       "     'shareWorksAccount': False,\n",
       "     'fcManagedMssbClosedAccount': False},\n",
       "    {'accountId': '227699084',\n",
       "     'accountIdKey': 'E2ayfoKSzH1fFZs-7xV48A',\n",
       "     'accountMode': 'CASH',\n",
       "     'accountDesc': 'Roth IRA',\n",
       "     'accountName': '',\n",
       "     'accountType': 'ROTHIRA',\n",
       "     'institutionType': 'BROKERAGE',\n",
       "     'accountStatus': 'ACTIVE',\n",
       "     'closedDate': 0,\n",
       "     'shareWorksAccount': False,\n",
       "     'fcManagedMssbClosedAccount': False},\n",
       "    {'accountId': '892405345',\n",
       "     'accountIdKey': 'SXPtmpM7IZIpymUjhjI-zg',\n",
       "     'accountMode': 'CASH',\n",
       "     'accountDesc': 'Traditional IRA',\n",
       "     'accountName': '',\n",
       "     'accountType': 'CONTRIBUTORY',\n",
       "     'institutionType': 'BROKERAGE',\n",
       "     'accountStatus': 'ACTIVE',\n",
       "     'closedDate': 0,\n",
       "     'shareWorksAccount': False,\n",
       "     'fcManagedMssbClosedAccount': False}]}}}"
      ]
     },
     "execution_count": 127,
     "metadata": {},
     "output_type": "execute_result"
    }
   ],
   "source": [
    "# resp.text\n",
    "resp.json()"
   ]
  },
  {
   "cell_type": "code",
   "execution_count": 27,
   "id": "36d4392a-9054-4d23-9b07-d3c062499ccd",
   "metadata": {},
   "outputs": [],
   "source": [
    "accountIdKey = \"xj1Dc18FTqWPqkEEVUr5rw\"\n",
    "instType = \"BROKERAGE\""
   ]
  },
  {
   "cell_type": "code",
   "execution_count": 96,
   "id": "ac0350b2-0381-4514-9bed-ee344cfbb4ff",
   "metadata": {},
   "outputs": [],
   "source": [
    "account_balances_url = f\"https://apisb.etrade.com/v1/accounts/{accountIdKey}/balance.json\""
   ]
  },
  {
   "cell_type": "code",
   "execution_count": 75,
   "id": "3d9940bb-9062-4fc8-9c51-a29aae76517e",
   "metadata": {},
   "outputs": [
    {
     "data": {
      "text/plain": [
       "'https://apisb.etrade.com/v1/accounts/xj1Dc18FTqWPqkEEVUr5rw/balance'"
      ]
     },
     "execution_count": 75,
     "metadata": {},
     "output_type": "execute_result"
    }
   ],
   "source": [
    "account_balances_url"
   ]
  },
  {
   "cell_type": "code",
   "execution_count": 76,
   "id": "01d45a0d-5200-49ee-9cce-ba68b8189a54",
   "metadata": {},
   "outputs": [],
   "source": [
    "resp = session.get(account_balances_url, params = {\"instType\":instType,\"realNAV\": False})"
   ]
  },
  {
   "cell_type": "code",
   "execution_count": 77,
   "id": "b5c3e869-450e-4fdd-860f-72fd0cfa3015",
   "metadata": {},
   "outputs": [
    {
     "data": {
      "text/plain": [
       "'<?xml version=\"1.0\" encoding=\"UTF-8\" standalone=\"yes\"?><BalanceResponse><accountId>833535350</accountId><accountType>MARGIN</accountType><optionLevel>LEVEL_4</optionLevel><accountDescription></accountDescription><Cash><fundsForOpenOrdersCash>0.0</fundsForOpenOrdersCash><moneyMktBalance>0.0</moneyMktBalance></Cash><Computed><cashAvailableForInvestment>0.00</cashAvailableForInvestment><cashAvailableForWithdrawal>0.00</cashAvailableForWithdrawal><netCash>-740.450013</netCash><cashBalance>0.0</cashBalance><settledCashForInvestment>0.0</settledCashForInvestment><unSettledCashForInvestment>0.0</unSettledCashForInvestment><fundsWithheldFromPurchasePower>0.0</fundsWithheldFromPurchasePower><fundsWithheldFromWithdrawal>0.0</fundsWithheldFromWithdrawal><OpenCalls><cashCall>0.0</cashCall></OpenCalls><RealTimeValues><totalAccountValue>0.0</totalAccountValue><netMv>-454.22</netMv><netMvLong>0.0</netMvLong></RealTimeValues></Computed></BalanceResponse>'"
      ]
     },
     "execution_count": 77,
     "metadata": {},
     "output_type": "execute_result"
    }
   ],
   "source": [
    "resp.text"
   ]
  },
  {
   "cell_type": "code",
   "execution_count": 28,
   "id": "bfef7edb-d14a-4b01-b070-0ada2f205769",
   "metadata": {},
   "outputs": [],
   "source": [
    "view_portfolio_url = f\"https://apisb.etrade.com/v1/accounts/{accountIdKey}/portfolio.json\""
   ]
  },
  {
   "cell_type": "code",
   "execution_count": 29,
   "id": "42fcfb78-96be-449d-a980-1b6d4d513a9c",
   "metadata": {},
   "outputs": [],
   "source": [
    "viewp_resp = session.get(view_portfolio_url)"
   ]
  },
  {
   "cell_type": "code",
   "execution_count": 30,
   "id": "e7dad2c9-2388-4dda-8884-9bab2108e8a0",
   "metadata": {},
   "outputs": [],
   "source": [
    "import json"
   ]
  },
  {
   "cell_type": "code",
   "execution_count": 31,
   "id": "3df84cfa-736a-41ff-a750-5b080ac1f01f",
   "metadata": {},
   "outputs": [],
   "source": [
    "data = json.loads(viewp_resp.text)"
   ]
  },
  {
   "cell_type": "code",
   "execution_count": 102,
   "id": "d08f1eaf-2b4b-4c66-8451-6c5a32dec389",
   "metadata": {},
   "outputs": [
    {
     "data": {
      "text/plain": [
       "True"
      ]
     },
     "execution_count": 102,
     "metadata": {},
     "output_type": "execute_result"
    }
   ],
   "source": [
    "viewp_resp.json() == data"
   ]
  },
  {
   "cell_type": "code",
   "execution_count": 104,
   "id": "fcc693f2-1fee-4650-bbc1-d773cdabc429",
   "metadata": {},
   "outputs": [
    {
     "data": {
      "text/plain": [
       "True"
      ]
     },
     "execution_count": 104,
     "metadata": {},
     "output_type": "execute_result"
    }
   ],
   "source": [
    "'PortfolioResponse' in data"
   ]
  },
  {
   "cell_type": "code",
   "execution_count": 32,
   "id": "7309d0d6-f9b7-44cc-905f-0d6d83b188a0",
   "metadata": {},
   "outputs": [
    {
     "data": {
      "text/plain": [
       "{'PortfolioResponse': {'AccountPortfolio': [{'accountId': '833597000',\n",
       "    'Position': [{'positionId': 27005131,\n",
       "      'symbolDescription': 'BR',\n",
       "      'dateAcquired': -57600000,\n",
       "      'pricePaid': 0,\n",
       "      'commissions': 0,\n",
       "      'otherFees': 0,\n",
       "      'quantity': 10,\n",
       "      'positionIndicator': 'TYPE2',\n",
       "      'positionType': 'LONG',\n",
       "      'daysGain': -2.7999,\n",
       "      'daysGainPct': -1.3346,\n",
       "      'marketValue': 207,\n",
       "      'totalCost': 0,\n",
       "      'totalGain': 207,\n",
       "      'totalGainPct': 0,\n",
       "      'pctOfPortfolio': 0.0018,\n",
       "      'costPerShare': 0,\n",
       "      'todayCommissions': 0,\n",
       "      'todayFees': 0,\n",
       "      'todayPricePaid': 0,\n",
       "      'todayQuantity': 0,\n",
       "      'lotsDetails': 'https://apisb.etrade.com/v1/accounts/E5Nd4LJBsEi_UyHm4Vio9g/portfolio/27005131',\n",
       "      'quoteDetails': 'https://apisb.etrade.com/v1/market/quote/BR',\n",
       "      'Product': {'symbol': 'BR',\n",
       "       'securityType': 'EQ',\n",
       "       'expiryYear': 0,\n",
       "       'expiryMonth': 0,\n",
       "       'expiryDay': 0,\n",
       "       'strikePrice': 0,\n",
       "       'productId': {'symbol': 'BR'}},\n",
       "      'Quick': {'lastTrade': 20.7,\n",
       "       'lastTradeTime': 1343160240,\n",
       "       'change': -0.28,\n",
       "       'changePct': -1.3346,\n",
       "       'volume': 431591}},\n",
       "     {'positionId': 4709131,\n",
       "      'symbolDescription': 'GLD',\n",
       "      'dateAcquired': 1335250800000,\n",
       "      'pricePaid': 1,\n",
       "      'commissions': 5,\n",
       "      'otherFees': 0,\n",
       "      'quantity': 2,\n",
       "      'positionIndicator': 'TYPE1',\n",
       "      'positionType': 'LONG',\n",
       "      'daysGain': 0.9799,\n",
       "      'daysGainPct': 0.3201,\n",
       "      'marketValue': 307.04,\n",
       "      'totalCost': 7,\n",
       "      'totalGain': 300.04,\n",
       "      'totalGainPct': 4286.2857,\n",
       "      'pctOfPortfolio': 0.0028,\n",
       "      'costPerShare': 3.5,\n",
       "      'todayCommissions': 0,\n",
       "      'todayFees': 0,\n",
       "      'todayPricePaid': 0,\n",
       "      'todayQuantity': 0,\n",
       "      'lotsDetails': 'https://apisb.etrade.com/v1/accounts/E5Nd4LJBsEi_UyHm4Vio9g/portfolio/4709131',\n",
       "      'quoteDetails': 'https://apisb.etrade.com/v1/market/quote/GLD',\n",
       "      'Product': {'symbol': 'GLD',\n",
       "       'securityType': 'EQ',\n",
       "       'expiryYear': 0,\n",
       "       'expiryMonth': 0,\n",
       "       'expiryDay': 0,\n",
       "       'strikePrice': 0,\n",
       "       'productId': {'symbol': 'GLD'}},\n",
       "      'Quick': {'lastTrade': 153.52,\n",
       "       'lastTradeTime': 1343160000,\n",
       "       'change': 0.49,\n",
       "       'changePct': 0.3201,\n",
       "       'volume': 6510878}},\n",
       "     {'positionId': 4729131,\n",
       "      'symbolDescription': 'MSFT',\n",
       "      'dateAcquired': 1335250800000,\n",
       "      'pricePaid': 1,\n",
       "      'commissions': 5,\n",
       "      'otherFees': 0,\n",
       "      'quantity': 1,\n",
       "      'positionIndicator': 'TYPE2',\n",
       "      'positionType': 'LONG',\n",
       "      'daysGain': -0.13,\n",
       "      'daysGainPct': -0.4439,\n",
       "      'marketValue': 29.1499,\n",
       "      'totalCost': 6,\n",
       "      'totalGain': 23.1499,\n",
       "      'totalGainPct': 385.8333,\n",
       "      'pctOfPortfolio': 0.0002,\n",
       "      'costPerShare': 6,\n",
       "      'todayCommissions': 0,\n",
       "      'todayFees': 0,\n",
       "      'todayPricePaid': 0,\n",
       "      'todayQuantity': 0,\n",
       "      'lotsDetails': 'https://apisb.etrade.com/v1/accounts/E5Nd4LJBsEi_UyHm4Vio9g/portfolio/4729131',\n",
       "      'quoteDetails': 'https://apisb.etrade.com/v1/market/quote/MSFT',\n",
       "      'Product': {'symbol': 'MSFT',\n",
       "       'securityType': 'EQ',\n",
       "       'expiryYear': 0,\n",
       "       'expiryMonth': 0,\n",
       "       'expiryDay': 0,\n",
       "       'strikePrice': 0,\n",
       "       'productId': {'symbol': 'MSFT'}},\n",
       "      'Quick': {'lastTrade': 29.15,\n",
       "       'lastTradeTime': 1343160000,\n",
       "       'change': -0.13,\n",
       "       'changePct': -0.4439,\n",
       "       'volume': 47711254}},\n",
       "     {'positionId': 23971131,\n",
       "      'symbolDescription': 'MSFT',\n",
       "      'dateAcquired': -57600000,\n",
       "      'pricePaid': 0,\n",
       "      'commissions': 0,\n",
       "      'otherFees': 0,\n",
       "      'quantity': -10,\n",
       "      'positionIndicator': 'TYPE5',\n",
       "      'positionType': 'SHORT',\n",
       "      'daysGain': 1.3,\n",
       "      'daysGainPct': -0.4439,\n",
       "      'marketValue': -291.5,\n",
       "      'totalCost': 0,\n",
       "      'totalGain': -291.5,\n",
       "      'totalGainPct': 0,\n",
       "      'pctOfPortfolio': -0.0026,\n",
       "      'costPerShare': 0,\n",
       "      'todayCommissions': 0,\n",
       "      'todayFees': 0,\n",
       "      'todayPricePaid': 0,\n",
       "      'todayQuantity': 0,\n",
       "      'lotsDetails': 'https://apisb.etrade.com/v1/accounts/E5Nd4LJBsEi_UyHm4Vio9g/portfolio/23971131',\n",
       "      'quoteDetails': 'https://apisb.etrade.com/v1/market/quote/MSFT',\n",
       "      'Product': {'symbol': 'MSFT',\n",
       "       'securityType': 'EQ',\n",
       "       'expiryYear': 0,\n",
       "       'expiryMonth': 0,\n",
       "       'expiryDay': 0,\n",
       "       'strikePrice': 0,\n",
       "       'productId': {'symbol': 'MSFT'}},\n",
       "      'Quick': {'lastTrade': 29.15,\n",
       "       'lastTradeTime': 1343160000,\n",
       "       'change': -0.13,\n",
       "       'changePct': -0.4439,\n",
       "       'volume': 47711254}},\n",
       "     {'positionId': 4725131,\n",
       "      'symbolDescription': 'RBL',\n",
       "      'dateAcquired': 1335250800000,\n",
       "      'pricePaid': 1,\n",
       "      'commissions': 5,\n",
       "      'otherFees': 0,\n",
       "      'quantity': 2,\n",
       "      'positionIndicator': 'TYPE2',\n",
       "      'positionType': 'LONG',\n",
       "      'daysGain': -0.52,\n",
       "      'daysGainPct': -1.0252,\n",
       "      'marketValue': 50.2,\n",
       "      'totalCost': 7,\n",
       "      'totalGain': 43.2,\n",
       "      'totalGainPct': 617.1428,\n",
       "      'pctOfPortfolio': 0.0004,\n",
       "      'costPerShare': 3.5,\n",
       "      'todayCommissions': 0,\n",
       "      'todayFees': 0,\n",
       "      'todayPricePaid': 0,\n",
       "      'todayQuantity': 0,\n",
       "      'lotsDetails': 'https://apisb.etrade.com/v1/accounts/E5Nd4LJBsEi_UyHm4Vio9g/portfolio/4725131',\n",
       "      'quoteDetails': 'https://apisb.etrade.com/v1/market/quote/RBL',\n",
       "      'Product': {'symbol': 'RBL',\n",
       "       'securityType': 'EQ',\n",
       "       'expiryYear': 0,\n",
       "       'expiryMonth': 0,\n",
       "       'expiryDay': 0,\n",
       "       'strikePrice': 0,\n",
       "       'productId': {'symbol': 'RBL'}},\n",
       "      'Quick': {'lastTrade': 25.1,\n",
       "       'lastTradeTime': 1343159760,\n",
       "       'change': -0.26,\n",
       "       'changePct': -1.0252,\n",
       "       'volume': 11827}},\n",
       "     {'positionId': 20841131,\n",
       "      'symbolDescription': 'RPI',\n",
       "      'dateAcquired': 1335250800000,\n",
       "      'pricePaid': 7.5599,\n",
       "      'commissions': 5,\n",
       "      'otherFees': 45,\n",
       "      'quantity': 2,\n",
       "      'positionIndicator': 'TYPE2',\n",
       "      'positionType': 'LONG',\n",
       "      'daysGain': 0,\n",
       "      'daysGainPct': 0,\n",
       "      'marketValue': 2.8599,\n",
       "      'totalCost': 65.12,\n",
       "      'totalGain': -62.2599,\n",
       "      'totalGainPct': -95.6081,\n",
       "      'pctOfPortfolio': 0.0,\n",
       "      'costPerShare': 32.56,\n",
       "      'todayCommissions': 0,\n",
       "      'todayFees': 0,\n",
       "      'todayPricePaid': 0,\n",
       "      'todayQuantity': 0,\n",
       "      'lotsDetails': 'https://apisb.etrade.com/v1/accounts/E5Nd4LJBsEi_UyHm4Vio9g/portfolio/20841131',\n",
       "      'quoteDetails': 'https://apisb.etrade.com/v1/market/quote/RPI',\n",
       "      'Product': {'symbol': 'RPI',\n",
       "       'securityType': 'EQ',\n",
       "       'expiryYear': 0,\n",
       "       'expiryMonth': 0,\n",
       "       'expiryDay': 0,\n",
       "       'strikePrice': 0,\n",
       "       'productId': {'symbol': 'RPI'}},\n",
       "      'Quick': {'lastTrade': 1.43,\n",
       "       'lastTradeTime': 1343150700,\n",
       "       'change': 0,\n",
       "       'changePct': 0,\n",
       "       'volume': 1803}},\n",
       "     {'positionId': 4732131,\n",
       "      'symbolDescription': 'RXD',\n",
       "      'dateAcquired': 1335250800000,\n",
       "      'pricePaid': 1,\n",
       "      'commissions': 2.99,\n",
       "      'otherFees': 0.0099,\n",
       "      'quantity': -3,\n",
       "      'positionIndicator': 'TYPE5',\n",
       "      'positionType': 'SHORT',\n",
       "      'daysGain': -1.296,\n",
       "      'daysGainPct': 2.6799,\n",
       "      'marketValue': -49.6559,\n",
       "      'totalCost': 0,\n",
       "      'totalGain': -49.6559,\n",
       "      'totalGainPct': -827.6,\n",
       "      'pctOfPortfolio': -0.0004,\n",
       "      'costPerShare': 0,\n",
       "      'todayCommissions': 0,\n",
       "      'todayFees': 0,\n",
       "      'todayPricePaid': 0,\n",
       "      'todayQuantity': 0,\n",
       "      'lotsDetails': 'https://apisb.etrade.com/v1/accounts/E5Nd4LJBsEi_UyHm4Vio9g/portfolio/4732131',\n",
       "      'quoteDetails': 'https://apisb.etrade.com/v1/market/quote/RXD',\n",
       "      'Product': {'symbol': 'RXD',\n",
       "       'securityType': 'EQ',\n",
       "       'expiryYear': 0,\n",
       "       'expiryMonth': 0,\n",
       "       'expiryDay': 0,\n",
       "       'strikePrice': 0,\n",
       "       'productId': {'symbol': 'RXD'}},\n",
       "      'Quick': {'lastTrade': 16.552,\n",
       "       'lastTradeTime': 1343157480,\n",
       "       'change': 0.432,\n",
       "       'changePct': 2.6799,\n",
       "       'volume': 2200}}],\n",
       "    'totalPages': 1}]}}"
      ]
     },
     "execution_count": 32,
     "metadata": {},
     "output_type": "execute_result"
    }
   ],
   "source": [
    "data"
   ]
  },
  {
   "cell_type": "code",
   "execution_count": null,
   "id": "3528a318-7440-413c-93dc-b387195a3d60",
   "metadata": {},
   "outputs": [],
   "source": []
  }
 ],
 "metadata": {
  "kernelspec": {
   "display_name": "Python 3 (ipykernel)",
   "language": "python",
   "name": "python3"
  },
  "language_info": {
   "codemirror_mode": {
    "name": "ipython",
    "version": 3
   },
   "file_extension": ".py",
   "mimetype": "text/x-python",
   "name": "python",
   "nbconvert_exporter": "python",
   "pygments_lexer": "ipython3",
   "version": "3.11.6"
  }
 },
 "nbformat": 4,
 "nbformat_minor": 5
}
