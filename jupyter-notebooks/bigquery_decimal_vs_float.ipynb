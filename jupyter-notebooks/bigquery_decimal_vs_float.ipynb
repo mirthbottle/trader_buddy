{
 "cells": [
  {
   "cell_type": "code",
   "execution_count": 15,
   "id": "52eb9e0c-b18b-4f58-9d2b-9b40145fa34c",
   "metadata": {},
   "outputs": [],
   "source": [
    "%load_ext autoreload\n",
    "%autoreload 2\n",
    "\n",
    "%load_ext dotenv\n",
    "%dotenv"
   ]
  },
  {
   "cell_type": "code",
   "execution_count": 34,
   "id": "70ebe237-5391-4a24-8467-a8d28e2e77b3",
   "metadata": {},
   "outputs": [],
   "source": [
    "# to reload\n",
    "%dotenv"
   ]
  },
  {
   "cell_type": "code",
   "execution_count": 35,
   "id": "e1a37063-eb4a-4cb6-9fe8-336f566da190",
   "metadata": {},
   "outputs": [],
   "source": [
    "from google.cloud import bigquery\n",
    "\n",
    "client = bigquery.Client()"
   ]
  },
  {
   "cell_type": "code",
   "execution_count": 60,
   "id": "980ed469-580e-4248-a03c-a3783325d2d2",
   "metadata": {},
   "outputs": [],
   "source": [
    "p_sample = pd.read_excel(\"../projects/gain_tracker/tests/positions_sample.xlsx\")"
   ]
  },
  {
   "cell_type": "code",
   "execution_count": 44,
   "id": "f79ca687-5227-4410-87d9-b9b14b456242",
   "metadata": {},
   "outputs": [
    {
     "data": {
      "text/plain": [
       "portfolio_id                    object\n",
       "position_id                      int64\n",
       "external_id                     object\n",
       "id_type                         object\n",
       "position_entry_date     datetime64[ns]\n",
       "exchange                        object\n",
       "quantity                         int64\n",
       "status                          object\n",
       "position_entry_price           float64\n",
       "position_exit_date      datetime64[ns]\n",
       "position_exit_price            float64\n",
       "recognized_gain                float64\n",
       "dtype: object"
      ]
     },
     "execution_count": 44,
     "metadata": {},
     "output_type": "execute_result"
    }
   ],
   "source": [
    "p_sample.dtypes"
   ]
  },
  {
   "cell_type": "code",
   "execution_count": 71,
   "id": "efd1b93e-c93a-4a33-8fe6-3925d7b2fd4a",
   "metadata": {},
   "outputs": [],
   "source": [
    "p_sample.loc[:, \"recognized_gain\"] = 1.2-1"
   ]
  },
  {
   "cell_type": "code",
   "execution_count": 76,
   "id": "50646c0f-3bb3-4169-b6d8-edadf8b92c1f",
   "metadata": {},
   "outputs": [],
   "source": [
    "p_sample.loc[:, \"recognized_gain\"] = 0.2"
   ]
  },
  {
   "cell_type": "code",
   "execution_count": 72,
   "id": "edc0ea8c-1460-4422-b54e-1baaea241f3b",
   "metadata": {},
   "outputs": [
    {
     "data": {
      "text/plain": [
       "0.19999999999999996"
      ]
     },
     "execution_count": 72,
     "metadata": {},
     "output_type": "execute_result"
    }
   ],
   "source": [
    "p_sample[\"recognized_gain\"].values[0]"
   ]
  },
  {
   "cell_type": "code",
   "execution_count": 77,
   "id": "d853452f-fe23-4f86-840f-587518dfb076",
   "metadata": {},
   "outputs": [],
   "source": [
    "job = client.load_table_from_dataframe(\n",
    "    p_sample, \"main-street-labs.gain_tracker_dev.positions\"\n",
    ")"
   ]
  },
  {
   "cell_type": "code",
   "execution_count": 107,
   "id": "42fc7562-4a14-4c64-afbc-0a4ed8821403",
   "metadata": {},
   "outputs": [],
   "source": [
    "# Perform a query.\n",
    "QUERY = (\n",
    "    'SELECT position_id, position_entry_price, position_exit_price FROM `main-street-labs.gain_tracker_dev.positions`'\n",
    ")\n",
    "p_sample_dl = client.query_and_wait(QUERY).to_dataframe().head(31)  # API request"
   ]
  },
  {
   "cell_type": "markdown",
   "id": "811bf3e3-7284-4330-b2a1-0a32ce85eb87",
   "metadata": {},
   "source": [
    "### change to Decimals"
   ]
  },
  {
   "cell_type": "code",
   "execution_count": 47,
   "id": "da5324ce-4eb6-4928-a212-56bad589e1b5",
   "metadata": {},
   "outputs": [],
   "source": [
    "from decimal import Decimal"
   ]
  },
  {
   "cell_type": "code",
   "execution_count": 49,
   "id": "d4190990-9528-43ff-b8bd-34abfe14afaf",
   "metadata": {},
   "outputs": [],
   "source": [
    "p_sample.loc[:, \"position_entry_price\"] = p_sample[\"position_entry_price\"].apply(\n",
    "    lambda p: Decimal(str(round(p, 6))))"
   ]
  },
  {
   "cell_type": "code",
   "execution_count": 50,
   "id": "5c59114a-95f9-49b2-9774-02a3ca4be13c",
   "metadata": {},
   "outputs": [],
   "source": [
    "p_sample.loc[:, \"position_exit_price\"] = p_sample[\"position_exit_price\"].apply(\n",
    "    lambda p: Decimal(str(round(p, 6))))"
   ]
  },
  {
   "cell_type": "code",
   "execution_count": 52,
   "id": "2d138b9a-511d-42b1-964a-50c8480742b4",
   "metadata": {},
   "outputs": [
    {
     "data": {
      "text/html": [
       "<div>\n",
       "<style scoped>\n",
       "    .dataframe tbody tr th:only-of-type {\n",
       "        vertical-align: middle;\n",
       "    }\n",
       "\n",
       "    .dataframe tbody tr th {\n",
       "        vertical-align: top;\n",
       "    }\n",
       "\n",
       "    .dataframe thead th {\n",
       "        text-align: right;\n",
       "    }\n",
       "</style>\n",
       "<table border=\"1\" class=\"dataframe\">\n",
       "  <thead>\n",
       "    <tr style=\"text-align: right;\">\n",
       "      <th></th>\n",
       "      <th>portfolio_id</th>\n",
       "      <th>position_id</th>\n",
       "      <th>external_id</th>\n",
       "      <th>id_type</th>\n",
       "      <th>position_entry_date</th>\n",
       "      <th>exchange</th>\n",
       "      <th>quantity</th>\n",
       "      <th>status</th>\n",
       "      <th>position_entry_price</th>\n",
       "      <th>position_exit_date</th>\n",
       "      <th>position_exit_price</th>\n",
       "      <th>recognized_gain</th>\n",
       "    </tr>\n",
       "  </thead>\n",
       "  <tbody>\n",
       "    <tr>\n",
       "      <th>26</th>\n",
       "      <td>Roth IRA</td>\n",
       "      <td>26</td>\n",
       "      <td>TSLA</td>\n",
       "      <td>TICKER</td>\n",
       "      <td>2024-01-25</td>\n",
       "      <td>PCX</td>\n",
       "      <td>2</td>\n",
       "      <td>OPEN_LONG</td>\n",
       "      <td>180.4</td>\n",
       "      <td>NaT</td>\n",
       "      <td>NaN</td>\n",
       "      <td>NaN</td>\n",
       "    </tr>\n",
       "    <tr>\n",
       "      <th>27</th>\n",
       "      <td>IRA</td>\n",
       "      <td>27</td>\n",
       "      <td>DQ</td>\n",
       "      <td>TICKER</td>\n",
       "      <td>2024-01-25</td>\n",
       "      <td>PCX</td>\n",
       "      <td>20</td>\n",
       "      <td>OPEN_LONG</td>\n",
       "      <td>19.5</td>\n",
       "      <td>NaT</td>\n",
       "      <td>NaN</td>\n",
       "      <td>NaN</td>\n",
       "    </tr>\n",
       "    <tr>\n",
       "      <th>28</th>\n",
       "      <td>IRA</td>\n",
       "      <td>28</td>\n",
       "      <td>CVS</td>\n",
       "      <td>TICKER</td>\n",
       "      <td>2024-01-25</td>\n",
       "      <td>PCX</td>\n",
       "      <td>8</td>\n",
       "      <td>OPEN_LONG</td>\n",
       "      <td>71.99</td>\n",
       "      <td>NaT</td>\n",
       "      <td>NaN</td>\n",
       "      <td>NaN</td>\n",
       "    </tr>\n",
       "    <tr>\n",
       "      <th>29</th>\n",
       "      <td>Roth IRA</td>\n",
       "      <td>29</td>\n",
       "      <td>BLDE</td>\n",
       "      <td>TICKER</td>\n",
       "      <td>2024-01-30</td>\n",
       "      <td>PCX</td>\n",
       "      <td>160</td>\n",
       "      <td>OPEN_LONG</td>\n",
       "      <td>3.0</td>\n",
       "      <td>NaT</td>\n",
       "      <td>NaN</td>\n",
       "      <td>NaN</td>\n",
       "    </tr>\n",
       "    <tr>\n",
       "      <th>30</th>\n",
       "      <td>IRA</td>\n",
       "      <td>30</td>\n",
       "      <td>GPS</td>\n",
       "      <td>TICKER</td>\n",
       "      <td>2024-01-31</td>\n",
       "      <td>PCX</td>\n",
       "      <td>20</td>\n",
       "      <td>OPEN_LONG</td>\n",
       "      <td>18.9</td>\n",
       "      <td>NaT</td>\n",
       "      <td>NaN</td>\n",
       "      <td>NaN</td>\n",
       "    </tr>\n",
       "  </tbody>\n",
       "</table>\n",
       "</div>"
      ],
      "text/plain": [
       "   portfolio_id  position_id external_id id_type position_entry_date exchange  \\\n",
       "26     Roth IRA           26        TSLA  TICKER          2024-01-25      PCX   \n",
       "27          IRA           27          DQ  TICKER          2024-01-25      PCX   \n",
       "28          IRA           28         CVS  TICKER          2024-01-25      PCX   \n",
       "29     Roth IRA           29        BLDE  TICKER          2024-01-30      PCX   \n",
       "30          IRA           30         GPS  TICKER          2024-01-31      PCX   \n",
       "\n",
       "    quantity     status position_entry_price position_exit_date  \\\n",
       "26         2  OPEN_LONG                180.4                NaT   \n",
       "27        20  OPEN_LONG                 19.5                NaT   \n",
       "28         8  OPEN_LONG                71.99                NaT   \n",
       "29       160  OPEN_LONG                  3.0                NaT   \n",
       "30        20  OPEN_LONG                 18.9                NaT   \n",
       "\n",
       "   position_exit_price  recognized_gain  \n",
       "26                 NaN              NaN  \n",
       "27                 NaN              NaN  \n",
       "28                 NaN              NaN  \n",
       "29                 NaN              NaN  \n",
       "30                 NaN              NaN  "
      ]
     },
     "execution_count": 52,
     "metadata": {},
     "output_type": "execute_result"
    }
   ],
   "source": [
    "p_sample.tail()"
   ]
  },
  {
   "cell_type": "code",
   "execution_count": 53,
   "id": "b536376f-6b8e-4214-9612-1424b5c70ba3",
   "metadata": {},
   "outputs": [
    {
     "data": {
      "text/plain": [
       "portfolio_id                    object\n",
       "position_id                      int64\n",
       "external_id                     object\n",
       "id_type                         object\n",
       "position_entry_date     datetime64[ns]\n",
       "exchange                        object\n",
       "quantity                         int64\n",
       "status                          object\n",
       "position_entry_price            object\n",
       "position_exit_date      datetime64[ns]\n",
       "position_exit_price             object\n",
       "recognized_gain                float64\n",
       "dtype: object"
      ]
     },
     "execution_count": 53,
     "metadata": {},
     "output_type": "execute_result"
    }
   ],
   "source": [
    "p_sample.dtypes"
   ]
  },
  {
   "cell_type": "code",
   "execution_count": 54,
   "id": "6d4285b3-1842-470f-a4c2-62a707c5dcd6",
   "metadata": {},
   "outputs": [],
   "source": [
    "job = client.load_table_from_dataframe(\n",
    "    p_sample, \"main-street-labs.gain_tracker_dev.positions_dec\"\n",
    ")"
   ]
  },
  {
   "cell_type": "code",
   "execution_count": 56,
   "id": "624f0d5b-da03-4129-82b5-b587db77015b",
   "metadata": {},
   "outputs": [],
   "source": [
    "# Perform a query.\n",
    "QUERY = (\n",
    "    'SELECT position_id, position_entry_price, position_exit_price FROM `main-street-labs.gain_tracker_dev.positions_dec`'\n",
    ")\n",
    "p_dec_sample_dl = client.query_and_wait(QUERY).to_dataframe()  # API request"
   ]
  },
  {
   "cell_type": "code",
   "execution_count": 108,
   "id": "0a93c626-6129-4942-8565-8bf224c13368",
   "metadata": {},
   "outputs": [
    {
     "data": {
      "text/html": [
       "<div>\n",
       "<style scoped>\n",
       "    .dataframe tbody tr th:only-of-type {\n",
       "        vertical-align: middle;\n",
       "    }\n",
       "\n",
       "    .dataframe tbody tr th {\n",
       "        vertical-align: top;\n",
       "    }\n",
       "\n",
       "    .dataframe thead th {\n",
       "        text-align: right;\n",
       "    }\n",
       "</style>\n",
       "<table border=\"1\" class=\"dataframe\">\n",
       "  <thead>\n",
       "    <tr style=\"text-align: right;\">\n",
       "      <th></th>\n",
       "      <th>position_id</th>\n",
       "      <th>position_entry_price</th>\n",
       "      <th>position_exit_price</th>\n",
       "    </tr>\n",
       "  </thead>\n",
       "  <tbody>\n",
       "    <tr>\n",
       "      <th>26</th>\n",
       "      <td>1</td>\n",
       "      <td>156.000</td>\n",
       "      <td>158.0000</td>\n",
       "    </tr>\n",
       "    <tr>\n",
       "      <th>27</th>\n",
       "      <td>0</td>\n",
       "      <td>210.130</td>\n",
       "      <td>470.0000</td>\n",
       "    </tr>\n",
       "    <tr>\n",
       "      <th>28</th>\n",
       "      <td>4</td>\n",
       "      <td>7.895</td>\n",
       "      <td>9.4000</td>\n",
       "    </tr>\n",
       "    <tr>\n",
       "      <th>29</th>\n",
       "      <td>5</td>\n",
       "      <td>7.895</td>\n",
       "      <td>9.2349</td>\n",
       "    </tr>\n",
       "    <tr>\n",
       "      <th>30</th>\n",
       "      <td>3</td>\n",
       "      <td>39.030</td>\n",
       "      <td>46.0700</td>\n",
       "    </tr>\n",
       "  </tbody>\n",
       "</table>\n",
       "</div>"
      ],
      "text/plain": [
       "    position_id  position_entry_price  position_exit_price\n",
       "26            1               156.000             158.0000\n",
       "27            0               210.130             470.0000\n",
       "28            4                 7.895               9.4000\n",
       "29            5                 7.895               9.2349\n",
       "30            3                39.030              46.0700"
      ]
     },
     "execution_count": 108,
     "metadata": {},
     "output_type": "execute_result"
    }
   ],
   "source": [
    "p_sample_dl.tail()"
   ]
  },
  {
   "cell_type": "code",
   "execution_count": 98,
   "id": "241dc7e1-901c-4279-9b62-2a3fd4a9812c",
   "metadata": {},
   "outputs": [
    {
     "data": {
      "text/plain": [
       "0.19999999999999996"
      ]
     },
     "execution_count": 98,
     "metadata": {},
     "output_type": "execute_result"
    }
   ],
   "source": [
    "1.3-1.1"
   ]
  },
  {
   "cell_type": "code",
   "execution_count": 112,
   "id": "51905e76-b2f9-4db0-804e-20fba5e315f8",
   "metadata": {},
   "outputs": [],
   "source": [
    "entry_price_dec = p_dec_sample_dl[\"position_entry_price\"].apply(lambda p: p-Decimal(\"1.1\"))"
   ]
  },
  {
   "cell_type": "code",
   "execution_count": 58,
   "id": "8dad194f-5221-4ea8-9762-141e4d499331",
   "metadata": {},
   "outputs": [
    {
     "data": {
      "text/html": [
       "<div>\n",
       "<style scoped>\n",
       "    .dataframe tbody tr th:only-of-type {\n",
       "        vertical-align: middle;\n",
       "    }\n",
       "\n",
       "    .dataframe tbody tr th {\n",
       "        vertical-align: top;\n",
       "    }\n",
       "\n",
       "    .dataframe thead th {\n",
       "        text-align: right;\n",
       "    }\n",
       "</style>\n",
       "<table border=\"1\" class=\"dataframe\">\n",
       "  <thead>\n",
       "    <tr style=\"text-align: right;\">\n",
       "      <th></th>\n",
       "      <th>position_id</th>\n",
       "      <th>position_entry_price</th>\n",
       "      <th>position_exit_price</th>\n",
       "    </tr>\n",
       "  </thead>\n",
       "  <tbody>\n",
       "    <tr>\n",
       "      <th>26</th>\n",
       "      <td>1</td>\n",
       "      <td>156.000000000</td>\n",
       "      <td>158.000000000</td>\n",
       "    </tr>\n",
       "    <tr>\n",
       "      <th>27</th>\n",
       "      <td>0</td>\n",
       "      <td>210.130000000</td>\n",
       "      <td>470.000000000</td>\n",
       "    </tr>\n",
       "    <tr>\n",
       "      <th>28</th>\n",
       "      <td>4</td>\n",
       "      <td>7.895000000</td>\n",
       "      <td>9.400000000</td>\n",
       "    </tr>\n",
       "    <tr>\n",
       "      <th>29</th>\n",
       "      <td>5</td>\n",
       "      <td>7.895000000</td>\n",
       "      <td>9.234900000</td>\n",
       "    </tr>\n",
       "    <tr>\n",
       "      <th>30</th>\n",
       "      <td>3</td>\n",
       "      <td>39.030000000</td>\n",
       "      <td>46.070000000</td>\n",
       "    </tr>\n",
       "  </tbody>\n",
       "</table>\n",
       "</div>"
      ],
      "text/plain": [
       "    position_id position_entry_price position_exit_price\n",
       "26            1        156.000000000       158.000000000\n",
       "27            0        210.130000000       470.000000000\n",
       "28            4          7.895000000         9.400000000\n",
       "29            5          7.895000000         9.234900000\n",
       "30            3         39.030000000        46.070000000"
      ]
     },
     "execution_count": 58,
     "metadata": {},
     "output_type": "execute_result"
    }
   ],
   "source": [
    "p_dec_sample_dl.tail()"
   ]
  },
  {
   "cell_type": "code",
   "execution_count": 99,
   "id": "e14857b4-ed1e-407f-9418-9a50e69ade80",
   "metadata": {},
   "outputs": [],
   "source": [
    "p_sample_dl.loc[0,\"position_entry_price\"]=1.3"
   ]
  },
  {
   "cell_type": "code",
   "execution_count": 109,
   "id": "3c66e9e7-860e-4a16-b068-5cfb19255488",
   "metadata": {},
   "outputs": [],
   "source": [
    "entry_price_fl = p_sample_dl[\"position_entry_price\"].apply(lambda p: p-1.1)"
   ]
  },
  {
   "cell_type": "code",
   "execution_count": 113,
   "id": "52577794-0e84-47b3-8c1c-34c0a8f7e80b",
   "metadata": {},
   "outputs": [
    {
     "data": {
      "text/plain": [
       "Decimal('7.050000000')"
      ]
     },
     "execution_count": 113,
     "metadata": {},
     "output_type": "execute_result"
    }
   ],
   "source": [
    "entry_price_dec.values[3]"
   ]
  },
  {
   "cell_type": "code",
   "execution_count": 111,
   "id": "48acdbdd-cb69-46b6-8827-10ab1a384c11",
   "metadata": {},
   "outputs": [
    {
     "data": {
      "text/plain": [
       "array([ 52.0868,  89.1776, 277.9   ,   7.05  ,   6.3365,  19.4   ,\n",
       "       163.9   ,  18.4   ,  70.89  ,  17.8   ,  44.4   , 163.7   ,\n",
       "        16.    ,  16.02  ,   2.5   ,   2.12  ,  21.4   ,   7.61  ,\n",
       "        13.2   , 217.5222,  18.9   , 213.9   ,  42.9   , 179.3   ,\n",
       "         1.9   ,   2.12  , 154.9   , 209.03  ,   6.795 ,   6.795 ,\n",
       "        37.93  ])"
      ]
     },
     "execution_count": 111,
     "metadata": {},
     "output_type": "execute_result"
    }
   ],
   "source": [
    "entry_price_fl.values"
   ]
  },
  {
   "cell_type": "code",
   "execution_count": 110,
   "id": "c43d5c53-9b87-4950-8d14-895844812a29",
   "metadata": {},
   "outputs": [
    {
     "data": {
      "text/plain": [
       "7.050000000000001"
      ]
     },
     "execution_count": 110,
     "metadata": {},
     "output_type": "execute_result"
    }
   ],
   "source": [
    "entry_price_fl.values[3]"
   ]
  },
  {
   "cell_type": "code",
   "execution_count": null,
   "id": "3528a318-7440-413c-93dc-b387195a3d60",
   "metadata": {},
   "outputs": [],
   "source": []
  }
 ],
 "metadata": {
  "kernelspec": {
   "display_name": "Python 3 (ipykernel)",
   "language": "python",
   "name": "python3"
  },
  "language_info": {
   "codemirror_mode": {
    "name": "ipython",
    "version": 3
   },
   "file_extension": ".py",
   "mimetype": "text/x-python",
   "name": "python",
   "nbconvert_exporter": "python",
   "pygments_lexer": "ipython3",
   "version": "3.11.6"
  }
 },
 "nbformat": 4,
 "nbformat_minor": 5
}
